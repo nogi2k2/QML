{
  "cells": [
    {
      "cell_type": "code",
      "execution_count": null,
      "metadata": {
        "id": "yXg-ZhRs8yGf"
      },
      "outputs": [],
      "source": [
        "!pip uninstall -y numpy\n",
        "!pip install numpy==1.26.4 --upgrade --force-reinstall --quiet"
      ]
    },
    {
      "cell_type": "code",
      "execution_count": null,
      "metadata": {
        "id": "n13WNiIK_U4W"
      },
      "outputs": [],
      "source": [
        "import os\n",
        "os.kill(os.getpid(), 9)"
      ]
    },
    {
      "cell_type": "code",
      "execution_count": null,
      "metadata": {
        "colab": {
          "base_uri": "https://localhost:8080/"
        },
        "id": "W8rBRK-w_Fr8",
        "outputId": "def742cf-5cca-42c5-cd8d-90b92bfd595f"
      },
      "outputs": [
        {
          "name": "stdout",
          "output_type": "stream",
          "text": [
            "1.26.4\n"
          ]
        }
      ],
      "source": [
        "import numpy as np\n",
        "print(np.__version__)"
      ]
    },
    {
      "cell_type": "code",
      "execution_count": null,
      "metadata": {
        "colab": {
          "base_uri": "https://localhost:8080/"
        },
        "id": "cX22YoA96Rx_",
        "outputId": "c836b05c-ed8f-4480-d7f9-ed2c733fcb7a"
      },
      "outputs": [
        {
          "name": "stdout",
          "output_type": "stream",
          "text": [
            "Requirement already satisfied: pennylane in /usr/local/lib/python3.11/dist-packages (0.40.0)\n",
            "Requirement already satisfied: pennylane-lightning in /usr/local/lib/python3.11/dist-packages (0.40.0)\n",
            "Requirement already satisfied: numpy<2.1 in /usr/local/lib/python3.11/dist-packages (from pennylane) (1.26.4)\n",
            "Requirement already satisfied: scipy in /usr/local/lib/python3.11/dist-packages (from pennylane) (1.14.1)\n",
            "Requirement already satisfied: networkx in /usr/local/lib/python3.11/dist-packages (from pennylane) (3.4.2)\n",
            "Requirement already satisfied: rustworkx>=0.14.0 in /usr/local/lib/python3.11/dist-packages (from pennylane) (0.16.0)\n",
            "Requirement already satisfied: autograd in /usr/local/lib/python3.11/dist-packages (from pennylane) (1.7.0)\n",
            "Requirement already satisfied: tomlkit in /usr/local/lib/python3.11/dist-packages (from pennylane) (0.13.2)\n",
            "Requirement already satisfied: appdirs in /usr/local/lib/python3.11/dist-packages (from pennylane) (1.4.4)\n",
            "Requirement already satisfied: autoray>=0.6.11 in /usr/local/lib/python3.11/dist-packages (from pennylane) (0.7.1)\n",
            "Requirement already satisfied: cachetools in /usr/local/lib/python3.11/dist-packages (from pennylane) (5.5.2)\n",
            "Requirement already satisfied: requests in /usr/local/lib/python3.11/dist-packages (from pennylane) (2.32.3)\n",
            "Requirement already satisfied: typing-extensions in /usr/local/lib/python3.11/dist-packages (from pennylane) (4.13.1)\n",
            "Requirement already satisfied: packaging in /usr/local/lib/python3.11/dist-packages (from pennylane) (24.2)\n",
            "Requirement already satisfied: diastatic-malt in /usr/local/lib/python3.11/dist-packages (from pennylane) (2.15.2)\n",
            "Requirement already satisfied: scipy-openblas32>=0.3.26 in /usr/local/lib/python3.11/dist-packages (from pennylane-lightning) (0.3.29.0.0)\n",
            "Requirement already satisfied: astunparse in /usr/local/lib/python3.11/dist-packages (from diastatic-malt->pennylane) (1.6.3)\n",
            "Requirement already satisfied: gast in /usr/local/lib/python3.11/dist-packages (from diastatic-malt->pennylane) (0.6.0)\n",
            "Requirement already satisfied: termcolor in /usr/local/lib/python3.11/dist-packages (from diastatic-malt->pennylane) (3.0.1)\n",
            "Requirement already satisfied: charset-normalizer<4,>=2 in /usr/local/lib/python3.11/dist-packages (from requests->pennylane) (3.4.1)\n",
            "Requirement already satisfied: idna<4,>=2.5 in /usr/local/lib/python3.11/dist-packages (from requests->pennylane) (3.10)\n",
            "Requirement already satisfied: urllib3<3,>=1.21.1 in /usr/local/lib/python3.11/dist-packages (from requests->pennylane) (2.3.0)\n",
            "Requirement already satisfied: certifi>=2017.4.17 in /usr/local/lib/python3.11/dist-packages (from requests->pennylane) (2025.1.31)\n",
            "Requirement already satisfied: wheel<1.0,>=0.23.0 in /usr/local/lib/python3.11/dist-packages (from astunparse->diastatic-malt->pennylane) (0.45.1)\n",
            "Requirement already satisfied: six<2.0,>=1.6.1 in /usr/local/lib/python3.11/dist-packages (from astunparse->diastatic-malt->pennylane) (1.17.0)\n"
          ]
        }
      ],
      "source": [
        "#Install dependencies\n",
        "!pip install pennylane pennylane-lightning"
      ]
    },
    {
      "cell_type": "code",
      "execution_count": null,
      "metadata": {
        "colab": {
          "base_uri": "https://localhost:8080/"
        },
        "id": "4Coau8lq5dVs",
        "outputId": "70d19de8-9b30-4dc2-97f8-29ceff2f506b"
      },
      "outputs": [
        {
          "name": "stdout",
          "output_type": "stream",
          "text": [
            "Mounted at /content/drive\n"
          ]
        }
      ],
      "source": [
        "from google.colab import drive\n",
        "drive.mount(\"/content/drive\", force_remount = True)"
      ]
    },
    {
      "cell_type": "code",
      "execution_count": null,
      "metadata": {
        "id": "wujDBeIWVfJB"
      },
      "outputs": [],
      "source": [
        "import torch\n",
        "import torch.nn as nn\n",
        "from torch.utils.data import Dataset, DataLoader, Subset\n",
        "\n",
        "import math\n",
        "import re\n",
        "import pandas as pd\n",
        "import numpy as np\n",
        "import time\n",
        "import nltk\n",
        "from nltk.corpus import stopwords\n",
        "import matplotlib.pyplot as plt\n",
        "import pennylane as qml\n",
        "\n",
        "from sklearn.model_selection import train_test_split\n",
        "from sklearn.feature_extraction.text import CountVectorizer\n",
        "from sklearn.decomposition import PCA"
      ]
    },
    {
      "cell_type": "code",
      "execution_count": null,
      "metadata": {
        "colab": {
          "base_uri": "https://localhost:8080/"
        },
        "id": "NQACW6Glibop",
        "outputId": "1f613946-1bbe-4d19-fc10-079ca9f9e9e1"
      },
      "outputs": [
        {
          "name": "stderr",
          "output_type": "stream",
          "text": [
            "[nltk_data] Downloading package stopwords to /root/nltk_data...\n",
            "[nltk_data]   Package stopwords is already up-to-date!\n"
          ]
        }
      ],
      "source": [
        "nltk.download(\"stopwords\")\n",
        "stop_words = set(stopwords.words(\"english\"))"
      ]
    },
    {
      "cell_type": "markdown",
      "metadata": {
        "id": "W-JvfuE2iluD"
      },
      "source": [
        "# **Data Loading and Preprocessing**"
      ]
    },
    {
      "cell_type": "code",
      "execution_count": null,
      "metadata": {
        "id": "pFavMV2CVq48"
      },
      "outputs": [],
      "source": [
        "with open(\"/content/drive/MyDrive/QML-Research/Data/sentiment labelled sentences/amazon_cells_labelled.txt\", \"r\") as f:\n",
        "    lines = f.readlines()\n",
        "\n",
        "sentences = [line.split(\"\\t\")[0] for line in lines]\n",
        "labels = [int(line.split(\"\\t\")[1]) for line in lines]"
      ]
    },
    {
      "cell_type": "code",
      "execution_count": null,
      "metadata": {
        "id": "nARd4RZaik6n"
      },
      "outputs": [],
      "source": [
        "def stopword_tokenize(sequence):\n",
        "  sequence = re.sub(r\"[^\\w\\s]\", \"\", sequence.lower())\n",
        "  tokens = sequence.split()\n",
        "  return [word for word in tokens if word not in stop_words]\n",
        "\n",
        "cleaned_sents = [stopword_tokenize(sentence) for sentence in sentences]"
      ]
    },
    {
      "cell_type": "markdown",
      "metadata": {
        "id": "t1BBBXbBoeRB"
      },
      "source": [
        "# **EDA**"
      ]
    },
    {
      "cell_type": "code",
      "execution_count": null,
      "metadata": {
        "colab": {
          "base_uri": "https://localhost:8080/",
          "height": 576
        },
        "id": "ja0Gqzm2oeHh",
        "outputId": "b2d9cb78-4b94-4421-e1b9-2b8eebb69b72"
      },
      "outputs": [
        {
          "name": "stdout",
          "output_type": "stream",
          "text": [
            "Sentence Lengths:\n",
            "min = 1\n",
            "max = 17\n",
            "mean = 5.36\n",
            "95th percentile = 12.0\n",
            "\n"
          ]
        },
        {
          "data": {
            "image/png": "[encoded data removed]",
            "text/plain": [
              "<Figure size 640x480 with 1 Axes>"
            ]
          },
          "metadata": {},
          "output_type": "display_data"
        }
      ],
      "source": [
        "lengths = [len(s) for s in cleaned_sents]\n",
        "print(f\"Sentence Lengths:\\nmin = {np.min(lengths)}\\nmax = {np.max(lengths)}\\nmean = {np.mean(lengths):.2f}\\n95th percentile = {np.percentile(lengths, 95)}\")\n",
        "print()\n",
        "plt.hist(lengths, bins = 30)\n",
        "plt.title(\"Sentence Length Distribution\")\n",
        "plt.xlabel(\"Sentence Length\")\n",
        "plt.ylabel(\"Count\")\n",
        "plt.show()"
      ]
    },
    {
      "cell_type": "markdown",
      "metadata": {
        "id": "eOrMaAVspzbr"
      },
      "source": [
        "# **Padding and Truncation**"
      ]
    },
    {
      "cell_type": "code",
      "execution_count": null,
      "metadata": {
        "id": "rt3Wu3pApwci"
      },
      "outputs": [],
      "source": [
        "max_len = 10\n",
        "for i in range(len(cleaned_sents)):\n",
        "  if (len(cleaned_sents[i]) < max_len):\n",
        "    cleaned_sents[i] += [\"<PAD>\"] * (max_len - len(cleaned_sents[i]))\n",
        "  else:\n",
        "    cleaned_sents[i] = cleaned_sents[i][:max_len]"
      ]
    },
    {
      "cell_type": "markdown",
      "metadata": {
        "id": "W9Fu4T5wdZ6R"
      },
      "source": [
        "# **BOW Approach**"
      ]
    },
    {
      "cell_type": "code",
      "execution_count": null,
      "metadata": {
        "id": "fcFYvP3zVq2Z"
      },
      "outputs": [],
      "source": [
        "vectorizer = CountVectorizer(binary=True)\n",
        "X = vectorizer.fit_transform(sentences).toarray()\n",
        "X = torch.tensor(X).float()\n",
        "y = torch.tensor(labels).float()"
      ]
    },
    {
      "cell_type": "code",
      "execution_count": null,
      "metadata": {
        "id": "1pZ00zXSyGp_"
      },
      "outputs": [],
      "source": [
        "X_train, X_test, y_train, y_test = train_test_split(X, y, test_size=0.2, random_state=42)"
      ]
    },
    {
      "cell_type": "markdown",
      "metadata": {
        "id": "XeBULGSFdjY-"
      },
      "source": [
        "# **Word Embeddings approach**"
      ]
    },
    {
      "cell_type": "code",
      "execution_count": null,
      "metadata": {
        "id": "5EbPT7oQdjOg"
      },
      "outputs": [],
      "source": [
        "embedding_model = SentenceTransformer(\"all-MiniLM-L6-v2\")\n",
        "cleaned_sents_str = [\" \".join(tokens) for tokens in cleaned_sents]\n",
        "\n",
        "X_embed = embedding_model.encode(cleaned_sents_str)\n",
        "X_embed = torch.tensor(X_embed).float()\n",
        "y_embed = torch.tensor(labels).float()"
      ]
    },
    {
      "cell_type": "code",
      "execution_count": null,
      "metadata": {
        "id": "BapZkgpMktNA"
      },
      "outputs": [],
      "source": [
        "df = pd.DataFrame({\n",
        "    \"original_sentence\": sentences,\n",
        "    \"cleaned_sentence\": cleaned_sents_str,\n",
        "    \"label\": labels\n",
        "})\n",
        "\n",
        "df.to_csv(\"preprocessed_dataset.csv\", index=False)"
      ]
    },
    {
      "cell_type": "markdown",
      "metadata": {
        "id": "zANXoZ7r5P1Z"
      },
      "source": [
        "# **Manual GloVe Embedding**"
      ]
    },
    {
      "cell_type": "code",
      "execution_count": null,
      "metadata": {
        "id": "gXPD5oWx5PQg"
      },
      "outputs": [],
      "source": [
        "def load_glove_embeddings(file_path):\n",
        "    embeddings = {}\n",
        "    with open(file_path, 'r', encoding='utf-8') as f:\n",
        "        for line in f:\n",
        "            values = line.strip().split()\n",
        "            word = values[0]\n",
        "            vector = np.array(values[1:], dtype='float32')\n",
        "            embeddings[word] = vector\n",
        "    return embeddings"
      ]
    },
    {
      "cell_type": "code",
      "execution_count": null,
      "metadata": {
        "id": "4T9ySygT5vCf"
      },
      "outputs": [],
      "source": [
        "def sentence_to_vec(sentence, embeddings, dim):\n",
        "    vectors = []\n",
        "    for word in sentence:\n",
        "        if word in embeddings:\n",
        "            vectors.append(embeddings[word])\n",
        "        else:\n",
        "            vectors.append(np.zeros(dim))\n",
        "    return vectors"
      ]
    },
    {
      "cell_type": "code",
      "execution_count": null,
      "metadata": {
        "id": "JwH8ts1o5vAO"
      },
      "outputs": [],
      "source": [
        "def embed_sentences(cleaned_sents, embeddings, dim=5):\n",
        "    return np.array([sentence_to_vec(tokens, embeddings, dim) for tokens in cleaned_sents])"
      ]
    },
    {
      "cell_type": "code",
      "execution_count": null,
      "metadata": {
        "id": "E8gSQcWF5u9l"
      },
      "outputs": [],
      "source": [
        "glove_path = '/content/drive/MyDrive/QML-Research/Data/glove.6B.100d.txt'\n",
        "glove = load_glove_embeddings(glove_path)"
      ]
    },
    {
      "cell_type": "markdown",
      "metadata": {
        "id": "1UNpScLuCJpT"
      },
      "source": [
        "# **PCA**"
      ]
    },
    {
      "cell_type": "code",
      "execution_count": null,
      "metadata": {
        "id": "5Y2dkcDCCInS"
      },
      "outputs": [],
      "source": [
        "all_words = list(glove.keys())\n",
        "all_vectors = np.array([glove[word] for word in all_words])\n",
        "pca = PCA(n_components=5, random_state=42)\n",
        "reduced_vectors = pca.fit_transform(all_vectors)\n",
        "reduced_embeddings = {word: reduced_vectors[i] for i, word in enumerate(all_words)}"
      ]
    },
    {
      "cell_type": "markdown",
      "metadata": {
        "id": "2K7EODX6CPup"
      },
      "source": [
        "# **Word Encoding**"
      ]
    },
    {
      "cell_type": "code",
      "execution_count": null,
      "metadata": {
        "id": "88dYvXhz6ZE-"
      },
      "outputs": [],
      "source": [
        "X_embed_np = embed_sentences(cleaned_sents, reduced_embeddings, dim=5)\n",
        "X_embed = torch.tensor(X_embed_np).float()\n",
        "y_embed = torch.tensor(labels).float()"
      ]
    },
    {
      "cell_type": "code",
      "execution_count": null,
      "metadata": {
        "colab": {
          "base_uri": "https://localhost:8080/"
        },
        "id": "5rxvlVgYATL9",
        "outputId": "963e9acf-aab3-4b24-95f8-563ede4ccbbf"
      },
      "outputs": [
        {
          "data": {
            "text/plain": [
              "tensor([[-5.1434,  0.1227, -0.1000,  0.8167, -0.0721],\n",
              "        [-2.6515, -0.7081, -0.2830,  0.2847, -0.3688],\n",
              "        [-5.1575, -0.3596, -0.3783, -1.3313, -1.4052],\n",
              "        [-3.2855, -0.0787, -0.3916,  0.5108, -0.7572],\n",
              "        [-4.6692,  0.0774, -0.2075,  0.0456, -1.0315],\n",
              "        [-1.6637, -0.9967, -0.0100, -0.4333, -0.3576],\n",
              "        [ 0.0000,  0.0000,  0.0000,  0.0000,  0.0000],\n",
              "        [ 0.0000,  0.0000,  0.0000,  0.0000,  0.0000],\n",
              "        [ 0.0000,  0.0000,  0.0000,  0.0000,  0.0000],\n",
              "        [ 0.0000,  0.0000,  0.0000,  0.0000,  0.0000]])"
            ]
          },
          "execution_count": 41,
          "metadata": {},
          "output_type": "execute_result"
        }
      ],
      "source": [
        "X_embed[0]"
      ]
    },
    {
      "cell_type": "markdown",
      "metadata": {
        "id": "BoIII4KCdxJL"
      },
      "source": [
        "# **DataLoader**"
      ]
    },
    {
      "cell_type": "code",
      "execution_count": null,
      "metadata": {
        "id": "Qa4_XeG2Vqz0"
      },
      "outputs": [],
      "source": [
        "X_train, X_test, y_train, y_test = train_test_split(X_embed, y_embed, test_size=0.2, random_state=42)"
      ]
    },
    {
      "cell_type": "code",
      "execution_count": null,
      "metadata": {
        "id": "O7DmHla6VqxF"
      },
      "outputs": [],
      "source": [
        "class AmazonDataset(Dataset):\n",
        "    def __init__(self, X, y):\n",
        "        self.X = X\n",
        "        self.y = y\n",
        "\n",
        "    def __len__(self):\n",
        "        return len(self.X)\n",
        "\n",
        "    def __getitem__(self, idx):\n",
        "        return self.X[idx], self.y[idx]"
      ]
    },
    {
      "cell_type": "code",
      "execution_count": null,
      "metadata": {
        "id": "1yNozjtYVqui"
      },
      "outputs": [],
      "source": [
        "small_train_dataset = Subset(AmazonDataset(X_train, y_train), list(range(100)))\n",
        "train_loader_small = DataLoader(small_train_dataset, batch_size=1, shuffle=True)\n",
        "test_loader = DataLoader(AmazonDataset(X_test, y_test), batch_size=1)"
      ]
    },
    {
      "cell_type": "code",
      "execution_count": null,
      "metadata": {
        "colab": {
          "base_uri": "https://localhost:8080/"
        },
        "id": "H1BQbaWB2BgP",
        "outputId": "4870e1d3-7923-4403-e699-1cab824cb278"
      },
      "outputs": [
        {
          "data": {
            "text/plain": [
              "200"
            ]
          },
          "execution_count": 45,
          "metadata": {},
          "output_type": "execute_result"
        }
      ],
      "source": [
        "len(test_loader)"
      ]
    },
    {
      "cell_type": "code",
      "execution_count": null,
      "metadata": {
        "colab": {
          "base_uri": "https://localhost:8080/"
        },
        "id": "otU-OlHpP4PV",
        "outputId": "1f242697-fee6-4bbb-9a98-69f1a99d090a"
      },
      "outputs": [
        {
          "data": {
            "text/plain": [
              "tensor([[[-4.1231, -0.1973, -0.0499,  0.4890, -0.1557],\n",
              "         [-3.6860,  0.3870, -0.6795,  0.8616, -0.5788],\n",
              "         [-2.5729, -0.3095, -0.4698,  0.6559,  0.2375],\n",
              "         [ 0.0000,  0.0000,  0.0000,  0.0000,  0.0000],\n",
              "         [ 0.0000,  0.0000,  0.0000,  0.0000,  0.0000],\n",
              "         [ 0.0000,  0.0000,  0.0000,  0.0000,  0.0000],\n",
              "         [ 0.0000,  0.0000,  0.0000,  0.0000,  0.0000],\n",
              "         [ 0.0000,  0.0000,  0.0000,  0.0000,  0.0000],\n",
              "         [ 0.0000,  0.0000,  0.0000,  0.0000,  0.0000],\n",
              "         [ 0.0000,  0.0000,  0.0000,  0.0000,  0.0000]]])"
            ]
          },
          "execution_count": 46,
          "metadata": {},
          "output_type": "execute_result"
        }
      ],
      "source": [
        "xbtemp, ybtemp = next(iter(train_loader_small))\n",
        "xbtemp"
      ]
    },
    {
      "cell_type": "code",
      "execution_count": null,
      "metadata": {
        "colab": {
          "base_uri": "https://localhost:8080/"
        },
        "id": "B_YODqcjQ7Ei",
        "outputId": "a05f3025-d1a1-492e-db62-8a26233b9faf"
      },
      "outputs": [
        {
          "data": {
            "text/plain": [
              "tensor(-4.1231)"
            ]
          },
          "execution_count": 47,
          "metadata": {},
          "output_type": "execute_result"
        }
      ],
      "source": [
        "xbtemp[0][0][0]"
      ]
    },
    {
      "cell_type": "markdown",
      "metadata": {
        "id": "VzzqbLrgd3zE"
      },
      "source": [
        "# **Quantum Circuit and Model**"
      ]
    },
    {
      "cell_type": "code",
      "execution_count": null,
      "metadata": {
        "id": "JEU5VkJPV3Vv"
      },
      "outputs": [],
      "source": [
        "n_qubits = 6 # data encoding + hidden\n",
        "dev = qml.device(\"lightning.qubit\", wires=n_qubits, shots=None)\n",
        "# dev = qml.device(\"default.qubit\", wires=n_qubits, shots=None)"
      ]
    },
    {
      "cell_type": "code",
      "execution_count": null,
      "metadata": {
        "id": "kax0cYoWhd5h"
      },
      "outputs": [],
      "source": [
        "@qml.qnode(dev, interface=\"torch\")\n",
        "def quantum_step(inputs, hidden, weights_in, weights_h):\n",
        "    qml.AmplitudeEmbedding(features=inputs, wires=[0, 1, 2, 3, 4], normalize=True)\n",
        "\n",
        "    for i in range(5):\n",
        "        qml.RY(inputs[i], wires=i)\n",
        "\n",
        "    qml.RY(hidden, wires=5)\n",
        "\n",
        "    for i in range(5):\n",
        "        qml.CNOT(wires=[i, (i + 1) % 5])\n",
        "\n",
        "    for i in range(5):\n",
        "        qml.RY(weights_in[i], wires=i)\n",
        "\n",
        "    qml.RY(weights_h[0], wires=5)\n",
        "    return qml.expval(qml.PauliZ(5))"
      ]
    },
    {
      "cell_type": "code",
      "execution_count": null,
      "metadata": {
        "id": "PT5-mg75V3Qg"
      },
      "outputs": [],
      "source": [
        "class QuantumRNN(nn.Module):\n",
        "    def __init__(self):\n",
        "        super().__init__()\n",
        "        self.embedding = nn.Linear(5, 5)\n",
        "        self.weights_in = nn.Parameter(torch.randn(5) * 0.1)\n",
        "        self.weights_h = nn.Parameter(torch.randn(1) * 0.1)\n",
        "        self.classifier = nn.Linear(1, 1)\n",
        "\n",
        "    def forward(self, x):\n",
        "        # x shape: (seq_len, 5)\n",
        "        seq_len = x.shape[0]\n",
        "        hidden = torch.tensor(0.0, requires_grad=False)\n",
        "\n",
        "        for t in range(seq_len):\n",
        "            input_t = self.embedding(x[t])\n",
        "            hidden = quantum_step(input_t, hidden, self.weights_in, self.weights_h)\n",
        "\n",
        "        out = self.classifier(hidden.unsqueeze(0))\n",
        "        return out"
      ]
    },
    {
      "cell_type": "code",
      "execution_count": null,
      "metadata": {
        "id": "aLnafqY0V3Nr"
      },
      "outputs": [],
      "source": [
        "model = QuantumRNN()\n",
        "optimizer = torch.optim.Adam(model.parameters(), lr=0.01)\n",
        "loss_fn = nn.BCELoss()"
      ]
    },
    {
      "cell_type": "code",
      "execution_count": null,
      "metadata": {
        "colab": {
          "base_uri": "https://localhost:8080/"
        },
        "id": "PmlnpW_MSgcf",
        "outputId": "685d75e3-95fb-465d-a5c3-8d7cbce04cd8"
      },
      "outputs": [
        {
          "name": "stdout",
          "output_type": "stream",
          "text": [
            "weights_in: torch.Size([5])\n",
            "weights_h: torch.Size([1])\n",
            "embedding.weight: torch.Size([5, 5])\n",
            "embedding.bias: torch.Size([5])\n",
            "classifier.weight: torch.Size([1, 1])\n",
            "classifier.bias: torch.Size([1])\n"
          ]
        }
      ],
      "source": [
        "for name, param in model.named_parameters():\n",
        "    print(f\"{name}: {param.shape}\")"
      ]
    },
    {
      "cell_type": "markdown",
      "metadata": {
        "id": "Qcdy70RwfA1S"
      },
      "source": [
        "# **Training Loop**"
      ]
    },
    {
      "cell_type": "code",
      "execution_count": null,
      "metadata": {
        "colab": {
          "base_uri": "https://localhost:8080/"
        },
        "id": "Gcx1PxETjwS5",
        "outputId": "c970f829-7ffe-4071-a476-055a22893d07"
      },
      "outputs": [
        {
          "name": "stdout",
          "output_type": "stream",
          "text": [
            "Epoch 1, Loss: 0.7070, Accuracy: 53.00%\n",
            "Time for epoch: 4.04 seconds\n",
            "Epoch 2, Loss: 0.7040, Accuracy: 53.00%\n",
            "Time for epoch: 3.81 seconds\n",
            "Epoch 3, Loss: 0.7024, Accuracy: 53.00%\n",
            "Time for epoch: 4.96 seconds\n",
            "Epoch 4, Loss: 0.7092, Accuracy: 53.00%\n",
            "Time for epoch: 3.85 seconds\n",
            "Epoch 5, Loss: 0.6985, Accuracy: 53.00%\n",
            "Time for epoch: 4.11 seconds\n",
            "Epoch 6, Loss: 0.7031, Accuracy: 53.00%\n",
            "Time for epoch: 4.75 seconds\n",
            "Epoch 7, Loss: 0.7001, Accuracy: 53.00%\n",
            "Time for epoch: 4.10 seconds\n",
            "Epoch 8, Loss: 0.7168, Accuracy: 53.00%\n",
            "Time for epoch: 3.83 seconds\n",
            "Epoch 9, Loss: 0.6970, Accuracy: 53.00%\n",
            "Time for epoch: 5.03 seconds\n",
            "Epoch 10, Loss: 0.6975, Accuracy: 53.00%\n",
            "Time for epoch: 3.79 seconds\n",
            "Epoch 11, Loss: 0.7023, Accuracy: 53.00%\n",
            "Time for epoch: 4.13 seconds\n",
            "Epoch 12, Loss: 0.7118, Accuracy: 53.00%\n",
            "Time for epoch: 4.71 seconds\n",
            "Epoch 13, Loss: 0.6982, Accuracy: 53.00%\n",
            "Time for epoch: 4.11 seconds\n",
            "Epoch 14, Loss: 0.6988, Accuracy: 53.00%\n",
            "Time for epoch: 4.10 seconds\n",
            "Epoch 15, Loss: 0.7068, Accuracy: 53.00%\n",
            "Time for epoch: 4.72 seconds\n",
            "Epoch 16, Loss: 0.6994, Accuracy: 53.00%\n",
            "Time for epoch: 3.81 seconds\n",
            "Epoch 17, Loss: 0.7021, Accuracy: 53.00%\n",
            "Time for epoch: 4.11 seconds\n",
            "Epoch 18, Loss: 0.6901, Accuracy: 53.00%\n",
            "Time for epoch: 4.74 seconds\n",
            "Epoch 19, Loss: 0.7165, Accuracy: 53.00%\n",
            "Time for epoch: 3.98 seconds\n",
            "Epoch 20, Loss: 0.7029, Accuracy: 53.00%\n",
            "Time for epoch: 3.80 seconds\n",
            "Epoch 21, Loss: 0.7025, Accuracy: 53.00%\n",
            "Time for epoch: 4.99 seconds\n",
            "Epoch 22, Loss: 0.6964, Accuracy: 53.00%\n",
            "Time for epoch: 4.12 seconds\n",
            "Epoch 23, Loss: 0.6964, Accuracy: 53.00%\n",
            "Time for epoch: 3.85 seconds\n",
            "Epoch 24, Loss: 0.7032, Accuracy: 53.00%\n",
            "Time for epoch: 5.00 seconds\n",
            "Epoch 25, Loss: 0.6970, Accuracy: 53.00%\n",
            "Time for epoch: 3.89 seconds\n",
            "Epoch 26, Loss: 0.7038, Accuracy: 53.00%\n",
            "Time for epoch: 3.82 seconds\n",
            "Epoch 27, Loss: 0.6961, Accuracy: 53.00%\n",
            "Time for epoch: 4.99 seconds\n",
            "Epoch 28, Loss: 0.6993, Accuracy: 53.00%\n",
            "Time for epoch: 4.11 seconds\n",
            "Epoch 29, Loss: 0.6993, Accuracy: 53.00%\n",
            "Time for epoch: 3.76 seconds\n",
            "Epoch 30, Loss: 0.7032, Accuracy: 53.00%\n",
            "Time for epoch: 4.94 seconds\n",
            "Epoch 31, Loss: 0.7039, Accuracy: 53.00%\n",
            "Time for epoch: 3.77 seconds\n",
            "Epoch 32, Loss: 0.7004, Accuracy: 53.00%\n",
            "Time for epoch: 3.86 seconds\n",
            "Epoch 33, Loss: 0.7044, Accuracy: 53.00%\n",
            "Time for epoch: 4.99 seconds\n",
            "Epoch 34, Loss: 0.7022, Accuracy: 53.00%\n",
            "Time for epoch: 3.84 seconds\n",
            "Epoch 35, Loss: 0.6976, Accuracy: 53.00%\n",
            "Time for epoch: 4.13 seconds\n",
            "Epoch 36, Loss: 0.6961, Accuracy: 53.00%\n",
            "Time for epoch: 4.63 seconds\n",
            "Epoch 37, Loss: 0.7010, Accuracy: 53.00%\n",
            "Time for epoch: 4.16 seconds\n",
            "Epoch 38, Loss: 0.6991, Accuracy: 53.00%\n",
            "Time for epoch: 3.78 seconds\n",
            "Epoch 39, Loss: 0.6997, Accuracy: 53.00%\n",
            "Time for epoch: 4.72 seconds\n",
            "Epoch 40, Loss: 0.6952, Accuracy: 53.00%\n",
            "Time for epoch: 4.04 seconds\n",
            "Epoch 41, Loss: 0.7046, Accuracy: 53.00%\n",
            "Time for epoch: 4.12 seconds\n",
            "Epoch 42, Loss: 0.7010, Accuracy: 53.00%\n",
            "Time for epoch: 4.39 seconds\n",
            "Epoch 43, Loss: 0.6979, Accuracy: 53.00%\n",
            "Time for epoch: 4.28 seconds\n",
            "Epoch 44, Loss: 0.7042, Accuracy: 53.00%\n",
            "Time for epoch: 3.84 seconds\n",
            "Epoch 45, Loss: 0.7004, Accuracy: 53.00%\n",
            "Time for epoch: 4.71 seconds\n",
            "Epoch 46, Loss: 0.6977, Accuracy: 53.00%\n",
            "Time for epoch: 4.38 seconds\n",
            "Epoch 47, Loss: 0.7005, Accuracy: 53.00%\n",
            "Time for epoch: 3.82 seconds\n",
            "Epoch 48, Loss: 0.6988, Accuracy: 53.00%\n",
            "Time for epoch: 4.69 seconds\n",
            "Epoch 49, Loss: 0.6997, Accuracy: 53.00%\n",
            "Time for epoch: 4.11 seconds\n",
            "Epoch 50, Loss: 0.7027, Accuracy: 53.00%\n",
            "Time for epoch: 4.08 seconds\n",
            "\n",
            "Total training time: 212.29 seconds\n"
          ]
        }
      ],
      "source": [
        "start_time = time.time()\n",
        "epochs = 50\n",
        "model.train()\n",
        "\n",
        "for epoch in range(epochs):\n",
        "    total_loss = 0\n",
        "    correct = 0\n",
        "    total = 0\n",
        "    epoch_start = time.time()\n",
        "\n",
        "    for xb, yb in train_loader_small:\n",
        "        xb = xb.squeeze(0)\n",
        "        yb = yb.unsqueeze(0)\n",
        "\n",
        "        optimizer.zero_grad()\n",
        "        output = model(xb)\n",
        "        loss = loss_fn(output.view(-1), yb.view(-1))\n",
        "        loss.backward()\n",
        "        optimizer.step()\n",
        "\n",
        "        total_loss += loss.item()\n",
        "        predicted = torch.argmax(output, dim=-1)\n",
        "        correct += (predicted == yb).sum().item()\n",
        "        total += yb.size(0)\n",
        "    avg_loss = total_loss / total\n",
        "    epoch_time = time.time() - epoch_start\n",
        "    accuracy = 100 * correct / total\n",
        "    print(f\"Epoch {epoch+1}, Loss: {avg_loss:.4f}, Accuracy: {accuracy:.2f}%\")\n",
        "    print(f\"Time for epoch: {epoch_time:.2f} seconds\")\n",
        "\n",
        "total_time = time.time() - start_time\n",
        "print(f\"\\nTotal training time: {total_time:.2f} seconds\")"
      ]
    },
    {
      "cell_type": "markdown",
      "metadata": {
        "id": "3K3E_grWfFFg"
      },
      "source": [
        "# **Testing Loop**"
      ]
    },
    {
      "cell_type": "code",
      "execution_count": null,
      "metadata": {
        "id": "rNiXfEm1V_vk"
      },
      "outputs": [],
      "source": [
        "# Evaluation\n",
        "model.eval()\n",
        "correct = 0\n",
        "total = 0\n",
        "with torch.no_grad():\n",
        "    for xb, yb in test_loader:\n",
        "        probs = model(xb[0])\n",
        "        pred = torch.argmax(probs).item()\n",
        "        actual = yb.item() if yb.ndim == 0 else yb[0].item()\n",
        "\n",
        "        if pred == actual:\n",
        "            correct += 1\n",
        "        total += 1\n",
        "\n",
        "        print(f\"Input: {xb[0][:10]}... | Probabilities -> Class 0: {probs[0]:.3f}, Class 1: {probs[1]:.3f} | Pred: {pred}, Actual: {actual}\")\n",
        "\n",
        "print(f\"Accuracy: {correct / total * 100:.2f}%\")"
      ]
    }
  ],
  "metadata": {
    "accelerator": "GPU",
    "colab": {
      "collapsed_sections": [
        "W9Fu4T5wdZ6R",
        "XeBULGSFdjY-"
      ],
      "gpuType": "T4",
      "provenance": []
    },
    "kernelspec": {
      "display_name": "Python 3",
      "name": "python3"
    },
    "language_info": {
      "name": "python"
    }
  },
  "nbformat": 4,
  "nbformat_minor": 0
}
