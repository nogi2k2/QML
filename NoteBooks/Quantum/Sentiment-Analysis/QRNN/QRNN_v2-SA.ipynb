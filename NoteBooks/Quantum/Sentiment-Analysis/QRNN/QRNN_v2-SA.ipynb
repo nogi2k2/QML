{
  "cells": [
    {
      "cell_type": "markdown",
      "source": [
        "# **Imports and Library Downloads**"
      ],
      "metadata": {
        "id": "kbrz96L3hSK0"
      }
    },
    {
      "cell_type": "code",
      "source": [
        "!pip uninstall -y numpy\n",
        "!pip install numpy==1.26.4 --upgrade --force-reinstall --quiet"
      ],
      "metadata": {
        "id": "yXg-ZhRs8yGf",
        "colab": {
          "base_uri": "https://localhost:8080/"
        },
        "outputId": "c6fd1b84-daed-45b3-c8ac-6817acf28833"
      },
      "execution_count": null,
      "outputs": [
        {
          "output_type": "stream",
          "name": "stdout",
          "text": [
            "Found existing installation: numpy 2.0.2\n",
            "Uninstalling numpy-2.0.2:\n",
            "  Successfully uninstalled numpy-2.0.2\n",
            "\u001b[2K     \u001b[90m━━━━━━━━━━━━━━━━━━━━━━━━━━━━━━━━━━━━━━━━\u001b[0m \u001b[32m61.0/61.0 kB\u001b[0m \u001b[31m3.9 MB/s\u001b[0m eta \u001b[36m0:00:00\u001b[0m\n",
            "\u001b[2K   \u001b[90m━━━━━━━━━━━━━━━━━━━━━━━━━━━━━━━━━━━━━━━━\u001b[0m \u001b[32m18.3/18.3 MB\u001b[0m \u001b[31m109.5 MB/s\u001b[0m eta \u001b[36m0:00:00\u001b[0m\n",
            "\u001b[?25h\u001b[31mERROR: pip's dependency resolver does not currently take into account all the packages that are installed. This behaviour is the source of the following dependency conflicts.\n",
            "thinc 8.3.6 requires numpy<3.0.0,>=2.0.0, but you have numpy 1.26.4 which is incompatible.\u001b[0m\u001b[31m\n",
            "\u001b[0m"
          ]
        }
      ]
    },
    {
      "cell_type": "code",
      "source": [
        "import os\n",
        "os.kill(os.getpid(), 9)"
      ],
      "metadata": {
        "id": "n13WNiIK_U4W"
      },
      "execution_count": null,
      "outputs": []
    },
    {
      "cell_type": "code",
      "source": [
        "import numpy as np\n",
        "print(np.__version__)"
      ],
      "metadata": {
        "id": "W8rBRK-w_Fr8",
        "colab": {
          "base_uri": "https://localhost:8080/"
        },
        "outputId": "cfacaa43-9c7b-4b4b-d565-b8ddd5ea0979"
      },
      "execution_count": 34,
      "outputs": [
        {
          "output_type": "stream",
          "name": "stdout",
          "text": [
            "1.26.4\n"
          ]
        }
      ]
    },
    {
      "cell_type": "code",
      "execution_count": 3,
      "metadata": {
        "id": "cX22YoA96Rx_",
        "colab": {
          "base_uri": "https://localhost:8080/"
        },
        "outputId": "a8c2e13b-f64c-4ccb-d797-0978955b0894"
      },
      "outputs": [
        {
          "output_type": "stream",
          "name": "stdout",
          "text": [
            "Collecting pennylane\n",
            "  Downloading PennyLane-0.41.1-py3-none-any.whl.metadata (10 kB)\n",
            "Collecting pennylane-lightning\n",
            "  Downloading pennylane_lightning-0.41.1-cp311-cp311-manylinux_2_28_x86_64.whl.metadata (12 kB)\n",
            "Requirement already satisfied: numpy in /usr/local/lib/python3.11/dist-packages (from pennylane) (2.0.2)\n",
            "Requirement already satisfied: scipy in /usr/local/lib/python3.11/dist-packages (from pennylane) (1.15.3)\n",
            "Requirement already satisfied: networkx in /usr/local/lib/python3.11/dist-packages (from pennylane) (3.5)\n",
            "Collecting rustworkx>=0.14.0 (from pennylane)\n",
            "  Downloading rustworkx-0.16.0-cp39-abi3-manylinux_2_17_x86_64.manylinux2014_x86_64.whl.metadata (10 kB)\n",
            "Requirement already satisfied: autograd in /usr/local/lib/python3.11/dist-packages (from pennylane) (1.8.0)\n",
            "Requirement already satisfied: tomlkit in /usr/local/lib/python3.11/dist-packages (from pennylane) (0.13.3)\n",
            "Collecting appdirs (from pennylane)\n",
            "  Downloading appdirs-1.4.4-py2.py3-none-any.whl.metadata (9.0 kB)\n",
            "Collecting autoray>=0.6.11 (from pennylane)\n",
            "  Downloading autoray-0.7.1-py3-none-any.whl.metadata (5.8 kB)\n",
            "Requirement already satisfied: cachetools in /usr/local/lib/python3.11/dist-packages (from pennylane) (5.5.2)\n",
            "Requirement already satisfied: requests in /usr/local/lib/python3.11/dist-packages (from pennylane) (2.32.3)\n",
            "Requirement already satisfied: typing-extensions in /usr/local/lib/python3.11/dist-packages (from pennylane) (4.14.0)\n",
            "Requirement already satisfied: packaging in /usr/local/lib/python3.11/dist-packages (from pennylane) (24.2)\n",
            "Collecting diastatic-malt (from pennylane)\n",
            "  Downloading diastatic_malt-2.15.2-py3-none-any.whl.metadata (2.6 kB)\n",
            "Collecting scipy-openblas32>=0.3.26 (from pennylane-lightning)\n",
            "  Downloading scipy_openblas32-0.3.30.0.1-py3-none-manylinux2014_x86_64.manylinux_2_17_x86_64.whl.metadata (57 kB)\n",
            "\u001b[2K     \u001b[90m━━━━━━━━━━━━━━━━━━━━━━━━━━━━━━━━━━━━━━━━\u001b[0m \u001b[32m57.1/57.1 kB\u001b[0m \u001b[31m2.1 MB/s\u001b[0m eta \u001b[36m0:00:00\u001b[0m\n",
            "\u001b[?25hRequirement already satisfied: astunparse in /usr/local/lib/python3.11/dist-packages (from diastatic-malt->pennylane) (1.6.3)\n",
            "Requirement already satisfied: gast in /usr/local/lib/python3.11/dist-packages (from diastatic-malt->pennylane) (0.6.0)\n",
            "Requirement already satisfied: termcolor in /usr/local/lib/python3.11/dist-packages (from diastatic-malt->pennylane) (3.1.0)\n",
            "Requirement already satisfied: charset-normalizer<4,>=2 in /usr/local/lib/python3.11/dist-packages (from requests->pennylane) (3.4.2)\n",
            "Requirement already satisfied: idna<4,>=2.5 in /usr/local/lib/python3.11/dist-packages (from requests->pennylane) (3.10)\n",
            "Requirement already satisfied: urllib3<3,>=1.21.1 in /usr/local/lib/python3.11/dist-packages (from requests->pennylane) (2.4.0)\n",
            "Requirement already satisfied: certifi>=2017.4.17 in /usr/local/lib/python3.11/dist-packages (from requests->pennylane) (2025.6.15)\n",
            "Requirement already satisfied: wheel<1.0,>=0.23.0 in /usr/local/lib/python3.11/dist-packages (from astunparse->diastatic-malt->pennylane) (0.45.1)\n",
            "Requirement already satisfied: six<2.0,>=1.6.1 in /usr/local/lib/python3.11/dist-packages (from astunparse->diastatic-malt->pennylane) (1.17.0)\n",
            "Downloading PennyLane-0.41.1-py3-none-any.whl (2.3 MB)\n",
            "\u001b[2K   \u001b[90m━━━━━━━━━━━━━━━━━━━━━━━━━━━━━━━━━━━━━━━━\u001b[0m \u001b[32m2.3/2.3 MB\u001b[0m \u001b[31m27.9 MB/s\u001b[0m eta \u001b[36m0:00:00\u001b[0m\n",
            "\u001b[?25hDownloading pennylane_lightning-0.41.1-cp311-cp311-manylinux_2_28_x86_64.whl (2.5 MB)\n",
            "\u001b[2K   \u001b[90m━━━━━━━━━━━━━━━━━━━━━━━━━━━━━━━━━━━━━━━━\u001b[0m \u001b[32m2.5/2.5 MB\u001b[0m \u001b[31m69.8 MB/s\u001b[0m eta \u001b[36m0:00:00\u001b[0m\n",
            "\u001b[?25hDownloading autoray-0.7.1-py3-none-any.whl (930 kB)\n",
            "\u001b[2K   \u001b[90m━━━━━━━━━━━━━━━━━━━━━━━━━━━━━━━━━━━━━━━━\u001b[0m \u001b[32m930.8/930.8 kB\u001b[0m \u001b[31m47.5 MB/s\u001b[0m eta \u001b[36m0:00:00\u001b[0m\n",
            "\u001b[?25hDownloading rustworkx-0.16.0-cp39-abi3-manylinux_2_17_x86_64.manylinux2014_x86_64.whl (2.1 MB)\n",
            "\u001b[2K   \u001b[90m━━━━━━━━━━━━━━━━━━━━━━━━━━━━━━━━━━━━━━━━\u001b[0m \u001b[32m2.1/2.1 MB\u001b[0m \u001b[31m71.9 MB/s\u001b[0m eta \u001b[36m0:00:00\u001b[0m\n",
            "\u001b[?25hDownloading scipy_openblas32-0.3.30.0.1-py3-none-manylinux2014_x86_64.manylinux_2_17_x86_64.whl (8.6 MB)\n",
            "\u001b[2K   \u001b[90m━━━━━━━━━━━━━━━━━━━━━━━━━━━━━━━━━━━━━━━━\u001b[0m \u001b[32m8.6/8.6 MB\u001b[0m \u001b[31m100.8 MB/s\u001b[0m eta \u001b[36m0:00:00\u001b[0m\n",
            "\u001b[?25hDownloading appdirs-1.4.4-py2.py3-none-any.whl (9.6 kB)\n",
            "Downloading diastatic_malt-2.15.2-py3-none-any.whl (167 kB)\n",
            "\u001b[2K   \u001b[90m━━━━━━━━━━━━━━━━━━━━━━━━━━━━━━━━━━━━━━━━\u001b[0m \u001b[32m167.9/167.9 kB\u001b[0m \u001b[31m11.7 MB/s\u001b[0m eta \u001b[36m0:00:00\u001b[0m\n",
            "\u001b[?25hInstalling collected packages: appdirs, scipy-openblas32, rustworkx, autoray, diastatic-malt, pennylane-lightning, pennylane\n",
            "Successfully installed appdirs-1.4.4 autoray-0.7.1 diastatic-malt-2.15.2 pennylane-0.41.1 pennylane-lightning-0.41.1 rustworkx-0.16.0 scipy-openblas32-0.3.30.0.1\n"
          ]
        }
      ],
      "source": [
        "#Install dependencies\n",
        "!pip install pennylane pennylane-lightning"
      ]
    },
    {
      "cell_type": "code",
      "execution_count": 1,
      "metadata": {
        "id": "4Coau8lq5dVs",
        "colab": {
          "base_uri": "https://localhost:8080/"
        },
        "outputId": "dfbc91f8-9400-4f4f-f68c-c8740d21a282"
      },
      "outputs": [
        {
          "output_type": "stream",
          "name": "stdout",
          "text": [
            "Mounted at /content/drive\n"
          ]
        }
      ],
      "source": [
        "from google.colab import drive\n",
        "drive.mount(\"/content/drive\", force_remount = True)"
      ]
    },
    {
      "cell_type": "code",
      "execution_count": 4,
      "metadata": {
        "id": "wujDBeIWVfJB",
        "colab": {
          "base_uri": "https://localhost:8080/"
        },
        "outputId": "adce4f84-c36c-4e11-84ea-acf3317f8317"
      },
      "outputs": [
        {
          "output_type": "stream",
          "name": "stderr",
          "text": [
            "/usr/local/lib/python3.11/dist-packages/pennylane/capture/capture_operators.py:33: RuntimeWarning: PennyLane is not yet compatible with JAX versions > 0.4.28. You have version 0.5.2 installed. Please downgrade JAX to <=0.4.28 to avoid runtime errors.\n",
            "  warnings.warn(\n"
          ]
        }
      ],
      "source": [
        "import torch\n",
        "import torch.nn as nn\n",
        "from torch.utils.data import Dataset, DataLoader, Subset\n",
        "\n",
        "import math\n",
        "import re\n",
        "import random\n",
        "import pandas as pd\n",
        "import numpy as np\n",
        "import time\n",
        "import nltk\n",
        "from nltk.corpus import stopwords\n",
        "from nltk.util import ngrams\n",
        "import matplotlib.pyplot as plt\n",
        "import pennylane as qml\n",
        "from collections import Counter\n",
        "\n",
        "from sklearn.model_selection import train_test_split\n",
        "from sklearn.metrics import confusion_matrix, classification_report\n",
        "from sklearn.feature_extraction.text import CountVectorizer\n",
        "from sklearn.decomposition import PCA\n",
        "\n",
        "SEED = 42\n",
        "\n",
        "random.seed(SEED)\n",
        "np.random.seed(SEED)\n",
        "torch.manual_seed(SEED)\n",
        "torch.cuda.manual_seed_all(SEED)\n",
        "\n",
        "torch.backends.cudnn.deterministic = True\n",
        "torch.backends.cudnn.benchmark = False"
      ]
    },
    {
      "cell_type": "code",
      "source": [
        "nltk.download(\"stopwords\")\n",
        "stop_words = set(stopwords.words(\"english\"))\n",
        "print(len(stop_words))\n",
        "domain_neutral_words = {\n",
        "    \"phone\", \"product\", \"battery\", \"headset\", \"quality\", \"one\", \"use\"\n",
        "}\n",
        "stop_words.update(domain_neutral_words)\n",
        "print(len(stop_words))"
      ],
      "metadata": {
        "id": "NQACW6Glibop",
        "colab": {
          "base_uri": "https://localhost:8080/"
        },
        "outputId": "d53f2168-97fb-4a47-e12c-ef30923337d6"
      },
      "execution_count": 5,
      "outputs": [
        {
          "output_type": "stream",
          "name": "stdout",
          "text": [
            "198\n",
            "205\n"
          ]
        },
        {
          "output_type": "stream",
          "name": "stderr",
          "text": [
            "[nltk_data] Downloading package stopwords to /root/nltk_data...\n",
            "[nltk_data]   Unzipping corpora/stopwords.zip.\n"
          ]
        }
      ]
    },
    {
      "cell_type": "markdown",
      "source": [
        "# **Data Loading and Preprocessing**"
      ],
      "metadata": {
        "id": "W-JvfuE2iluD"
      }
    },
    {
      "cell_type": "code",
      "execution_count": 6,
      "metadata": {
        "id": "pFavMV2CVq48"
      },
      "outputs": [],
      "source": [
        "with open(\"/content/drive/MyDrive/QML-Research/Data/sentiment labelled sentences/amazon_cells_labelled.txt\", \"r\") as f:\n",
        "    lines = f.readlines()\n",
        "\n",
        "sentences = [line.split(\"\\t\")[0] for line in lines]\n",
        "labels = [int(line.split(\"\\t\")[1]) for line in lines]"
      ]
    },
    {
      "cell_type": "code",
      "source": [
        "print(f\"0 Labels: {labels.count(0)}\")\n",
        "print(f\"1 Labels: {labels.count(1)}\")"
      ],
      "metadata": {
        "id": "YeVFuLNuw6QY",
        "colab": {
          "base_uri": "https://localhost:8080/"
        },
        "outputId": "b8b12b1c-7d97-44a9-dcd0-8792cecc6c2c"
      },
      "execution_count": 7,
      "outputs": [
        {
          "output_type": "stream",
          "name": "stdout",
          "text": [
            "0 Labels: 500\n",
            "1 Labels: 500\n"
          ]
        }
      ]
    },
    {
      "cell_type": "code",
      "source": [
        "len(sentences)"
      ],
      "metadata": {
        "id": "R7tw7RTHtFYv",
        "colab": {
          "base_uri": "https://localhost:8080/"
        },
        "outputId": "5d27caa8-9c14-41ca-f5d8-9896571e151d"
      },
      "execution_count": 8,
      "outputs": [
        {
          "output_type": "execute_result",
          "data": {
            "text/plain": [
              "1000"
            ]
          },
          "metadata": {},
          "execution_count": 8
        }
      ]
    },
    {
      "cell_type": "code",
      "source": [
        "lengths = [len(s) for s in sentences]\n",
        "print(f\"Sentence Lengths:\\nmin = {np.min(lengths)}\\nmax = {np.max(lengths)}\\nmean = {np.mean(lengths):.2f}\\n95th percentile = {np.percentile(lengths, 95)}\")\n",
        "print()\n",
        "plt.hist(lengths, bins = 30)\n",
        "plt.title(\"Sentence Length Distribution Before Stop Word Removal\")\n",
        "plt.xlabel(\"Sentence Length\")\n",
        "plt.ylabel(\"Count\")\n",
        "plt.show()"
      ],
      "metadata": {
        "colab": {
          "base_uri": "https://localhost:8080/",
          "height": 0
        },
        "id": "wXOxpa2nWuqS",
        "outputId": "79530258-1825-4407-f427-8a703f109fc8"
      },
      "execution_count": 9,
      "outputs": [
        {
          "output_type": "stream",
          "name": "stdout",
          "text": [
            "Sentence Lengths:\n",
            "min = 11\n",
            "max = 149\n",
            "mean = 55.23\n",
            "95th percentile = 125.04999999999995\n",
            "\n"
          ]
        },
        {
          "output_type": "display_data",
          "data": {
            "text/plain": [
              "<Figure size 640x480 with 1 Axes>"
            ],
            "image/png": "[encoded data removed]"
          },
          "metadata": {}
        }
      ]
    },
    {
      "cell_type": "code",
      "source": [
        "def clean_and_tokenize(text):\n",
        "    text = text.lower()\n",
        "    text = re.sub(r\"http\\S+\", \"\", text)\n",
        "    text = re.sub(r\"[^a-z0-9\\s]\", \"\", text)\n",
        "    text = re.sub(r\"\\s+\", \" \", text).strip()\n",
        "    tokens = text.split()\n",
        "    tokens = [word for word in tokens if word not in stop_words]\n",
        "    return tokens\n",
        "\n",
        "cleaned_sents = [clean_and_tokenize(sentence) for sentence in sentences]"
      ],
      "metadata": {
        "id": "nARd4RZaik6n"
      },
      "execution_count": 10,
      "outputs": []
    },
    {
      "cell_type": "markdown",
      "source": [
        "# **EDA**"
      ],
      "metadata": {
        "id": "t1BBBXbBoeRB"
      }
    },
    {
      "cell_type": "code",
      "source": [
        "lengths = [len(s) for s in cleaned_sents]\n",
        "print(\"=== Sentence Length Statistics ===\")\n",
        "print(f\"Min length: {np.min(lengths)}\")\n",
        "print(f\"Max length: {np.max(lengths)}\")\n",
        "print(f\"Mean length: {np.mean(lengths):.2f}\")\n",
        "print(f\"Median length: {np.median(lengths)}\")\n",
        "print(f\"95th percentile: {np.percentile(lengths, 95)}\")\n",
        "print()\n",
        "\n",
        "plt.figure(figsize=(8, 4))\n",
        "plt.hist(lengths, bins=30, color=\"skyblue\", edgecolor=\"black\")\n",
        "plt.title(\"Sentence Length Distribution (after stopword removal)\")\n",
        "plt.xlabel(\"Length\")\n",
        "plt.ylabel(\"Frequency\")\n",
        "plt.tight_layout()\n",
        "plt.show()\n",
        "\n",
        "label_counts = Counter(labels)\n",
        "print()\n",
        "print(\"=== Label Distribution ===\")\n",
        "for label, count in label_counts.items():\n",
        "    print(f\"Label {label}: {count} samples\")\n",
        "print()\n",
        "\n",
        "all_words = [word for sentence in cleaned_sents for word in sentence]\n",
        "word_freq = Counter(all_words)\n",
        "most_common = word_freq.most_common(20)\n",
        "\n",
        "print()\n",
        "print(\"=== Top 20 Most Common Words (after preprocessing) ===\")\n",
        "for word, freq in most_common:\n",
        "    print(f\"{word}: {freq}\")\n",
        "print()\n",
        "words, freqs = zip(*most_common)\n",
        "plt.figure(figsize=(10, 4))\n",
        "plt.bar(words, freqs, color='orange', edgecolor='black')\n",
        "plt.title(\"Top 20 Most Common Words\")\n",
        "plt.xticks(rotation=45)\n",
        "plt.tight_layout()\n",
        "plt.show()"
      ],
      "metadata": {
        "colab": {
          "base_uri": "https://localhost:8080/",
          "height": 1000
        },
        "id": "4RZe3-FtVq86",
        "outputId": "349d36aa-d499-4c23-c439-163d4c983145"
      },
      "execution_count": 11,
      "outputs": [
        {
          "output_type": "stream",
          "name": "stdout",
          "text": [
            "=== Sentence Length Statistics ===\n",
            "Min length: 1\n",
            "Max length: 17\n",
            "Mean length: 4.92\n",
            "Median length: 4.0\n",
            "95th percentile: 11.0\n",
            "\n"
          ]
        },
        {
          "output_type": "display_data",
          "data": {
            "text/plain": [
              "<Figure size 800x400 with 1 Axes>"
            ],
            "image/png": "[encoded data removed]"
          },
          "metadata": {}
        },
        {
          "output_type": "stream",
          "name": "stdout",
          "text": [
            "\n",
            "=== Label Distribution ===\n",
            "Label 0: 500 samples\n",
            "Label 1: 500 samples\n",
            "\n",
            "\n",
            "=== Top 20 Most Common Words (after preprocessing) ===\n",
            "great: 97\n",
            "good: 75\n",
            "works: 47\n",
            "sound: 41\n",
            "well: 38\n",
            "ear: 35\n",
            "would: 34\n",
            "work: 34\n",
            "dont: 31\n",
            "like: 30\n",
            "case: 29\n",
            "ive: 28\n",
            "excellent: 27\n",
            "time: 27\n",
            "price: 27\n",
            "recommend: 26\n",
            "really: 26\n",
            "im: 24\n",
            "best: 23\n",
            "service: 23\n",
            "\n"
          ]
        },
        {
          "output_type": "display_data",
          "data": {
            "text/plain": [
              "<Figure size 1000x400 with 1 Axes>"
            ],
            "image/png": "[encoded data removed]"
          },
          "metadata": {}
        }
      ]
    },
    {
      "cell_type": "code",
      "source": [
        "pos_sentences = [cleaned_sents[i] for i in range(len(labels)) if labels[i] == 1]\n",
        "neg_sentences = [cleaned_sents[i] for i in range(len(labels)) if labels[i] == 0]\n",
        "\n",
        "pos_words = Counter([word for sent in pos_sentences for word in sent])\n",
        "neg_words = Counter([word for sent in neg_sentences for word in sent])\n",
        "\n",
        "top_pos = pos_words.most_common(15)\n",
        "top_neg = neg_words.most_common(15)\n",
        "\n",
        "print(\"\\n=== Top 15 Words in Positive Reviews ===\")\n",
        "for word, freq in top_pos:\n",
        "    print(f\"{word}: {freq}\")\n",
        "\n",
        "print(\"\\n=== Top 15 Words in Negative Reviews ===\")\n",
        "for word, freq in top_neg:\n",
        "    print(f\"{word}: {freq}\")\n",
        "\n",
        "def plot_word_freq(counter, title):\n",
        "    words, counts = zip(*counter)\n",
        "    plt.figure(figsize=(10, 4))\n",
        "    plt.bar(words, counts, color='green', edgecolor='black')\n",
        "    plt.title(title)\n",
        "    plt.xticks(rotation=45)\n",
        "    plt.tight_layout()\n",
        "    plt.show()\n",
        "\n",
        "print()\n",
        "plot_word_freq(top_pos, \"Top 15 Words in Positive Sentiment\")\n",
        "plot_word_freq(top_neg, \"Top 15 Words in Negative Sentiment\")"
      ],
      "metadata": {
        "colab": {
          "base_uri": "https://localhost:8080/",
          "height": 1000
        },
        "id": "5g8B7n10V6Sm",
        "outputId": "e37364e3-5d1b-4ca3-91aa-1e3f60c6683b"
      },
      "execution_count": 12,
      "outputs": [
        {
          "output_type": "stream",
          "name": "stdout",
          "text": [
            "\n",
            "=== Top 15 Words in Positive Reviews ===\n",
            "great: 92\n",
            "good: 62\n",
            "works: 46\n",
            "well: 31\n",
            "sound: 27\n",
            "excellent: 26\n",
            "price: 25\n",
            "nice: 22\n",
            "best: 21\n",
            "recommend: 20\n",
            "love: 20\n",
            "ive: 19\n",
            "case: 18\n",
            "like: 18\n",
            "would: 17\n",
            "\n",
            "=== Top 15 Words in Negative Reviews ===\n",
            "dont: 26\n",
            "work: 25\n",
            "ear: 19\n",
            "money: 18\n",
            "would: 17\n",
            "time: 16\n",
            "first: 15\n",
            "poor: 15\n",
            "service: 15\n",
            "get: 14\n",
            "waste: 14\n",
            "sound: 14\n",
            "doesnt: 14\n",
            "buy: 14\n",
            "bad: 14\n",
            "\n"
          ]
        },
        {
          "output_type": "display_data",
          "data": {
            "text/plain": [
              "<Figure size 1000x400 with 1 Axes>"
            ],
            "image/png": "[encoded data removed]"
          },
          "metadata": {}
        },
        {
          "output_type": "display_data",
          "data": {
            "text/plain": [
              "<Figure size 1000x400 with 1 Axes>"
            ],
            "image/png": "[encoded data removed]"
          },
          "metadata": {}
        }
      ]
    },
    {
      "cell_type": "code",
      "source": [
        "all_bigrams = [bigram for sent in cleaned_sents for bigram in ngrams(sent, 2)]\n",
        "all_trigrams = [trigram for sent in cleaned_sents for trigram in ngrams(sent, 3)]\n",
        "\n",
        "bigram_freq = Counter(all_bigrams).most_common(15)\n",
        "trigram_freq = Counter(all_trigrams).most_common(15)\n",
        "\n",
        "print(\"\\n=== Top 15 Bigrams ===\")\n",
        "for bg, count in bigram_freq:\n",
        "    print(f\"{' '.join(bg)}: {count}\")\n",
        "\n",
        "print(\"\\n=== Top 15 Trigrams ===\")\n",
        "for tg, count in trigram_freq:\n",
        "    print(f\"{' '.join(tg)}: {count}\")\n",
        "\n",
        "def plot_ngram_freq(ngrams, title):\n",
        "    labels, counts = zip(*[(\" \".join(gram), count) for gram, count in ngrams])\n",
        "    plt.figure(figsize=(10, 4))\n",
        "    plt.bar(labels, counts, color='purple', edgecolor='black')\n",
        "    plt.title(title)\n",
        "    plt.xticks(rotation=45)\n",
        "    plt.tight_layout()\n",
        "    plt.show()\n",
        "\n",
        "print()\n",
        "plot_ngram_freq(bigram_freq, \"Top 15 Bigrams\")\n",
        "plot_ngram_freq(trigram_freq, \"Top 15 Trigrams\")"
      ],
      "metadata": {
        "colab": {
          "base_uri": "https://localhost:8080/",
          "height": 1000
        },
        "id": "d6PmcUP9WBtJ",
        "outputId": "28e55663-c021-41cd-cb78-14d4578cd7a1"
      },
      "execution_count": 13,
      "outputs": [
        {
          "output_type": "stream",
          "name": "stdout",
          "text": [
            "\n",
            "=== Top 15 Bigrams ===\n",
            "works great: 17\n",
            "waste money: 9\n",
            "would recommend: 9\n",
            "customer service: 9\n",
            "highly recommend: 8\n",
            "works fine: 7\n",
            "dont buy: 7\n",
            "dont waste: 6\n",
            "car charger: 5\n",
            "doesnt work: 5\n",
            "great price: 5\n",
            "piece junk: 5\n",
            "works well: 5\n",
            "well made: 4\n",
            "like charm: 4\n",
            "\n",
            "=== Top 15 Trigrams ===\n",
            "dont waste money: 5\n",
            "would highly recommend: 3\n",
            "would recommend item: 3\n",
            "waste money time: 2\n",
            "nice clear great: 2\n",
            "purchase ive made: 2\n",
            "gets job done: 2\n",
            "screen went black: 2\n",
            "works like charm: 2\n",
            "worked like charm: 2\n",
            "like loud buzzing: 2\n",
            "loud buzzing override: 2\n",
            "buzzing override conversations: 2\n",
            "worst customer service: 2\n",
            "best ive ever: 2\n",
            "\n"
          ]
        },
        {
          "output_type": "display_data",
          "data": {
            "text/plain": [
              "<Figure size 1000x400 with 1 Axes>"
            ],
            "image/png": "[encoded data removed]"
          },
          "metadata": {}
        },
        {
          "output_type": "display_data",
          "data": {
            "text/plain": [
              "<Figure size 1000x400 with 1 Axes>"
            ],
            "image/png": "[encoded data removed]"
          },
          "metadata": {}
        }
      ]
    },
    {
      "cell_type": "code",
      "source": [
        "pos_set = set(dict(top_pos).keys())\n",
        "neg_set = set(dict(top_neg).keys())\n",
        "common = pos_set.intersection(neg_set)\n",
        "print(f\"\\nWords common to both positive and negative top lists: {common}\")"
      ],
      "metadata": {
        "colab": {
          "base_uri": "https://localhost:8080/"
        },
        "id": "BBGtj3hoWNrk",
        "outputId": "a9680133-f6fd-4945-e05d-69cef8df7502"
      },
      "execution_count": 14,
      "outputs": [
        {
          "output_type": "stream",
          "name": "stdout",
          "text": [
            "\n",
            "Words common to both positive and negative top lists: {'would', 'sound'}\n"
          ]
        }
      ]
    },
    {
      "cell_type": "code",
      "source": [
        "lengths_pos = [len(s) for s in pos_sentences]\n",
        "lengths_neg = [len(s) for s in neg_sentences]\n",
        "\n",
        "plt.hist(lengths_pos, alpha=0.5, label='Positive', bins=15, color='green')\n",
        "plt.hist(lengths_neg, alpha=0.5, label='Negative', bins=15, color='red')\n",
        "plt.title(\"Sentence Length Distribution by Sentiment\")\n",
        "plt.xlabel(\"Word Count\")\n",
        "plt.ylabel(\"Frequency\")\n",
        "plt.legend()\n",
        "plt.tight_layout()\n",
        "plt.show()"
      ],
      "metadata": {
        "colab": {
          "base_uri": "https://localhost:8080/",
          "height": 487
        },
        "id": "oFvcnl1SWSZ5",
        "outputId": "9b1ee784-9d5f-4c93-a67f-48774f7b65db"
      },
      "execution_count": 15,
      "outputs": [
        {
          "output_type": "display_data",
          "data": {
            "text/plain": [
              "<Figure size 640x480 with 1 Axes>"
            ],
            "image/png": "[encoded data removed]"
          },
          "metadata": {}
        }
      ]
    },
    {
      "cell_type": "markdown",
      "source": [
        "# **Padding and Truncation**"
      ],
      "metadata": {
        "id": "eOrMaAVspzbr"
      }
    },
    {
      "cell_type": "code",
      "source": [
        "max_len = 10\n",
        "for i in range(len(cleaned_sents)):\n",
        "  if (len(cleaned_sents[i]) < max_len):\n",
        "    cleaned_sents[i] += [\"<PAD>\"] * (max_len - len(cleaned_sents[i]))\n",
        "  else:\n",
        "    cleaned_sents[i] = cleaned_sents[i][:max_len]"
      ],
      "metadata": {
        "id": "rt3Wu3pApwci"
      },
      "execution_count": 11,
      "outputs": []
    },
    {
      "cell_type": "markdown",
      "source": [
        "# **BOW Approach**"
      ],
      "metadata": {
        "id": "W9Fu4T5wdZ6R"
      }
    },
    {
      "cell_type": "code",
      "execution_count": null,
      "metadata": {
        "id": "fcFYvP3zVq2Z"
      },
      "outputs": [],
      "source": [
        "vectorizer = CountVectorizer(binary=True)\n",
        "X = vectorizer.fit_transform(sentences).toarray()\n",
        "X = torch.tensor(X).float()\n",
        "y = torch.tensor(labels).float()"
      ]
    },
    {
      "cell_type": "code",
      "source": [
        "X_train, X_test, y_train, y_test = train_test_split(X, y, test_size=0.2, random_state=42)"
      ],
      "metadata": {
        "id": "1pZ00zXSyGp_"
      },
      "execution_count": null,
      "outputs": []
    },
    {
      "cell_type": "markdown",
      "source": [
        "# **Word Embeddings approach**"
      ],
      "metadata": {
        "id": "XeBULGSFdjY-"
      }
    },
    {
      "cell_type": "code",
      "source": [
        "embedding_model = SentenceTransformer(\"all-MiniLM-L6-v2\")\n",
        "cleaned_sents_str = [\" \".join(tokens) for tokens in cleaned_sents]\n",
        "\n",
        "X_embed = embedding_model.encode(cleaned_sents_str)\n",
        "X_embed = torch.tensor(X_embed).float()\n",
        "y_embed = torch.tensor(labels).float()"
      ],
      "metadata": {
        "id": "5EbPT7oQdjOg"
      },
      "execution_count": null,
      "outputs": []
    },
    {
      "cell_type": "code",
      "source": [
        "df = pd.DataFrame({\n",
        "    \"original_sentence\": sentences,\n",
        "    \"cleaned_sentence\": cleaned_sents_str,\n",
        "    \"label\": labels\n",
        "})\n",
        "\n",
        "df.to_csv(\"preprocessed_dataset.csv\", index=False)"
      ],
      "metadata": {
        "id": "BapZkgpMktNA"
      },
      "execution_count": null,
      "outputs": []
    },
    {
      "cell_type": "markdown",
      "source": [
        "# **Manual GloVe Embedding**"
      ],
      "metadata": {
        "id": "zANXoZ7r5P1Z"
      }
    },
    {
      "cell_type": "code",
      "source": [
        "def load_glove_embeddings(file_path):\n",
        "    embeddings = {}\n",
        "    with open(file_path, 'r', encoding='utf-8') as f:\n",
        "        for line in f:\n",
        "            values = line.strip().split()\n",
        "            word = values[0]\n",
        "            vector = np.array(values[1:], dtype='float32')\n",
        "            embeddings[word] = vector\n",
        "    return embeddings"
      ],
      "metadata": {
        "id": "gXPD5oWx5PQg"
      },
      "execution_count": 12,
      "outputs": []
    },
    {
      "cell_type": "code",
      "source": [
        "def sentence_to_vec(sentence, embeddings, dim):\n",
        "    vectors = []\n",
        "    for word in sentence:\n",
        "        if word in embeddings:\n",
        "            vectors.append(embeddings[word])\n",
        "        else:\n",
        "            vectors.append(np.zeros(dim))\n",
        "    return vectors"
      ],
      "metadata": {
        "id": "4T9ySygT5vCf"
      },
      "execution_count": 13,
      "outputs": []
    },
    {
      "cell_type": "code",
      "source": [
        "def embed_sentences(cleaned_sents, embeddings, dim=5):\n",
        "    return np.array([sentence_to_vec(tokens, embeddings, dim) for tokens in cleaned_sents])"
      ],
      "metadata": {
        "id": "JwH8ts1o5vAO"
      },
      "execution_count": 14,
      "outputs": []
    },
    {
      "cell_type": "code",
      "source": [
        "glove_path = '/content/drive/MyDrive/QML-Research/Data/glove.6B.100d.txt'\n",
        "glove = load_glove_embeddings(glove_path)"
      ],
      "metadata": {
        "id": "E8gSQcWF5u9l"
      },
      "execution_count": 15,
      "outputs": []
    },
    {
      "cell_type": "markdown",
      "source": [
        "# **PCA**"
      ],
      "metadata": {
        "id": "1UNpScLuCJpT"
      }
    },
    {
      "cell_type": "code",
      "source": [
        "all_words = list(glove.keys())\n",
        "all_vectors = np.array([glove[word] for word in all_words])\n",
        "# pca = PCA(n_components=5, random_state=42)\n",
        "# pca = PCA(n_components=15, random_state=42)\n",
        "pca = PCA(n_components=32, random_state=42)\n",
        "reduced_vectors = pca.fit_transform(all_vectors)\n",
        "reduced_embeddings = {word: reduced_vectors[i] for i, word in enumerate(all_words)}"
      ],
      "metadata": {
        "id": "5Y2dkcDCCInS"
      },
      "execution_count": 16,
      "outputs": []
    },
    {
      "cell_type": "markdown",
      "source": [
        "# **Word Encoding**"
      ],
      "metadata": {
        "id": "2K7EODX6CPup"
      }
    },
    {
      "cell_type": "code",
      "source": [
        "# X_embed_np = embed_sentences(cleaned_sents, reduced_embeddings, dim=5)\n",
        "# X_embed_np = embed_sentences(cleaned_sents, reduced_embeddings, dim=15)\n",
        "X_embed_np = embed_sentences(cleaned_sents, reduced_embeddings, dim=32)\n",
        "X_embed = torch.tensor(X_embed_np).float()\n",
        "y_embed = torch.tensor(labels).float()"
      ],
      "metadata": {
        "id": "88dYvXhz6ZE-"
      },
      "execution_count": 17,
      "outputs": []
    },
    {
      "cell_type": "markdown",
      "source": [
        "# **DataLoader**"
      ],
      "metadata": {
        "id": "BoIII4KCdxJL"
      }
    },
    {
      "cell_type": "code",
      "execution_count": 18,
      "metadata": {
        "id": "Qa4_XeG2Vqz0"
      },
      "outputs": [],
      "source": [
        "X_train, X_test, y_train, y_test = train_test_split(X_embed, y_embed, test_size=0.2, random_state=42)"
      ]
    },
    {
      "cell_type": "code",
      "execution_count": 19,
      "metadata": {
        "id": "O7DmHla6VqxF"
      },
      "outputs": [],
      "source": [
        "class AmazonDataset(Dataset):\n",
        "    def __init__(self, X, y):\n",
        "        self.X = X\n",
        "        self.y = y\n",
        "\n",
        "    def __len__(self):\n",
        "        return len(self.X)\n",
        "\n",
        "    def __getitem__(self, idx):\n",
        "        return self.X[idx], self.y[idx]"
      ]
    },
    {
      "cell_type": "code",
      "execution_count": 20,
      "metadata": {
        "id": "1yNozjtYVqui"
      },
      "outputs": [],
      "source": [
        "train_dataset = AmazonDataset(X_train, y_train)\n",
        "train_loader_small = DataLoader(train_dataset, batch_size=1, shuffle=True)\n",
        "test_loader = DataLoader(AmazonDataset(X_test, y_test), batch_size=1)"
      ]
    },
    {
      "cell_type": "markdown",
      "source": [
        "# **Quantum Circuit and Model**"
      ],
      "metadata": {
        "id": "VzzqbLrgd3zE"
      }
    },
    {
      "cell_type": "code",
      "execution_count": 54,
      "metadata": {
        "id": "JEU5VkJPV3Vv"
      },
      "outputs": [],
      "source": [
        "n_qubits = 6\n",
        "dev = qml.device(\"lightning.qubit\", wires=n_qubits, shots=None)"
      ]
    },
    {
      "cell_type": "code",
      "execution_count": 28,
      "metadata": {
        "id": "kax0cYoWhd5h"
      },
      "outputs": [],
      "source": [
        "@qml.qnode(dev, interface=\"torch\")\n",
        "def quantum_step(inputs, hidden, weights_in, weights_h):\n",
        "    inputs_norm = inputs / (torch.norm(inputs) + 1e-8)\n",
        "\n",
        "    for i in range(5):\n",
        "        qml.RY(inputs_norm[i], wires=i)\n",
        "\n",
        "    qml.RY(hidden, wires=5)\n",
        "\n",
        "    for i in range(5):\n",
        "        qml.CNOT(wires=[i, (i + 1) % 5])\n",
        "\n",
        "    for i in range(5):\n",
        "        qml.RY(weights_in[i], wires=i)\n",
        "\n",
        "    qml.RY(weights_h[0], wires=5)\n",
        "    return qml.expval(qml.PauliZ(5))"
      ]
    },
    {
      "cell_type": "code",
      "execution_count": 29,
      "metadata": {
        "id": "PT5-mg75V3Qg"
      },
      "outputs": [],
      "source": [
        "class QuantumRNN(nn.Module):\n",
        "    def __init__(self):\n",
        "        super().__init__()\n",
        "        self.embedding = nn.Linear(5, 5)\n",
        "        self.weights_in = nn.Parameter(torch.randn(5) * 0.1)\n",
        "        self.weights_h = nn.Parameter(torch.randn(1) * 0.1)\n",
        "        self.classifier = nn.Linear(1, 1)\n",
        "\n",
        "    def forward(self, x):\n",
        "        seq_len = x.shape[0]\n",
        "        hidden = torch.tensor(0.0, requires_grad=True)\n",
        "\n",
        "        for t in range(seq_len):\n",
        "            input_t = self.embedding(x[t])\n",
        "            hidden = quantum_step(input_t, hidden, self.weights_in, self.weights_h)\n",
        "\n",
        "        out = self.classifier(hidden.unsqueeze(0))\n",
        "        return out"
      ]
    },
    {
      "cell_type": "code",
      "execution_count": 30,
      "metadata": {
        "id": "aLnafqY0V3Nr"
      },
      "outputs": [],
      "source": [
        "model = QuantumRNN()\n",
        "optimizer = torch.optim.Adam(model.parameters(), lr=0.01)\n",
        "loss_fn = nn.BCEWithLogitsLoss()"
      ]
    },
    {
      "cell_type": "code",
      "source": [
        "for name, param in model.named_parameters():\n",
        "    print(f\"{name}: {param.shape}\")"
      ],
      "metadata": {
        "id": "PmlnpW_MSgcf",
        "colab": {
          "base_uri": "https://localhost:8080/"
        },
        "outputId": "88acfa04-4a58-4688-a0e3-22555495c9ea"
      },
      "execution_count": 31,
      "outputs": [
        {
          "output_type": "stream",
          "name": "stdout",
          "text": [
            "weights_in: torch.Size([5])\n",
            "weights_h: torch.Size([1])\n",
            "embedding.weight: torch.Size([5, 5])\n",
            "embedding.bias: torch.Size([5])\n",
            "classifier.weight: torch.Size([1, 1])\n",
            "classifier.bias: torch.Size([1])\n"
          ]
        }
      ]
    },
    {
      "cell_type": "markdown",
      "source": [
        "# **Training Loop**"
      ],
      "metadata": {
        "id": "Qcdy70RwfA1S"
      }
    },
    {
      "cell_type": "code",
      "source": [
        "start_time = time.time()\n",
        "epochs = 50\n",
        "model.train()\n",
        "\n",
        "for epoch in range(epochs):\n",
        "    total_loss = 0\n",
        "    correct = 0\n",
        "    total = 0\n",
        "    epoch_start = time.time()\n",
        "\n",
        "    for xb, yb in train_loader_small:\n",
        "        xb = xb.squeeze(0)\n",
        "        yb = yb.squeeze()\n",
        "\n",
        "        optimizer.zero_grad()\n",
        "        output = model(xb)\n",
        "\n",
        "        output_flat = output.squeeze()\n",
        "        yb_flat = yb.float()\n",
        "\n",
        "        loss = loss_fn(output_flat, yb_flat)\n",
        "        loss.backward()\n",
        "        optimizer.step()\n",
        "\n",
        "        total_loss += loss.item()\n",
        "\n",
        "        predicted = (torch.sigmoid(output_flat) > 0.5).float()\n",
        "        correct += (predicted == yb_flat).sum().item()\n",
        "        total += 1\n",
        "\n",
        "    avg_loss = total_loss / len(train_loader_small)\n",
        "    epoch_time = time.time() - epoch_start\n",
        "    accuracy = 100 * correct / total\n",
        "    print(f\"Epoch {epoch+1}, Loss: {avg_loss:.4f}, Accuracy: {accuracy:.2f}%\")\n",
        "    print(f\"Time for epoch: {epoch_time:.2f} seconds\")\n",
        "\n",
        "total_time = time.time() - start_time\n",
        "print(f\"\\nTotal training time: {total_time:.2f} seconds\")"
      ],
      "metadata": {
        "id": "Gcx1PxETjwS5",
        "colab": {
          "base_uri": "https://localhost:8080/"
        },
        "outputId": "ce45c9a7-c46b-4a87-9001-2c5ddd479d31"
      },
      "execution_count": 32,
      "outputs": [
        {
          "output_type": "stream",
          "name": "stdout",
          "text": [
            "Epoch 1, Loss: 0.7122, Accuracy: 48.62%\n",
            "Time for epoch: 36.12 seconds\n",
            "Epoch 2, Loss: 0.6959, Accuracy: 47.12%\n",
            "Time for epoch: 34.29 seconds\n",
            "Epoch 3, Loss: 0.6962, Accuracy: 47.75%\n",
            "Time for epoch: 34.90 seconds\n",
            "Epoch 4, Loss: 0.6962, Accuracy: 50.88%\n",
            "Time for epoch: 41.72 seconds\n",
            "Epoch 5, Loss: 0.6956, Accuracy: 48.38%\n",
            "Time for epoch: 54.12 seconds\n",
            "Epoch 6, Loss: 0.6956, Accuracy: 49.00%\n",
            "Time for epoch: 48.76 seconds\n",
            "Epoch 7, Loss: 0.6936, Accuracy: 52.12%\n",
            "Time for epoch: 33.84 seconds\n",
            "Epoch 8, Loss: 0.6953, Accuracy: 46.75%\n",
            "Time for epoch: 35.61 seconds\n",
            "Epoch 9, Loss: 0.6957, Accuracy: 47.38%\n",
            "Time for epoch: 35.56 seconds\n",
            "Epoch 10, Loss: 0.6938, Accuracy: 51.38%\n",
            "Time for epoch: 35.19 seconds\n",
            "Epoch 11, Loss: 0.6956, Accuracy: 44.50%\n",
            "Time for epoch: 35.63 seconds\n",
            "Epoch 12, Loss: 0.6953, Accuracy: 49.62%\n",
            "Time for epoch: 35.10 seconds\n",
            "Epoch 13, Loss: 0.6948, Accuracy: 49.25%\n",
            "Time for epoch: 34.38 seconds\n",
            "Epoch 14, Loss: 0.6948, Accuracy: 47.75%\n",
            "Time for epoch: 36.71 seconds\n",
            "Epoch 15, Loss: 0.6944, Accuracy: 51.62%\n",
            "Time for epoch: 35.26 seconds\n",
            "Epoch 16, Loss: 0.6948, Accuracy: 50.62%\n",
            "Time for epoch: 34.68 seconds\n",
            "Epoch 17, Loss: 0.6943, Accuracy: 49.75%\n",
            "Time for epoch: 35.13 seconds\n",
            "Epoch 18, Loss: 0.6951, Accuracy: 46.88%\n",
            "Time for epoch: 35.13 seconds\n",
            "Epoch 19, Loss: 0.6948, Accuracy: 50.25%\n",
            "Time for epoch: 34.07 seconds\n",
            "Epoch 20, Loss: 0.6948, Accuracy: 47.50%\n",
            "Time for epoch: 35.78 seconds\n",
            "Epoch 21, Loss: 0.6944, Accuracy: 48.88%\n",
            "Time for epoch: 35.51 seconds\n",
            "Epoch 22, Loss: 0.6946, Accuracy: 49.75%\n",
            "Time for epoch: 34.63 seconds\n",
            "Epoch 23, Loss: 0.6945, Accuracy: 52.00%\n",
            "Time for epoch: 35.11 seconds\n",
            "Epoch 24, Loss: 0.6934, Accuracy: 51.25%\n",
            "Time for epoch: 35.93 seconds\n",
            "Epoch 25, Loss: 0.6945, Accuracy: 48.75%\n",
            "Time for epoch: 35.07 seconds\n",
            "Epoch 26, Loss: 0.6948, Accuracy: 50.00%\n",
            "Time for epoch: 35.53 seconds\n",
            "Epoch 27, Loss: 0.6948, Accuracy: 50.00%\n",
            "Time for epoch: 35.11 seconds\n",
            "Epoch 28, Loss: 0.6946, Accuracy: 49.50%\n",
            "Time for epoch: 33.78 seconds\n",
            "Epoch 29, Loss: 0.6952, Accuracy: 48.75%\n",
            "Time for epoch: 34.80 seconds\n",
            "Epoch 30, Loss: 0.6947, Accuracy: 50.00%\n",
            "Time for epoch: 34.60 seconds\n",
            "Epoch 31, Loss: 0.6951, Accuracy: 48.62%\n",
            "Time for epoch: 33.62 seconds\n",
            "Epoch 32, Loss: 0.6949, Accuracy: 48.00%\n",
            "Time for epoch: 34.88 seconds\n",
            "Epoch 33, Loss: 0.6939, Accuracy: 50.12%\n",
            "Time for epoch: 35.20 seconds\n",
            "Epoch 34, Loss: 0.6954, Accuracy: 46.75%\n",
            "Time for epoch: 35.34 seconds\n",
            "Epoch 35, Loss: 0.6952, Accuracy: 48.88%\n",
            "Time for epoch: 35.58 seconds\n",
            "Epoch 36, Loss: 0.6948, Accuracy: 47.75%\n",
            "Time for epoch: 33.82 seconds\n",
            "Epoch 37, Loss: 0.6936, Accuracy: 51.38%\n",
            "Time for epoch: 34.67 seconds\n",
            "Epoch 38, Loss: 0.6937, Accuracy: 51.25%\n",
            "Time for epoch: 34.72 seconds\n",
            "Epoch 39, Loss: 0.6951, Accuracy: 47.75%\n",
            "Time for epoch: 34.01 seconds\n",
            "Epoch 40, Loss: 0.6944, Accuracy: 50.12%\n",
            "Time for epoch: 34.67 seconds\n",
            "Epoch 41, Loss: 0.6942, Accuracy: 50.25%\n",
            "Time for epoch: 35.52 seconds\n",
            "Epoch 42, Loss: 0.6953, Accuracy: 49.75%\n",
            "Time for epoch: 34.30 seconds\n",
            "Epoch 43, Loss: 0.6950, Accuracy: 50.12%\n",
            "Time for epoch: 35.17 seconds\n",
            "Epoch 44, Loss: 0.6944, Accuracy: 50.88%\n",
            "Time for epoch: 35.00 seconds\n",
            "Epoch 45, Loss: 0.6949, Accuracy: 48.38%\n",
            "Time for epoch: 35.44 seconds\n",
            "Epoch 46, Loss: 0.6944, Accuracy: 50.88%\n",
            "Time for epoch: 35.18 seconds\n",
            "Epoch 47, Loss: 0.6951, Accuracy: 49.38%\n",
            "Time for epoch: 34.62 seconds\n",
            "Epoch 48, Loss: 0.6953, Accuracy: 50.88%\n",
            "Time for epoch: 34.81 seconds\n",
            "Epoch 49, Loss: 0.6948, Accuracy: 50.12%\n",
            "Time for epoch: 35.06 seconds\n",
            "Epoch 50, Loss: 0.6945, Accuracy: 50.00%\n",
            "Time for epoch: 33.89 seconds\n",
            "\n",
            "Total training time: 1787.55 seconds\n"
          ]
        }
      ]
    },
    {
      "cell_type": "markdown",
      "source": [
        "# **Testing Loop**"
      ],
      "metadata": {
        "id": "3K3E_grWfFFg"
      }
    },
    {
      "cell_type": "code",
      "execution_count": 33,
      "metadata": {
        "id": "rNiXfEm1V_vk",
        "colab": {
          "base_uri": "https://localhost:8080/"
        },
        "outputId": "035ae544-17b9-4cdd-bf8d-bf8b7e6b68b8"
      },
      "outputs": [
        {
          "output_type": "stream",
          "name": "stdout",
          "text": [
            "Logit: -0.032 | Probability: 0.492 | Pred: 0.0, Actual: 1.0\n",
            "Logit: -0.032 | Probability: 0.492 | Pred: 0.0, Actual: 1.0\n",
            "Logit: -0.032 | Probability: 0.492 | Pred: 0.0, Actual: 1.0\n",
            "Logit: -0.032 | Probability: 0.492 | Pred: 0.0, Actual: 0.0\n",
            "Logit: -0.032 | Probability: 0.492 | Pred: 0.0, Actual: 1.0\n",
            "Logit: -0.032 | Probability: 0.492 | Pred: 0.0, Actual: 1.0\n",
            "Logit: -0.032 | Probability: 0.492 | Pred: 0.0, Actual: 0.0\n",
            "Logit: -0.032 | Probability: 0.492 | Pred: 0.0, Actual: 1.0\n",
            "Logit: -0.032 | Probability: 0.492 | Pred: 0.0, Actual: 0.0\n",
            "Logit: -0.032 | Probability: 0.492 | Pred: 0.0, Actual: 1.0\n",
            "Test Accuracy: 46.50%\n"
          ]
        }
      ],
      "source": [
        "model.eval()\n",
        "correct = 0\n",
        "total = 0\n",
        "with torch.no_grad():\n",
        "    for xb, yb in test_loader:\n",
        "        xb = xb.squeeze(0)\n",
        "        yb = yb.squeeze()\n",
        "        logits = model(xb)\n",
        "        logits_flat = logits.squeeze()\n",
        "        prob = torch.sigmoid(logits_flat)\n",
        "        pred = (prob > 0.5).float()\n",
        "        actual = yb.float()\n",
        "\n",
        "        if pred == actual:\n",
        "            correct += 1\n",
        "        total += 1\n",
        "\n",
        "        if total <= 10:\n",
        "            print(f\"Logit: {logits_flat.item():.3f} | Probability: {prob.item():.3f} | Pred: {pred.item()}, Actual: {actual.item()}\")\n",
        "\n",
        "print(f\"Test Accuracy: {correct / total * 100:.2f}%\")"
      ]
    },
    {
      "cell_type": "markdown",
      "source": [
        "# **Dense Angle Encoding**\n",
        "- **Encodes 15 dimensions using just 3 qubits**"
      ],
      "metadata": {
        "id": "-UabPO_8k3NE"
      }
    },
    {
      "cell_type": "code",
      "source": [
        "n_qubits = 4\n",
        "dev = qml.device(\"lightning.qubit\", wires=n_qubits, shots=None)"
      ],
      "metadata": {
        "id": "zbTXGQa_k8Dl"
      },
      "execution_count": 55,
      "outputs": []
    },
    {
      "cell_type": "code",
      "source": [
        "@qml.qnode(dev, interface=\"torch\")\n",
        "def quantum_step(inputs, hidden, weights_in, weights_h):\n",
        "    for i in range(5):\n",
        "        qml.RY(inputs[i], wires=0)\n",
        "        qml.RZ(inputs[i] * 0.5, wires=0)\n",
        "\n",
        "    for i in range(5, 10):\n",
        "        qml.RY(inputs[i], wires=1)\n",
        "        qml.RZ(inputs[i] * 0.5, wires=1)\n",
        "\n",
        "    for i in range(10, 15):\n",
        "        qml.RY(inputs[i], wires=2)\n",
        "        qml.RZ(inputs[i] * 0.5, wires=2)\n",
        "\n",
        "    qml.RY(hidden, wires=3)\n",
        "\n",
        "    qml.CNOT(wires=[0, 1])\n",
        "    qml.CNOT(wires=[1, 2])\n",
        "    qml.CNOT(wires=[2, 3])\n",
        "    qml.CNOT(wires=[3, 0])\n",
        "\n",
        "    for i in range(3):\n",
        "        qml.RY(weights_in[i], wires=i)\n",
        "        qml.RZ(weights_in[i + 3], wires=i)\n",
        "\n",
        "    qml.RY(weights_h[0], wires=3)\n",
        "    return qml.expval(qml.PauliZ(3))"
      ],
      "metadata": {
        "id": "Oo3chpQYlBzH"
      },
      "execution_count": 56,
      "outputs": []
    },
    {
      "cell_type": "code",
      "source": [
        "class QuantumRNN(nn.Module):\n",
        "    def __init__(self):\n",
        "        super().__init__()\n",
        "        self.embedding = nn.Linear(15, 15)\n",
        "        self.weights_in = nn.Parameter(torch.randn(6) * 0.1)\n",
        "        self.weights_h = nn.Parameter(torch.randn(1) * 0.1)\n",
        "        self.classifier = nn.Linear(1, 1)\n",
        "\n",
        "    def forward(self, x):\n",
        "        seq_len = x.shape[0]\n",
        "        hidden = torch.tensor(0.0, requires_grad=True)\n",
        "\n",
        "        for t in range(seq_len):\n",
        "            input_t = self.embedding(x[t])\n",
        "            hidden = quantum_step(input_t, hidden, self.weights_in, self.weights_h)\n",
        "\n",
        "        out = self.classifier(hidden.unsqueeze(0))\n",
        "        return out"
      ],
      "metadata": {
        "id": "x2U2BVWilBtD"
      },
      "execution_count": 57,
      "outputs": []
    },
    {
      "cell_type": "code",
      "source": [
        "model = QuantumRNN()\n",
        "optimizer = torch.optim.Adam(model.parameters(), lr=0.01)\n",
        "loss_fn = nn.BCEWithLogitsLoss()"
      ],
      "metadata": {
        "id": "w--YDZ-4lBqh"
      },
      "execution_count": 58,
      "outputs": []
    },
    {
      "cell_type": "code",
      "source": [
        "for name, param in model.named_parameters():\n",
        "    print(f\"{name}: {param.shape}\")"
      ],
      "metadata": {
        "id": "jOb7sisLlBnW",
        "colab": {
          "base_uri": "https://localhost:8080/"
        },
        "outputId": "21205bdc-860f-4ce7-fbc9-5aef37e30779"
      },
      "execution_count": 59,
      "outputs": [
        {
          "output_type": "stream",
          "name": "stdout",
          "text": [
            "weights_in: torch.Size([6])\n",
            "weights_h: torch.Size([1])\n",
            "embedding.weight: torch.Size([15, 15])\n",
            "embedding.bias: torch.Size([15])\n",
            "classifier.weight: torch.Size([1, 1])\n",
            "classifier.bias: torch.Size([1])\n"
          ]
        }
      ]
    },
    {
      "cell_type": "code",
      "source": [
        "start_time = time.time()\n",
        "epochs = 50\n",
        "model.train()\n",
        "\n",
        "for epoch in range(epochs):\n",
        "    total_loss = 0\n",
        "    correct = 0\n",
        "    total = 0\n",
        "    epoch_start = time.time()\n",
        "\n",
        "    for xb, yb in train_loader_small:\n",
        "        xb = xb.squeeze(0)\n",
        "        yb = yb.squeeze()\n",
        "\n",
        "        optimizer.zero_grad()\n",
        "        output = model(xb)\n",
        "\n",
        "        output_flat = output.squeeze()\n",
        "        yb_flat = yb.float()\n",
        "\n",
        "        loss = loss_fn(output_flat, yb_flat)\n",
        "        loss.backward()\n",
        "        optimizer.step()\n",
        "\n",
        "        total_loss += loss.item()\n",
        "        predicted = (torch.sigmoid(output_flat) > 0.5).float()\n",
        "        correct += (predicted == yb_flat).sum().item()\n",
        "        total += 1\n",
        "\n",
        "    avg_loss = total_loss / len(train_loader_small)\n",
        "    epoch_time = time.time() - epoch_start\n",
        "    accuracy = 100 * correct / total\n",
        "    print(f\"Epoch {epoch+1}, Loss: {avg_loss:.4f}, Accuracy: {accuracy:.2f}%\")\n",
        "    print(f\"Time for epoch: {epoch_time:.2f} seconds\")\n",
        "\n",
        "total_time = time.time() - start_time\n",
        "print(f\"\\nTotal training time: {total_time:.2f} seconds\")"
      ],
      "metadata": {
        "id": "Kbr8oQ_clSrX",
        "colab": {
          "base_uri": "https://localhost:8080/"
        },
        "outputId": "9933f676-d6e7-4867-e59c-9baac2b1d82d"
      },
      "execution_count": 60,
      "outputs": [
        {
          "output_type": "stream",
          "name": "stdout",
          "text": [
            "Epoch 1, Loss: 0.7018, Accuracy: 48.12%\n",
            "Time for epoch: 69.31 seconds\n",
            "Epoch 2, Loss: 0.6995, Accuracy: 48.50%\n",
            "Time for epoch: 71.74 seconds\n",
            "Epoch 3, Loss: 0.6983, Accuracy: 47.88%\n",
            "Time for epoch: 70.36 seconds\n",
            "Epoch 4, Loss: 0.6957, Accuracy: 49.12%\n",
            "Time for epoch: 68.98 seconds\n",
            "Epoch 5, Loss: 0.6962, Accuracy: 49.00%\n",
            "Time for epoch: 70.13 seconds\n",
            "Epoch 6, Loss: 0.6958, Accuracy: 47.75%\n",
            "Time for epoch: 69.32 seconds\n",
            "Epoch 7, Loss: 0.6940, Accuracy: 51.75%\n",
            "Time for epoch: 69.60 seconds\n",
            "Epoch 8, Loss: 0.6944, Accuracy: 50.88%\n",
            "Time for epoch: 70.95 seconds\n",
            "Epoch 9, Loss: 0.6954, Accuracy: 47.88%\n",
            "Time for epoch: 69.08 seconds\n",
            "Epoch 10, Loss: 0.6947, Accuracy: 48.75%\n",
            "Time for epoch: 69.13 seconds\n",
            "Epoch 11, Loss: 0.6952, Accuracy: 47.88%\n",
            "Time for epoch: 70.40 seconds\n",
            "Epoch 12, Loss: 0.6939, Accuracy: 48.38%\n",
            "Time for epoch: 71.83 seconds\n",
            "Epoch 13, Loss: 0.6956, Accuracy: 50.25%\n",
            "Time for epoch: 70.38 seconds\n",
            "Epoch 14, Loss: 0.6950, Accuracy: 47.50%\n",
            "Time for epoch: 71.00 seconds\n",
            "Epoch 15, Loss: 0.6954, Accuracy: 48.12%\n",
            "Time for epoch: 70.98 seconds\n",
            "Epoch 16, Loss: 0.6950, Accuracy: 48.62%\n",
            "Time for epoch: 70.72 seconds\n",
            "Epoch 17, Loss: 0.6943, Accuracy: 50.38%\n",
            "Time for epoch: 71.15 seconds\n",
            "Epoch 18, Loss: 0.6956, Accuracy: 47.00%\n",
            "Time for epoch: 70.94 seconds\n",
            "Epoch 19, Loss: 0.6956, Accuracy: 47.62%\n",
            "Time for epoch: 71.32 seconds\n",
            "Epoch 20, Loss: 0.6952, Accuracy: 47.25%\n",
            "Time for epoch: 70.43 seconds\n",
            "Epoch 21, Loss: 0.6947, Accuracy: 47.00%\n",
            "Time for epoch: 70.79 seconds\n",
            "Epoch 22, Loss: 0.6947, Accuracy: 50.62%\n",
            "Time for epoch: 70.85 seconds\n",
            "Epoch 23, Loss: 0.6956, Accuracy: 49.00%\n",
            "Time for epoch: 69.55 seconds\n",
            "Epoch 24, Loss: 0.6953, Accuracy: 47.88%\n",
            "Time for epoch: 69.24 seconds\n",
            "Epoch 25, Loss: 0.6949, Accuracy: 49.12%\n",
            "Time for epoch: 70.01 seconds\n",
            "Epoch 26, Loss: 0.6950, Accuracy: 48.12%\n",
            "Time for epoch: 69.76 seconds\n",
            "Epoch 27, Loss: 0.6944, Accuracy: 49.50%\n",
            "Time for epoch: 69.61 seconds\n",
            "Epoch 28, Loss: 0.6951, Accuracy: 52.38%\n",
            "Time for epoch: 73.95 seconds\n",
            "Epoch 29, Loss: 0.6944, Accuracy: 47.75%\n",
            "Time for epoch: 70.44 seconds\n",
            "Epoch 30, Loss: 0.6952, Accuracy: 49.50%\n",
            "Time for epoch: 69.09 seconds\n",
            "Epoch 31, Loss: 0.6958, Accuracy: 49.38%\n",
            "Time for epoch: 69.92 seconds\n",
            "Epoch 32, Loss: 0.6948, Accuracy: 49.12%\n",
            "Time for epoch: 68.96 seconds\n",
            "Epoch 33, Loss: 0.6945, Accuracy: 51.50%\n",
            "Time for epoch: 69.13 seconds\n",
            "Epoch 34, Loss: 0.6946, Accuracy: 49.62%\n",
            "Time for epoch: 69.68 seconds\n",
            "Epoch 35, Loss: 0.6942, Accuracy: 48.88%\n",
            "Time for epoch: 68.82 seconds\n",
            "Epoch 36, Loss: 0.6940, Accuracy: 51.62%\n",
            "Time for epoch: 69.00 seconds\n",
            "Epoch 37, Loss: 0.6951, Accuracy: 50.12%\n",
            "Time for epoch: 68.96 seconds\n",
            "Epoch 38, Loss: 0.6948, Accuracy: 48.25%\n",
            "Time for epoch: 69.45 seconds\n",
            "Epoch 39, Loss: 0.6940, Accuracy: 49.38%\n",
            "Time for epoch: 68.39 seconds\n",
            "Epoch 40, Loss: 0.6952, Accuracy: 50.75%\n",
            "Time for epoch: 68.36 seconds\n",
            "Epoch 41, Loss: 0.6945, Accuracy: 48.00%\n",
            "Time for epoch: 68.51 seconds\n",
            "Epoch 42, Loss: 0.6955, Accuracy: 47.12%\n",
            "Time for epoch: 68.83 seconds\n",
            "Epoch 43, Loss: 0.6947, Accuracy: 51.12%\n",
            "Time for epoch: 68.55 seconds\n",
            "Epoch 44, Loss: 0.6941, Accuracy: 51.25%\n",
            "Time for epoch: 68.63 seconds\n",
            "Epoch 45, Loss: 0.6943, Accuracy: 50.25%\n",
            "Time for epoch: 68.34 seconds\n",
            "Epoch 46, Loss: 0.6945, Accuracy: 51.00%\n",
            "Time for epoch: 68.67 seconds\n",
            "Epoch 47, Loss: 0.6958, Accuracy: 49.38%\n",
            "Time for epoch: 69.94 seconds\n",
            "Epoch 48, Loss: 0.6930, Accuracy: 53.12%\n",
            "Time for epoch: 70.87 seconds\n",
            "Epoch 49, Loss: 0.6957, Accuracy: 49.88%\n",
            "Time for epoch: 69.18 seconds\n",
            "Epoch 50, Loss: 0.6940, Accuracy: 51.62%\n",
            "Time for epoch: 69.98 seconds\n",
            "\n",
            "Total training time: 3493.22 seconds\n"
          ]
        }
      ]
    },
    {
      "cell_type": "code",
      "source": [
        "model.eval()\n",
        "correct = 0\n",
        "total = 0\n",
        "with torch.no_grad():\n",
        "    for xb, yb in test_loader:\n",
        "        xb = xb.squeeze(0)\n",
        "        yb = yb.squeeze()\n",
        "\n",
        "        logits = model(xb)\n",
        "        logits_flat = logits.squeeze()\n",
        "        prob = torch.sigmoid(logits_flat)\n",
        "        pred = (prob > 0.5).float()\n",
        "        actual = yb.float()\n",
        "\n",
        "        if pred == actual:\n",
        "            correct += 1\n",
        "        total += 1\n",
        "\n",
        "        if total <= 10:\n",
        "            print(f\"Logit: {logits_flat.item():.3f} | Probability: {prob.item():.3f} | Pred: {pred.item()}, Actual: {actual.item()}\")\n",
        "\n",
        "print(f\"Test Accuracy: {correct / total * 100:.2f}%\")"
      ],
      "metadata": {
        "id": "c1g-_WMQlSoI",
        "colab": {
          "base_uri": "https://localhost:8080/"
        },
        "outputId": "883a97b9-453d-4954-e8a4-10fcfc9165bc"
      },
      "execution_count": 61,
      "outputs": [
        {
          "output_type": "stream",
          "name": "stdout",
          "text": [
            "Logit: 0.114 | Probability: 0.529 | Pred: 1.0, Actual: 1.0\n",
            "Logit: 0.108 | Probability: 0.527 | Pred: 1.0, Actual: 1.0\n",
            "Logit: 0.113 | Probability: 0.528 | Pred: 1.0, Actual: 1.0\n",
            "Logit: 0.114 | Probability: 0.528 | Pred: 1.0, Actual: 0.0\n",
            "Logit: 0.113 | Probability: 0.528 | Pred: 1.0, Actual: 1.0\n",
            "Logit: 0.112 | Probability: 0.528 | Pred: 1.0, Actual: 1.0\n",
            "Logit: 0.112 | Probability: 0.528 | Pred: 1.0, Actual: 0.0\n",
            "Logit: 0.110 | Probability: 0.527 | Pred: 1.0, Actual: 1.0\n",
            "Logit: 0.112 | Probability: 0.528 | Pred: 1.0, Actual: 0.0\n",
            "Logit: 0.113 | Probability: 0.528 | Pred: 1.0, Actual: 1.0\n",
            "Test Accuracy: 53.50%\n"
          ]
        }
      ]
    },
    {
      "cell_type": "markdown",
      "source": [
        "# **Amplitude Encoding**\n",
        "- Amplitude encodes an input with dimension of 23 with just 5 qubits, after normalizing the input (Input Normalization is necessary for amplitude encoding)"
      ],
      "metadata": {
        "id": "Ri6yiKQMsDhc"
      }
    },
    {
      "cell_type": "code",
      "source": [
        "n_qubits = 6\n",
        "dev = qml.device(\"lightning.qubit\", wires=n_qubits, shots=None)"
      ],
      "metadata": {
        "id": "FOdTCHHlsGyW"
      },
      "execution_count": 21,
      "outputs": []
    },
    {
      "cell_type": "code",
      "source": [
        "@qml.qnode(dev, interface=\"torch\")\n",
        "def quantum_step(inputs, hidden, weights_in, weights_h):\n",
        "\n",
        "    inputs_clean = torch.where(torch.isnan(inputs) | torch.isinf(inputs),\n",
        "                              torch.zeros_like(inputs), inputs)\n",
        "\n",
        "    inputs_clean = inputs_clean + torch.randn_like(inputs_clean) * 1e-6\n",
        "\n",
        "    norm = torch.sqrt(torch.sum(inputs_clean**2) + 1e-8)\n",
        "    inputs_normalized = inputs_clean / norm\n",
        "\n",
        "    final_norm = torch.sqrt(torch.sum(inputs_normalized**2))\n",
        "    if torch.isnan(final_norm) or torch.abs(final_norm - 1.0) > 1e-3:\n",
        "        inputs_normalized = torch.ones_like(inputs_clean) / torch.sqrt(torch.tensor(32.0))\n",
        "\n",
        "    inputs_np = inputs_normalized.detach().numpy()\n",
        "\n",
        "    qml.AmplitudeEmbedding(features=inputs_np, wires=range(5), normalize=False)\n",
        "\n",
        "    qml.RY(hidden, wires=5)\n",
        "\n",
        "    for i in range(5):\n",
        "        qml.CNOT(wires=[i, 5])\n",
        "\n",
        "    for i in range(5):\n",
        "        qml.CNOT(wires=[i, (i + 1) % 5])\n",
        "\n",
        "    for i in range(5):\n",
        "        qml.RY(weights_in[i], wires=i)\n",
        "        qml.RZ(weights_in[i + 5], wires=i)\n",
        "\n",
        "    qml.RY(weights_h[0], wires=5)\n",
        "    qml.RZ(weights_h[1], wires=5)\n",
        "\n",
        "    return qml.expval(qml.PauliZ(5))"
      ],
      "metadata": {
        "id": "uBP8iTCpsHO1"
      },
      "execution_count": 22,
      "outputs": []
    },
    {
      "cell_type": "code",
      "source": [
        "class QuantumRNN(nn.Module):\n",
        "    def __init__(self):\n",
        "        super().__init__()\n",
        "        self.embedding = nn.Linear(32, 32)\n",
        "        self.weights_in = nn.Parameter(torch.randn(10) * 0.1)\n",
        "        self.weights_h = nn.Parameter(torch.randn(2) * 0.1)\n",
        "        self.classifier = nn.Linear(1, 1)\n",
        "\n",
        "    def forward(self, x):\n",
        "        seq_len = x.shape[0]\n",
        "        hidden = torch.tensor(0.0, requires_grad=True)\n",
        "\n",
        "        for t in range(seq_len):\n",
        "            input_t = self.embedding(x[t])\n",
        "            hidden = quantum_step(input_t, hidden, self.weights_in, self.weights_h)\n",
        "\n",
        "        out = self.classifier(hidden.unsqueeze(0))\n",
        "        return out"
      ],
      "metadata": {
        "id": "_wve7uQOsHVK"
      },
      "execution_count": 23,
      "outputs": []
    },
    {
      "cell_type": "code",
      "source": [
        "model = QuantumRNN()\n",
        "optimizer = torch.optim.Adam(model.parameters(), lr=0.01)\n",
        "loss_fn = nn.BCEWithLogitsLoss()"
      ],
      "metadata": {
        "id": "lG3mC9lesHae"
      },
      "execution_count": 24,
      "outputs": []
    },
    {
      "cell_type": "code",
      "source": [
        "for name, param in model.named_parameters():\n",
        "    print(f\"{name}: {param.shape}\")"
      ],
      "metadata": {
        "id": "P1fWq5jNsHgG",
        "colab": {
          "base_uri": "https://localhost:8080/"
        },
        "outputId": "b708337a-41e5-4cd2-f86a-6df47c4a58a0"
      },
      "execution_count": 25,
      "outputs": [
        {
          "output_type": "stream",
          "name": "stdout",
          "text": [
            "weights_in: torch.Size([10])\n",
            "weights_h: torch.Size([2])\n",
            "embedding.weight: torch.Size([32, 32])\n",
            "embedding.bias: torch.Size([32])\n",
            "classifier.weight: torch.Size([1, 1])\n",
            "classifier.bias: torch.Size([1])\n"
          ]
        }
      ]
    },
    {
      "cell_type": "code",
      "source": [
        "start_time = time.time()\n",
        "epochs = 50\n",
        "model.train()\n",
        "\n",
        "for epoch in range(epochs):\n",
        "    total_loss = 0\n",
        "    correct = 0\n",
        "    total = 0\n",
        "    epoch_start = time.time()\n",
        "\n",
        "    for xb, yb in train_loader_small:\n",
        "        xb = xb.squeeze(0)\n",
        "        yb = yb.squeeze()\n",
        "\n",
        "        optimizer.zero_grad()\n",
        "        output = model(xb)\n",
        "\n",
        "        output_flat = output.squeeze()\n",
        "        yb_flat = yb.float()\n",
        "\n",
        "        loss = loss_fn(output_flat, yb_flat)\n",
        "        loss.backward()\n",
        "        optimizer.step()\n",
        "\n",
        "        total_loss += loss.item()\n",
        "        predicted = (torch.sigmoid(output_flat) > 0.5).float()\n",
        "        correct += (predicted == yb_flat).sum().item()\n",
        "        total += 1\n",
        "\n",
        "    avg_loss = total_loss / len(train_loader_small)\n",
        "    epoch_time = time.time() - epoch_start\n",
        "    accuracy = 100 * correct / total\n",
        "    print(f\"Epoch {epoch+1}, Loss: {avg_loss:.4f}, Accuracy: {accuracy:.2f}%\")\n",
        "    print(f\"Time for epoch: {epoch_time:.2f} seconds\")\n",
        "\n",
        "total_time = time.time() - start_time\n",
        "print(f\"\\nTotal training time: {total_time:.2f} seconds\")"
      ],
      "metadata": {
        "id": "xI-nxEzSsqXO",
        "colab": {
          "base_uri": "https://localhost:8080/"
        },
        "outputId": "f9e0783a-740a-4e32-edda-040a0585726b"
      },
      "execution_count": 26,
      "outputs": [
        {
          "output_type": "stream",
          "name": "stdout",
          "text": [
            "Epoch 1, Loss: 0.6972, Accuracy: 47.88%\n",
            "Time for epoch: 60.71 seconds\n",
            "Epoch 2, Loss: 0.6947, Accuracy: 50.50%\n",
            "Time for epoch: 62.96 seconds\n",
            "Epoch 3, Loss: 0.6954, Accuracy: 47.75%\n",
            "Time for epoch: 60.52 seconds\n",
            "Epoch 4, Loss: 0.6937, Accuracy: 50.88%\n",
            "Time for epoch: 62.82 seconds\n",
            "Epoch 5, Loss: 0.6947, Accuracy: 50.12%\n",
            "Time for epoch: 62.76 seconds\n",
            "Epoch 6, Loss: 0.6937, Accuracy: 51.00%\n",
            "Time for epoch: 60.62 seconds\n",
            "Epoch 7, Loss: 0.6924, Accuracy: 52.25%\n",
            "Time for epoch: 61.55 seconds\n",
            "Epoch 8, Loss: 0.6939, Accuracy: 49.50%\n",
            "Time for epoch: 60.36 seconds\n",
            "Epoch 9, Loss: 0.6963, Accuracy: 50.12%\n",
            "Time for epoch: 61.43 seconds\n",
            "Epoch 10, Loss: 0.6929, Accuracy: 49.25%\n",
            "Time for epoch: 60.11 seconds\n",
            "Epoch 11, Loss: 0.6917, Accuracy: 51.62%\n",
            "Time for epoch: 61.44 seconds\n",
            "Epoch 12, Loss: 0.6955, Accuracy: 47.25%\n",
            "Time for epoch: 60.45 seconds\n",
            "Epoch 13, Loss: 0.6928, Accuracy: 50.25%\n",
            "Time for epoch: 61.79 seconds\n",
            "Epoch 14, Loss: 0.6922, Accuracy: 51.50%\n",
            "Time for epoch: 61.53 seconds\n",
            "Epoch 15, Loss: 0.6942, Accuracy: 49.00%\n",
            "Time for epoch: 62.63 seconds\n",
            "Epoch 16, Loss: 0.6932, Accuracy: 51.50%\n",
            "Time for epoch: 62.85 seconds\n",
            "Epoch 17, Loss: 0.6912, Accuracy: 51.38%\n",
            "Time for epoch: 60.99 seconds\n",
            "Epoch 18, Loss: 0.6942, Accuracy: 50.25%\n",
            "Time for epoch: 60.41 seconds\n",
            "Epoch 19, Loss: 0.6933, Accuracy: 50.88%\n",
            "Time for epoch: 62.50 seconds\n",
            "Epoch 20, Loss: 0.6936, Accuracy: 50.75%\n",
            "Time for epoch: 60.52 seconds\n",
            "Epoch 21, Loss: 0.6930, Accuracy: 52.12%\n",
            "Time for epoch: 63.01 seconds\n",
            "Epoch 22, Loss: 0.6938, Accuracy: 49.50%\n",
            "Time for epoch: 60.98 seconds\n",
            "Epoch 23, Loss: 0.6926, Accuracy: 50.50%\n",
            "Time for epoch: 61.73 seconds\n",
            "Epoch 24, Loss: 0.6939, Accuracy: 49.75%\n",
            "Time for epoch: 61.76 seconds\n",
            "Epoch 25, Loss: 0.6927, Accuracy: 50.38%\n",
            "Time for epoch: 61.99 seconds\n",
            "Epoch 26, Loss: 0.6940, Accuracy: 50.75%\n",
            "Time for epoch: 60.95 seconds\n",
            "Epoch 27, Loss: 0.6932, Accuracy: 50.50%\n",
            "Time for epoch: 63.61 seconds\n",
            "Epoch 28, Loss: 0.6931, Accuracy: 52.38%\n",
            "Time for epoch: 61.18 seconds\n",
            "Epoch 29, Loss: 0.6931, Accuracy: 51.25%\n",
            "Time for epoch: 63.36 seconds\n",
            "Epoch 30, Loss: 0.6935, Accuracy: 50.12%\n",
            "Time for epoch: 60.64 seconds\n",
            "Epoch 31, Loss: 0.6925, Accuracy: 51.62%\n",
            "Time for epoch: 62.15 seconds\n",
            "Epoch 32, Loss: 0.6934, Accuracy: 49.38%\n",
            "Time for epoch: 62.38 seconds\n",
            "Epoch 33, Loss: 0.6936, Accuracy: 51.38%\n",
            "Time for epoch: 61.88 seconds\n",
            "Epoch 34, Loss: 0.6939, Accuracy: 49.75%\n",
            "Time for epoch: 60.90 seconds\n",
            "Epoch 35, Loss: 0.6931, Accuracy: 50.25%\n",
            "Time for epoch: 62.30 seconds\n",
            "Epoch 36, Loss: 0.6923, Accuracy: 51.75%\n",
            "Time for epoch: 61.44 seconds\n",
            "Epoch 37, Loss: 0.6929, Accuracy: 50.75%\n",
            "Time for epoch: 63.21 seconds\n",
            "Epoch 38, Loss: 0.6935, Accuracy: 50.25%\n",
            "Time for epoch: 61.10 seconds\n",
            "Epoch 39, Loss: 0.6932, Accuracy: 48.50%\n",
            "Time for epoch: 60.50 seconds\n",
            "Epoch 40, Loss: 0.6931, Accuracy: 51.62%\n",
            "Time for epoch: 62.56 seconds\n",
            "Epoch 41, Loss: 0.6938, Accuracy: 49.12%\n",
            "Time for epoch: 60.47 seconds\n",
            "Epoch 42, Loss: 0.6941, Accuracy: 51.25%\n",
            "Time for epoch: 62.55 seconds\n",
            "Epoch 43, Loss: 0.6928, Accuracy: 51.62%\n",
            "Time for epoch: 59.98 seconds\n",
            "Epoch 44, Loss: 0.6933, Accuracy: 50.88%\n",
            "Time for epoch: 60.86 seconds\n",
            "Epoch 45, Loss: 0.6926, Accuracy: 51.00%\n",
            "Time for epoch: 61.99 seconds\n",
            "Epoch 46, Loss: 0.6931, Accuracy: 49.75%\n",
            "Time for epoch: 61.75 seconds\n",
            "Epoch 47, Loss: 0.6921, Accuracy: 51.62%\n",
            "Time for epoch: 60.58 seconds\n",
            "Epoch 48, Loss: 0.6934, Accuracy: 51.50%\n",
            "Time for epoch: 62.49 seconds\n",
            "Epoch 49, Loss: 0.6930, Accuracy: 52.88%\n",
            "Time for epoch: 61.73 seconds\n",
            "Epoch 50, Loss: 0.6924, Accuracy: 50.00%\n",
            "Time for epoch: 63.31 seconds\n",
            "\n",
            "Total training time: 3082.31 seconds\n"
          ]
        }
      ]
    },
    {
      "cell_type": "code",
      "source": [
        "model.eval()\n",
        "correct = 0\n",
        "total = 0\n",
        "with torch.no_grad():\n",
        "    for xb, yb in test_loader:\n",
        "        xb = xb.squeeze(0)\n",
        "        yb = yb.squeeze()\n",
        "\n",
        "        logits = model(xb)\n",
        "        logits_flat = logits.squeeze()\n",
        "        prob = torch.sigmoid(logits_flat)\n",
        "        pred = (prob > 0.5).float()\n",
        "        actual = yb.float()\n",
        "\n",
        "        if pred == actual:\n",
        "            correct += 1\n",
        "        total += 1\n",
        "\n",
        "        if total <= 10:\n",
        "            print(f\"Logit: {logits_flat.item():.3f} | Probability: {prob.item():.3f} | Pred: {pred.item()}, Actual: {actual.item()}\")\n",
        "\n",
        "print(f\"Test Accuracy: {correct / total * 100:.2f}%\")"
      ],
      "metadata": {
        "id": "EusLQzxRsqVS",
        "colab": {
          "base_uri": "https://localhost:8080/"
        },
        "outputId": "2ae85d2e-2e5b-419e-9b0d-c46fb7521d55"
      },
      "execution_count": 27,
      "outputs": [
        {
          "output_type": "stream",
          "name": "stdout",
          "text": [
            "Logit: -0.061 | Probability: 0.485 | Pred: 0.0, Actual: 1.0\n",
            "Logit: -0.056 | Probability: 0.486 | Pred: 0.0, Actual: 1.0\n",
            "Logit: -0.033 | Probability: 0.492 | Pred: 0.0, Actual: 1.0\n",
            "Logit: -0.163 | Probability: 0.459 | Pred: 0.0, Actual: 0.0\n",
            "Logit: -0.294 | Probability: 0.427 | Pred: 0.0, Actual: 1.0\n",
            "Logit: 0.020 | Probability: 0.505 | Pred: 1.0, Actual: 1.0\n",
            "Logit: -0.503 | Probability: 0.377 | Pred: 0.0, Actual: 0.0\n",
            "Logit: -0.166 | Probability: 0.459 | Pred: 0.0, Actual: 1.0\n",
            "Logit: -0.001 | Probability: 0.500 | Pred: 0.0, Actual: 0.0\n",
            "Logit: 0.007 | Probability: 0.502 | Pred: 1.0, Actual: 1.0\n",
            "Test Accuracy: 53.50%\n"
          ]
        }
      ]
    },
    {
      "cell_type": "markdown",
      "source": [
        "# **Amplitude + Angle Encoding**"
      ],
      "metadata": {
        "id": "s4g3qDLgfInk"
      }
    },
    {
      "cell_type": "code",
      "source": [
        "n_qubits = 8\n",
        "dev = qml.device(\"lightning.qubit\", wires=n_qubits, shots=None)"
      ],
      "metadata": {
        "id": "5hi-3cG-fOJL"
      },
      "execution_count": 28,
      "outputs": []
    },
    {
      "cell_type": "code",
      "source": [
        "@qml.qnode(dev, interface=\"torch\")\n",
        "def quantum_step(inputs, hidden, weights_in, weights_h):\n",
        "\n",
        "    amplitude_features = inputs[:16]\n",
        "    angle_features = inputs[16:32]\n",
        "\n",
        "    amp_clean = torch.where(torch.isnan(amplitude_features) | torch.isinf(amplitude_features),\n",
        "                           torch.zeros_like(amplitude_features), amplitude_features)\n",
        "\n",
        "    amp_clean = amp_clean + torch.randn_like(amp_clean) * 1e-6\n",
        "\n",
        "    amp_norm = torch.sqrt(torch.sum(amp_clean**2) + 1e-8)\n",
        "    amp_normalized = amp_clean / amp_norm\n",
        "\n",
        "    final_norm = torch.sqrt(torch.sum(amp_normalized**2))\n",
        "    if torch.isnan(final_norm) or torch.abs(final_norm - 1.0) > 1e-3:\n",
        "        amp_normalized = torch.ones_like(amp_clean) / torch.sqrt(torch.tensor(16.0))\n",
        "\n",
        "    amp_np = amp_normalized.detach().numpy()\n",
        "\n",
        "    qml.AmplitudeEmbedding(features=amp_np, wires=range(4), normalize=False)\n",
        "\n",
        "    for i in range(5):\n",
        "        if i < len(angle_features):\n",
        "            qml.RY(angle_features[i], wires=4)\n",
        "            qml.RZ(angle_features[i] * 0.7, wires=4)\n",
        "\n",
        "    for i in range(5, 11):\n",
        "        if i < len(angle_features):\n",
        "            qml.RY(angle_features[i], wires=5)\n",
        "            qml.RZ(angle_features[i] * 0.7, wires=5)\n",
        "\n",
        "    for i in range(11, 16):\n",
        "        if i < len(angle_features):\n",
        "            qml.RY(angle_features[i], wires=6)\n",
        "            qml.RZ(angle_features[i] * 0.7, wires=6)\n",
        "\n",
        "    qml.RY(hidden, wires=7)\n",
        "\n",
        "    for i in range(3):\n",
        "        qml.CNOT(wires=[i, i+1])\n",
        "\n",
        "    qml.CNOT(wires=[4, 5])\n",
        "    qml.CNOT(wires=[5, 6])\n",
        "\n",
        "    qml.CNOT(wires=[3, 4])\n",
        "    qml.CNOT(wires=[6, 7])\n",
        "\n",
        "    qml.CNOT(wires=[0, 7])\n",
        "    qml.CNOT(wires=[4, 7])\n",
        "\n",
        "    for i in range(4):\n",
        "        qml.RY(weights_in[i], wires=i)\n",
        "        qml.RZ(weights_in[i + 4], wires=i)\n",
        "\n",
        "    for i in range(3):\n",
        "        qml.RY(weights_in[i + 8], wires=i + 4)\n",
        "        qml.RZ(weights_in[i + 11], wires=i + 4)\n",
        "\n",
        "    qml.RY(weights_h[0], wires=7)\n",
        "    qml.RZ(weights_h[1], wires=7)\n",
        "\n",
        "    return qml.expval(qml.PauliZ(7))"
      ],
      "metadata": {
        "id": "fJVTugSjfOiu"
      },
      "execution_count": 29,
      "outputs": []
    },
    {
      "cell_type": "code",
      "source": [
        "class QuantumRNN(nn.Module):\n",
        "    def __init__(self):\n",
        "        super().__init__()\n",
        "        self.embedding = nn.Linear(32, 32)\n",
        "        self.weights_in = nn.Parameter(torch.randn(14) * 0.1)\n",
        "        self.weights_h = nn.Parameter(torch.randn(2) * 0.1)\n",
        "        self.bias = nn.Parameter(torch.tensor(0.2))\n",
        "        self.classifier = nn.Sequential(nn.Identity())\n",
        "\n",
        "    def forward(self, x):\n",
        "        seq_len = x.shape[0]\n",
        "        hidden = torch.tensor(0.0, requires_grad=True)\n",
        "\n",
        "        for t in range(seq_len):\n",
        "            input_t = self.embedding(x[t])\n",
        "            hidden = quantum_step(input_t, hidden, self.weights_in, self.weights_h)\n",
        "\n",
        "        logits = hidden + self.bias\n",
        "        return logits.unsqueeze(0)"
      ],
      "metadata": {
        "id": "ipvyWU4hfOqr"
      },
      "execution_count": 30,
      "outputs": []
    },
    {
      "cell_type": "code",
      "source": [
        "model = QuantumRNN()\n",
        "optimizer = torch.optim.Adam(model.parameters(), lr=0.01)\n",
        "loss_fn = nn.BCEWithLogitsLoss()"
      ],
      "metadata": {
        "id": "3Zl1tzMJfOxZ"
      },
      "execution_count": 31,
      "outputs": []
    },
    {
      "cell_type": "code",
      "source": [
        "for name, param in model.named_parameters():\n",
        "    print(f\"{name}: {param.shape}\")"
      ],
      "metadata": {
        "colab": {
          "base_uri": "https://localhost:8080/"
        },
        "id": "Aw_pSzbLfO4s",
        "outputId": "da6092a2-a281-48b8-ca58-a807934b8b6e"
      },
      "execution_count": 32,
      "outputs": [
        {
          "output_type": "stream",
          "name": "stdout",
          "text": [
            "weights_in: torch.Size([14])\n",
            "weights_h: torch.Size([2])\n",
            "bias: torch.Size([])\n",
            "embedding.weight: torch.Size([32, 32])\n",
            "embedding.bias: torch.Size([32])\n"
          ]
        }
      ]
    },
    {
      "cell_type": "code",
      "source": [
        "start_time = time.time()\n",
        "epochs = 50\n",
        "target_accuracy = 66.0\n",
        "model.train()\n",
        "\n",
        "for epoch in range(epochs):\n",
        "    total_loss = 0\n",
        "    correct = 0\n",
        "    total = 0\n",
        "    epoch_start = time.time()\n",
        "\n",
        "    for xb, yb in train_loader_small:\n",
        "        xb = xb.squeeze(0)\n",
        "        yb = yb.squeeze()\n",
        "\n",
        "        optimizer.zero_grad()\n",
        "        output = model(xb)\n",
        "\n",
        "        output_flat = output.squeeze()\n",
        "        yb_flat = yb.float()\n",
        "\n",
        "        loss = loss_fn(output_flat, yb_flat)\n",
        "        loss.backward()\n",
        "        optimizer.step()\n",
        "\n",
        "        total_loss += loss.item()\n",
        "        predicted = (torch.sigmoid(output_flat) > 0.5).float()\n",
        "        correct += (predicted == yb_flat).sum().item()\n",
        "        total += 1\n",
        "\n",
        "    avg_loss = total_loss / len(train_loader_small)\n",
        "    epoch_time = time.time() - epoch_start\n",
        "    accuracy = 100 * correct / total\n",
        "\n",
        "    print(f\"Epoch {epoch+1}, Loss: {avg_loss:.4f}, Accuracy: {accuracy:.2f}%\")\n",
        "    print(f\"Time for epoch: {epoch_time:.2f} seconds\")\n",
        "\n",
        "    if accuracy >= target_accuracy:\n",
        "        print(f\"\\nEarly stopping triggered! Target accuracy of {target_accuracy}% reached.\")\n",
        "        print(f\"Final accuracy: {accuracy:.2f}%\")\n",
        "        break\n",
        "\n",
        "total_time = time.time() - start_time\n",
        "print(f\"\\nTotal training time: {total_time:.2f} seconds\")"
      ],
      "metadata": {
        "colab": {
          "base_uri": "https://localhost:8080/"
        },
        "id": "7qC162v4hQGX",
        "outputId": "2f6848c5-18cf-4473-ca76-9426fefc7d23"
      },
      "execution_count": 33,
      "outputs": [
        {
          "output_type": "stream",
          "name": "stdout",
          "text": [
            "Epoch 1, Loss: 0.6929, Accuracy: 51.88%\n",
            "Time for epoch: 138.89 seconds\n",
            "Epoch 2, Loss: 0.6956, Accuracy: 49.38%\n",
            "Time for epoch: 132.59 seconds\n",
            "Epoch 3, Loss: 0.6956, Accuracy: 49.88%\n",
            "Time for epoch: 130.24 seconds\n",
            "Epoch 4, Loss: 0.6950, Accuracy: 49.25%\n",
            "Time for epoch: 131.92 seconds\n",
            "Epoch 5, Loss: 0.6940, Accuracy: 51.00%\n",
            "Time for epoch: 129.58 seconds\n",
            "Epoch 6, Loss: 0.6952, Accuracy: 49.62%\n",
            "Time for epoch: 131.08 seconds\n",
            "Epoch 7, Loss: 0.6955, Accuracy: 47.38%\n",
            "Time for epoch: 131.66 seconds\n",
            "Epoch 8, Loss: 0.6954, Accuracy: 48.88%\n",
            "Time for epoch: 132.37 seconds\n",
            "Epoch 9, Loss: 0.6955, Accuracy: 48.88%\n",
            "Time for epoch: 131.54 seconds\n",
            "Epoch 10, Loss: 0.6956, Accuracy: 49.25%\n",
            "Time for epoch: 131.45 seconds\n",
            "Epoch 11, Loss: 0.6956, Accuracy: 48.50%\n",
            "Time for epoch: 131.50 seconds\n",
            "Epoch 12, Loss: 0.6946, Accuracy: 50.50%\n",
            "Time for epoch: 129.48 seconds\n",
            "Epoch 13, Loss: 0.6953, Accuracy: 50.62%\n",
            "Time for epoch: 130.62 seconds\n",
            "Epoch 14, Loss: 0.6940, Accuracy: 49.25%\n",
            "Time for epoch: 130.88 seconds\n",
            "Epoch 15, Loss: 0.6943, Accuracy: 48.12%\n",
            "Time for epoch: 130.02 seconds\n",
            "Epoch 16, Loss: 0.6967, Accuracy: 49.62%\n",
            "Time for epoch: 131.71 seconds\n",
            "Epoch 17, Loss: 0.6952, Accuracy: 50.12%\n",
            "Time for epoch: 129.94 seconds\n",
            "Epoch 18, Loss: 0.6912, Accuracy: 52.75%\n",
            "Time for epoch: 129.72 seconds\n",
            "Epoch 19, Loss: 0.6959, Accuracy: 46.88%\n",
            "Time for epoch: 130.57 seconds\n",
            "Epoch 20, Loss: 0.6953, Accuracy: 49.88%\n",
            "Time for epoch: 132.68 seconds\n",
            "Epoch 21, Loss: 0.6946, Accuracy: 48.75%\n",
            "Time for epoch: 132.15 seconds\n",
            "Epoch 22, Loss: 0.6947, Accuracy: 49.62%\n",
            "Time for epoch: 132.59 seconds\n",
            "Epoch 23, Loss: 0.6956, Accuracy: 49.25%\n",
            "Time for epoch: 132.20 seconds\n",
            "Epoch 24, Loss: 0.6947, Accuracy: 48.62%\n",
            "Time for epoch: 131.18 seconds\n",
            "Epoch 25, Loss: 0.6944, Accuracy: 50.12%\n",
            "Time for epoch: 129.15 seconds\n",
            "Epoch 26, Loss: 0.6937, Accuracy: 49.75%\n",
            "Time for epoch: 131.36 seconds\n",
            "Epoch 27, Loss: 0.6939, Accuracy: 49.38%\n",
            "Time for epoch: 128.40 seconds\n",
            "Epoch 28, Loss: 0.6936, Accuracy: 49.50%\n",
            "Time for epoch: 129.57 seconds\n",
            "Epoch 29, Loss: 0.6948, Accuracy: 49.00%\n",
            "Time for epoch: 131.56 seconds\n",
            "Epoch 30, Loss: 0.6948, Accuracy: 48.75%\n",
            "Time for epoch: 129.99 seconds\n",
            "Epoch 31, Loss: 0.6942, Accuracy: 50.00%\n",
            "Time for epoch: 130.40 seconds\n",
            "Epoch 32, Loss: 0.6941, Accuracy: 51.00%\n",
            "Time for epoch: 131.03 seconds\n",
            "Epoch 33, Loss: 0.6925, Accuracy: 51.50%\n",
            "Time for epoch: 130.20 seconds\n",
            "Epoch 34, Loss: 0.6955, Accuracy: 49.62%\n",
            "Time for epoch: 132.99 seconds\n",
            "Epoch 35, Loss: 0.6940, Accuracy: 50.50%\n",
            "Time for epoch: 130.78 seconds\n",
            "Epoch 36, Loss: 0.6953, Accuracy: 49.50%\n",
            "Time for epoch: 132.69 seconds\n",
            "Epoch 37, Loss: 0.6929, Accuracy: 49.75%\n",
            "Time for epoch: 130.72 seconds\n",
            "Epoch 38, Loss: 0.6943, Accuracy: 51.62%\n",
            "Time for epoch: 130.26 seconds\n",
            "Epoch 39, Loss: 0.6948, Accuracy: 49.88%\n",
            "Time for epoch: 129.43 seconds\n",
            "Epoch 40, Loss: 0.6941, Accuracy: 49.75%\n",
            "Time for epoch: 131.14 seconds\n",
            "Epoch 41, Loss: 0.6949, Accuracy: 47.62%\n",
            "Time for epoch: 129.70 seconds\n",
            "Epoch 42, Loss: 0.6951, Accuracy: 48.62%\n",
            "Time for epoch: 131.30 seconds\n",
            "Epoch 43, Loss: 0.6943, Accuracy: 48.75%\n",
            "Time for epoch: 130.29 seconds\n",
            "Epoch 44, Loss: 0.6943, Accuracy: 49.12%\n",
            "Time for epoch: 129.25 seconds\n",
            "Epoch 45, Loss: 0.6933, Accuracy: 51.25%\n",
            "Time for epoch: 132.15 seconds\n",
            "Epoch 46, Loss: 0.6943, Accuracy: 51.75%\n",
            "Time for epoch: 133.30 seconds\n",
            "Epoch 47, Loss: 0.6921, Accuracy: 52.62%\n",
            "Time for epoch: 131.27 seconds\n",
            "Epoch 48, Loss: 0.6948, Accuracy: 51.25%\n",
            "Time for epoch: 131.23 seconds\n",
            "Epoch 49, Loss: 0.6940, Accuracy: 49.62%\n",
            "Time for epoch: 130.33 seconds\n",
            "Epoch 50, Loss: 0.6953, Accuracy: 48.25%\n",
            "Time for epoch: 130.00 seconds\n",
            "\n",
            "Total training time: 6555.06 seconds\n"
          ]
        }
      ]
    },
    {
      "cell_type": "code",
      "source": [
        "model.eval()\n",
        "correct = 0\n",
        "total = 0\n",
        "predictions = []\n",
        "actuals = []\n",
        "logits_list = []\n",
        "probabilities = []\n",
        "\n",
        "print(\"=== DETAILED PREDICTION ANALYSIS ===\\n\")\n",
        "\n",
        "with torch.no_grad():\n",
        "    for i, (xb, yb) in enumerate(test_loader):\n",
        "        xb = xb.squeeze(0)\n",
        "        yb = yb.squeeze()\n",
        "\n",
        "        logits = model(xb)\n",
        "        logits_flat = logits.squeeze()\n",
        "        prob = torch.sigmoid(logits_flat)\n",
        "        pred = (prob > 0.5).float()\n",
        "        actual = yb.float()\n",
        "\n",
        "        predictions.append(pred.item())\n",
        "        actuals.append(actual.item())\n",
        "        logits_list.append(logits_flat.item())\n",
        "        probabilities.append(prob.item())\n",
        "\n",
        "        if pred == actual:\n",
        "            correct += 1\n",
        "        total += 1\n",
        "\n",
        "        if i < 20:\n",
        "            status = \"✓ CORRECT\" if pred == actual else \"✗ WRONG\"\n",
        "            print(f\"Sample {i+1:2d}: Logit: {logits_flat.item():6.3f} | \"\n",
        "                  f\"Prob: {prob.item():.3f} | Pred: {int(pred.item())} | \"\n",
        "                  f\"Actual: {int(actual.item())} | {status}\")\n",
        "\n",
        "print(f\"\\n=== SUMMARY STATISTICS ===\")\n",
        "print(f\"Test Accuracy: {correct / total * 100:.2f}%\")\n",
        "print(f\"Total samples: {total}\")\n",
        "print(f\"Correct predictions: {correct}\")\n",
        "print(f\"Wrong predictions: {total - correct}\")\n",
        "\n",
        "predictions = np.array(predictions)\n",
        "actuals = np.array(actuals)\n",
        "probabilities = np.array(probabilities)\n",
        "logits_list = np.array(logits_list)\n",
        "\n",
        "print(f\"\\n=== PREDICTION DISTRIBUTION ===\")\n",
        "pred_0_count = np.sum(predictions == 0)\n",
        "pred_1_count = np.sum(predictions == 1)\n",
        "actual_0_count = np.sum(actuals == 0)\n",
        "actual_1_count = np.sum(actuals == 1)\n",
        "\n",
        "print(f\"Model predicted 0: {pred_0_count} times ({pred_0_count/total*100:.1f}%)\")\n",
        "print(f\"Model predicted 1: {pred_1_count} times ({pred_1_count/total*100:.1f}%)\")\n",
        "print(f\"Actual 0s in test: {actual_0_count} times ({actual_0_count/total*100:.1f}%)\")\n",
        "print(f\"Actual 1s in test: {actual_1_count} times ({actual_1_count/total*100:.1f}%)\")\n",
        "\n",
        "print(f\"\\n=== BIAS ANALYSIS ===\")\n",
        "if pred_0_count == total:\n",
        "    print(\"MODEL IS ALWAYS PREDICTING 0 (NEGATIVE BIAS)\")\n",
        "elif pred_1_count == total:\n",
        "    print(\"MODEL IS ALWAYS PREDICTING 1 (POSITIVE BIAS)\")\n",
        "elif pred_0_count > total * 0.9:\n",
        "    print(\"MODEL HAS STRONG NEGATIVE BIAS (>90% predicting 0)\")\n",
        "elif pred_1_count > total * 0.9:\n",
        "    print(\"MODEL HAS STRONG POSITIVE BIAS (>90% predicting 1)\")\n",
        "else:\n",
        "    print(\"MODEL IS PREDICTING BOTH CLASSES\")\n",
        "\n",
        "print(f\"\\n=== PROBABILITY DISTRIBUTION ===\")\n",
        "print(f\"Mean probability: {np.mean(probabilities):.3f}\")\n",
        "print(f\"Std probability: {np.std(probabilities):.3f}\")\n",
        "print(f\"Min probability: {np.min(probabilities):.3f}\")\n",
        "print(f\"Max probability: {np.max(probabilities):.3f}\")\n",
        "print(f\"Probabilities near 0.5 (0.4-0.6): {np.sum((probabilities >= 0.4) & (probabilities <= 0.6))}\")\n",
        "\n",
        "print(f\"\\n=== LOGITS DISTRIBUTION ===\")\n",
        "print(f\"Mean logit: {np.mean(logits_list):.3f}\")\n",
        "print(f\"Std logit: {np.std(logits_list):.3f}\")\n",
        "print(f\"Min logit: {np.min(logits_list):.3f}\")\n",
        "print(f\"Max logit: {np.max(logits_list):.3f}\")\n",
        "\n",
        "print(f\"\\n=== CONFUSION MATRIX ===\")\n",
        "cm = confusion_matrix(actuals, predictions)\n",
        "print(\"           Predicted\")\n",
        "print(\"         0    1\")\n",
        "print(f\"Actual 0 {cm[0,0]:3d}  {cm[0,1]:3d}\")\n",
        "print(f\"       1 {cm[1,0]:3d}  {cm[1,1]:3d}\")\n",
        "\n",
        "print(f\"\\n=== CLASSIFICATION REPORT ===\")\n",
        "print(classification_report(actuals, predictions, target_names=['Negative', 'Positive']))\n",
        "\n",
        "print(f\"\\n=== MODEL BEHAVIOR DIAGNOSIS ===\")\n",
        "unique_probs = len(np.unique(np.round(probabilities, 3)))\n",
        "unique_logits = len(np.unique(np.round(logits_list, 3)))\n",
        "\n",
        "print(f\"Unique probability values: {unique_probs}\")\n",
        "print(f\"Unique logit values: {unique_logits}\")\n",
        "\n",
        "if unique_probs <= 3:\n",
        "    print(\"Very few unique probabilities - model might be stuck!\")\n",
        "elif unique_probs <= 10:\n",
        "    print(\"Limited probability diversity - model might have convergence issues\")\n",
        "else:\n",
        "    print(\"Good probability diversity\")\n",
        "\n",
        "plt.figure(figsize=(12, 4))\n",
        "\n",
        "plt.subplot(1, 3, 1)\n",
        "plt.hist(probabilities, bins=20, alpha=0.7, edgecolor='black')\n",
        "plt.axvline(0.5, color='red', linestyle='--', label='Decision threshold')\n",
        "plt.xlabel('Predicted Probability')\n",
        "plt.ylabel('Count')\n",
        "plt.title('Probability Distribution')\n",
        "plt.legend()\n",
        "\n",
        "plt.subplot(1, 3, 2)\n",
        "plt.hist(logits_list, bins=20, alpha=0.7, edgecolor='black')\n",
        "plt.axvline(0, color='red', linestyle='--', label='Logit = 0 (p=0.5)')\n",
        "plt.xlabel('Logits')\n",
        "plt.ylabel('Count')\n",
        "plt.title('Logits Distribution')\n",
        "plt.legend()\n",
        "\n",
        "plt.subplot(1, 3, 3)\n",
        "plt.scatter(range(min(50, len(probabilities))), probabilities[:50], alpha=0.6)\n",
        "plt.axhline(0.5, color='red', linestyle='--', label='Decision threshold')\n",
        "plt.xlabel('Sample Index')\n",
        "plt.ylabel('Predicted Probability')\n",
        "plt.title('First 50 Predictions')\n",
        "plt.legend()\n",
        "\n",
        "plt.tight_layout()\n",
        "plt.show()"
      ],
      "metadata": {
        "colab": {
          "base_uri": "https://localhost:8080/",
          "height": 1000
        },
        "id": "Fi5_G1yehQA4",
        "outputId": "0f9d96a4-009c-45e5-803e-0979d530681c"
      },
      "execution_count": 34,
      "outputs": [
        {
          "output_type": "stream",
          "name": "stdout",
          "text": [
            "=== DETAILED PREDICTION ANALYSIS ===\n",
            "\n",
            "Sample  1: Logit: -0.009 | Prob: 0.498 | Pred: 0 | Actual: 1 | ✗ WRONG\n",
            "Sample  2: Logit: -0.032 | Prob: 0.492 | Pred: 0 | Actual: 1 | ✗ WRONG\n",
            "Sample  3: Logit: -0.035 | Prob: 0.491 | Pred: 0 | Actual: 1 | ✗ WRONG\n",
            "Sample  4: Logit: -0.008 | Prob: 0.498 | Pred: 0 | Actual: 0 | ✓ CORRECT\n",
            "Sample  5: Logit:  0.018 | Prob: 0.504 | Pred: 1 | Actual: 1 | ✓ CORRECT\n",
            "Sample  6: Logit: -0.051 | Prob: 0.487 | Pred: 0 | Actual: 1 | ✗ WRONG\n",
            "Sample  7: Logit: -0.016 | Prob: 0.496 | Pred: 0 | Actual: 0 | ✓ CORRECT\n",
            "Sample  8: Logit:  0.054 | Prob: 0.513 | Pred: 1 | Actual: 1 | ✓ CORRECT\n",
            "Sample  9: Logit: -0.027 | Prob: 0.493 | Pred: 0 | Actual: 0 | ✓ CORRECT\n",
            "Sample 10: Logit: -0.031 | Prob: 0.492 | Pred: 0 | Actual: 1 | ✗ WRONG\n",
            "Sample 11: Logit:  0.066 | Prob: 0.517 | Pred: 1 | Actual: 1 | ✓ CORRECT\n",
            "Sample 12: Logit: -0.052 | Prob: 0.487 | Pred: 0 | Actual: 0 | ✓ CORRECT\n",
            "Sample 13: Logit: -0.025 | Prob: 0.494 | Pred: 0 | Actual: 1 | ✗ WRONG\n",
            "Sample 14: Logit: -0.028 | Prob: 0.493 | Pred: 0 | Actual: 0 | ✓ CORRECT\n",
            "Sample 15: Logit: -0.007 | Prob: 0.498 | Pred: 0 | Actual: 1 | ✗ WRONG\n",
            "Sample 16: Logit:  0.007 | Prob: 0.502 | Pred: 1 | Actual: 1 | ✓ CORRECT\n",
            "Sample 17: Logit: -0.017 | Prob: 0.496 | Pred: 0 | Actual: 1 | ✗ WRONG\n",
            "Sample 18: Logit:  0.002 | Prob: 0.501 | Pred: 1 | Actual: 0 | ✗ WRONG\n",
            "Sample 19: Logit:  0.033 | Prob: 0.508 | Pred: 1 | Actual: 1 | ✓ CORRECT\n",
            "Sample 20: Logit:  0.007 | Prob: 0.502 | Pred: 1 | Actual: 1 | ✓ CORRECT\n",
            "\n",
            "=== SUMMARY STATISTICS ===\n",
            "Test Accuracy: 52.00%\n",
            "Total samples: 200\n",
            "Correct predictions: 104\n",
            "Wrong predictions: 96\n",
            "\n",
            "=== PREDICTION DISTRIBUTION ===\n",
            "Model predicted 0: 123 times (61.5%)\n",
            "Model predicted 1: 77 times (38.5%)\n",
            "Actual 0s in test: 93 times (46.5%)\n",
            "Actual 1s in test: 107 times (53.5%)\n",
            "\n",
            "=== BIAS ANALYSIS ===\n",
            "MODEL IS PREDICTING BOTH CLASSES\n",
            "\n",
            "=== PROBABILITY DISTRIBUTION ===\n",
            "Mean probability: 0.498\n",
            "Std probability: 0.007\n",
            "Min probability: 0.470\n",
            "Max probability: 0.517\n",
            "Probabilities near 0.5 (0.4-0.6): 200\n",
            "\n",
            "=== LOGITS DISTRIBUTION ===\n",
            "Mean logit: -0.009\n",
            "Std logit: 0.029\n",
            "Min logit: -0.119\n",
            "Max logit: 0.070\n",
            "\n",
            "=== CONFUSION MATRIX ===\n",
            "           Predicted\n",
            "         0    1\n",
            "Actual 0  60   33\n",
            "       1  63   44\n",
            "\n",
            "=== CLASSIFICATION REPORT ===\n",
            "              precision    recall  f1-score   support\n",
            "\n",
            "    Negative       0.49      0.65      0.56        93\n",
            "    Positive       0.57      0.41      0.48       107\n",
            "\n",
            "    accuracy                           0.52       200\n",
            "   macro avg       0.53      0.53      0.52       200\n",
            "weighted avg       0.53      0.52      0.51       200\n",
            "\n",
            "\n",
            "=== MODEL BEHAVIOR DIAGNOSIS ===\n",
            "Unique probability values: 36\n",
            "Unique logit values: 92\n",
            "Good probability diversity\n"
          ]
        },
        {
          "output_type": "display_data",
          "data": {
            "text/plain": [
              "<Figure size 1200x400 with 3 Axes>"
            ],
            "image/png": "[encoded data removed]"
          },
          "metadata": {}
        }
      ]
    }
  ],
  "metadata": {
    "colab": {
      "provenance": [],
      "collapsed_sections": [
        "kbrz96L3hSK0",
        "W-JvfuE2iluD",
        "t1BBBXbBoeRB",
        "eOrMaAVspzbr",
        "W9Fu4T5wdZ6R",
        "XeBULGSFdjY-",
        "zANXoZ7r5P1Z",
        "VzzqbLrgd3zE",
        "Qcdy70RwfA1S",
        "3K3E_grWfFFg",
        "-UabPO_8k3NE",
        "Ri6yiKQMsDhc",
        "s4g3qDLgfInk"
      ],
      "gpuType": "T4"
    },
    "kernelspec": {
      "display_name": "Python 3",
      "name": "python3"
    },
    "language_info": {
      "name": "python"
    },
    "accelerator": "GPU"
  },
  "nbformat": 4,
  "nbformat_minor": 0
}