{
  "cells": [
    {
      "cell_type": "code",
      "source": [
        "!pip uninstall -y numpy\n",
        "!pip install numpy==1.26.4 --upgrade --force-reinstall --quiet"
      ],
      "metadata": {
        "id": "yXg-ZhRs8yGf",
        "colab": {
          "base_uri": "https://localhost:8080/"
        },
        "outputId": "5c436961-f703-4269-e71b-ff66f57d8eaf"
      },
      "execution_count": 1,
      "outputs": [
        {
          "output_type": "stream",
          "name": "stdout",
          "text": [
            "Found existing installation: numpy 2.0.2\n",
            "Uninstalling numpy-2.0.2:\n",
            "  Successfully uninstalled numpy-2.0.2\n",
            "\u001b[2K     \u001b[90m━━━━━━━━━━━━━━━━━━━━━━━━━━━━━━━━━━━━━━━━\u001b[0m \u001b[32m61.0/61.0 kB\u001b[0m \u001b[31m2.3 MB/s\u001b[0m eta \u001b[36m0:00:00\u001b[0m\n",
            "\u001b[2K   \u001b[90m━━━━━━━━━━━━━━━━━━━━━━━━━━━━━━━━━━━━━━━━\u001b[0m \u001b[32m18.3/18.3 MB\u001b[0m \u001b[31m38.4 MB/s\u001b[0m eta \u001b[36m0:00:00\u001b[0m\n",
            "\u001b[?25h\u001b[31mERROR: pip's dependency resolver does not currently take into account all the packages that are installed. This behaviour is the source of the following dependency conflicts.\n",
            "thinc 8.3.6 requires numpy<3.0.0,>=2.0.0, but you have numpy 1.26.4 which is incompatible.\u001b[0m\u001b[31m\n",
            "\u001b[0m"
          ]
        }
      ]
    },
    {
      "cell_type": "code",
      "source": [
        "import os\n",
        "os.kill(os.getpid(), 9)"
      ],
      "metadata": {
        "id": "n13WNiIK_U4W"
      },
      "execution_count": null,
      "outputs": []
    },
    {
      "cell_type": "code",
      "execution_count": 1,
      "metadata": {
        "id": "cX22YoA96Rx_",
        "colab": {
          "base_uri": "https://localhost:8080/"
        },
        "outputId": "ec9bbe48-c987-44ce-dd5a-8342ac5bd7da"
      },
      "outputs": [
        {
          "output_type": "stream",
          "name": "stdout",
          "text": [
            "Collecting pennylane\n",
            "  Downloading PennyLane-0.41.1-py3-none-any.whl.metadata (10 kB)\n",
            "Collecting pennylane-lightning\n",
            "  Downloading pennylane_lightning-0.41.1-cp311-cp311-manylinux_2_28_x86_64.whl.metadata (12 kB)\n",
            "Requirement already satisfied: numpy in /usr/local/lib/python3.11/dist-packages (from pennylane) (1.26.4)\n",
            "Requirement already satisfied: scipy in /usr/local/lib/python3.11/dist-packages (from pennylane) (1.15.3)\n",
            "Requirement already satisfied: networkx in /usr/local/lib/python3.11/dist-packages (from pennylane) (3.5)\n",
            "Collecting rustworkx>=0.14.0 (from pennylane)\n",
            "  Downloading rustworkx-0.16.0-cp39-abi3-manylinux_2_17_x86_64.manylinux2014_x86_64.whl.metadata (10 kB)\n",
            "Requirement already satisfied: autograd in /usr/local/lib/python3.11/dist-packages (from pennylane) (1.8.0)\n",
            "Requirement already satisfied: tomlkit in /usr/local/lib/python3.11/dist-packages (from pennylane) (0.13.3)\n",
            "Collecting appdirs (from pennylane)\n",
            "  Downloading appdirs-1.4.4-py2.py3-none-any.whl.metadata (9.0 kB)\n",
            "Collecting autoray>=0.6.11 (from pennylane)\n",
            "  Downloading autoray-0.7.1-py3-none-any.whl.metadata (5.8 kB)\n",
            "Requirement already satisfied: cachetools in /usr/local/lib/python3.11/dist-packages (from pennylane) (5.5.2)\n",
            "Requirement already satisfied: requests in /usr/local/lib/python3.11/dist-packages (from pennylane) (2.32.3)\n",
            "Requirement already satisfied: typing-extensions in /usr/local/lib/python3.11/dist-packages (from pennylane) (4.14.0)\n",
            "Requirement already satisfied: packaging in /usr/local/lib/python3.11/dist-packages (from pennylane) (24.2)\n",
            "Collecting diastatic-malt (from pennylane)\n",
            "  Downloading diastatic_malt-2.15.2-py3-none-any.whl.metadata (2.6 kB)\n",
            "Collecting scipy-openblas32>=0.3.26 (from pennylane-lightning)\n",
            "  Downloading scipy_openblas32-0.3.30.0.1-py3-none-manylinux2014_x86_64.manylinux_2_17_x86_64.whl.metadata (57 kB)\n",
            "\u001b[2K     \u001b[90m━━━━━━━━━━━━━━━━━━━━━━━━━━━━━━━━━━━━━━━━\u001b[0m \u001b[32m57.1/57.1 kB\u001b[0m \u001b[31m1.9 MB/s\u001b[0m eta \u001b[36m0:00:00\u001b[0m\n",
            "\u001b[?25hRequirement already satisfied: astunparse in /usr/local/lib/python3.11/dist-packages (from diastatic-malt->pennylane) (1.6.3)\n",
            "Requirement already satisfied: gast in /usr/local/lib/python3.11/dist-packages (from diastatic-malt->pennylane) (0.6.0)\n",
            "Requirement already satisfied: termcolor in /usr/local/lib/python3.11/dist-packages (from diastatic-malt->pennylane) (3.1.0)\n",
            "Requirement already satisfied: charset-normalizer<4,>=2 in /usr/local/lib/python3.11/dist-packages (from requests->pennylane) (3.4.2)\n",
            "Requirement already satisfied: idna<4,>=2.5 in /usr/local/lib/python3.11/dist-packages (from requests->pennylane) (3.10)\n",
            "Requirement already satisfied: urllib3<3,>=1.21.1 in /usr/local/lib/python3.11/dist-packages (from requests->pennylane) (2.4.0)\n",
            "Requirement already satisfied: certifi>=2017.4.17 in /usr/local/lib/python3.11/dist-packages (from requests->pennylane) (2025.6.15)\n",
            "Requirement already satisfied: wheel<1.0,>=0.23.0 in /usr/local/lib/python3.11/dist-packages (from astunparse->diastatic-malt->pennylane) (0.45.1)\n",
            "Requirement already satisfied: six<2.0,>=1.6.1 in /usr/local/lib/python3.11/dist-packages (from astunparse->diastatic-malt->pennylane) (1.17.0)\n",
            "Downloading PennyLane-0.41.1-py3-none-any.whl (2.3 MB)\n",
            "\u001b[2K   \u001b[90m━━━━━━━━━━━━━━━━━━━━━━━━━━━━━━━━━━━━━━━━\u001b[0m \u001b[32m2.3/2.3 MB\u001b[0m \u001b[31m18.2 MB/s\u001b[0m eta \u001b[36m0:00:00\u001b[0m\n",
            "\u001b[?25hDownloading pennylane_lightning-0.41.1-cp311-cp311-manylinux_2_28_x86_64.whl (2.5 MB)\n",
            "\u001b[2K   \u001b[90m━━━━━━━━━━━━━━━━━━━━━━━━━━━━━━━━━━━━━━━━\u001b[0m \u001b[32m2.5/2.5 MB\u001b[0m \u001b[31m24.0 MB/s\u001b[0m eta \u001b[36m0:00:00\u001b[0m\n",
            "\u001b[?25hDownloading autoray-0.7.1-py3-none-any.whl (930 kB)\n",
            "\u001b[2K   \u001b[90m━━━━━━━━━━━━━━━━━━━━━━━━━━━━━━━━━━━━━━━━\u001b[0m \u001b[32m930.8/930.8 kB\u001b[0m \u001b[31m30.5 MB/s\u001b[0m eta \u001b[36m0:00:00\u001b[0m\n",
            "\u001b[?25hDownloading rustworkx-0.16.0-cp39-abi3-manylinux_2_17_x86_64.manylinux2014_x86_64.whl (2.1 MB)\n",
            "\u001b[2K   \u001b[90m━━━━━━━━━━━━━━━━━━━━━━━━━━━━━━━━━━━━━━━━\u001b[0m \u001b[32m2.1/2.1 MB\u001b[0m \u001b[31m23.0 MB/s\u001b[0m eta \u001b[36m0:00:00\u001b[0m\n",
            "\u001b[?25hDownloading scipy_openblas32-0.3.30.0.1-py3-none-manylinux2014_x86_64.manylinux_2_17_x86_64.whl (8.6 MB)\n",
            "\u001b[2K   \u001b[90m━━━━━━━━━━━━━━━━━━━━━━━━━━━━━━━━━━━━━━━━\u001b[0m \u001b[32m8.6/8.6 MB\u001b[0m \u001b[31m41.7 MB/s\u001b[0m eta \u001b[36m0:00:00\u001b[0m\n",
            "\u001b[?25hDownloading appdirs-1.4.4-py2.py3-none-any.whl (9.6 kB)\n",
            "Downloading diastatic_malt-2.15.2-py3-none-any.whl (167 kB)\n",
            "\u001b[2K   \u001b[90m━━━━━━━━━━━━━━━━━━━━━━━━━━━━━━━━━━━━━━━━\u001b[0m \u001b[32m167.9/167.9 kB\u001b[0m \u001b[31m14.5 MB/s\u001b[0m eta \u001b[36m0:00:00\u001b[0m\n",
            "\u001b[?25hInstalling collected packages: appdirs, scipy-openblas32, rustworkx, autoray, diastatic-malt, pennylane-lightning, pennylane\n",
            "Successfully installed appdirs-1.4.4 autoray-0.7.1 diastatic-malt-2.15.2 pennylane-0.41.1 pennylane-lightning-0.41.1 rustworkx-0.16.0 scipy-openblas32-0.3.30.0.1\n"
          ]
        }
      ],
      "source": [
        "#Install dependencies\n",
        "!pip install pennylane pennylane-lightning"
      ]
    },
    {
      "cell_type": "code",
      "execution_count": 2,
      "metadata": {
        "id": "4Coau8lq5dVs",
        "colab": {
          "base_uri": "https://localhost:8080/"
        },
        "outputId": "b2c7e91d-613b-44e5-c270-08275c1fd30b"
      },
      "outputs": [
        {
          "output_type": "stream",
          "name": "stdout",
          "text": [
            "Mounted at /content/drive\n"
          ]
        }
      ],
      "source": [
        "from google.colab import drive\n",
        "drive.mount(\"/content/drive\", force_remount = True)"
      ]
    },
    {
      "cell_type": "code",
      "execution_count": 3,
      "metadata": {
        "id": "wujDBeIWVfJB",
        "colab": {
          "base_uri": "https://localhost:8080/"
        },
        "outputId": "2a381313-63fd-4915-91db-bfece652b09e"
      },
      "outputs": [
        {
          "output_type": "stream",
          "name": "stderr",
          "text": [
            "/usr/local/lib/python3.11/dist-packages/pennylane/capture/capture_operators.py:33: RuntimeWarning: PennyLane is not yet compatible with JAX versions > 0.4.28. You have version 0.5.2 installed. Please downgrade JAX to <=0.4.28 to avoid runtime errors.\n",
            "  warnings.warn(\n"
          ]
        }
      ],
      "source": [
        "import torch\n",
        "import torch.nn as nn\n",
        "from torch.utils.data import Dataset, DataLoader, Subset\n",
        "\n",
        "import math\n",
        "import re\n",
        "import random\n",
        "import pandas as pd\n",
        "import numpy as np\n",
        "import time\n",
        "import nltk\n",
        "from nltk.corpus import stopwords\n",
        "from nltk.util import ngrams\n",
        "import matplotlib.pyplot as plt\n",
        "import pennylane as qml\n",
        "from collections import Counter\n",
        "\n",
        "from sklearn.model_selection import train_test_split\n",
        "from sklearn.metrics import confusion_matrix, classification_report\n",
        "from sklearn.feature_extraction.text import CountVectorizer\n",
        "from sklearn.decomposition import PCA\n",
        "\n",
        "SEED = 42\n",
        "\n",
        "random.seed(SEED)\n",
        "np.random.seed(SEED)\n",
        "torch.manual_seed(SEED)\n",
        "torch.cuda.manual_seed_all(SEED)\n",
        "\n",
        "torch.backends.cudnn.deterministic = True\n",
        "torch.backends.cudnn.benchmark = False"
      ]
    },
    {
      "cell_type": "code",
      "source": [
        "nltk.download(\"stopwords\")\n",
        "stop_words = set(stopwords.words(\"english\"))\n",
        "domain_neutral_words = {\n",
        "    \"phone\", \"product\", \"battery\", \"headset\", \"quality\", \"one\", \"use\"\n",
        "}\n",
        "stop_words.update(domain_neutral_words)"
      ],
      "metadata": {
        "id": "NQACW6Glibop",
        "colab": {
          "base_uri": "https://localhost:8080/"
        },
        "outputId": "ac2bfe69-6d37-4eda-8317-e8916d87abee"
      },
      "execution_count": 4,
      "outputs": [
        {
          "output_type": "stream",
          "name": "stderr",
          "text": [
            "[nltk_data] Downloading package stopwords to /root/nltk_data...\n",
            "[nltk_data]   Unzipping corpora/stopwords.zip.\n"
          ]
        }
      ]
    },
    {
      "cell_type": "markdown",
      "source": [
        "# **Data Loading and Preprocessing**"
      ],
      "metadata": {
        "id": "W-JvfuE2iluD"
      }
    },
    {
      "cell_type": "code",
      "execution_count": 5,
      "metadata": {
        "id": "pFavMV2CVq48"
      },
      "outputs": [],
      "source": [
        "with open(\"/content/drive/MyDrive/QML-Research/Data/sentiment labelled sentences/amazon_cells_labelled.txt\", \"r\") as f:\n",
        "    lines = f.readlines()\n",
        "\n",
        "sentences = [line.split(\"\\t\")[0] for line in lines]\n",
        "labels = [int(line.split(\"\\t\")[1]) for line in lines]"
      ]
    },
    {
      "cell_type": "code",
      "source": [
        "def clean_and_tokenize(text):\n",
        "    text = text.lower()\n",
        "    text = re.sub(r\"http\\S+\", \"\", text)\n",
        "    text = re.sub(r\"[^a-z0-9\\s]\", \"\", text)\n",
        "    text = re.sub(r\"\\s+\", \" \", text).strip()\n",
        "    tokens = text.split()\n",
        "    tokens = [word for word in tokens if word not in stop_words]\n",
        "    return tokens\n",
        "\n",
        "cleaned_sents = [clean_and_tokenize(sentence) for sentence in sentences]"
      ],
      "metadata": {
        "id": "nARd4RZaik6n"
      },
      "execution_count": 6,
      "outputs": []
    },
    {
      "cell_type": "markdown",
      "source": [
        "# **Padding and Truncation**"
      ],
      "metadata": {
        "id": "eOrMaAVspzbr"
      }
    },
    {
      "cell_type": "code",
      "source": [
        "max_len = 10\n",
        "for i in range(len(cleaned_sents)):\n",
        "  if (len(cleaned_sents[i]) < max_len):\n",
        "    cleaned_sents[i] += [\"<PAD>\"] * (max_len - len(cleaned_sents[i]))\n",
        "  else:\n",
        "    cleaned_sents[i] = cleaned_sents[i][:max_len]"
      ],
      "metadata": {
        "id": "rt3Wu3pApwci"
      },
      "execution_count": 7,
      "outputs": []
    },
    {
      "cell_type": "markdown",
      "source": [
        "# **Manual GloVe Embedding**"
      ],
      "metadata": {
        "id": "zANXoZ7r5P1Z"
      }
    },
    {
      "cell_type": "code",
      "source": [
        "def load_glove_embeddings(file_path):\n",
        "    embeddings = {}\n",
        "    with open(file_path, 'r', encoding='utf-8') as f:\n",
        "        for line in f:\n",
        "            values = line.strip().split()\n",
        "            word = values[0]\n",
        "            vector = np.array(values[1:], dtype='float32')\n",
        "            embeddings[word] = vector\n",
        "    return embeddings"
      ],
      "metadata": {
        "id": "gXPD5oWx5PQg"
      },
      "execution_count": 8,
      "outputs": []
    },
    {
      "cell_type": "code",
      "source": [
        "def sentence_to_vec(sentence, embeddings, dim):\n",
        "    vectors = []\n",
        "    for word in sentence:\n",
        "        if word in embeddings:\n",
        "            vectors.append(embeddings[word])\n",
        "        else:\n",
        "            vectors.append(np.zeros(dim))\n",
        "    return vectors"
      ],
      "metadata": {
        "id": "4T9ySygT5vCf"
      },
      "execution_count": 9,
      "outputs": []
    },
    {
      "cell_type": "code",
      "source": [
        "def embed_sentences(cleaned_sents, embeddings, dim=5):\n",
        "    return np.array([sentence_to_vec(tokens, embeddings, dim) for tokens in cleaned_sents])"
      ],
      "metadata": {
        "id": "JwH8ts1o5vAO"
      },
      "execution_count": 10,
      "outputs": []
    },
    {
      "cell_type": "code",
      "source": [
        "glove_path = '/content/drive/MyDrive/QML-Research/Data/glove.6B.100d.txt'\n",
        "glove = load_glove_embeddings(glove_path)"
      ],
      "metadata": {
        "id": "E8gSQcWF5u9l"
      },
      "execution_count": 11,
      "outputs": []
    },
    {
      "cell_type": "markdown",
      "source": [
        "# **PCA**"
      ],
      "metadata": {
        "id": "1UNpScLuCJpT"
      }
    },
    {
      "cell_type": "code",
      "source": [
        "all_words = list(glove.keys())\n",
        "all_vectors = np.array([glove[word] for word in all_words])\n",
        "pca = PCA(n_components=32, random_state=42)\n",
        "reduced_vectors = pca.fit_transform(all_vectors)\n",
        "reduced_embeddings = {word: reduced_vectors[i] for i, word in enumerate(all_words)}"
      ],
      "metadata": {
        "id": "5Y2dkcDCCInS"
      },
      "execution_count": 12,
      "outputs": []
    },
    {
      "cell_type": "markdown",
      "source": [
        "# **Word Encoding**"
      ],
      "metadata": {
        "id": "2K7EODX6CPup"
      }
    },
    {
      "cell_type": "code",
      "source": [
        "X_embed_np = embed_sentences(cleaned_sents, reduced_embeddings, dim=32)\n",
        "X_embed = torch.tensor(X_embed_np).float()\n",
        "y_embed = torch.tensor(labels).float()"
      ],
      "metadata": {
        "id": "88dYvXhz6ZE-"
      },
      "execution_count": 13,
      "outputs": []
    },
    {
      "cell_type": "markdown",
      "source": [
        "# **DataLoader**"
      ],
      "metadata": {
        "id": "BoIII4KCdxJL"
      }
    },
    {
      "cell_type": "code",
      "execution_count": 14,
      "metadata": {
        "id": "Qa4_XeG2Vqz0"
      },
      "outputs": [],
      "source": [
        "X_train, X_test, y_train, y_test = train_test_split(X_embed, y_embed, test_size=0.2, random_state=42)"
      ]
    },
    {
      "cell_type": "code",
      "execution_count": 15,
      "metadata": {
        "id": "O7DmHla6VqxF"
      },
      "outputs": [],
      "source": [
        "class AmazonDataset(Dataset):\n",
        "    def __init__(self, X, y):\n",
        "        self.X = X\n",
        "        self.y = y\n",
        "\n",
        "    def __len__(self):\n",
        "        return len(self.X)\n",
        "\n",
        "    def __getitem__(self, idx):\n",
        "        return self.X[idx], self.y[idx]"
      ]
    },
    {
      "cell_type": "code",
      "execution_count": 16,
      "metadata": {
        "id": "1yNozjtYVqui"
      },
      "outputs": [],
      "source": [
        "train_dataset = AmazonDataset(X_train, y_train)\n",
        "train_loader_small = DataLoader(train_dataset, batch_size=1, shuffle=True)\n",
        "test_loader = DataLoader(AmazonDataset(X_test, y_test), batch_size=1)"
      ]
    },
    {
      "cell_type": "markdown",
      "source": [
        "# **Quantum Circuit and Model Class**"
      ],
      "metadata": {
        "id": "s4g3qDLgfInk"
      }
    },
    {
      "cell_type": "markdown",
      "source": [
        "**Seperate Quantum Circuits for each Gate**"
      ],
      "metadata": {
        "id": "-ZZkVnzzLVGJ"
      }
    },
    {
      "cell_type": "code",
      "source": [
        "n_qubits = 8\n",
        "dev_i = qml.device(\"lightning.qubit\", wires=n_qubits, shots=None)\n",
        "dev_f = qml.device(\"lightning.qubit\", wires=n_qubits, shots=None)\n",
        "dev_c = qml.device(\"lightning.qubit\", wires=n_qubits, shots=None)\n",
        "dev_o = qml.device(\"lightning.qubit\", wires=n_qubits, shots=None)"
      ],
      "metadata": {
        "id": "5hi-3cG-fOJL"
      },
      "execution_count": 17,
      "outputs": []
    },
    {
      "cell_type": "code",
      "source": [
        "def encode_input(inputs, hidden):\n",
        "    amp = inputs[:16]\n",
        "    ang = inputs[16:]\n",
        "    amp = torch.where(torch.isnan(amp) | torch.isinf(amp), torch.zeros_like(amp), amp)\n",
        "    amp = amp + torch.randn_like(amp) * 1e-6\n",
        "    amp = amp / (torch.sqrt(torch.sum(amp**2)) + 1e-8)\n",
        "    amp_np = amp.detach().cpu().numpy()\n",
        "\n",
        "    qml.AmplitudeEmbedding(features=amp_np, wires=range(4), normalize=False)\n",
        "    for i in range(3):\n",
        "        qml.RY(ang[i], wires=4)\n",
        "        qml.RZ(ang[i]*0.5, wires=4)\n",
        "    qml.RY(hidden, wires=7)\n",
        "\n",
        "@qml.qnode(dev_i, interface=\"torch\")\n",
        "def input_gate(inputs, hidden, weights):\n",
        "    encode_input(inputs, hidden)\n",
        "    for i in range(7): qml.RY(weights[i], wires=i)\n",
        "    return qml.expval(qml.PauliZ(7))\n",
        "\n",
        "@qml.qnode(dev_f, interface=\"torch\")\n",
        "def forget_gate(inputs, hidden, weights):\n",
        "    encode_input(inputs, hidden)\n",
        "    for i in range(7): qml.RZ(weights[i], wires=i)\n",
        "    return qml.expval(qml.PauliZ(7))\n",
        "\n",
        "@qml.qnode(dev_c, interface=\"torch\")\n",
        "def cell_gate(inputs, hidden, weights):\n",
        "    encode_input(inputs, hidden)\n",
        "    for i in range(7): qml.RY(weights[i], wires=i); qml.RZ(weights[i]*0.3, wires=i)\n",
        "    return qml.expval(qml.PauliZ(7))\n",
        "\n",
        "@qml.qnode(dev_o, interface=\"torch\")\n",
        "def output_gate(inputs, hidden, weights):\n",
        "    encode_input(inputs, hidden)\n",
        "    for i in range(7): qml.RY(weights[i]*0.6, wires=i)\n",
        "    return qml.expval(qml.PauliZ(7))"
      ],
      "metadata": {
        "id": "fJVTugSjfOiu"
      },
      "execution_count": 18,
      "outputs": []
    },
    {
      "cell_type": "code",
      "source": [
        "class QuantumLSTM(nn.Module):\n",
        "    def __init__(self):\n",
        "        super().__init__()\n",
        "        self.embedding = nn.Linear(32, 32)\n",
        "        self.W_i = nn.Parameter(torch.randn(7) * 0.1)\n",
        "        self.W_f = nn.Parameter(torch.randn(7) * 0.1)\n",
        "        self.W_c = nn.Parameter(torch.randn(7) * 0.1)\n",
        "        self.W_o = nn.Parameter(torch.randn(7) * 0.1)\n",
        "        self.fc = nn.Linear(1, 1)\n",
        "\n",
        "    def forward(self, x):\n",
        "        h_t = torch.tensor(0.0, requires_grad=True)\n",
        "        c_t = torch.tensor(0.0, requires_grad=True)\n",
        "        for t in range(x.shape[0]):\n",
        "            x_t = self.embedding(x[t])\n",
        "            i_t = torch.sigmoid(input_gate(x_t, h_t, self.W_i))\n",
        "            f_t = torch.sigmoid(forget_gate(x_t, h_t, self.W_f))\n",
        "            g_t = torch.tanh(cell_gate(x_t, h_t, self.W_c))\n",
        "            o_t = torch.sigmoid(output_gate(x_t, h_t, self.W_o))\n",
        "            c_t = f_t * c_t + i_t * g_t\n",
        "            h_t = o_t * torch.tanh(c_t)\n",
        "        return self.fc(h_t.unsqueeze(0))"
      ],
      "metadata": {
        "id": "ipvyWU4hfOqr"
      },
      "execution_count": 19,
      "outputs": []
    },
    {
      "cell_type": "code",
      "source": [
        "model = QuantumLSTM()\n",
        "optimizer = torch.optim.Adam(model.parameters(), lr=0.01)\n",
        "loss_fn = nn.BCEWithLogitsLoss()"
      ],
      "metadata": {
        "id": "3Zl1tzMJfOxZ"
      },
      "execution_count": 20,
      "outputs": []
    },
    {
      "cell_type": "code",
      "source": [
        "for name, param in model.named_parameters():\n",
        "    print(f\"{name}: {param.shape}\")"
      ],
      "metadata": {
        "colab": {
          "base_uri": "https://localhost:8080/"
        },
        "id": "Aw_pSzbLfO4s",
        "outputId": "946df3f5-83e3-47b0-8901-a564eaf4bf23"
      },
      "execution_count": 21,
      "outputs": [
        {
          "output_type": "stream",
          "name": "stdout",
          "text": [
            "W_i: torch.Size([7])\n",
            "W_f: torch.Size([7])\n",
            "W_c: torch.Size([7])\n",
            "W_o: torch.Size([7])\n",
            "embedding.weight: torch.Size([32, 32])\n",
            "embedding.bias: torch.Size([32])\n",
            "fc.weight: torch.Size([1, 1])\n",
            "fc.bias: torch.Size([1])\n"
          ]
        }
      ]
    },
    {
      "cell_type": "markdown",
      "source": [
        "# **Training Loop**"
      ],
      "metadata": {
        "id": "-wNF3of-K0L6"
      }
    },
    {
      "cell_type": "code",
      "source": [
        "start_time = time.time()\n",
        "epochs = 50\n",
        "target_accuracy = 66.0\n",
        "model.train()\n",
        "\n",
        "for epoch in range(epochs):\n",
        "    total_loss = 0\n",
        "    correct = 0\n",
        "    total = 0\n",
        "    epoch_start = time.time()\n",
        "\n",
        "    for xb, yb in train_loader_small:\n",
        "        xb = xb.squeeze(0)\n",
        "        yb = yb.squeeze()\n",
        "\n",
        "        optimizer.zero_grad()\n",
        "        output = model(xb)\n",
        "\n",
        "        output_flat = output.squeeze()\n",
        "        yb_flat = yb.float()\n",
        "\n",
        "        loss = loss_fn(output_flat, yb_flat)\n",
        "        loss.backward()\n",
        "        optimizer.step()\n",
        "\n",
        "        total_loss += loss.item()\n",
        "        predicted = (torch.sigmoid(output_flat) > 0.5).float()\n",
        "        # prob = custom_probability(output_flat)\n",
        "        # predicted = (prob > 0.5).float()\n",
        "        correct += (predicted == yb_flat).sum().item()\n",
        "        total += 1\n",
        "\n",
        "    avg_loss = total_loss / len(train_loader_small)\n",
        "    epoch_time = time.time() - epoch_start\n",
        "    accuracy = 100 * correct / total\n",
        "\n",
        "    print(f\"Epoch {epoch+1}, Loss: {avg_loss:.4f}, Accuracy: {accuracy:.2f}%\")\n",
        "    print(f\"Time for epoch: {epoch_time:.2f} seconds\")\n",
        "\n",
        "    if accuracy >= target_accuracy:\n",
        "        print(f\"\\nEarly stopping triggered! Target accuracy of {target_accuracy}% reached.\")\n",
        "        print(f\"Final accuracy: {accuracy:.2f}%\")\n",
        "        break\n",
        "\n",
        "total_time = time.time() - start_time\n",
        "print(f\"\\nTotal training time: {total_time:.2f} seconds\")"
      ],
      "metadata": {
        "colab": {
          "base_uri": "https://localhost:8080/"
        },
        "id": "7qC162v4hQGX",
        "outputId": "342df255-0c6f-4c62-bb1b-d7226e6295aa"
      },
      "execution_count": 22,
      "outputs": [
        {
          "output_type": "stream",
          "name": "stdout",
          "text": [
            "Epoch 1, Loss: 0.7002, Accuracy: 49.12%\n",
            "Time for epoch: 228.82 seconds\n",
            "Epoch 2, Loss: 0.6957, Accuracy: 50.25%\n",
            "Time for epoch: 223.49 seconds\n",
            "Epoch 3, Loss: 0.6953, Accuracy: 48.88%\n",
            "Time for epoch: 223.54 seconds\n",
            "Epoch 4, Loss: 0.6926, Accuracy: 52.38%\n",
            "Time for epoch: 214.51 seconds\n",
            "Epoch 5, Loss: 0.6973, Accuracy: 47.50%\n",
            "Time for epoch: 204.59 seconds\n",
            "Epoch 6, Loss: 0.6952, Accuracy: 49.88%\n",
            "Time for epoch: 218.08 seconds\n",
            "Epoch 7, Loss: 0.6960, Accuracy: 49.12%\n",
            "Time for epoch: 205.29 seconds\n",
            "Epoch 8, Loss: 0.6971, Accuracy: 48.75%\n",
            "Time for epoch: 205.95 seconds\n",
            "Epoch 9, Loss: 0.6918, Accuracy: 53.00%\n",
            "Time for epoch: 198.62 seconds\n",
            "Epoch 10, Loss: 0.6970, Accuracy: 51.62%\n",
            "Time for epoch: 199.91 seconds\n",
            "Epoch 11, Loss: 0.6962, Accuracy: 48.38%\n",
            "Time for epoch: 223.72 seconds\n",
            "Epoch 12, Loss: 0.6948, Accuracy: 50.75%\n",
            "Time for epoch: 215.98 seconds\n",
            "Epoch 13, Loss: 0.6961, Accuracy: 49.38%\n",
            "Time for epoch: 219.53 seconds\n",
            "Epoch 14, Loss: 0.6960, Accuracy: 50.25%\n",
            "Time for epoch: 216.77 seconds\n",
            "Epoch 15, Loss: 0.6940, Accuracy: 52.00%\n",
            "Time for epoch: 205.47 seconds\n",
            "Epoch 16, Loss: 0.6950, Accuracy: 51.00%\n",
            "Time for epoch: 200.28 seconds\n",
            "Epoch 17, Loss: 0.6959, Accuracy: 50.00%\n",
            "Time for epoch: 218.66 seconds\n",
            "Epoch 18, Loss: 0.6949, Accuracy: 51.88%\n",
            "Time for epoch: 208.13 seconds\n",
            "Epoch 19, Loss: 0.6957, Accuracy: 47.50%\n",
            "Time for epoch: 211.16 seconds\n",
            "Epoch 20, Loss: 0.6951, Accuracy: 49.62%\n",
            "Time for epoch: 201.88 seconds\n",
            "Epoch 21, Loss: 0.6949, Accuracy: 49.12%\n",
            "Time for epoch: 214.66 seconds\n",
            "Epoch 22, Loss: 0.6948, Accuracy: 52.00%\n",
            "Time for epoch: 226.40 seconds\n",
            "Epoch 23, Loss: 0.6963, Accuracy: 47.00%\n",
            "Time for epoch: 222.08 seconds\n",
            "Epoch 24, Loss: 0.6957, Accuracy: 50.00%\n",
            "Time for epoch: 220.52 seconds\n",
            "Epoch 25, Loss: 0.6956, Accuracy: 48.25%\n",
            "Time for epoch: 212.75 seconds\n",
            "Epoch 26, Loss: 0.6957, Accuracy: 49.62%\n",
            "Time for epoch: 209.77 seconds\n",
            "Epoch 27, Loss: 0.6956, Accuracy: 48.38%\n",
            "Time for epoch: 216.01 seconds\n",
            "Epoch 28, Loss: 0.6955, Accuracy: 47.75%\n",
            "Time for epoch: 210.86 seconds\n",
            "Epoch 29, Loss: 0.6968, Accuracy: 49.25%\n",
            "Time for epoch: 215.35 seconds\n",
            "Epoch 30, Loss: 0.6951, Accuracy: 51.00%\n",
            "Time for epoch: 221.87 seconds\n",
            "Epoch 31, Loss: 0.6962, Accuracy: 47.62%\n",
            "Time for epoch: 218.79 seconds\n",
            "Epoch 32, Loss: 0.6962, Accuracy: 49.00%\n",
            "Time for epoch: 215.58 seconds\n",
            "Epoch 33, Loss: 0.6955, Accuracy: 51.00%\n",
            "Time for epoch: 202.72 seconds\n",
            "Epoch 34, Loss: 0.6958, Accuracy: 49.50%\n",
            "Time for epoch: 206.46 seconds\n",
            "Epoch 35, Loss: 0.6964, Accuracy: 48.88%\n",
            "Time for epoch: 214.16 seconds\n",
            "Epoch 36, Loss: 0.6963, Accuracy: 49.75%\n",
            "Time for epoch: 209.40 seconds\n",
            "Epoch 37, Loss: 0.6956, Accuracy: 51.00%\n",
            "Time for epoch: 222.29 seconds\n",
            "Epoch 38, Loss: 0.6963, Accuracy: 48.00%\n",
            "Time for epoch: 224.06 seconds\n",
            "Epoch 39, Loss: 0.6961, Accuracy: 48.75%\n",
            "Time for epoch: 236.04 seconds\n",
            "Epoch 40, Loss: 0.6948, Accuracy: 49.62%\n",
            "Time for epoch: 214.36 seconds\n",
            "Epoch 41, Loss: 0.6965, Accuracy: 47.88%\n",
            "Time for epoch: 208.63 seconds\n",
            "Epoch 42, Loss: 0.6971, Accuracy: 46.25%\n",
            "Time for epoch: 225.38 seconds\n",
            "Epoch 43, Loss: 0.6956, Accuracy: 50.62%\n",
            "Time for epoch: 213.98 seconds\n",
            "Epoch 44, Loss: 0.6959, Accuracy: 49.88%\n",
            "Time for epoch: 209.16 seconds\n",
            "Epoch 45, Loss: 0.6956, Accuracy: 49.38%\n",
            "Time for epoch: 230.48 seconds\n",
            "Epoch 46, Loss: 0.6962, Accuracy: 49.12%\n",
            "Time for epoch: 215.54 seconds\n",
            "Epoch 47, Loss: 0.6957, Accuracy: 47.75%\n",
            "Time for epoch: 221.91 seconds\n",
            "Epoch 48, Loss: 0.6948, Accuracy: 50.12%\n",
            "Time for epoch: 215.71 seconds\n",
            "Epoch 49, Loss: 0.6951, Accuracy: 50.12%\n",
            "Time for epoch: 203.98 seconds\n",
            "Epoch 50, Loss: 0.6952, Accuracy: 50.62%\n",
            "Time for epoch: 212.43 seconds\n",
            "\n",
            "Total training time: 10735.75 seconds\n"
          ]
        }
      ]
    },
    {
      "cell_type": "markdown",
      "source": [
        "# **Testing Loop**"
      ],
      "metadata": {
        "id": "u1Y87MFKK4eG"
      }
    },
    {
      "cell_type": "code",
      "source": [
        "model.eval()\n",
        "correct = 0\n",
        "total = 0\n",
        "predictions = []\n",
        "actuals = []\n",
        "logits_list = []\n",
        "probabilities = []\n",
        "\n",
        "print(\"=== DETAILED PREDICTION ANALYSIS ===\\n\")\n",
        "\n",
        "with torch.no_grad():\n",
        "    for i, (xb, yb) in enumerate(test_loader):\n",
        "        xb = xb.squeeze(0)\n",
        "        yb = yb.squeeze()\n",
        "\n",
        "        logits = model(xb)\n",
        "        logits_flat = logits.squeeze()\n",
        "        prob = torch.sigmoid(logits_flat)\n",
        "        pred = (prob > 0.5).float()\n",
        "        # prob = custom_probability(logits_flat)\n",
        "        # pred = (prob > 0.5).float()\n",
        "        actual = yb.float()\n",
        "\n",
        "        predictions.append(pred.item())\n",
        "        actuals.append(actual.item())\n",
        "        logits_list.append(logits_flat.item())\n",
        "        probabilities.append(prob.item())\n",
        "\n",
        "        if pred == actual:\n",
        "            correct += 1\n",
        "        total += 1\n",
        "\n",
        "        if i < 20:\n",
        "            status = \"✓ CORRECT\" if pred == actual else \"✗ WRONG\"\n",
        "            print(f\"Sample {i+1:2d}: Logit: {logits_flat.item():6.3f} | \"\n",
        "                  f\"Prob: {prob.item():.3f} | Pred: {int(pred.item())} | \"\n",
        "                  f\"Actual: {int(actual.item())} | {status}\")\n",
        "\n",
        "print(f\"\\n=== SUMMARY STATISTICS ===\")\n",
        "print(f\"Test Accuracy: {correct / total * 100:.2f}%\")\n",
        "print(f\"Total samples: {total}\")\n",
        "print(f\"Correct predictions: {correct}\")\n",
        "print(f\"Wrong predictions: {total - correct}\")\n",
        "\n",
        "predictions = np.array(predictions)\n",
        "actuals = np.array(actuals)\n",
        "probabilities = np.array(probabilities)\n",
        "logits_list = np.array(logits_list)\n",
        "\n",
        "print(f\"\\n=== PREDICTION DISTRIBUTION ===\")\n",
        "pred_0_count = np.sum(predictions == 0)\n",
        "pred_1_count = np.sum(predictions == 1)\n",
        "actual_0_count = np.sum(actuals == 0)\n",
        "actual_1_count = np.sum(actuals == 1)\n",
        "\n",
        "print(f\"Model predicted 0: {pred_0_count} times ({pred_0_count/total*100:.1f}%)\")\n",
        "print(f\"Model predicted 1: {pred_1_count} times ({pred_1_count/total*100:.1f}%)\")\n",
        "print(f\"Actual 0s in test: {actual_0_count} times ({actual_0_count/total*100:.1f}%)\")\n",
        "print(f\"Actual 1s in test: {actual_1_count} times ({actual_1_count/total*100:.1f}%)\")\n",
        "\n",
        "print(f\"\\n=== BIAS ANALYSIS ===\")\n",
        "if pred_0_count == total:\n",
        "    print(\"MODEL IS ALWAYS PREDICTING 0 (NEGATIVE BIAS)\")\n",
        "elif pred_1_count == total:\n",
        "    print(\"MODEL IS ALWAYS PREDICTING 1 (POSITIVE BIAS)\")\n",
        "elif pred_0_count > total * 0.9:\n",
        "    print(\"MODEL HAS STRONG NEGATIVE BIAS (>90% predicting 0)\")\n",
        "elif pred_1_count > total * 0.9:\n",
        "    print(\"MODEL HAS STRONG POSITIVE BIAS (>90% predicting 1)\")\n",
        "else:\n",
        "    print(\"MODEL IS PREDICTING BOTH CLASSES\")\n",
        "\n",
        "print(f\"\\n=== PROBABILITY DISTRIBUTION ===\")\n",
        "print(f\"Mean probability: {np.mean(probabilities):.3f}\")\n",
        "print(f\"Std probability: {np.std(probabilities):.3f}\")\n",
        "print(f\"Min probability: {np.min(probabilities):.3f}\")\n",
        "print(f\"Max probability: {np.max(probabilities):.3f}\")\n",
        "print(f\"Probabilities near 0.5 (0.4-0.6): {np.sum((probabilities >= 0.4) & (probabilities <= 0.6))}\")\n",
        "\n",
        "print(f\"\\n=== LOGITS DISTRIBUTION ===\")\n",
        "print(f\"Mean logit: {np.mean(logits_list):.3f}\")\n",
        "print(f\"Std logit: {np.std(logits_list):.3f}\")\n",
        "print(f\"Min logit: {np.min(logits_list):.3f}\")\n",
        "print(f\"Max logit: {np.max(logits_list):.3f}\")\n",
        "\n",
        "print(f\"\\n=== CONFUSION MATRIX ===\")\n",
        "cm = confusion_matrix(actuals, predictions)\n",
        "print(\"           Predicted\")\n",
        "print(\"         0    1\")\n",
        "print(f\"Actual 0 {cm[0,0]:3d}  {cm[0,1]:3d}\")\n",
        "print(f\"       1 {cm[1,0]:3d}  {cm[1,1]:3d}\")\n",
        "\n",
        "print(f\"\\n=== CLASSIFICATION REPORT ===\")\n",
        "print(classification_report(actuals, predictions, target_names=['Negative', 'Positive']))\n",
        "\n",
        "print(f\"\\n=== MODEL BEHAVIOR DIAGNOSIS ===\")\n",
        "unique_probs = len(np.unique(np.round(probabilities, 3)))\n",
        "unique_logits = len(np.unique(np.round(logits_list, 3)))\n",
        "\n",
        "print(f\"Unique probability values: {unique_probs}\")\n",
        "print(f\"Unique logit values: {unique_logits}\")\n",
        "\n",
        "if unique_probs <= 3:\n",
        "    print(\"Very few unique probabilities - model might be stuck!\")\n",
        "elif unique_probs <= 10:\n",
        "    print(\"Limited probability diversity - model might have convergence issues\")\n",
        "else:\n",
        "    print(\"Good probability diversity\")\n",
        "\n",
        "plt.figure(figsize=(12, 4))\n",
        "\n",
        "plt.subplot(1, 3, 1)\n",
        "plt.hist(probabilities, bins=20, alpha=0.7, edgecolor='black')\n",
        "plt.axvline(0.5, color='red', linestyle='--', label='Decision threshold')\n",
        "plt.xlabel('Predicted Probability')\n",
        "plt.ylabel('Count')\n",
        "plt.title('Probability Distribution')\n",
        "plt.legend()\n",
        "\n",
        "plt.subplot(1, 3, 2)\n",
        "plt.hist(logits_list, bins=20, alpha=0.7, edgecolor='black')\n",
        "plt.axvline(0, color='red', linestyle='--', label='Logit = 0 (p=0.5)')\n",
        "plt.xlabel('Logits')\n",
        "plt.ylabel('Count')\n",
        "plt.title('Logits Distribution')\n",
        "plt.legend()\n",
        "\n",
        "plt.subplot(1, 3, 3)\n",
        "plt.scatter(range(min(50, len(probabilities))), probabilities[:50], alpha=0.6)\n",
        "plt.axhline(0.5, color='red', linestyle='--', label='Decision threshold')\n",
        "plt.xlabel('Sample Index')\n",
        "plt.ylabel('Predicted Probability')\n",
        "plt.title('First 50 Predictions')\n",
        "plt.legend()\n",
        "\n",
        "plt.tight_layout()\n",
        "plt.show()"
      ],
      "metadata": {
        "colab": {
          "base_uri": "https://localhost:8080/",
          "height": 1000
        },
        "id": "Fi5_G1yehQA4",
        "outputId": "d5c8b4de-e724-47d2-f354-1a7c07bce548"
      },
      "execution_count": 23,
      "outputs": [
        {
          "output_type": "stream",
          "name": "stdout",
          "text": [
            "=== DETAILED PREDICTION ANALYSIS ===\n",
            "\n",
            "Sample  1: Logit:  0.131 | Prob: 0.533 | Pred: 1 | Actual: 1 | ✓ CORRECT\n",
            "Sample  2: Logit:  0.131 | Prob: 0.533 | Pred: 1 | Actual: 1 | ✓ CORRECT\n",
            "Sample  3: Logit:  0.131 | Prob: 0.533 | Pred: 1 | Actual: 1 | ✓ CORRECT\n",
            "Sample  4: Logit:  0.131 | Prob: 0.533 | Pred: 1 | Actual: 0 | ✗ WRONG\n",
            "Sample  5: Logit:  0.131 | Prob: 0.533 | Pred: 1 | Actual: 1 | ✓ CORRECT\n",
            "Sample  6: Logit:  0.131 | Prob: 0.533 | Pred: 1 | Actual: 1 | ✓ CORRECT\n",
            "Sample  7: Logit:  0.131 | Prob: 0.533 | Pred: 1 | Actual: 0 | ✗ WRONG\n",
            "Sample  8: Logit:  0.131 | Prob: 0.533 | Pred: 1 | Actual: 1 | ✓ CORRECT\n",
            "Sample  9: Logit:  0.131 | Prob: 0.533 | Pred: 1 | Actual: 0 | ✗ WRONG\n",
            "Sample 10: Logit:  0.131 | Prob: 0.533 | Pred: 1 | Actual: 1 | ✓ CORRECT\n",
            "Sample 11: Logit:  0.131 | Prob: 0.533 | Pred: 1 | Actual: 1 | ✓ CORRECT\n",
            "Sample 12: Logit:  0.131 | Prob: 0.533 | Pred: 1 | Actual: 0 | ✗ WRONG\n",
            "Sample 13: Logit:  0.131 | Prob: 0.533 | Pred: 1 | Actual: 1 | ✓ CORRECT\n",
            "Sample 14: Logit:  0.131 | Prob: 0.533 | Pred: 1 | Actual: 0 | ✗ WRONG\n",
            "Sample 15: Logit:  0.131 | Prob: 0.533 | Pred: 1 | Actual: 1 | ✓ CORRECT\n",
            "Sample 16: Logit:  0.131 | Prob: 0.533 | Pred: 1 | Actual: 1 | ✓ CORRECT\n",
            "Sample 17: Logit:  0.131 | Prob: 0.533 | Pred: 1 | Actual: 1 | ✓ CORRECT\n",
            "Sample 18: Logit:  0.131 | Prob: 0.533 | Pred: 1 | Actual: 0 | ✗ WRONG\n",
            "Sample 19: Logit:  0.131 | Prob: 0.533 | Pred: 1 | Actual: 1 | ✓ CORRECT\n",
            "Sample 20: Logit:  0.131 | Prob: 0.533 | Pred: 1 | Actual: 1 | ✓ CORRECT\n",
            "\n",
            "=== SUMMARY STATISTICS ===\n",
            "Test Accuracy: 53.50%\n",
            "Total samples: 200\n",
            "Correct predictions: 107\n",
            "Wrong predictions: 93\n",
            "\n",
            "=== PREDICTION DISTRIBUTION ===\n",
            "Model predicted 0: 0 times (0.0%)\n",
            "Model predicted 1: 200 times (100.0%)\n",
            "Actual 0s in test: 93 times (46.5%)\n",
            "Actual 1s in test: 107 times (53.5%)\n",
            "\n",
            "=== BIAS ANALYSIS ===\n",
            "MODEL IS ALWAYS PREDICTING 1 (POSITIVE BIAS)\n",
            "\n",
            "=== PROBABILITY DISTRIBUTION ===\n",
            "Mean probability: 0.533\n",
            "Std probability: 0.000\n",
            "Min probability: 0.533\n",
            "Max probability: 0.533\n",
            "Probabilities near 0.5 (0.4-0.6): 200\n",
            "\n",
            "=== LOGITS DISTRIBUTION ===\n",
            "Mean logit: 0.131\n",
            "Std logit: 0.000\n",
            "Min logit: 0.131\n",
            "Max logit: 0.131\n",
            "\n",
            "=== CONFUSION MATRIX ===\n",
            "           Predicted\n",
            "         0    1\n",
            "Actual 0   0   93\n",
            "       1   0  107\n",
            "\n",
            "=== CLASSIFICATION REPORT ===\n",
            "              precision    recall  f1-score   support\n",
            "\n",
            "    Negative       0.00      0.00      0.00        93\n",
            "    Positive       0.54      1.00      0.70       107\n",
            "\n",
            "    accuracy                           0.54       200\n",
            "   macro avg       0.27      0.50      0.35       200\n",
            "weighted avg       0.29      0.54      0.37       200\n",
            "\n",
            "\n",
            "=== MODEL BEHAVIOR DIAGNOSIS ===\n",
            "Unique probability values: 1\n",
            "Unique logit values: 1\n",
            "Very few unique probabilities - model might be stuck!\n"
          ]
        },
        {
          "output_type": "stream",
          "name": "stderr",
          "text": [
            "/usr/local/lib/python3.11/dist-packages/sklearn/metrics/_classification.py:1565: UndefinedMetricWarning: Precision is ill-defined and being set to 0.0 in labels with no predicted samples. Use `zero_division` parameter to control this behavior.\n",
            "  _warn_prf(average, modifier, f\"{metric.capitalize()} is\", len(result))\n",
            "/usr/local/lib/python3.11/dist-packages/sklearn/metrics/_classification.py:1565: UndefinedMetricWarning: Precision is ill-defined and being set to 0.0 in labels with no predicted samples. Use `zero_division` parameter to control this behavior.\n",
            "  _warn_prf(average, modifier, f\"{metric.capitalize()} is\", len(result))\n",
            "/usr/local/lib/python3.11/dist-packages/sklearn/metrics/_classification.py:1565: UndefinedMetricWarning: Precision is ill-defined and being set to 0.0 in labels with no predicted samples. Use `zero_division` parameter to control this behavior.\n",
            "  _warn_prf(average, modifier, f\"{metric.capitalize()} is\", len(result))\n"
          ]
        },
        {
          "output_type": "display_data",
          "data": {
            "text/plain": [
              "<Figure size 1200x400 with 3 Axes>"
            ],
            "image/png": "[encoded data removed]"
          },
          "metadata": {}
        }
      ]
    }
  ],
  "metadata": {
    "colab": {
      "provenance": [],
      "gpuType": "T4"
    },
    "kernelspec": {
      "display_name": "Python 3",
      "name": "python3"
    },
    "language_info": {
      "name": "python"
    },
    "accelerator": "GPU"
  },
  "nbformat": 4,
  "nbformat_minor": 0
}