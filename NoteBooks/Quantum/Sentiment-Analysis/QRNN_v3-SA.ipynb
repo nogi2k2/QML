{
  "cells": [
    {
      "cell_type": "markdown",
      "metadata": {
        "id": "5BpMy_EPElfv"
      },
      "source": [
        "# **Imports and Library Installations**"
      ]
    },
    {
      "cell_type": "code",
      "execution_count": 1,
      "metadata": {
        "colab": {
          "base_uri": "https://localhost:8080/"
        },
        "id": "yXg-ZhRs8yGf",
        "outputId": "329c2ddb-971d-47ed-d543-db03baf3e85c"
      },
      "outputs": [
        {
          "name": "stdout",
          "output_type": "stream",
          "text": [
            "Found existing installation: numpy 2.0.2\n",
            "Uninstalling numpy-2.0.2:\n",
            "  Successfully uninstalled numpy-2.0.2\n",
            "\u001b[2K     \u001b[90m━━━━━━━━━━━━━━━━━━━━━━━━━━━━━━━━━━━━━━━━\u001b[0m \u001b[32m61.0/61.0 kB\u001b[0m \u001b[31m3.0 MB/s\u001b[0m eta \u001b[36m0:00:00\u001b[0m\n",
            "\u001b[2K   \u001b[90m━━━━━━━━━━━━━━━━━━━━━━━━━━━━━━━━━━━━━━━━\u001b[0m \u001b[32m18.3/18.3 MB\u001b[0m \u001b[31m78.1 MB/s\u001b[0m eta \u001b[36m0:00:00\u001b[0m\n",
            "\u001b[?25h\u001b[31mERROR: pip's dependency resolver does not currently take into account all the packages that are installed. This behaviour is the source of the following dependency conflicts.\n",
            "thinc 8.3.6 requires numpy<3.0.0,>=2.0.0, but you have numpy 1.26.4 which is incompatible.\u001b[0m\u001b[31m\n",
            "\u001b[0m"
          ]
        }
      ],
      "source": [
        "!pip uninstall -y numpy\n",
        "!pip install numpy==1.26.4 --upgrade --force-reinstall --quiet"
      ]
    },
    {
      "cell_type": "code",
      "execution_count": null,
      "metadata": {
        "id": "n13WNiIK_U4W"
      },
      "outputs": [],
      "source": [
        "import os\n",
        "os.kill(os.getpid(), 9)"
      ]
    },
    {
      "cell_type": "code",
      "execution_count": 1,
      "metadata": {
        "colab": {
          "base_uri": "https://localhost:8080/"
        },
        "id": "W8rBRK-w_Fr8",
        "outputId": "2402658f-adf8-4bc6-d722-d96e323a461b"
      },
      "outputs": [
        {
          "name": "stdout",
          "output_type": "stream",
          "text": [
            "2.0.2\n"
          ]
        }
      ],
      "source": [
        "import numpy as np\n",
        "print(np.__version__)"
      ]
    },
    {
      "cell_type": "code",
      "execution_count": 2,
      "metadata": {
        "colab": {
          "base_uri": "https://localhost:8080/"
        },
        "id": "cX22YoA96Rx_",
        "outputId": "888637d1-5fb7-407a-b0de-a670a55d30cc"
      },
      "outputs": [
        {
          "name": "stdout",
          "output_type": "stream",
          "text": [
            "Collecting pennylane\n",
            "  Downloading PennyLane-0.41.1-py3-none-any.whl.metadata (10 kB)\n",
            "Collecting pennylane-lightning\n",
            "  Downloading pennylane_lightning-0.41.1-cp311-cp311-manylinux_2_28_x86_64.whl.metadata (12 kB)\n",
            "Requirement already satisfied: numpy in /usr/local/lib/python3.11/dist-packages (from pennylane) (2.0.2)\n",
            "Requirement already satisfied: scipy in /usr/local/lib/python3.11/dist-packages (from pennylane) (1.15.3)\n",
            "Requirement already satisfied: networkx in /usr/local/lib/python3.11/dist-packages (from pennylane) (3.5)\n",
            "Collecting rustworkx>=0.14.0 (from pennylane)\n",
            "  Downloading rustworkx-0.16.0-cp39-abi3-manylinux_2_17_x86_64.manylinux2014_x86_64.whl.metadata (10 kB)\n",
            "Requirement already satisfied: autograd in /usr/local/lib/python3.11/dist-packages (from pennylane) (1.8.0)\n",
            "Requirement already satisfied: tomlkit in /usr/local/lib/python3.11/dist-packages (from pennylane) (0.13.3)\n",
            "Collecting appdirs (from pennylane)\n",
            "  Downloading appdirs-1.4.4-py2.py3-none-any.whl.metadata (9.0 kB)\n",
            "Collecting autoray>=0.6.11 (from pennylane)\n",
            "  Downloading autoray-0.7.1-py3-none-any.whl.metadata (5.8 kB)\n",
            "Requirement already satisfied: cachetools in /usr/local/lib/python3.11/dist-packages (from pennylane) (5.5.2)\n",
            "Requirement already satisfied: requests in /usr/local/lib/python3.11/dist-packages (from pennylane) (2.32.3)\n",
            "Requirement already satisfied: typing-extensions in /usr/local/lib/python3.11/dist-packages (from pennylane) (4.14.0)\n",
            "Requirement already satisfied: packaging in /usr/local/lib/python3.11/dist-packages (from pennylane) (24.2)\n",
            "Collecting diastatic-malt (from pennylane)\n",
            "  Downloading diastatic_malt-2.15.2-py3-none-any.whl.metadata (2.6 kB)\n",
            "Collecting scipy-openblas32>=0.3.26 (from pennylane-lightning)\n",
            "  Downloading scipy_openblas32-0.3.30.0.1-py3-none-manylinux2014_x86_64.manylinux_2_17_x86_64.whl.metadata (57 kB)\n",
            "\u001b[2K     \u001b[90m━━━━━━━━━━━━━━━━━━━━━━━━━━━━━━━━━━━━━━━━\u001b[0m \u001b[32m57.1/57.1 kB\u001b[0m \u001b[31m4.1 MB/s\u001b[0m eta \u001b[36m0:00:00\u001b[0m\n",
            "\u001b[?25hRequirement already satisfied: astunparse in /usr/local/lib/python3.11/dist-packages (from diastatic-malt->pennylane) (1.6.3)\n",
            "Requirement already satisfied: gast in /usr/local/lib/python3.11/dist-packages (from diastatic-malt->pennylane) (0.6.0)\n",
            "Requirement already satisfied: termcolor in /usr/local/lib/python3.11/dist-packages (from diastatic-malt->pennylane) (3.1.0)\n",
            "Requirement already satisfied: charset-normalizer<4,>=2 in /usr/local/lib/python3.11/dist-packages (from requests->pennylane) (3.4.2)\n",
            "Requirement already satisfied: idna<4,>=2.5 in /usr/local/lib/python3.11/dist-packages (from requests->pennylane) (3.10)\n",
            "Requirement already satisfied: urllib3<3,>=1.21.1 in /usr/local/lib/python3.11/dist-packages (from requests->pennylane) (2.4.0)\n",
            "Requirement already satisfied: certifi>=2017.4.17 in /usr/local/lib/python3.11/dist-packages (from requests->pennylane) (2025.6.15)\n",
            "Requirement already satisfied: wheel<1.0,>=0.23.0 in /usr/local/lib/python3.11/dist-packages (from astunparse->diastatic-malt->pennylane) (0.45.1)\n",
            "Requirement already satisfied: six<2.0,>=1.6.1 in /usr/local/lib/python3.11/dist-packages (from astunparse->diastatic-malt->pennylane) (1.17.0)\n",
            "Downloading PennyLane-0.41.1-py3-none-any.whl (2.3 MB)\n",
            "\u001b[2K   \u001b[90m━━━━━━━━━━━━━━━━━━━━━━━━━━━━━━━━━━━━━━━━\u001b[0m \u001b[32m2.3/2.3 MB\u001b[0m \u001b[31m25.7 MB/s\u001b[0m eta \u001b[36m0:00:00\u001b[0m\n",
            "\u001b[?25hDownloading pennylane_lightning-0.41.1-cp311-cp311-manylinux_2_28_x86_64.whl (2.5 MB)\n",
            "\u001b[2K   \u001b[90m━━━━━━━━━━━━━━━━━━━━━━━━━━━━━━━━━━━━━━━━\u001b[0m \u001b[32m2.5/2.5 MB\u001b[0m \u001b[31m53.7 MB/s\u001b[0m eta \u001b[36m0:00:00\u001b[0m\n",
            "\u001b[?25hDownloading autoray-0.7.1-py3-none-any.whl (930 kB)\n",
            "\u001b[2K   \u001b[90m━━━━━━━━━━━━━━━━━━━━━━━━━━━━━━━━━━━━━━━━\u001b[0m \u001b[32m930.8/930.8 kB\u001b[0m \u001b[31m38.9 MB/s\u001b[0m eta \u001b[36m0:00:00\u001b[0m\n",
            "\u001b[?25hDownloading rustworkx-0.16.0-cp39-abi3-manylinux_2_17_x86_64.manylinux2014_x86_64.whl (2.1 MB)\n",
            "\u001b[2K   \u001b[90m━━━━━━━━━━━━━━━━━━━━━━━━━━━━━━━━━━━━━━━━\u001b[0m \u001b[32m2.1/2.1 MB\u001b[0m \u001b[31m52.8 MB/s\u001b[0m eta \u001b[36m0:00:00\u001b[0m\n",
            "\u001b[?25hDownloading scipy_openblas32-0.3.30.0.1-py3-none-manylinux2014_x86_64.manylinux_2_17_x86_64.whl (8.6 MB)\n",
            "\u001b[2K   \u001b[90m━━━━━━━━━━━━━━━━━━━━━━━━━━━━━━━━━━━━━━━━\u001b[0m \u001b[32m8.6/8.6 MB\u001b[0m \u001b[31m74.4 MB/s\u001b[0m eta \u001b[36m0:00:00\u001b[0m\n",
            "\u001b[?25hDownloading appdirs-1.4.4-py2.py3-none-any.whl (9.6 kB)\n",
            "Downloading diastatic_malt-2.15.2-py3-none-any.whl (167 kB)\n",
            "\u001b[2K   \u001b[90m━━━━━━━━━━━━━━━━━━━━━━━━━━━━━━━━━━━━━━━━\u001b[0m \u001b[32m167.9/167.9 kB\u001b[0m \u001b[31m11.6 MB/s\u001b[0m eta \u001b[36m0:00:00\u001b[0m\n",
            "\u001b[?25hInstalling collected packages: appdirs, scipy-openblas32, rustworkx, autoray, diastatic-malt, pennylane-lightning, pennylane\n",
            "Successfully installed appdirs-1.4.4 autoray-0.7.1 diastatic-malt-2.15.2 pennylane-0.41.1 pennylane-lightning-0.41.1 rustworkx-0.16.0 scipy-openblas32-0.3.30.0.1\n"
          ]
        }
      ],
      "source": [
        "#Install dependencies\n",
        "!pip install pennylane pennylane-lightning"
      ]
    },
    {
      "cell_type": "code",
      "execution_count": 3,
      "metadata": {
        "colab": {
          "base_uri": "https://localhost:8080/"
        },
        "id": "4Coau8lq5dVs",
        "outputId": "4c224e13-ca53-4062-ddc2-30419d1e1924"
      },
      "outputs": [
        {
          "name": "stdout",
          "output_type": "stream",
          "text": [
            "Mounted at /content/drive\n"
          ]
        }
      ],
      "source": [
        "from google.colab import drive\n",
        "drive.mount(\"/content/drive\", force_remount = True)"
      ]
    },
    {
      "cell_type": "code",
      "execution_count": 4,
      "metadata": {
        "colab": {
          "base_uri": "https://localhost:8080/"
        },
        "id": "wujDBeIWVfJB",
        "outputId": "9d698ea2-104b-4fdb-9487-7414f9d03dc1"
      },
      "outputs": [
        {
          "name": "stderr",
          "output_type": "stream",
          "text": [
            "/usr/local/lib/python3.11/dist-packages/pennylane/capture/capture_operators.py:33: RuntimeWarning: PennyLane is not yet compatible with JAX versions > 0.4.28. You have version 0.5.2 installed. Please downgrade JAX to <=0.4.28 to avoid runtime errors.\n",
            "  warnings.warn(\n"
          ]
        }
      ],
      "source": [
        "import torch\n",
        "import torch.nn as nn\n",
        "from torch.utils.data import Dataset, DataLoader, Subset\n",
        "\n",
        "import math\n",
        "import re\n",
        "import random\n",
        "import pandas as pd\n",
        "import numpy as np\n",
        "import time\n",
        "import nltk\n",
        "from nltk.corpus import stopwords\n",
        "from nltk.util import ngrams\n",
        "import matplotlib.pyplot as plt\n",
        "import pennylane as qml\n",
        "from collections import Counter\n",
        "\n",
        "from sklearn.model_selection import train_test_split\n",
        "from sklearn.metrics import confusion_matrix, classification_report\n",
        "from sklearn.feature_extraction.text import CountVectorizer\n",
        "from sklearn.decomposition import PCA\n",
        "\n",
        "SEED = 42\n",
        "\n",
        "random.seed(SEED)\n",
        "np.random.seed(SEED)\n",
        "torch.manual_seed(SEED)\n",
        "torch.cuda.manual_seed_all(SEED)\n",
        "\n",
        "torch.backends.cudnn.deterministic = True\n",
        "torch.backends.cudnn.benchmark = False"
      ]
    },
    {
      "cell_type": "code",
      "execution_count": 5,
      "metadata": {
        "colab": {
          "base_uri": "https://localhost:8080/"
        },
        "id": "NQACW6Glibop",
        "outputId": "7ffd41b2-27ad-4fe7-9497-38a9318291b1"
      },
      "outputs": [
        {
          "name": "stdout",
          "output_type": "stream",
          "text": [
            "198\n",
            "205\n"
          ]
        },
        {
          "name": "stderr",
          "output_type": "stream",
          "text": [
            "[nltk_data] Downloading package stopwords to /root/nltk_data...\n",
            "[nltk_data]   Unzipping corpora/stopwords.zip.\n"
          ]
        }
      ],
      "source": [
        "nltk.download(\"stopwords\")\n",
        "stop_words = set(stopwords.words(\"english\"))\n",
        "print(len(stop_words))\n",
        "domain_neutral_words = {\n",
        "    \"phone\", \"product\", \"battery\", \"headset\", \"quality\", \"one\", \"use\"\n",
        "}\n",
        "stop_words.update(domain_neutral_words)\n",
        "print(len(stop_words))"
      ]
    },
    {
      "cell_type": "markdown",
      "metadata": {
        "id": "W-JvfuE2iluD"
      },
      "source": [
        "# **Data Loading and Preprocessing**"
      ]
    },
    {
      "cell_type": "code",
      "execution_count": 6,
      "metadata": {
        "id": "pFavMV2CVq48"
      },
      "outputs": [],
      "source": [
        "with open(\"/content/drive/MyDrive/QML-Research/Data/sentiment labelled sentences/amazon_cells_labelled.txt\", \"r\") as f:\n",
        "    lines = f.readlines()\n",
        "\n",
        "sentences = [line.split(\"\\t\")[0] for line in lines]\n",
        "labels = [int(line.split(\"\\t\")[1]) for line in lines]"
      ]
    },
    {
      "cell_type": "code",
      "execution_count": 7,
      "metadata": {
        "colab": {
          "base_uri": "https://localhost:8080/"
        },
        "id": "YeVFuLNuw6QY",
        "outputId": "19b31c45-043c-4583-ab2f-1e97297f6711"
      },
      "outputs": [
        {
          "name": "stdout",
          "output_type": "stream",
          "text": [
            "0 Labels: 500\n",
            "1 Labels: 500\n"
          ]
        }
      ],
      "source": [
        "print(f\"0 Labels: {labels.count(0)}\")\n",
        "print(f\"1 Labels: {labels.count(1)}\")"
      ]
    },
    {
      "cell_type": "code",
      "execution_count": 8,
      "metadata": {
        "colab": {
          "base_uri": "https://localhost:8080/"
        },
        "id": "R7tw7RTHtFYv",
        "outputId": "5ce9fb66-fd30-4b77-f7d9-d05d0aefc085"
      },
      "outputs": [
        {
          "data": {
            "text/plain": [
              "1000"
            ]
          },
          "execution_count": 8,
          "metadata": {},
          "output_type": "execute_result"
        }
      ],
      "source": [
        "len(sentences)"
      ]
    },
    {
      "cell_type": "code",
      "execution_count": 9,
      "metadata": {
        "colab": {
          "base_uri": "https://localhost:8080/",
          "height": 0
        },
        "id": "wXOxpa2nWuqS",
        "outputId": "682b757e-8a8b-46b4-9d93-fb4ee58a027a"
      },
      "outputs": [
        {
          "name": "stdout",
          "output_type": "stream",
          "text": [
            "Sentence Lengths:\n",
            "min = 11\n",
            "max = 149\n",
            "mean = 55.23\n",
            "95th percentile = 125.04999999999995\n",
            "\n"
          ]
        },
        {
          "data": {
            "image/png": "[encoded data removed]",
            "text/plain": [
              "<Figure size 640x480 with 1 Axes>"
            ]
          },
          "metadata": {},
          "output_type": "display_data"
        }
      ],
      "source": [
        "lengths = [len(s) for s in sentences]\n",
        "print(f\"Sentence Lengths:\\nmin = {np.min(lengths)}\\nmax = {np.max(lengths)}\\nmean = {np.mean(lengths):.2f}\\n95th percentile = {np.percentile(lengths, 95)}\")\n",
        "print()\n",
        "plt.hist(lengths, bins = 30)\n",
        "plt.title(\"Sentence Length Distribution Before Stop Word Removal\")\n",
        "plt.xlabel(\"Sentence Length\")\n",
        "plt.ylabel(\"Count\")\n",
        "plt.show()"
      ]
    },
    {
      "cell_type": "code",
      "execution_count": 10,
      "metadata": {
        "id": "nARd4RZaik6n"
      },
      "outputs": [],
      "source": [
        "def clean_and_tokenize(text):\n",
        "    text = text.lower()\n",
        "    text = re.sub(r\"http\\S+\", \"\", text)\n",
        "    text = re.sub(r\"[^a-z0-9\\s]\", \"\", text)\n",
        "    text = re.sub(r\"\\s+\", \" \", text).strip()\n",
        "    tokens = text.split()\n",
        "    tokens = [word for word in tokens if word not in stop_words]\n",
        "    return tokens\n",
        "\n",
        "cleaned_sents = [clean_and_tokenize(sentence) for sentence in sentences]"
      ]
    },
    {
      "cell_type": "markdown",
      "metadata": {
        "id": "eOrMaAVspzbr"
      },
      "source": [
        "# **Padding and Truncation**"
      ]
    },
    {
      "cell_type": "code",
      "execution_count": 11,
      "metadata": {
        "id": "rt3Wu3pApwci"
      },
      "outputs": [],
      "source": [
        "max_len = 10\n",
        "for i in range(len(cleaned_sents)):\n",
        "  if (len(cleaned_sents[i]) < max_len):\n",
        "    cleaned_sents[i] += [\"<PAD>\"] * (max_len - len(cleaned_sents[i]))\n",
        "  else:\n",
        "    cleaned_sents[i] = cleaned_sents[i][:max_len]"
      ]
    },
    {
      "cell_type": "markdown",
      "metadata": {
        "id": "zANXoZ7r5P1Z"
      },
      "source": [
        "# **Manual GloVe Embedding**"
      ]
    },
    {
      "cell_type": "code",
      "execution_count": 12,
      "metadata": {
        "id": "gXPD5oWx5PQg"
      },
      "outputs": [],
      "source": [
        "def load_glove_embeddings(file_path):\n",
        "    embeddings = {}\n",
        "    with open(file_path, 'r', encoding='utf-8') as f:\n",
        "        for line in f:\n",
        "            values = line.strip().split()\n",
        "            word = values[0]\n",
        "            vector = np.array(values[1:], dtype='float32')\n",
        "            embeddings[word] = vector\n",
        "    return embeddings"
      ]
    },
    {
      "cell_type": "code",
      "execution_count": 13,
      "metadata": {
        "id": "4T9ySygT5vCf"
      },
      "outputs": [],
      "source": [
        "def sentence_to_vec(sentence, embeddings, dim):\n",
        "    vectors = []\n",
        "    for word in sentence:\n",
        "        if word in embeddings:\n",
        "            vectors.append(embeddings[word])\n",
        "        else:\n",
        "            vectors.append(np.zeros(dim))\n",
        "    return vectors"
      ]
    },
    {
      "cell_type": "code",
      "execution_count": 14,
      "metadata": {
        "id": "JwH8ts1o5vAO"
      },
      "outputs": [],
      "source": [
        "def embed_sentences(cleaned_sents, embeddings, dim=5):\n",
        "    return np.array([sentence_to_vec(tokens, embeddings, dim) for tokens in cleaned_sents])"
      ]
    },
    {
      "cell_type": "code",
      "execution_count": 15,
      "metadata": {
        "id": "E8gSQcWF5u9l"
      },
      "outputs": [],
      "source": [
        "glove_path = '/content/drive/MyDrive/QML-Research/Data/glove.6B.100d.txt'\n",
        "glove = load_glove_embeddings(glove_path)"
      ]
    },
    {
      "cell_type": "markdown",
      "metadata": {
        "id": "1UNpScLuCJpT"
      },
      "source": [
        "# **PCA**"
      ]
    },
    {
      "cell_type": "code",
      "execution_count": 16,
      "metadata": {
        "id": "5Y2dkcDCCInS"
      },
      "outputs": [],
      "source": [
        "all_words = list(glove.keys())\n",
        "all_vectors = np.array([glove[word] for word in all_words])\n",
        "# pca = PCA(n_components=15, random_state=42)\n",
        "pca = PCA(n_components=5, random_state=42)\n",
        "reduced_vectors = pca.fit_transform(all_vectors)\n",
        "reduced_embeddings = {word: reduced_vectors[i] for i, word in enumerate(all_words)}"
      ]
    },
    {
      "cell_type": "markdown",
      "metadata": {
        "id": "2K7EODX6CPup"
      },
      "source": [
        "# **Word Encoding**"
      ]
    },
    {
      "cell_type": "code",
      "execution_count": 17,
      "metadata": {
        "id": "88dYvXhz6ZE-"
      },
      "outputs": [],
      "source": [
        "# X_embed_np = embed_sentences(cleaned_sents, reduced_embeddings, dim=15)\n",
        "X_embed_np = embed_sentences(cleaned_sents, reduced_embeddings, dim=5)\n",
        "X_embed = torch.tensor(X_embed_np).float()\n",
        "y_embed = torch.tensor(labels).float()"
      ]
    },
    {
      "cell_type": "markdown",
      "metadata": {
        "id": "BoIII4KCdxJL"
      },
      "source": [
        "# **DataLoader**"
      ]
    },
    {
      "cell_type": "code",
      "execution_count": 18,
      "metadata": {
        "id": "Qa4_XeG2Vqz0"
      },
      "outputs": [],
      "source": [
        "X_train, X_test, y_train, y_test = train_test_split(X_embed, y_embed, test_size=0.2, random_state=42)"
      ]
    },
    {
      "cell_type": "code",
      "execution_count": 19,
      "metadata": {
        "id": "O7DmHla6VqxF"
      },
      "outputs": [],
      "source": [
        "class AmazonDataset(Dataset):\n",
        "    def __init__(self, X, y):\n",
        "        self.X = X\n",
        "        self.y = y\n",
        "\n",
        "    def __len__(self):\n",
        "        return len(self.X)\n",
        "\n",
        "    def __getitem__(self, idx):\n",
        "        return self.X[idx], self.y[idx]"
      ]
    },
    {
      "cell_type": "code",
      "execution_count": 20,
      "metadata": {
        "id": "1yNozjtYVqui"
      },
      "outputs": [],
      "source": [
        "train_dataset = AmazonDataset(X_train, y_train)\n",
        "train_loader_small = DataLoader(train_dataset, batch_size=1, shuffle=True)\n",
        "test_loader = DataLoader(AmazonDataset(X_test, y_test), batch_size=1)"
      ]
    },
    {
      "cell_type": "markdown",
      "metadata": {
        "id": "s4g3qDLgfInk"
      },
      "source": [
        "# **Config - 1 (Dense Angle Encoding)**"
      ]
    },
    {
      "cell_type": "code",
      "execution_count": null,
      "metadata": {
        "id": "5hi-3cG-fOJL"
      },
      "outputs": [],
      "source": [
        "n_qubits = 4\n",
        "dev = qml.device(\"lightning.qubit\", wires=n_qubits, shots=None)"
      ]
    },
    {
      "cell_type": "code",
      "execution_count": null,
      "metadata": {
        "id": "fJVTugSjfOiu"
      },
      "outputs": [],
      "source": [
        "@qml.qnode(dev, interface=\"torch\")\n",
        "def quantum_step(inputs, hidden, weights_in, weights_h):\n",
        "    for i in range(5):\n",
        "        qml.RY(inputs[i], wires=0)\n",
        "        qml.RZ(inputs[i] * 0.5, wires=0)\n",
        "\n",
        "    for i in range(5, 10):\n",
        "        qml.RY(inputs[i], wires=1)\n",
        "        qml.RZ(inputs[i] * 0.5, wires=1)\n",
        "\n",
        "    for i in range(10, 15):\n",
        "        qml.RY(inputs[i], wires=2)\n",
        "        qml.RZ(inputs[i] * 0.5, wires=2)\n",
        "\n",
        "    qml.RY(hidden, wires=3)\n",
        "\n",
        "    qml.CNOT(wires=[0, 1])\n",
        "    qml.CNOT(wires=[1, 2])\n",
        "    qml.CNOT(wires=[2, 3])\n",
        "    qml.CNOT(wires=[3, 0])\n",
        "\n",
        "    for i in range(3):\n",
        "        qml.RY(weights_in[i], wires=i)\n",
        "        qml.RZ(weights_in[i + 3], wires=i)\n",
        "\n",
        "    qml.RY(weights_h[0], wires=3)\n",
        "    return qml.expval(qml.PauliZ(3))"
      ]
    },
    {
      "cell_type": "code",
      "execution_count": null,
      "metadata": {
        "id": "ipvyWU4hfOqr"
      },
      "outputs": [],
      "source": [
        "class QuantumRNN(nn.Module):\n",
        "    def __init__(self, n_repeats=3):\n",
        "        super().__init__()\n",
        "        self.embedding = nn.Linear(15, 15)\n",
        "        self.weights_in = nn.Parameter(torch.randn(6) * 0.1)\n",
        "        self.weights_h = nn.Parameter(torch.randn(1) * 0.1)\n",
        "        self.classifier = nn.Linear(1, 1)\n",
        "        self.n_repeats = n_repeats\n",
        "\n",
        "    def forward(self, x):\n",
        "        seq_len = x.shape[0]\n",
        "        hidden = torch.tensor(0.0, dtype=torch.float32, requires_grad=True)\n",
        "\n",
        "        for t in range(seq_len):\n",
        "            input_t = self.embedding(x[t])\n",
        "            for _ in range(self.n_repeats):\n",
        "                hidden = quantum_step(input_t, hidden, self.weights_in, self.weights_h).float()\n",
        "\n",
        "        out = self.classifier(hidden.unsqueeze(0))\n",
        "        return out"
      ]
    },
    {
      "cell_type": "markdown",
      "metadata": {
        "id": "Ueg6Y0nFJxxe"
      },
      "source": [
        "# **Config - 2 (Angle Encoding)**"
      ]
    },
    {
      "cell_type": "code",
      "execution_count": 21,
      "metadata": {
        "id": "KzMuxsmEJ3Bg"
      },
      "outputs": [],
      "source": [
        "n_qubits = 6\n",
        "dev = qml.device(\"lightning.qubit\", wires=n_qubits, shots=None)"
      ]
    },
    {
      "cell_type": "code",
      "execution_count": 22,
      "metadata": {
        "id": "It-qqbbPJ27G"
      },
      "outputs": [],
      "source": [
        "@qml.qnode(dev, interface=\"torch\")\n",
        "def quantum_step(inputs, hidden, weights_in, weights_h):\n",
        "    inputs_norm = inputs / (torch.norm(inputs) + 1e-8)\n",
        "\n",
        "    for i in range(5):\n",
        "        qml.RY(inputs_norm[i], wires=i)\n",
        "\n",
        "    qml.RY(hidden, wires=5)\n",
        "\n",
        "    for i in range(5):\n",
        "        qml.CNOT(wires=[i, (i + 1) % 5])\n",
        "\n",
        "    for i in range(5):\n",
        "        qml.RY(weights_in[i], wires=i)\n",
        "\n",
        "    qml.RY(weights_h[0], wires=5)\n",
        "    return qml.expval(qml.PauliZ(5))"
      ]
    },
    {
      "cell_type": "code",
      "execution_count": null,
      "metadata": {
        "id": "Ry05rp_jJ2wd"
      },
      "outputs": [],
      "source": [
        "class QuantumRNN(nn.Module):\n",
        "    def __init__(self, n_repeats=3):\n",
        "        super().__init__()\n",
        "        self.embedding = nn.Linear(5, 5)\n",
        "        self.weights_in = nn.Parameter(torch.randn(5) * 0.1)\n",
        "        self.weights_h = nn.Parameter(torch.randn(1) * 0.1)\n",
        "        self.classifier = nn.Linear(1, 1)\n",
        "        self.n_repeats = n_repeats\n",
        "\n",
        "    def forward(self, x):\n",
        "        seq_len = x.shape[0]\n",
        "        hidden = torch.tensor(0.0, dtype=torch.float32, requires_grad=True)\n",
        "\n",
        "        for t in range(seq_len):\n",
        "            input_t = self.embedding(x[t])\n",
        "            for _ in range(self.n_repeats):\n",
        "                hidden = quantum_step(input_t, hidden, self.weights_in, self.weights_h).float()\n",
        "\n",
        "        out = self.classifier(hidden.unsqueeze(0))\n",
        "        return out"
      ]
    },
    {
      "cell_type": "code",
      "execution_count": 26,
      "metadata": {
        "colab": {
          "base_uri": "https://localhost:8080/"
        },
        "id": "QFJPnC_oxRHq",
        "outputId": "7f41aad5-cfd1-4cab-d30f-a99a65801fb7"
      },
      "outputs": [
        {
          "name": "stdout",
          "output_type": "stream",
          "text": [
            "Epoch 1, Loss: 0.7121, Accuracy: 48.50%\n",
            "Time for epoch: 161.49 seconds\n",
            "Epoch 2, Loss: 0.6959, Accuracy: 46.88%\n",
            "Time for epoch: 162.12 seconds\n",
            "Epoch 3, Loss: 0.6962, Accuracy: 48.38%\n",
            "Time for epoch: 160.49 seconds\n",
            "Epoch 4, Loss: 0.6962, Accuracy: 50.62%\n",
            "Time for epoch: 163.64 seconds\n",
            "Epoch 5, Loss: 0.6957, Accuracy: 48.62%\n",
            "Time for epoch: 161.13 seconds\n",
            "Epoch 6, Loss: 0.6958, Accuracy: 48.12%\n",
            "Time for epoch: 171.93 seconds\n",
            "Epoch 7, Loss: 0.6937, Accuracy: 52.25%\n",
            "Time for epoch: 166.20 seconds\n",
            "Epoch 8, Loss: 0.6956, Accuracy: 46.38%\n",
            "Time for epoch: 168.20 seconds\n",
            "Epoch 9, Loss: 0.6960, Accuracy: 47.38%\n",
            "Time for epoch: 165.76 seconds\n",
            "Epoch 10, Loss: 0.6939, Accuracy: 51.50%\n",
            "Time for epoch: 164.85 seconds\n",
            "Epoch 11, Loss: 0.6956, Accuracy: 44.88%\n",
            "Time for epoch: 169.14 seconds\n",
            "Epoch 12, Loss: 0.6953, Accuracy: 49.38%\n",
            "Time for epoch: 167.35 seconds\n",
            "Epoch 13, Loss: 0.6948, Accuracy: 49.25%\n",
            "Time for epoch: 167.70 seconds\n",
            "Epoch 14, Loss: 0.6948, Accuracy: 47.75%\n",
            "Time for epoch: 164.39 seconds\n",
            "Epoch 15, Loss: 0.6944, Accuracy: 51.62%\n",
            "Time for epoch: 166.68 seconds\n",
            "Epoch 16, Loss: 0.6948, Accuracy: 50.62%\n",
            "Time for epoch: 167.27 seconds\n",
            "Epoch 17, Loss: 0.6943, Accuracy: 49.75%\n",
            "Time for epoch: 166.11 seconds\n",
            "Epoch 18, Loss: 0.6951, Accuracy: 46.88%\n",
            "Time for epoch: 163.59 seconds\n",
            "Epoch 19, Loss: 0.6948, Accuracy: 50.25%\n",
            "Time for epoch: 162.76 seconds\n",
            "Epoch 20, Loss: 0.6948, Accuracy: 47.50%\n",
            "Time for epoch: 159.68 seconds\n",
            "Epoch 21, Loss: 0.6944, Accuracy: 48.88%\n",
            "Time for epoch: 161.40 seconds\n",
            "Epoch 22, Loss: 0.6946, Accuracy: 49.75%\n",
            "Time for epoch: 162.11 seconds\n",
            "Epoch 23, Loss: 0.6945, Accuracy: 52.00%\n",
            "Time for epoch: 160.04 seconds\n",
            "Epoch 24, Loss: 0.6934, Accuracy: 51.25%\n",
            "Time for epoch: 160.45 seconds\n",
            "Epoch 25, Loss: 0.6945, Accuracy: 48.75%\n",
            "Time for epoch: 160.66 seconds\n",
            "Epoch 26, Loss: 0.6948, Accuracy: 50.00%\n",
            "Time for epoch: 157.71 seconds\n",
            "Epoch 27, Loss: 0.6948, Accuracy: 50.00%\n",
            "Time for epoch: 160.07 seconds\n",
            "Epoch 28, Loss: 0.6946, Accuracy: 49.50%\n",
            "Time for epoch: 158.42 seconds\n",
            "Epoch 29, Loss: 0.6952, Accuracy: 48.75%\n",
            "Time for epoch: 161.08 seconds\n",
            "Epoch 30, Loss: 0.6947, Accuracy: 50.00%\n",
            "Time for epoch: 163.94 seconds\n",
            "Epoch 31, Loss: 0.6951, Accuracy: 48.62%\n",
            "Time for epoch: 162.56 seconds\n",
            "Epoch 32, Loss: 0.6949, Accuracy: 48.00%\n",
            "Time for epoch: 164.07 seconds\n",
            "Epoch 33, Loss: 0.6939, Accuracy: 50.12%\n",
            "Time for epoch: 164.50 seconds\n",
            "Epoch 34, Loss: 0.6954, Accuracy: 46.75%\n",
            "Time for epoch: 162.44 seconds\n",
            "Epoch 35, Loss: 0.6952, Accuracy: 48.88%\n",
            "Time for epoch: 161.22 seconds\n",
            "Epoch 36, Loss: 0.6948, Accuracy: 47.75%\n",
            "Time for epoch: 162.03 seconds\n",
            "Epoch 37, Loss: 0.6936, Accuracy: 51.38%\n",
            "Time for epoch: 161.23 seconds\n",
            "Epoch 38, Loss: 0.6937, Accuracy: 51.25%\n",
            "Time for epoch: 163.11 seconds\n",
            "Epoch 39, Loss: 0.6951, Accuracy: 47.75%\n",
            "Time for epoch: 162.74 seconds\n",
            "Epoch 40, Loss: 0.6944, Accuracy: 50.12%\n",
            "Time for epoch: 159.60 seconds\n",
            "Epoch 41, Loss: 0.6942, Accuracy: 50.25%\n",
            "Time for epoch: 162.37 seconds\n",
            "Epoch 42, Loss: 0.6953, Accuracy: 49.75%\n",
            "Time for epoch: 163.68 seconds\n",
            "Epoch 43, Loss: 0.6950, Accuracy: 50.12%\n",
            "Time for epoch: 160.67 seconds\n",
            "Epoch 44, Loss: 0.6944, Accuracy: 50.88%\n",
            "Time for epoch: 162.61 seconds\n",
            "Epoch 45, Loss: 0.6949, Accuracy: 48.38%\n",
            "Time for epoch: 160.77 seconds\n",
            "Epoch 46, Loss: 0.6944, Accuracy: 50.88%\n",
            "Time for epoch: 158.05 seconds\n",
            "Epoch 47, Loss: 0.6951, Accuracy: 49.38%\n",
            "Time for epoch: 160.74 seconds\n",
            "Epoch 48, Loss: 0.6953, Accuracy: 50.88%\n",
            "Time for epoch: 160.88 seconds\n",
            "Epoch 49, Loss: 0.6948, Accuracy: 50.12%\n",
            "Time for epoch: 161.39 seconds\n",
            "Epoch 50, Loss: 0.6945, Accuracy: 50.00%\n",
            "Time for epoch: 161.12 seconds\n",
            "\n",
            "Total training time: 8142.09 seconds\n"
          ]
        }
      ],
      "source": [
        "start_time = time.time()\n",
        "epochs = 50\n",
        "model.train()\n",
        "\n",
        "for epoch in range(epochs):\n",
        "    total_loss = 0\n",
        "    correct = 0\n",
        "    total = 0\n",
        "    epoch_start = time.time()\n",
        "\n",
        "    for xb, yb in train_loader_small:\n",
        "        xb = xb.squeeze(0)\n",
        "        yb = yb.squeeze()\n",
        "\n",
        "        optimizer.zero_grad()\n",
        "        output = model(xb)\n",
        "\n",
        "        output_flat = output.squeeze()\n",
        "        yb_flat = yb.float()\n",
        "\n",
        "        loss = loss_fn(output_flat, yb_flat)\n",
        "        loss.backward()\n",
        "        optimizer.step()\n",
        "\n",
        "        total_loss += loss.item()\n",
        "        predicted = (torch.sigmoid(output_flat) > 0.5).float()\n",
        "        correct += (predicted == yb_flat).sum().item()\n",
        "        total += 1\n",
        "\n",
        "    avg_loss = total_loss / len(train_loader_small)\n",
        "    epoch_time = time.time() - epoch_start\n",
        "    accuracy = 100 * correct / total\n",
        "    print(f\"Epoch {epoch+1}, Loss: {avg_loss:.4f}, Accuracy: {accuracy:.2f}%\")\n",
        "    print(f\"Time for epoch: {epoch_time:.2f} seconds\")\n",
        "\n",
        "total_time = time.time() - start_time\n",
        "print(f\"\\nTotal training time: {total_time:.2f} seconds\")"
      ]
    },
    {
      "cell_type": "code",
      "execution_count": 27,
      "metadata": {
        "colab": {
          "base_uri": "https://localhost:8080/"
        },
        "id": "AXMPLWCDxO3O",
        "outputId": "9b1a7a06-3ad9-43aa-9fe0-a680187445c8"
      },
      "outputs": [
        {
          "name": "stdout",
          "output_type": "stream",
          "text": [
            "Logit: -0.032 | Probability: 0.492 | Pred: 0.0, Actual: 1.0\n",
            "Logit: -0.032 | Probability: 0.492 | Pred: 0.0, Actual: 1.0\n",
            "Logit: -0.032 | Probability: 0.492 | Pred: 0.0, Actual: 1.0\n",
            "Logit: -0.032 | Probability: 0.492 | Pred: 0.0, Actual: 0.0\n",
            "Logit: -0.032 | Probability: 0.492 | Pred: 0.0, Actual: 1.0\n",
            "Logit: -0.032 | Probability: 0.492 | Pred: 0.0, Actual: 1.0\n",
            "Logit: -0.032 | Probability: 0.492 | Pred: 0.0, Actual: 0.0\n",
            "Logit: -0.032 | Probability: 0.492 | Pred: 0.0, Actual: 1.0\n",
            "Logit: -0.032 | Probability: 0.492 | Pred: 0.0, Actual: 0.0\n",
            "Logit: -0.032 | Probability: 0.492 | Pred: 0.0, Actual: 1.0\n",
            "Test Accuracy: 46.50%\n"
          ]
        }
      ],
      "source": [
        "model.eval()\n",
        "correct = 0\n",
        "total = 0\n",
        "with torch.no_grad():\n",
        "    for xb, yb in test_loader:\n",
        "        xb = xb.squeeze(0)\n",
        "        yb = yb.squeeze()\n",
        "\n",
        "        logits = model(xb)\n",
        "        logits_flat = logits.squeeze()\n",
        "        prob = torch.sigmoid(logits_flat)\n",
        "        pred = (prob > 0.5).float()\n",
        "        actual = yb.float()\n",
        "\n",
        "        if pred == actual:\n",
        "            correct += 1\n",
        "        total += 1\n",
        "\n",
        "        if total <= 10:\n",
        "            print(f\"Logit: {logits_flat.item():.3f} | Probability: {prob.item():.3f} | Pred: {pred.item()}, Actual: {actual.item()}\")\n",
        "\n",
        "print(f\"Test Accuracy: {correct / total * 100:.2f}%\")"
      ]
    },
    {
      "cell_type": "markdown",
      "metadata": {
        "id": "ZlPHS2t6EQB7"
      },
      "source": [
        "# **Model Initialization**"
      ]
    },
    {
      "cell_type": "code",
      "execution_count": null,
      "metadata": {
        "id": "3Zl1tzMJfOxZ"
      },
      "outputs": [],
      "source": [
        "# Dense Angle Encoding\n",
        "model = QuantumRNN(n_repeats=2)\n",
        "optimizer = torch.optim.Adam(model.parameters(), lr=0.01)\n",
        "loss_fn = nn.BCEWithLogitsLoss()"
      ]
    },
    {
      "cell_type": "code",
      "execution_count": 24,
      "metadata": {
        "id": "lYm3Kn49TwQU"
      },
      "outputs": [],
      "source": [
        "# Angle Encoding\n",
        "model = QuantumRNN(n_repeats=3)\n",
        "optimizer = torch.optim.Adam(model.parameters(), lr=0.01)\n",
        "loss_fn = nn.BCEWithLogitsLoss()"
      ]
    },
    {
      "cell_type": "code",
      "execution_count": 25,
      "metadata": {
        "colab": {
          "base_uri": "https://localhost:8080/"
        },
        "id": "Aw_pSzbLfO4s",
        "outputId": "fd2b1d84-a626-4a69-c25e-60e4d2c79a14"
      },
      "outputs": [
        {
          "name": "stdout",
          "output_type": "stream",
          "text": [
            "weights_in: torch.Size([5])\n",
            "weights_h: torch.Size([1])\n",
            "embedding.weight: torch.Size([5, 5])\n",
            "embedding.bias: torch.Size([5])\n",
            "classifier.weight: torch.Size([1, 1])\n",
            "classifier.bias: torch.Size([1])\n"
          ]
        }
      ],
      "source": [
        "for name, param in model.named_parameters():\n",
        "    print(f\"{name}: {param.shape}\")"
      ]
    },
    {
      "cell_type": "markdown",
      "metadata": {
        "id": "mV1LA8RHEbJd"
      },
      "source": [
        "# **Training Loop**"
      ]
    },
    {
      "cell_type": "code",
      "execution_count": null,
      "metadata": {
        "colab": {
          "base_uri": "https://localhost:8080/"
        },
        "id": "7qC162v4hQGX",
        "outputId": "365f16e1-9e0a-4b3a-cd89-8fb27c46e650"
      },
      "outputs": [
        {
          "name": "stdout",
          "output_type": "stream",
          "text": [
            "Epoch 1, Loss: 0.7015, Accuracy: 48.25%\n",
            "Time for epoch: 197.81 seconds\n",
            "Epoch 2, Loss: 0.6986, Accuracy: 49.88%\n",
            "Time for epoch: 195.32 seconds\n",
            "Epoch 3, Loss: 0.6981, Accuracy: 46.75%\n",
            "Time for epoch: 200.33 seconds\n",
            "Epoch 4, Loss: 0.6964, Accuracy: 50.88%\n",
            "Time for epoch: 200.70 seconds\n",
            "Epoch 5, Loss: 0.6965, Accuracy: 50.50%\n",
            "Time for epoch: 202.60 seconds\n",
            "Epoch 6, Loss: 0.6957, Accuracy: 48.12%\n",
            "Time for epoch: 198.51 seconds\n",
            "Epoch 7, Loss: 0.6942, Accuracy: 51.88%\n",
            "Time for epoch: 198.62 seconds\n",
            "Epoch 8, Loss: 0.6944, Accuracy: 50.50%\n",
            "Time for epoch: 196.29 seconds\n",
            "Epoch 9, Loss: 0.6955, Accuracy: 47.75%\n",
            "Time for epoch: 197.40 seconds\n",
            "Epoch 10, Loss: 0.6947, Accuracy: 48.12%\n",
            "Time for epoch: 197.67 seconds\n",
            "Epoch 11, Loss: 0.6952, Accuracy: 48.25%\n",
            "Time for epoch: 198.07 seconds\n",
            "Epoch 12, Loss: 0.6940, Accuracy: 48.38%\n",
            "Time for epoch: 200.97 seconds\n",
            "Epoch 13, Loss: 0.6956, Accuracy: 48.62%\n",
            "Time for epoch: 198.37 seconds\n",
            "Epoch 14, Loss: 0.6949, Accuracy: 48.00%\n",
            "Time for epoch: 197.99 seconds\n",
            "Epoch 15, Loss: 0.6953, Accuracy: 47.38%\n",
            "Time for epoch: 196.41 seconds\n",
            "Epoch 16, Loss: 0.6950, Accuracy: 48.62%\n",
            "Time for epoch: 197.98 seconds\n",
            "Epoch 17, Loss: 0.6943, Accuracy: 50.25%\n",
            "Time for epoch: 195.01 seconds\n",
            "Epoch 18, Loss: 0.6957, Accuracy: 47.12%\n",
            "Time for epoch: 195.76 seconds\n",
            "Epoch 19, Loss: 0.6955, Accuracy: 47.62%\n",
            "Time for epoch: 193.70 seconds\n",
            "Epoch 20, Loss: 0.6953, Accuracy: 45.88%\n",
            "Time for epoch: 195.41 seconds\n",
            "Epoch 21, Loss: 0.6947, Accuracy: 47.12%\n",
            "Time for epoch: 192.73 seconds\n",
            "Epoch 22, Loss: 0.6947, Accuracy: 50.62%\n",
            "Time for epoch: 197.68 seconds\n",
            "Epoch 23, Loss: 0.6956, Accuracy: 48.88%\n",
            "Time for epoch: 193.43 seconds\n",
            "Epoch 24, Loss: 0.6953, Accuracy: 47.88%\n",
            "Time for epoch: 192.02 seconds\n",
            "Epoch 25, Loss: 0.6948, Accuracy: 49.62%\n",
            "Time for epoch: 192.05 seconds\n",
            "Epoch 26, Loss: 0.6951, Accuracy: 48.38%\n",
            "Time for epoch: 194.06 seconds\n",
            "Epoch 27, Loss: 0.6945, Accuracy: 49.88%\n",
            "Time for epoch: 194.61 seconds\n",
            "Epoch 28, Loss: 0.6945, Accuracy: 51.12%\n",
            "Time for epoch: 193.95 seconds\n",
            "Epoch 29, Loss: 0.6948, Accuracy: 50.00%\n",
            "Time for epoch: 204.50 seconds\n",
            "Epoch 30, Loss: 0.6949, Accuracy: 49.62%\n",
            "Time for epoch: 194.66 seconds\n",
            "Epoch 31, Loss: 0.6957, Accuracy: 49.00%\n",
            "Time for epoch: 196.30 seconds\n",
            "Epoch 32, Loss: 0.6947, Accuracy: 48.88%\n",
            "Time for epoch: 194.04 seconds\n",
            "Epoch 33, Loss: 0.6943, Accuracy: 51.12%\n",
            "Time for epoch: 194.77 seconds\n",
            "Epoch 34, Loss: 0.6949, Accuracy: 49.12%\n",
            "Time for epoch: 192.02 seconds\n",
            "Epoch 35, Loss: 0.6946, Accuracy: 49.25%\n",
            "Time for epoch: 193.99 seconds\n",
            "Epoch 36, Loss: 0.6944, Accuracy: 50.75%\n",
            "Time for epoch: 192.94 seconds\n",
            "Epoch 37, Loss: 0.6949, Accuracy: 50.12%\n",
            "Time for epoch: 211.33 seconds\n",
            "Epoch 38, Loss: 0.6943, Accuracy: 48.62%\n",
            "Time for epoch: 193.86 seconds\n",
            "Epoch 39, Loss: 0.6943, Accuracy: 49.75%\n",
            "Time for epoch: 193.87 seconds\n",
            "Epoch 40, Loss: 0.6948, Accuracy: 50.62%\n",
            "Time for epoch: 197.26 seconds\n",
            "Epoch 41, Loss: 0.6943, Accuracy: 48.75%\n",
            "Time for epoch: 192.90 seconds\n",
            "Epoch 42, Loss: 0.6954, Accuracy: 47.62%\n",
            "Time for epoch: 217.91 seconds\n",
            "Epoch 43, Loss: 0.6947, Accuracy: 50.88%\n",
            "Time for epoch: 193.98 seconds\n",
            "Epoch 44, Loss: 0.6936, Accuracy: 52.50%\n",
            "Time for epoch: 199.74 seconds\n",
            "Epoch 45, Loss: 0.6950, Accuracy: 49.25%\n",
            "Time for epoch: 193.94 seconds\n",
            "Epoch 46, Loss: 0.6952, Accuracy: 50.62%\n",
            "Time for epoch: 193.52 seconds\n",
            "Epoch 47, Loss: 0.6954, Accuracy: 47.88%\n",
            "Time for epoch: 194.34 seconds\n",
            "Epoch 48, Loss: 0.6931, Accuracy: 52.75%\n",
            "Time for epoch: 195.74 seconds\n",
            "Epoch 49, Loss: 0.6955, Accuracy: 50.00%\n",
            "Time for epoch: 197.88 seconds\n",
            "Epoch 50, Loss: 0.6938, Accuracy: 51.38%\n",
            "Time for epoch: 201.32 seconds\n",
            "\n",
            "Total training time: 9846.27 seconds\n"
          ]
        }
      ],
      "source": [
        "start_time = time.time()\n",
        "epochs = 50\n",
        "model.train()\n",
        "\n",
        "for epoch in range(epochs):\n",
        "    total_loss = 0\n",
        "    correct = 0\n",
        "    total = 0\n",
        "    epoch_start = time.time()\n",
        "\n",
        "    for xb, yb in train_loader_small:\n",
        "        xb = xb.squeeze(0)\n",
        "        yb = yb.squeeze()\n",
        "\n",
        "        optimizer.zero_grad()\n",
        "        output = model(xb)\n",
        "\n",
        "        output_flat = output.squeeze()\n",
        "        yb_flat = yb.float()\n",
        "\n",
        "        loss = loss_fn(output_flat, yb_flat)\n",
        "        loss.backward()\n",
        "        optimizer.step()\n",
        "\n",
        "        total_loss += loss.item()\n",
        "        predicted = (torch.sigmoid(output_flat) > 0.5).float()\n",
        "        correct += (predicted == yb_flat).sum().item()\n",
        "        total += 1\n",
        "\n",
        "    avg_loss = total_loss / len(train_loader_small)\n",
        "    epoch_time = time.time() - epoch_start\n",
        "    accuracy = 100 * correct / total\n",
        "    print(f\"Epoch {epoch+1}, Loss: {avg_loss:.4f}, Accuracy: {accuracy:.2f}%\")\n",
        "    print(f\"Time for epoch: {epoch_time:.2f} seconds\")\n",
        "\n",
        "total_time = time.time() - start_time\n",
        "print(f\"\\nTotal training time: {total_time:.2f} seconds\")"
      ]
    },
    {
      "cell_type": "markdown",
      "metadata": {
        "id": "Gt1g-08qEeuZ"
      },
      "source": [
        "# **Testing Loop**"
      ]
    },
    {
      "cell_type": "code",
      "execution_count": null,
      "metadata": {
        "colab": {
          "base_uri": "https://localhost:8080/"
        },
        "id": "Fi5_G1yehQA4",
        "outputId": "34a9d14f-89c5-4f62-cb5f-a1e06b0f5a0c"
      },
      "outputs": [
        {
          "name": "stdout",
          "output_type": "stream",
          "text": [
            "Logit: 0.105 | Probability: 0.526 | Pred: 1.0, Actual: 1.0\n",
            "Logit: 0.108 | Probability: 0.527 | Pred: 1.0, Actual: 1.0\n",
            "Logit: 0.108 | Probability: 0.527 | Pred: 1.0, Actual: 1.0\n",
            "Logit: 0.085 | Probability: 0.521 | Pred: 1.0, Actual: 0.0\n",
            "Logit: 0.106 | Probability: 0.527 | Pred: 1.0, Actual: 1.0\n",
            "Logit: 0.105 | Probability: 0.526 | Pred: 1.0, Actual: 1.0\n",
            "Logit: 0.099 | Probability: 0.525 | Pred: 1.0, Actual: 0.0\n",
            "Logit: 0.098 | Probability: 0.525 | Pred: 1.0, Actual: 1.0\n",
            "Logit: 0.107 | Probability: 0.527 | Pred: 1.0, Actual: 0.0\n",
            "Logit: 0.107 | Probability: 0.527 | Pred: 1.0, Actual: 1.0\n",
            "Test Accuracy: 53.50%\n"
          ]
        }
      ],
      "source": [
        "model.eval()\n",
        "correct = 0\n",
        "total = 0\n",
        "with torch.no_grad():\n",
        "    for xb, yb in test_loader:\n",
        "        xb = xb.squeeze(0)\n",
        "        yb = yb.squeeze()\n",
        "\n",
        "        logits = model(xb)\n",
        "        logits_flat = logits.squeeze()\n",
        "        prob = torch.sigmoid(logits_flat)\n",
        "        pred = (prob > 0.5).float()\n",
        "        actual = yb.float()\n",
        "\n",
        "        if pred == actual:\n",
        "            correct += 1\n",
        "        total += 1\n",
        "\n",
        "        if total <= 10:\n",
        "            print(f\"Logit: {logits_flat.item():.3f} | Probability: {prob.item():.3f} | Pred: {pred.item()}, Actual: {actual.item()}\")\n",
        "\n",
        "print(f\"Test Accuracy: {correct / total * 100:.2f}%\")"
      ]
    }
  ],
  "metadata": {
    "accelerator": "GPU",
    "colab": {
      "collapsed_sections": [
        "5BpMy_EPElfv",
        "W-JvfuE2iluD",
        "eOrMaAVspzbr",
        "zANXoZ7r5P1Z",
        "1UNpScLuCJpT",
        "2K7EODX6CPup",
        "BoIII4KCdxJL",
        "s4g3qDLgfInk",
        "mV1LA8RHEbJd",
        "Gt1g-08qEeuZ"
      ],
      "gpuType": "T4",
      "provenance": []
    },
    "kernelspec": {
      "display_name": "Python 3",
      "name": "python3"
    },
    "language_info": {
      "name": "python"
    }
  },
  "nbformat": 4,
  "nbformat_minor": 0
}
