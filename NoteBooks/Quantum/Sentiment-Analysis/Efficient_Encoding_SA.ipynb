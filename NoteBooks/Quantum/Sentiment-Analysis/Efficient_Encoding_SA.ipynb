{
  "cells": [
    {
      "cell_type": "code",
      "source": [
        "!pip uninstall -y numpy\n",
        "!pip install numpy==1.26.4 --upgrade --force-reinstall --quiet"
      ],
      "metadata": {
        "id": "yXg-ZhRs8yGf",
        "colab": {
          "base_uri": "https://localhost:8080/"
        },
        "outputId": "2a072db2-644d-419e-efa0-7eab0cdf3050"
      },
      "execution_count": 1,
      "outputs": [
        {
          "output_type": "stream",
          "name": "stdout",
          "text": [
            "Found existing installation: numpy 2.0.2\n",
            "Uninstalling numpy-2.0.2:\n",
            "  Successfully uninstalled numpy-2.0.2\n",
            "\u001b[2K     \u001b[90m━━━━━━━━━━━━━━━━━━━━━━━━━━━━━━━━━━━━━━━━\u001b[0m \u001b[32m61.0/61.0 kB\u001b[0m \u001b[31m1.3 MB/s\u001b[0m eta \u001b[36m0:00:00\u001b[0m\n",
            "\u001b[2K   \u001b[90m━━━━━━━━━━━━━━━━━━━━━━━━━━━━━━━━━━━━━━━━\u001b[0m \u001b[32m18.3/18.3 MB\u001b[0m \u001b[31m37.7 MB/s\u001b[0m eta \u001b[36m0:00:00\u001b[0m\n",
            "\u001b[?25h\u001b[31mERROR: pip's dependency resolver does not currently take into account all the packages that are installed. This behaviour is the source of the following dependency conflicts.\n",
            "thinc 8.3.6 requires numpy<3.0.0,>=2.0.0, but you have numpy 1.26.4 which is incompatible.\u001b[0m\u001b[31m\n",
            "\u001b[0m"
          ]
        }
      ]
    },
    {
      "cell_type": "code",
      "source": [
        "import os\n",
        "os.kill(os.getpid(), 9)"
      ],
      "metadata": {
        "id": "n13WNiIK_U4W"
      },
      "execution_count": null,
      "outputs": []
    },
    {
      "cell_type": "code",
      "source": [
        "import numpy as np\n",
        "print(np.__version__)"
      ],
      "metadata": {
        "id": "W8rBRK-w_Fr8",
        "colab": {
          "base_uri": "https://localhost:8080/"
        },
        "outputId": "4ef38cc5-57b5-4718-acbd-00eb15c7c085"
      },
      "execution_count": 1,
      "outputs": [
        {
          "output_type": "stream",
          "name": "stdout",
          "text": [
            "1.26.4\n"
          ]
        }
      ]
    },
    {
      "cell_type": "code",
      "execution_count": 2,
      "metadata": {
        "id": "cX22YoA96Rx_",
        "colab": {
          "base_uri": "https://localhost:8080/"
        },
        "outputId": "d382b62f-4a8c-44e7-be88-da223aaf2e57"
      },
      "outputs": [
        {
          "output_type": "stream",
          "name": "stdout",
          "text": [
            "Collecting pennylane\n",
            "  Downloading PennyLane-0.41.1-py3-none-any.whl.metadata (10 kB)\n",
            "Collecting pennylane-lightning\n",
            "  Downloading pennylane_lightning-0.41.1-cp311-cp311-manylinux_2_28_x86_64.whl.metadata (12 kB)\n",
            "Requirement already satisfied: numpy in /usr/local/lib/python3.11/dist-packages (from pennylane) (1.26.4)\n",
            "Requirement already satisfied: scipy in /usr/local/lib/python3.11/dist-packages (from pennylane) (1.15.3)\n",
            "Requirement already satisfied: networkx in /usr/local/lib/python3.11/dist-packages (from pennylane) (3.5)\n",
            "Collecting rustworkx>=0.14.0 (from pennylane)\n",
            "  Downloading rustworkx-0.16.0-cp39-abi3-manylinux_2_17_x86_64.manylinux2014_x86_64.whl.metadata (10 kB)\n",
            "Requirement already satisfied: autograd in /usr/local/lib/python3.11/dist-packages (from pennylane) (1.8.0)\n",
            "Requirement already satisfied: tomlkit in /usr/local/lib/python3.11/dist-packages (from pennylane) (0.13.2)\n",
            "Collecting appdirs (from pennylane)\n",
            "  Downloading appdirs-1.4.4-py2.py3-none-any.whl.metadata (9.0 kB)\n",
            "Collecting autoray>=0.6.11 (from pennylane)\n",
            "  Downloading autoray-0.7.1-py3-none-any.whl.metadata (5.8 kB)\n",
            "Requirement already satisfied: cachetools in /usr/local/lib/python3.11/dist-packages (from pennylane) (5.5.2)\n",
            "Requirement already satisfied: requests in /usr/local/lib/python3.11/dist-packages (from pennylane) (2.32.3)\n",
            "Requirement already satisfied: typing-extensions in /usr/local/lib/python3.11/dist-packages (from pennylane) (4.14.0)\n",
            "Requirement already satisfied: packaging in /usr/local/lib/python3.11/dist-packages (from pennylane) (24.2)\n",
            "Collecting diastatic-malt (from pennylane)\n",
            "  Downloading diastatic_malt-2.15.2-py3-none-any.whl.metadata (2.6 kB)\n",
            "Collecting scipy-openblas32>=0.3.26 (from pennylane-lightning)\n",
            "  Downloading scipy_openblas32-0.3.29.265.1-py3-none-manylinux2014_x86_64.manylinux_2_17_x86_64.whl.metadata (56 kB)\n",
            "\u001b[2K     \u001b[90m━━━━━━━━━━━━━━━━━━━━━━━━━━━━━━━━━━━━━━━━\u001b[0m \u001b[32m56.1/56.1 kB\u001b[0m \u001b[31m4.8 MB/s\u001b[0m eta \u001b[36m0:00:00\u001b[0m\n",
            "\u001b[?25hRequirement already satisfied: astunparse in /usr/local/lib/python3.11/dist-packages (from diastatic-malt->pennylane) (1.6.3)\n",
            "Requirement already satisfied: gast in /usr/local/lib/python3.11/dist-packages (from diastatic-malt->pennylane) (0.6.0)\n",
            "Requirement already satisfied: termcolor in /usr/local/lib/python3.11/dist-packages (from diastatic-malt->pennylane) (3.1.0)\n",
            "Requirement already satisfied: charset-normalizer<4,>=2 in /usr/local/lib/python3.11/dist-packages (from requests->pennylane) (3.4.2)\n",
            "Requirement already satisfied: idna<4,>=2.5 in /usr/local/lib/python3.11/dist-packages (from requests->pennylane) (3.10)\n",
            "Requirement already satisfied: urllib3<3,>=1.21.1 in /usr/local/lib/python3.11/dist-packages (from requests->pennylane) (2.4.0)\n",
            "Requirement already satisfied: certifi>=2017.4.17 in /usr/local/lib/python3.11/dist-packages (from requests->pennylane) (2025.4.26)\n",
            "Requirement already satisfied: wheel<1.0,>=0.23.0 in /usr/local/lib/python3.11/dist-packages (from astunparse->diastatic-malt->pennylane) (0.45.1)\n",
            "Requirement already satisfied: six<2.0,>=1.6.1 in /usr/local/lib/python3.11/dist-packages (from astunparse->diastatic-malt->pennylane) (1.17.0)\n",
            "Downloading PennyLane-0.41.1-py3-none-any.whl (2.3 MB)\n",
            "\u001b[2K   \u001b[90m━━━━━━━━━━━━━━━━━━━━━━━━━━━━━━━━━━━━━━━━\u001b[0m \u001b[32m2.3/2.3 MB\u001b[0m \u001b[31m57.1 MB/s\u001b[0m eta \u001b[36m0:00:00\u001b[0m\n",
            "\u001b[?25hDownloading pennylane_lightning-0.41.1-cp311-cp311-manylinux_2_28_x86_64.whl (2.5 MB)\n",
            "\u001b[2K   \u001b[90m━━━━━━━━━━━━━━━━━━━━━━━━━━━━━━━━━━━━━━━━\u001b[0m \u001b[32m2.5/2.5 MB\u001b[0m \u001b[31m38.8 MB/s\u001b[0m eta \u001b[36m0:00:00\u001b[0m\n",
            "\u001b[?25hDownloading autoray-0.7.1-py3-none-any.whl (930 kB)\n",
            "\u001b[2K   \u001b[90m━━━━━━━━━━━━━━━━━━━━━━━━━━━━━━━━━━━━━━━━\u001b[0m \u001b[32m930.8/930.8 kB\u001b[0m \u001b[31m54.8 MB/s\u001b[0m eta \u001b[36m0:00:00\u001b[0m\n",
            "\u001b[?25hDownloading rustworkx-0.16.0-cp39-abi3-manylinux_2_17_x86_64.manylinux2014_x86_64.whl (2.1 MB)\n",
            "\u001b[2K   \u001b[90m━━━━━━━━━━━━━━━━━━━━━━━━━━━━━━━━━━━━━━━━\u001b[0m \u001b[32m2.1/2.1 MB\u001b[0m \u001b[31m71.6 MB/s\u001b[0m eta \u001b[36m0:00:00\u001b[0m\n",
            "\u001b[?25hDownloading scipy_openblas32-0.3.29.265.1-py3-none-manylinux2014_x86_64.manylinux_2_17_x86_64.whl (8.6 MB)\n",
            "\u001b[2K   \u001b[90m━━━━━━━━━━━━━━━━━━━━━━━━━━━━━━━━━━━━━━━━\u001b[0m \u001b[32m8.6/8.6 MB\u001b[0m \u001b[31m80.9 MB/s\u001b[0m eta \u001b[36m0:00:00\u001b[0m\n",
            "\u001b[?25hDownloading appdirs-1.4.4-py2.py3-none-any.whl (9.6 kB)\n",
            "Downloading diastatic_malt-2.15.2-py3-none-any.whl (167 kB)\n",
            "\u001b[2K   \u001b[90m━━━━━━━━━━━━━━━━━━━━━━━━━━━━━━━━━━━━━━━━\u001b[0m \u001b[32m167.9/167.9 kB\u001b[0m \u001b[31m14.7 MB/s\u001b[0m eta \u001b[36m0:00:00\u001b[0m\n",
            "\u001b[?25hInstalling collected packages: appdirs, scipy-openblas32, rustworkx, autoray, diastatic-malt, pennylane-lightning, pennylane\n",
            "Successfully installed appdirs-1.4.4 autoray-0.7.1 diastatic-malt-2.15.2 pennylane-0.41.1 pennylane-lightning-0.41.1 rustworkx-0.16.0 scipy-openblas32-0.3.29.265.1\n"
          ]
        }
      ],
      "source": [
        "#Install dependencies\n",
        "!pip install pennylane pennylane-lightning"
      ]
    },
    {
      "cell_type": "code",
      "execution_count": 3,
      "metadata": {
        "id": "4Coau8lq5dVs",
        "colab": {
          "base_uri": "https://localhost:8080/"
        },
        "outputId": "dc9249f0-fc12-4593-fe13-b19aed550c4a"
      },
      "outputs": [
        {
          "output_type": "stream",
          "name": "stdout",
          "text": [
            "Mounted at /content/drive\n"
          ]
        }
      ],
      "source": [
        "from google.colab import drive\n",
        "drive.mount(\"/content/drive\", force_remount = True)"
      ]
    },
    {
      "cell_type": "code",
      "execution_count": 31,
      "metadata": {
        "id": "wujDBeIWVfJB"
      },
      "outputs": [],
      "source": [
        "import torch\n",
        "import torch.nn as nn\n",
        "from torch.utils.data import Dataset, DataLoader, Subset\n",
        "\n",
        "import math\n",
        "import re\n",
        "import pandas as pd\n",
        "import numpy as np\n",
        "import time\n",
        "import nltk\n",
        "from nltk.corpus import stopwords\n",
        "import matplotlib.pyplot as plt\n",
        "import pennylane as qml\n",
        "\n",
        "from sklearn.model_selection import train_test_split\n",
        "from sklearn.metrics import confusion_matrix, classification_report\n",
        "from sklearn.feature_extraction.text import CountVectorizer\n",
        "from sklearn.decomposition import PCA"
      ]
    },
    {
      "cell_type": "code",
      "source": [
        "nltk.download(\"stopwords\")\n",
        "stop_words = set(stopwords.words(\"english\"))"
      ],
      "metadata": {
        "id": "NQACW6Glibop",
        "colab": {
          "base_uri": "https://localhost:8080/"
        },
        "outputId": "742f39b5-b633-4abb-9bb7-7b4bea946ea0"
      },
      "execution_count": 32,
      "outputs": [
        {
          "output_type": "stream",
          "name": "stderr",
          "text": [
            "[nltk_data] Downloading package stopwords to /root/nltk_data...\n",
            "[nltk_data]   Package stopwords is already up-to-date!\n"
          ]
        }
      ]
    },
    {
      "cell_type": "markdown",
      "source": [
        "# **Data Loading and Preprocessing**"
      ],
      "metadata": {
        "id": "W-JvfuE2iluD"
      }
    },
    {
      "cell_type": "code",
      "execution_count": 33,
      "metadata": {
        "id": "pFavMV2CVq48"
      },
      "outputs": [],
      "source": [
        "with open(\"/content/drive/MyDrive/QML-Research/Data/sentiment labelled sentences/amazon_cells_labelled.txt\", \"r\") as f:\n",
        "    lines = f.readlines()\n",
        "\n",
        "sentences = [line.split(\"\\t\")[0] for line in lines]\n",
        "labels = [int(line.split(\"\\t\")[1]) for line in lines]"
      ]
    },
    {
      "cell_type": "code",
      "source": [
        "print(f\"0 Labels: {labels.count(0)}\")\n",
        "print(f\"1 Labels: {labels.count(1)}\")"
      ],
      "metadata": {
        "colab": {
          "base_uri": "https://localhost:8080/"
        },
        "id": "YeVFuLNuw6QY",
        "outputId": "91cfc3c2-4256-422b-ec20-24ba7615adc4"
      },
      "execution_count": 36,
      "outputs": [
        {
          "output_type": "stream",
          "name": "stdout",
          "text": [
            "0 Labels: 500\n",
            "1 Labels: 500\n"
          ]
        }
      ]
    },
    {
      "cell_type": "code",
      "source": [
        "len(sentences)"
      ],
      "metadata": {
        "colab": {
          "base_uri": "https://localhost:8080/"
        },
        "id": "R7tw7RTHtFYv",
        "outputId": "5b8efe91-7da8-4b80-f90c-94a77ce16a87"
      },
      "execution_count": 34,
      "outputs": [
        {
          "output_type": "execute_result",
          "data": {
            "text/plain": [
              "1000"
            ]
          },
          "metadata": {},
          "execution_count": 34
        }
      ]
    },
    {
      "cell_type": "code",
      "source": [
        "def stopword_tokenize(sequence):\n",
        "  sequence = re.sub(r\"[^\\w\\s]\", \"\", sequence.lower())\n",
        "  tokens = sequence.split()\n",
        "  return [word for word in tokens if word not in stop_words]\n",
        "\n",
        "cleaned_sents = [stopword_tokenize(sentence) for sentence in sentences]"
      ],
      "metadata": {
        "id": "nARd4RZaik6n"
      },
      "execution_count": 7,
      "outputs": []
    },
    {
      "cell_type": "markdown",
      "source": [
        "# **EDA**"
      ],
      "metadata": {
        "id": "t1BBBXbBoeRB"
      }
    },
    {
      "cell_type": "code",
      "source": [
        "lengths = [len(s) for s in cleaned_sents]\n",
        "print(f\"Sentence Lengths:\\nmin = {np.min(lengths)}\\nmax = {np.max(lengths)}\\nmean = {np.mean(lengths):.2f}\\n95th percentile = {np.percentile(lengths, 95)}\")\n",
        "print()\n",
        "plt.hist(lengths, bins = 30)\n",
        "plt.title(\"Sentence Length Distribution\")\n",
        "plt.xlabel(\"Sentence Length\")\n",
        "plt.ylabel(\"Count\")\n",
        "plt.show()"
      ],
      "metadata": {
        "id": "ja0Gqzm2oeHh",
        "colab": {
          "base_uri": "https://localhost:8080/",
          "height": 576
        },
        "outputId": "08378509-9434-4472-f47c-9f9db033c116"
      },
      "execution_count": 8,
      "outputs": [
        {
          "output_type": "stream",
          "name": "stdout",
          "text": [
            "Sentence Lengths:\n",
            "min = 1\n",
            "max = 17\n",
            "mean = 5.36\n",
            "95th percentile = 12.0\n",
            "\n"
          ]
        },
        {
          "output_type": "display_data",
          "data": {
            "text/plain": [
              "<Figure size 640x480 with 1 Axes>"
            ],
            "image/png": "[encoded data removed]"
          },
          "metadata": {}
        }
      ]
    },
    {
      "cell_type": "markdown",
      "source": [
        "# **Padding and Truncation**"
      ],
      "metadata": {
        "id": "eOrMaAVspzbr"
      }
    },
    {
      "cell_type": "code",
      "source": [
        "max_len = 10\n",
        "for i in range(len(cleaned_sents)):\n",
        "  if (len(cleaned_sents[i]) < max_len):\n",
        "    cleaned_sents[i] += [\"<PAD>\"] * (max_len - len(cleaned_sents[i]))\n",
        "  else:\n",
        "    cleaned_sents[i] = cleaned_sents[i][:max_len]"
      ],
      "metadata": {
        "id": "rt3Wu3pApwci"
      },
      "execution_count": 9,
      "outputs": []
    },
    {
      "cell_type": "markdown",
      "source": [
        "# **BOW Approach**"
      ],
      "metadata": {
        "id": "W9Fu4T5wdZ6R"
      }
    },
    {
      "cell_type": "code",
      "execution_count": null,
      "metadata": {
        "id": "fcFYvP3zVq2Z"
      },
      "outputs": [],
      "source": [
        "vectorizer = CountVectorizer(binary=True)\n",
        "X = vectorizer.fit_transform(sentences).toarray()\n",
        "X = torch.tensor(X).float()\n",
        "y = torch.tensor(labels).float()"
      ]
    },
    {
      "cell_type": "code",
      "source": [
        "X_train, X_test, y_train, y_test = train_test_split(X, y, test_size=0.2, random_state=42)"
      ],
      "metadata": {
        "id": "1pZ00zXSyGp_"
      },
      "execution_count": null,
      "outputs": []
    },
    {
      "cell_type": "markdown",
      "source": [
        "# **Word Embeddings approach**"
      ],
      "metadata": {
        "id": "XeBULGSFdjY-"
      }
    },
    {
      "cell_type": "code",
      "source": [
        "embedding_model = SentenceTransformer(\"all-MiniLM-L6-v2\")\n",
        "cleaned_sents_str = [\" \".join(tokens) for tokens in cleaned_sents]\n",
        "\n",
        "X_embed = embedding_model.encode(cleaned_sents_str)\n",
        "X_embed = torch.tensor(X_embed).float()\n",
        "y_embed = torch.tensor(labels).float()"
      ],
      "metadata": {
        "id": "5EbPT7oQdjOg"
      },
      "execution_count": null,
      "outputs": []
    },
    {
      "cell_type": "code",
      "source": [
        "df = pd.DataFrame({\n",
        "    \"original_sentence\": sentences,\n",
        "    \"cleaned_sentence\": cleaned_sents_str,\n",
        "    \"label\": labels\n",
        "})\n",
        "\n",
        "df.to_csv(\"preprocessed_dataset.csv\", index=False)"
      ],
      "metadata": {
        "id": "BapZkgpMktNA"
      },
      "execution_count": null,
      "outputs": []
    },
    {
      "cell_type": "markdown",
      "source": [
        "# **Manual GloVe Embedding**"
      ],
      "metadata": {
        "id": "zANXoZ7r5P1Z"
      }
    },
    {
      "cell_type": "code",
      "source": [
        "def load_glove_embeddings(file_path):\n",
        "    embeddings = {}\n",
        "    with open(file_path, 'r', encoding='utf-8') as f:\n",
        "        for line in f:\n",
        "            values = line.strip().split()\n",
        "            word = values[0]\n",
        "            vector = np.array(values[1:], dtype='float32')\n",
        "            embeddings[word] = vector\n",
        "    return embeddings"
      ],
      "metadata": {
        "id": "gXPD5oWx5PQg"
      },
      "execution_count": 10,
      "outputs": []
    },
    {
      "cell_type": "code",
      "source": [
        "def sentence_to_vec(sentence, embeddings, dim):\n",
        "    vectors = []\n",
        "    for word in sentence:\n",
        "        if word in embeddings:\n",
        "            vectors.append(embeddings[word])\n",
        "        else:\n",
        "            vectors.append(np.zeros(dim))\n",
        "    return vectors"
      ],
      "metadata": {
        "id": "4T9ySygT5vCf"
      },
      "execution_count": 11,
      "outputs": []
    },
    {
      "cell_type": "code",
      "source": [
        "def embed_sentences(cleaned_sents, embeddings, dim=5):\n",
        "    return np.array([sentence_to_vec(tokens, embeddings, dim) for tokens in cleaned_sents])"
      ],
      "metadata": {
        "id": "JwH8ts1o5vAO"
      },
      "execution_count": 12,
      "outputs": []
    },
    {
      "cell_type": "code",
      "source": [
        "glove_path = '/content/drive/MyDrive/QML-Research/Data/glove.6B.100d.txt'\n",
        "glove = load_glove_embeddings(glove_path)"
      ],
      "metadata": {
        "id": "E8gSQcWF5u9l"
      },
      "execution_count": 13,
      "outputs": []
    },
    {
      "cell_type": "markdown",
      "source": [
        "# **PCA**"
      ],
      "metadata": {
        "id": "1UNpScLuCJpT"
      }
    },
    {
      "cell_type": "code",
      "source": [
        "all_words = list(glove.keys())\n",
        "all_vectors = np.array([glove[word] for word in all_words])\n",
        "# pca = PCA(n_components=5, random_state=42)\n",
        "# pca = PCA(n_components=15, random_state=42)\n",
        "pca = PCA(n_components=32, random_state=42)\n",
        "reduced_vectors = pca.fit_transform(all_vectors)\n",
        "reduced_embeddings = {word: reduced_vectors[i] for i, word in enumerate(all_words)}"
      ],
      "metadata": {
        "id": "5Y2dkcDCCInS"
      },
      "execution_count": 14,
      "outputs": []
    },
    {
      "cell_type": "markdown",
      "source": [
        "# **Word Encoding**"
      ],
      "metadata": {
        "id": "2K7EODX6CPup"
      }
    },
    {
      "cell_type": "code",
      "source": [
        "# X_embed_np = embed_sentences(cleaned_sents, reduced_embeddings, dim=5)\n",
        "# X_embed_np = embed_sentences(cleaned_sents, reduced_embeddings, dim=15)\n",
        "X_embed_np = embed_sentences(cleaned_sents, reduced_embeddings, dim=32)\n",
        "X_embed = torch.tensor(X_embed_np).float()\n",
        "y_embed = torch.tensor(labels).float()"
      ],
      "metadata": {
        "id": "88dYvXhz6ZE-"
      },
      "execution_count": 15,
      "outputs": []
    },
    {
      "cell_type": "code",
      "source": [
        "X_embed[0]"
      ],
      "metadata": {
        "id": "5rxvlVgYATL9",
        "colab": {
          "base_uri": "https://localhost:8080/"
        },
        "outputId": "4e6c5744-99cc-41b6-b4db-970efccda138"
      },
      "execution_count": 16,
      "outputs": [
        {
          "output_type": "execute_result",
          "data": {
            "text/plain": [
              "tensor([[-5.1434e+00,  1.2269e-01, -9.9965e-02,  8.1665e-01, -7.2092e-02,\n",
              "          1.9693e+00,  1.4129e-01,  4.9388e-01, -3.2231e-01,  6.5924e-01,\n",
              "         -9.9895e-01,  1.1870e-01, -2.0301e-01,  3.5686e-01, -2.9018e-02,\n",
              "          1.9936e-01, -6.9530e-01,  2.5739e-01,  3.4662e-01, -1.2635e-01,\n",
              "          1.8321e-02, -1.6034e-01,  8.6802e-02,  8.6058e-02,  1.8270e-01,\n",
              "          1.4415e-01,  2.6510e-01,  3.0772e-01, -1.7399e-01,  1.3690e-01,\n",
              "          4.2661e-02,  2.5137e-01],\n",
              "        [-2.6515e+00, -7.0814e-01, -2.8305e-01,  2.8472e-01, -3.6879e-01,\n",
              "          7.2527e-01, -1.0879e-01,  6.1020e-02,  6.5912e-01,  1.1538e-01,\n",
              "         -1.5700e-01,  7.6759e-01,  2.0213e-01,  1.3268e+00, -1.5796e+00,\n",
              "          2.8325e-01, -3.8706e-01,  8.1515e-01,  4.3449e-01, -1.3116e-01,\n",
              "          2.2726e-01,  5.4945e-01,  1.1203e-01, -1.6181e-01,  2.0447e-01,\n",
              "         -5.1329e-01, -1.5652e-02,  5.5695e-01, -4.0126e-01,  9.8258e-02,\n",
              "          1.3588e-01, -9.9213e-01],\n",
              "        [-5.1575e+00, -3.5955e-01, -3.7834e-01, -1.3313e+00, -1.4052e+00,\n",
              "          2.6487e+00,  3.0944e-01, -4.2150e-01, -5.2522e-01,  8.0610e-01,\n",
              "          6.6258e-01, -6.1942e-01, -9.2715e-01,  7.3911e-01,  4.0629e-01,\n",
              "          1.0819e-01, -4.5169e-01,  7.2619e-01,  3.6570e-01,  2.4909e-01,\n",
              "         -7.1227e-02,  3.6596e-01, -3.3973e-01,  2.0687e-01,  1.5249e-01,\n",
              "          4.8160e-01, -3.2484e-01,  7.6768e-01, -5.2543e-02, -8.7471e-01,\n",
              "          4.7068e-01, -1.3481e-01],\n",
              "        [-3.2855e+00, -7.8661e-02, -3.9155e-01,  5.1075e-01, -7.5722e-01,\n",
              "          2.0849e+00,  5.1278e-01, -5.6593e-01, -6.2459e-01,  1.0926e+00,\n",
              "         -7.8342e-01, -2.3862e-01, -9.9756e-01,  7.2623e-01, -7.8128e-02,\n",
              "          1.2052e+00, -7.6213e-01,  7.2426e-01,  3.3118e-01, -8.9714e-02,\n",
              "         -2.7784e-01,  3.4379e-01,  6.8077e-01,  4.9771e-01,  3.4879e-01,\n",
              "         -2.9271e-01, -2.8741e-01,  2.9335e-01, -9.1195e-02,  1.0173e-01,\n",
              "          6.7288e-01,  3.4503e-01],\n",
              "        [-4.6692e+00,  7.7435e-02, -2.0747e-01,  4.5561e-02, -1.0315e+00,\n",
              "          2.2550e+00, -4.8686e-01,  3.0055e-01, -3.7080e-01,  8.1955e-01,\n",
              "         -9.0592e-01,  4.2456e-03, -8.4618e-02,  5.9578e-01,  2.9421e-01,\n",
              "          9.0001e-01, -6.3126e-01,  4.1842e-01,  2.3054e-01,  2.2982e-01,\n",
              "          5.8068e-02, -3.0023e-01,  4.8095e-01,  5.5178e-01,  4.7309e-03,\n",
              "         -1.3213e-01, -2.0562e-01,  2.3403e-01, -2.2496e-01,  3.2337e-01,\n",
              "         -1.3033e-01,  7.3931e-01],\n",
              "        [-1.6637e+00, -9.9668e-01, -9.9782e-03, -4.3325e-01, -3.5761e-01,\n",
              "         -2.8037e-01,  9.2445e-01,  1.1567e-01,  8.2300e-01, -2.5952e-01,\n",
              "          3.1498e-03,  4.6282e-01,  6.4723e-01,  4.4306e-01, -2.3291e+00,\n",
              "          5.0440e-01,  1.1187e-01,  3.1839e-01,  1.6447e-01, -8.0795e-02,\n",
              "          1.2551e-01,  1.1738e+00,  2.0024e-01, -7.6761e-01, -9.8662e-02,\n",
              "         -3.6740e-01, -2.6807e-01, -1.2930e-01, -2.8056e-01, -2.5268e-01,\n",
              "         -3.7642e-01, -1.3160e-01],\n",
              "        [ 0.0000e+00,  0.0000e+00,  0.0000e+00,  0.0000e+00,  0.0000e+00,\n",
              "          0.0000e+00,  0.0000e+00,  0.0000e+00,  0.0000e+00,  0.0000e+00,\n",
              "          0.0000e+00,  0.0000e+00,  0.0000e+00,  0.0000e+00,  0.0000e+00,\n",
              "          0.0000e+00,  0.0000e+00,  0.0000e+00,  0.0000e+00,  0.0000e+00,\n",
              "          0.0000e+00,  0.0000e+00,  0.0000e+00,  0.0000e+00,  0.0000e+00,\n",
              "          0.0000e+00,  0.0000e+00,  0.0000e+00,  0.0000e+00,  0.0000e+00,\n",
              "          0.0000e+00,  0.0000e+00],\n",
              "        [ 0.0000e+00,  0.0000e+00,  0.0000e+00,  0.0000e+00,  0.0000e+00,\n",
              "          0.0000e+00,  0.0000e+00,  0.0000e+00,  0.0000e+00,  0.0000e+00,\n",
              "          0.0000e+00,  0.0000e+00,  0.0000e+00,  0.0000e+00,  0.0000e+00,\n",
              "          0.0000e+00,  0.0000e+00,  0.0000e+00,  0.0000e+00,  0.0000e+00,\n",
              "          0.0000e+00,  0.0000e+00,  0.0000e+00,  0.0000e+00,  0.0000e+00,\n",
              "          0.0000e+00,  0.0000e+00,  0.0000e+00,  0.0000e+00,  0.0000e+00,\n",
              "          0.0000e+00,  0.0000e+00],\n",
              "        [ 0.0000e+00,  0.0000e+00,  0.0000e+00,  0.0000e+00,  0.0000e+00,\n",
              "          0.0000e+00,  0.0000e+00,  0.0000e+00,  0.0000e+00,  0.0000e+00,\n",
              "          0.0000e+00,  0.0000e+00,  0.0000e+00,  0.0000e+00,  0.0000e+00,\n",
              "          0.0000e+00,  0.0000e+00,  0.0000e+00,  0.0000e+00,  0.0000e+00,\n",
              "          0.0000e+00,  0.0000e+00,  0.0000e+00,  0.0000e+00,  0.0000e+00,\n",
              "          0.0000e+00,  0.0000e+00,  0.0000e+00,  0.0000e+00,  0.0000e+00,\n",
              "          0.0000e+00,  0.0000e+00],\n",
              "        [ 0.0000e+00,  0.0000e+00,  0.0000e+00,  0.0000e+00,  0.0000e+00,\n",
              "          0.0000e+00,  0.0000e+00,  0.0000e+00,  0.0000e+00,  0.0000e+00,\n",
              "          0.0000e+00,  0.0000e+00,  0.0000e+00,  0.0000e+00,  0.0000e+00,\n",
              "          0.0000e+00,  0.0000e+00,  0.0000e+00,  0.0000e+00,  0.0000e+00,\n",
              "          0.0000e+00,  0.0000e+00,  0.0000e+00,  0.0000e+00,  0.0000e+00,\n",
              "          0.0000e+00,  0.0000e+00,  0.0000e+00,  0.0000e+00,  0.0000e+00,\n",
              "          0.0000e+00,  0.0000e+00]])"
            ]
          },
          "metadata": {},
          "execution_count": 16
        }
      ]
    },
    {
      "cell_type": "markdown",
      "source": [
        "# **DataLoader**"
      ],
      "metadata": {
        "id": "BoIII4KCdxJL"
      }
    },
    {
      "cell_type": "code",
      "execution_count": 17,
      "metadata": {
        "id": "Qa4_XeG2Vqz0"
      },
      "outputs": [],
      "source": [
        "X_train, X_test, y_train, y_test = train_test_split(X_embed, y_embed, test_size=0.2, random_state=42)"
      ]
    },
    {
      "cell_type": "code",
      "execution_count": 18,
      "metadata": {
        "id": "O7DmHla6VqxF"
      },
      "outputs": [],
      "source": [
        "class AmazonDataset(Dataset):\n",
        "    def __init__(self, X, y):\n",
        "        self.X = X\n",
        "        self.y = y\n",
        "\n",
        "    def __len__(self):\n",
        "        return len(self.X)\n",
        "\n",
        "    def __getitem__(self, idx):\n",
        "        return self.X[idx], self.y[idx]"
      ]
    },
    {
      "cell_type": "code",
      "execution_count": 19,
      "metadata": {
        "id": "1yNozjtYVqui"
      },
      "outputs": [],
      "source": [
        "small_train_dataset = Subset(AmazonDataset(X_train, y_train), list(range(100)))\n",
        "train_loader_small = DataLoader(small_train_dataset, batch_size=1, shuffle=True)\n",
        "test_loader = DataLoader(AmazonDataset(X_test, y_test), batch_size=1)"
      ]
    },
    {
      "cell_type": "code",
      "source": [
        "len(test_loader)"
      ],
      "metadata": {
        "id": "H1BQbaWB2BgP",
        "colab": {
          "base_uri": "https://localhost:8080/"
        },
        "outputId": "04bd5600-7eba-4df6-98a7-eade01ead40f"
      },
      "execution_count": 20,
      "outputs": [
        {
          "output_type": "execute_result",
          "data": {
            "text/plain": [
              "200"
            ]
          },
          "metadata": {},
          "execution_count": 20
        }
      ]
    },
    {
      "cell_type": "code",
      "source": [
        "xbtemp, ybtemp = next(iter(train_loader_small))\n",
        "xbtemp"
      ],
      "metadata": {
        "id": "otU-OlHpP4PV",
        "colab": {
          "base_uri": "https://localhost:8080/"
        },
        "outputId": "46f04423-b22e-4560-e88d-dde4cee2c89c"
      },
      "execution_count": 21,
      "outputs": [
        {
          "output_type": "execute_result",
          "data": {
            "text/plain": [
              "tensor([[[-3.5909e+00,  2.5066e-01, -3.5235e-01, -2.6059e-01, -5.2569e-01,\n",
              "           2.1643e+00,  1.2377e-01, -1.4628e-01, -1.5233e-01,  8.0387e-01,\n",
              "          -2.3695e-01,  5.3273e-01, -2.8278e-01,  6.4641e-01, -8.1236e-01,\n",
              "           9.8459e-02, -3.6603e-01,  3.3365e-01, -6.4946e-01,  1.4754e+00,\n",
              "          -6.9389e-01,  1.0101e+00,  3.8586e-01, -1.0336e-01,  2.6911e-01,\n",
              "          -1.2856e+00,  1.1547e-01,  4.3415e-01, -7.4635e-01, -2.1545e-01,\n",
              "           1.0871e+00,  2.9851e-01],\n",
              "         [-3.5539e+00, -1.4025e-01, -8.8389e-01,  7.7324e-01, -5.6430e-01,\n",
              "           2.0528e+00,  4.6357e-01,  1.1209e-01,  4.1424e-01,  8.3290e-01,\n",
              "          -1.2644e+00,  5.6920e-02,  8.1895e-01,  7.0984e-01,  2.3433e-01,\n",
              "           1.2067e-01, -6.4197e-01, -2.3276e-03, -3.1282e-02,  8.2581e-01,\n",
              "          -3.6517e-01,  1.4477e-01,  7.0327e-02,  1.7163e-01,  1.0683e-01,\n",
              "           3.1715e-01,  4.0630e-01,  1.0507e+00, -9.0112e-03,  5.3061e-01,\n",
              "          -1.6010e-01,  1.0148e-01],\n",
              "         [-3.3392e+00,  5.6792e-02, -4.4531e-01, -1.8097e-01, -6.6535e-02,\n",
              "           1.8916e+00, -4.9291e-02, -4.3284e-01, -4.4917e-01,  1.0660e+00,\n",
              "          -5.6435e-01,  3.0389e-02, -4.0887e-01,  9.5349e-01, -9.6846e-02,\n",
              "           3.4623e-01, -6.5624e-02,  4.6373e-01, -1.1334e-01,  1.4727e-01,\n",
              "           1.7251e-01,  4.3411e-01, -4.0925e-01,  1.9917e-03,  2.6121e-02,\n",
              "           3.5570e-01,  1.9859e-01,  2.8891e-01,  2.4744e-01, -4.1440e-01,\n",
              "           4.9472e-01, -1.0243e-01],\n",
              "         [-4.3129e+00, -1.6515e-01, -6.1713e-01,  1.6048e+00, -5.8592e-01,\n",
              "           1.7517e+00,  1.9916e-01,  4.0671e-01, -5.5690e-01,  5.4145e-02,\n",
              "          -9.1193e-01, -6.5416e-02, -6.8651e-01,  1.5271e-01,  8.9186e-02,\n",
              "          -5.0816e-01, -1.0178e+00,  1.0205e-02,  2.3066e-01,  3.5470e-01,\n",
              "           5.5555e-01, -1.0385e-01,  2.0048e-01,  4.7028e-01,  6.5623e-01,\n",
              "           2.3368e-01, -2.2812e-01,  1.5270e-01, -8.3181e-02, -5.1251e-01,\n",
              "           9.4005e-02,  2.6617e-01],\n",
              "         [-3.2395e+00, -1.6882e-01, -1.2685e+00,  3.5221e-01, -2.8192e-01,\n",
              "           1.2678e+00,  2.2807e-03, -1.9563e-01, -7.0069e-01,  5.4460e-01,\n",
              "          -4.7988e-01, -5.1103e-01, -9.2758e-01,  3.6354e-01, -8.5445e-01,\n",
              "           7.7323e-01, -2.2599e-01,  3.1930e-01, -1.1541e+00,  5.1197e-01,\n",
              "           4.3502e-02,  6.4994e-01,  4.5715e-02, -4.7430e-01,  6.0204e-03,\n",
              "          -5.0177e-01,  2.1653e-01, -4.0616e-01,  2.8513e-01, -1.7095e-01,\n",
              "           6.8802e-01,  3.9586e-01],\n",
              "         [-3.6946e+00, -1.6915e-01, -7.8546e-01,  7.7705e-01, -1.1612e+00,\n",
              "           2.1265e+00,  9.5077e-01, -9.2021e-02,  5.5231e-01,  4.8642e-01,\n",
              "           1.6856e-01,  1.5063e-01, -8.7886e-01,  3.8753e-01, -6.3989e-01,\n",
              "           8.4546e-01, -7.7488e-01, -5.5802e-02, -8.7394e-01,  1.3759e+00,\n",
              "          -1.1312e-01, -5.2722e-02,  1.0423e+00, -1.2988e+00,  8.7801e-03,\n",
              "          -5.5772e-01,  3.3843e-01, -1.6409e-01,  5.6997e-01,  8.1427e-03,\n",
              "          -1.2272e-01, -1.5562e-01],\n",
              "         [-2.1112e+00, -9.2850e-02, -1.2707e+00,  5.7163e-01,  1.4085e-01,\n",
              "           2.7310e-01,  1.1816e-01,  4.7532e-01,  8.8524e-01, -3.9009e-01,\n",
              "          -4.5183e-02,  1.5435e-01, -6.3778e-01,  1.7476e-01, -5.3623e-01,\n",
              "           3.5985e-01, -5.4745e-01, -3.0673e-01, -4.0706e-01,  4.5142e-01,\n",
              "          -3.7749e-01, -5.3872e-01,  6.4417e-01, -4.7776e-01,  3.1986e-02,\n",
              "          -7.0867e-01,  1.3505e+00,  5.0078e-01,  3.4059e-01,  3.2447e-01,\n",
              "          -3.6676e-01, -4.5664e-01],\n",
              "         [-3.1778e+00, -4.6353e-01, -6.3424e-01,  6.8248e-02,  3.4713e-01,\n",
              "           1.5675e+00,  6.3364e-01, -4.6842e-01, -3.9317e-01,  1.0666e+00,\n",
              "          -4.6054e-01, -4.7369e-02, -1.2719e+00,  7.0832e-01, -7.8811e-01,\n",
              "           2.0047e-01, -7.8538e-01,  9.3719e-01, -1.5349e-01, -6.0649e-02,\n",
              "          -4.8445e-01,  2.6733e-01,  2.2747e-01,  3.1897e-01, -5.9773e-02,\n",
              "          -1.7909e-01, -1.2106e-01, -2.3316e-01, -3.5931e-01,  4.4869e-01,\n",
              "          -3.1024e-01, -6.4147e-01],\n",
              "         [-3.2388e+00, -5.2646e-01, -1.1667e+00, -1.1188e-01, -1.7178e-01,\n",
              "           1.3495e+00,  4.5113e-01, -1.8729e-01,  8.2358e-02,  7.8605e-01,\n",
              "          -9.8914e-01,  4.6503e-01, -1.2219e-01,  9.8946e-01, -3.0522e-01,\n",
              "           1.8692e-01, -9.8538e-01,  1.1503e+00, -1.2219e-01,  4.9774e-01,\n",
              "           2.3158e-01,  2.5315e-01,  4.9216e-02,  6.0288e-01, -1.4399e-01,\n",
              "          -4.8623e-01,  2.9098e-01,  2.0016e-01,  2.9569e-02,  3.2667e-01,\n",
              "          -4.9117e-01, -1.9914e-01],\n",
              "         [-4.2947e+00, -4.7268e-01, -6.6024e-01, -4.4571e-01, -4.9491e-01,\n",
              "           1.6092e+00,  1.0186e+00, -4.5827e-01, -9.3361e-01,  1.5367e+00,\n",
              "          -6.5853e-02,  1.0599e-01, -3.8065e-02,  5.6736e-01,  1.9502e-01,\n",
              "          -5.9480e-01,  7.4938e-02,  3.8757e-01,  2.0140e-01,  3.8617e-01,\n",
              "          -1.2861e-01,  8.1530e-02,  2.1876e-01,  1.0759e-01, -7.6770e-02,\n",
              "          -2.7877e-01, -1.1189e-01, -3.7546e-01,  1.8026e-01,  1.9607e-01,\n",
              "          -5.5043e-01, -4.6125e-03]]])"
            ]
          },
          "metadata": {},
          "execution_count": 21
        }
      ]
    },
    {
      "cell_type": "code",
      "source": [
        "xbtemp[0][0][0]"
      ],
      "metadata": {
        "id": "B_YODqcjQ7Ei",
        "colab": {
          "base_uri": "https://localhost:8080/"
        },
        "outputId": "0d96391a-b50b-428c-ebc6-a790826df6b0"
      },
      "execution_count": 22,
      "outputs": [
        {
          "output_type": "execute_result",
          "data": {
            "text/plain": [
              "tensor(-3.5909)"
            ]
          },
          "metadata": {},
          "execution_count": 22
        }
      ]
    },
    {
      "cell_type": "markdown",
      "source": [
        "# **Quantum Circuit and Model**"
      ],
      "metadata": {
        "id": "VzzqbLrgd3zE"
      }
    },
    {
      "cell_type": "code",
      "execution_count": null,
      "metadata": {
        "id": "JEU5VkJPV3Vv"
      },
      "outputs": [],
      "source": [
        "n_qubits = 6\n",
        "dev = qml.device(\"lightning.qubit\", wires=n_qubits, shots=None)\n",
        "# dev = qml.device(\"default.qubit\", wires=n_qubits, shots=None)"
      ]
    },
    {
      "cell_type": "code",
      "execution_count": null,
      "metadata": {
        "id": "kax0cYoWhd5h"
      },
      "outputs": [],
      "source": [
        "@qml.qnode(dev, interface=\"torch\")\n",
        "def quantum_step(inputs, hidden, weights_in, weights_h):\n",
        "    inputs_norm = inputs / (torch.norm(inputs) + 1e-8)\n",
        "\n",
        "    for i in range(5):\n",
        "        qml.RY(inputs_norm[i], wires=i)\n",
        "\n",
        "    qml.RY(hidden, wires=5)\n",
        "\n",
        "    for i in range(5):\n",
        "        qml.CNOT(wires=[i, (i + 1) % 5])\n",
        "\n",
        "    for i in range(5):\n",
        "        qml.RY(weights_in[i], wires=i)\n",
        "\n",
        "    qml.RY(weights_h[0], wires=5)\n",
        "    return qml.expval(qml.PauliZ(5))"
      ]
    },
    {
      "cell_type": "code",
      "execution_count": null,
      "metadata": {
        "id": "PT5-mg75V3Qg"
      },
      "outputs": [],
      "source": [
        "class QuantumRNN(nn.Module):\n",
        "    def __init__(self):\n",
        "        super().__init__()\n",
        "        self.embedding = nn.Linear(5, 5)\n",
        "        self.weights_in = nn.Parameter(torch.randn(5) * 0.1)\n",
        "        self.weights_h = nn.Parameter(torch.randn(1) * 0.1)\n",
        "        self.classifier = nn.Linear(1, 1)\n",
        "\n",
        "    def forward(self, x):\n",
        "        seq_len = x.shape[0]\n",
        "        hidden = torch.tensor(0.0, requires_grad=True)\n",
        "\n",
        "        for t in range(seq_len):\n",
        "            input_t = self.embedding(x[t])\n",
        "            hidden = quantum_step(input_t, hidden, self.weights_in, self.weights_h)\n",
        "\n",
        "        out = self.classifier(hidden.unsqueeze(0))\n",
        "        return out"
      ]
    },
    {
      "cell_type": "code",
      "execution_count": null,
      "metadata": {
        "id": "aLnafqY0V3Nr"
      },
      "outputs": [],
      "source": [
        "model = QuantumRNN()\n",
        "optimizer = torch.optim.Adam(model.parameters(), lr=0.01)\n",
        "loss_fn = nn.BCEWithLogitsLoss()"
      ]
    },
    {
      "cell_type": "code",
      "source": [
        "for name, param in model.named_parameters():\n",
        "    print(f\"{name}: {param.shape}\")"
      ],
      "metadata": {
        "id": "PmlnpW_MSgcf"
      },
      "execution_count": null,
      "outputs": []
    },
    {
      "cell_type": "markdown",
      "source": [
        "# **Training Loop**"
      ],
      "metadata": {
        "id": "Qcdy70RwfA1S"
      }
    },
    {
      "cell_type": "code",
      "source": [
        "start_time = time.time()\n",
        "epochs = 50\n",
        "model.train()\n",
        "\n",
        "for epoch in range(epochs):\n",
        "    total_loss = 0\n",
        "    correct = 0\n",
        "    total = 0\n",
        "    epoch_start = time.time()\n",
        "\n",
        "    for xb, yb in train_loader_small:\n",
        "        xb = xb.squeeze(0)\n",
        "        yb = yb.squeeze()\n",
        "\n",
        "        optimizer.zero_grad()\n",
        "        output = model(xb)\n",
        "\n",
        "        output_flat = output.squeeze()\n",
        "        yb_flat = yb.float()\n",
        "\n",
        "        loss = loss_fn(output_flat, yb_flat)\n",
        "        loss.backward()\n",
        "        optimizer.step()\n",
        "\n",
        "        total_loss += loss.item()\n",
        "\n",
        "        predicted = (torch.sigmoid(output_flat) > 0.5).float()\n",
        "        correct += (predicted == yb_flat).sum().item()\n",
        "        total += 1\n",
        "\n",
        "    avg_loss = total_loss / len(train_loader_small)\n",
        "    epoch_time = time.time() - epoch_start\n",
        "    accuracy = 100 * correct / total\n",
        "    print(f\"Epoch {epoch+1}, Loss: {avg_loss:.4f}, Accuracy: {accuracy:.2f}%\")\n",
        "    print(f\"Time for epoch: {epoch_time:.2f} seconds\")\n",
        "\n",
        "total_time = time.time() - start_time\n",
        "print(f\"\\nTotal training time: {total_time:.2f} seconds\")"
      ],
      "metadata": {
        "id": "Gcx1PxETjwS5"
      },
      "execution_count": null,
      "outputs": []
    },
    {
      "cell_type": "markdown",
      "source": [
        "# **Testing Loop**"
      ],
      "metadata": {
        "id": "3K3E_grWfFFg"
      }
    },
    {
      "cell_type": "code",
      "execution_count": null,
      "metadata": {
        "id": "rNiXfEm1V_vk"
      },
      "outputs": [],
      "source": [
        "model.eval()\n",
        "correct = 0\n",
        "total = 0\n",
        "with torch.no_grad():\n",
        "    for xb, yb in test_loader:\n",
        "        xb = xb.squeeze(0)\n",
        "        yb = yb.squeeze()\n",
        "        logits = model(xb)\n",
        "        logits_flat = logits.squeeze()\n",
        "        prob = torch.sigmoid(logits_flat)\n",
        "        pred = (prob > 0.5).float()\n",
        "        actual = yb.float()\n",
        "\n",
        "        if pred == actual:\n",
        "            correct += 1\n",
        "        total += 1\n",
        "\n",
        "        if total <= 10:\n",
        "            print(f\"Logit: {logits_flat.item():.3f} | Probability: {prob.item():.3f} | Pred: {pred.item()}, Actual: {actual.item()}\")\n",
        "\n",
        "print(f\"Test Accuracy: {correct / total * 100:.2f}%\")"
      ]
    },
    {
      "cell_type": "markdown",
      "source": [
        "# **Dense Angle Encoding**\n",
        "- **Encodes 15 dimensions using just 3 qubits**"
      ],
      "metadata": {
        "id": "-UabPO_8k3NE"
      }
    },
    {
      "cell_type": "code",
      "source": [
        "n_qubits = 4\n",
        "dev = qml.device(\"lightning.qubit\", wires=n_qubits, shots=None)"
      ],
      "metadata": {
        "id": "zbTXGQa_k8Dl"
      },
      "execution_count": null,
      "outputs": []
    },
    {
      "cell_type": "code",
      "source": [
        "@qml.qnode(dev, interface=\"torch\")\n",
        "def quantum_step(inputs, hidden, weights_in, weights_h):\n",
        "    for i in range(5):\n",
        "        qml.RY(inputs[i], wires=0)\n",
        "        qml.RZ(inputs[i] * 0.5, wires=0)\n",
        "\n",
        "    for i in range(5, 10):\n",
        "        qml.RY(inputs[i], wires=1)\n",
        "        qml.RZ(inputs[i] * 0.5, wires=1)\n",
        "\n",
        "    for i in range(10, 15):\n",
        "        qml.RY(inputs[i], wires=2)\n",
        "        qml.RZ(inputs[i] * 0.5, wires=2)\n",
        "\n",
        "    qml.RY(hidden, wires=3)\n",
        "\n",
        "    qml.CNOT(wires=[0, 1])\n",
        "    qml.CNOT(wires=[1, 2])\n",
        "    qml.CNOT(wires=[2, 3])\n",
        "    qml.CNOT(wires=[3, 0])\n",
        "\n",
        "    for i in range(3):\n",
        "        qml.RY(weights_in[i], wires=i)\n",
        "        qml.RZ(weights_in[i + 3], wires=i)\n",
        "\n",
        "    qml.RY(weights_h[0], wires=3)\n",
        "    return qml.expval(qml.PauliZ(3))"
      ],
      "metadata": {
        "id": "Oo3chpQYlBzH"
      },
      "execution_count": null,
      "outputs": []
    },
    {
      "cell_type": "code",
      "source": [
        "class QuantumRNN(nn.Module):\n",
        "    def __init__(self):\n",
        "        super().__init__()\n",
        "        self.embedding = nn.Linear(15, 15)\n",
        "        self.weights_in = nn.Parameter(torch.randn(6) * 0.1)\n",
        "        self.weights_h = nn.Parameter(torch.randn(1) * 0.1)\n",
        "        self.classifier = nn.Linear(1, 1)\n",
        "\n",
        "    def forward(self, x):\n",
        "        seq_len = x.shape[0]\n",
        "        hidden = torch.tensor(0.0, requires_grad=True)\n",
        "\n",
        "        for t in range(seq_len):\n",
        "            input_t = self.embedding(x[t])\n",
        "            hidden = quantum_step(input_t, hidden, self.weights_in, self.weights_h)\n",
        "\n",
        "        out = self.classifier(hidden.unsqueeze(0))\n",
        "        return out"
      ],
      "metadata": {
        "id": "x2U2BVWilBtD"
      },
      "execution_count": null,
      "outputs": []
    },
    {
      "cell_type": "code",
      "source": [
        "model = QuantumRNN()\n",
        "optimizer = torch.optim.Adam(model.parameters(), lr=0.01)\n",
        "loss_fn = nn.BCEWithLogitsLoss()"
      ],
      "metadata": {
        "id": "w--YDZ-4lBqh"
      },
      "execution_count": null,
      "outputs": []
    },
    {
      "cell_type": "code",
      "source": [
        "for name, param in model.named_parameters():\n",
        "    print(f\"{name}: {param.shape}\")"
      ],
      "metadata": {
        "id": "jOb7sisLlBnW",
        "colab": {
          "base_uri": "https://localhost:8080/"
        },
        "outputId": "3ec29bf6-c89b-41d2-874d-4759448cb552"
      },
      "execution_count": null,
      "outputs": [
        {
          "output_type": "stream",
          "name": "stdout",
          "text": [
            "weights_in: torch.Size([6])\n",
            "weights_h: torch.Size([1])\n",
            "embedding.weight: torch.Size([15, 15])\n",
            "embedding.bias: torch.Size([15])\n",
            "classifier.weight: torch.Size([1, 1])\n",
            "classifier.bias: torch.Size([1])\n"
          ]
        }
      ]
    },
    {
      "cell_type": "code",
      "source": [
        "start_time = time.time()\n",
        "epochs = 50\n",
        "model.train()\n",
        "\n",
        "for epoch in range(epochs):\n",
        "    total_loss = 0\n",
        "    correct = 0\n",
        "    total = 0\n",
        "    epoch_start = time.time()\n",
        "\n",
        "    for xb, yb in train_loader_small:\n",
        "        xb = xb.squeeze(0)\n",
        "        yb = yb.squeeze()\n",
        "\n",
        "        optimizer.zero_grad()\n",
        "        output = model(xb)\n",
        "\n",
        "        output_flat = output.squeeze()\n",
        "        yb_flat = yb.float()\n",
        "\n",
        "        loss = loss_fn(output_flat, yb_flat)\n",
        "        loss.backward()\n",
        "        optimizer.step()\n",
        "\n",
        "        total_loss += loss.item()\n",
        "        predicted = (torch.sigmoid(output_flat) > 0.5).float()\n",
        "        correct += (predicted == yb_flat).sum().item()\n",
        "        total += 1\n",
        "\n",
        "    avg_loss = total_loss / len(train_loader_small)\n",
        "    epoch_time = time.time() - epoch_start\n",
        "    accuracy = 100 * correct / total\n",
        "    print(f\"Epoch {epoch+1}, Loss: {avg_loss:.4f}, Accuracy: {accuracy:.2f}%\")\n",
        "    print(f\"Time for epoch: {epoch_time:.2f} seconds\")\n",
        "\n",
        "total_time = time.time() - start_time\n",
        "print(f\"\\nTotal training time: {total_time:.2f} seconds\")"
      ],
      "metadata": {
        "id": "Kbr8oQ_clSrX",
        "colab": {
          "base_uri": "https://localhost:8080/"
        },
        "outputId": "2fb08af3-3fe8-42c6-d1cd-147f040489b4"
      },
      "execution_count": null,
      "outputs": [
        {
          "output_type": "stream",
          "name": "stdout",
          "text": [
            "Epoch 1, Loss: 0.7099, Accuracy: 46.00%\n",
            "Time for epoch: 10.28 seconds\n",
            "Epoch 2, Loss: 0.6954, Accuracy: 51.00%\n",
            "Time for epoch: 12.73 seconds\n",
            "Epoch 3, Loss: 0.6944, Accuracy: 53.00%\n",
            "Time for epoch: 18.07 seconds\n",
            "Epoch 4, Loss: 0.6926, Accuracy: 53.00%\n",
            "Time for epoch: 12.29 seconds\n",
            "Epoch 5, Loss: 0.6946, Accuracy: 53.00%\n",
            "Time for epoch: 10.39 seconds\n",
            "Epoch 6, Loss: 0.6927, Accuracy: 52.00%\n",
            "Time for epoch: 12.11 seconds\n",
            "Epoch 7, Loss: 0.6934, Accuracy: 53.00%\n",
            "Time for epoch: 10.84 seconds\n",
            "Epoch 8, Loss: 0.6934, Accuracy: 53.00%\n",
            "Time for epoch: 9.52 seconds\n",
            "Epoch 9, Loss: 0.6930, Accuracy: 53.00%\n",
            "Time for epoch: 10.66 seconds\n",
            "Epoch 10, Loss: 0.6929, Accuracy: 53.00%\n",
            "Time for epoch: 10.57 seconds\n",
            "Epoch 11, Loss: 0.6927, Accuracy: 53.00%\n",
            "Time for epoch: 10.39 seconds\n",
            "Epoch 12, Loss: 0.6937, Accuracy: 53.00%\n",
            "Time for epoch: 10.18 seconds\n",
            "Epoch 13, Loss: 0.6937, Accuracy: 53.00%\n",
            "Time for epoch: 10.74 seconds\n",
            "Epoch 14, Loss: 0.6932, Accuracy: 53.00%\n",
            "Time for epoch: 10.43 seconds\n",
            "Epoch 15, Loss: 0.6925, Accuracy: 53.00%\n",
            "Time for epoch: 10.80 seconds\n",
            "Epoch 16, Loss: 0.6955, Accuracy: 51.00%\n",
            "Time for epoch: 10.30 seconds\n",
            "Epoch 17, Loss: 0.6948, Accuracy: 53.00%\n",
            "Time for epoch: 9.88 seconds\n",
            "Epoch 18, Loss: 0.6958, Accuracy: 53.00%\n",
            "Time for epoch: 10.85 seconds\n",
            "Epoch 19, Loss: 0.6918, Accuracy: 54.00%\n",
            "Time for epoch: 10.62 seconds\n",
            "Epoch 20, Loss: 0.6934, Accuracy: 54.00%\n",
            "Time for epoch: 10.52 seconds\n",
            "Epoch 21, Loss: 0.6955, Accuracy: 53.00%\n",
            "Time for epoch: 9.73 seconds\n",
            "Epoch 22, Loss: 0.6913, Accuracy: 53.00%\n",
            "Time for epoch: 10.46 seconds\n",
            "Epoch 23, Loss: 0.6944, Accuracy: 53.00%\n",
            "Time for epoch: 10.47 seconds\n",
            "Epoch 24, Loss: 0.6941, Accuracy: 52.00%\n",
            "Time for epoch: 10.52 seconds\n",
            "Epoch 25, Loss: 0.6917, Accuracy: 53.00%\n",
            "Time for epoch: 11.13 seconds\n",
            "Epoch 26, Loss: 0.6931, Accuracy: 53.00%\n",
            "Time for epoch: 9.29 seconds\n",
            "Epoch 27, Loss: 0.6939, Accuracy: 53.00%\n",
            "Time for epoch: 10.77 seconds\n",
            "Epoch 28, Loss: 0.6917, Accuracy: 53.00%\n",
            "Time for epoch: 10.44 seconds\n",
            "Epoch 29, Loss: 0.6945, Accuracy: 52.00%\n",
            "Time for epoch: 10.39 seconds\n",
            "Epoch 30, Loss: 0.6931, Accuracy: 53.00%\n",
            "Time for epoch: 9.39 seconds\n",
            "Epoch 31, Loss: 0.6924, Accuracy: 53.00%\n",
            "Time for epoch: 10.25 seconds\n",
            "Epoch 32, Loss: 0.6954, Accuracy: 51.00%\n",
            "Time for epoch: 10.72 seconds\n",
            "Epoch 33, Loss: 0.6917, Accuracy: 53.00%\n",
            "Time for epoch: 10.44 seconds\n",
            "Epoch 34, Loss: 0.6926, Accuracy: 53.00%\n",
            "Time for epoch: 9.88 seconds\n",
            "Epoch 35, Loss: 0.6925, Accuracy: 45.00%\n",
            "Time for epoch: 9.97 seconds\n",
            "Epoch 36, Loss: 0.6945, Accuracy: 52.00%\n",
            "Time for epoch: 10.52 seconds\n",
            "Epoch 37, Loss: 0.6930, Accuracy: 53.00%\n",
            "Time for epoch: 10.46 seconds\n",
            "Epoch 38, Loss: 0.6922, Accuracy: 53.00%\n",
            "Time for epoch: 10.49 seconds\n",
            "Epoch 39, Loss: 0.6916, Accuracy: 53.00%\n",
            "Time for epoch: 9.63 seconds\n",
            "Epoch 40, Loss: 0.6915, Accuracy: 54.00%\n",
            "Time for epoch: 10.59 seconds\n",
            "Epoch 41, Loss: 0.6945, Accuracy: 52.00%\n",
            "Time for epoch: 10.59 seconds\n",
            "Epoch 42, Loss: 0.6922, Accuracy: 54.00%\n",
            "Time for epoch: 10.80 seconds\n",
            "Epoch 43, Loss: 0.6918, Accuracy: 54.00%\n",
            "Time for epoch: 9.80 seconds\n",
            "Epoch 44, Loss: 0.6956, Accuracy: 51.00%\n",
            "Time for epoch: 10.46 seconds\n",
            "Epoch 45, Loss: 0.6922, Accuracy: 52.00%\n",
            "Time for epoch: 15.94 seconds\n",
            "Epoch 46, Loss: 0.6926, Accuracy: 54.00%\n",
            "Time for epoch: 17.48 seconds\n",
            "Epoch 47, Loss: 0.6941, Accuracy: 53.00%\n",
            "Time for epoch: 13.24 seconds\n",
            "Epoch 48, Loss: 0.6949, Accuracy: 51.00%\n",
            "Time for epoch: 16.11 seconds\n",
            "Epoch 49, Loss: 0.6900, Accuracy: 54.00%\n",
            "Time for epoch: 14.17 seconds\n",
            "Epoch 50, Loss: 0.6953, Accuracy: 52.00%\n",
            "Time for epoch: 12.27 seconds\n",
            "\n",
            "Total training time: 558.61 seconds\n"
          ]
        }
      ]
    },
    {
      "cell_type": "code",
      "source": [
        "model.eval()\n",
        "correct = 0\n",
        "total = 0\n",
        "with torch.no_grad():\n",
        "    for xb, yb in test_loader:\n",
        "        xb = xb.squeeze(0)\n",
        "        yb = yb.squeeze()\n",
        "\n",
        "        logits = model(xb)\n",
        "        logits_flat = logits.squeeze()\n",
        "        prob = torch.sigmoid(logits_flat)\n",
        "        pred = (prob > 0.5).float()\n",
        "        actual = yb.float()\n",
        "\n",
        "        if pred == actual:\n",
        "            correct += 1\n",
        "        total += 1\n",
        "\n",
        "        if total <= 10:\n",
        "            print(f\"Logit: {logits_flat.item():.3f} | Probability: {prob.item():.3f} | Pred: {pred.item()}, Actual: {actual.item()}\")\n",
        "\n",
        "print(f\"Test Accuracy: {correct / total * 100:.2f}%\")"
      ],
      "metadata": {
        "id": "c1g-_WMQlSoI",
        "colab": {
          "base_uri": "https://localhost:8080/"
        },
        "outputId": "bafc315d-d4e9-4ad1-b6a4-ae67fe65363f"
      },
      "execution_count": null,
      "outputs": [
        {
          "output_type": "stream",
          "name": "stdout",
          "text": [
            "Logit: -0.109 | Probability: 0.473 | Pred: 0.0, Actual: 1.0\n",
            "Logit: -0.112 | Probability: 0.472 | Pred: 0.0, Actual: 1.0\n",
            "Logit: -0.110 | Probability: 0.473 | Pred: 0.0, Actual: 1.0\n",
            "Logit: -0.069 | Probability: 0.483 | Pred: 0.0, Actual: 0.0\n",
            "Logit: -0.110 | Probability: 0.473 | Pred: 0.0, Actual: 1.0\n",
            "Logit: -0.116 | Probability: 0.471 | Pred: 0.0, Actual: 1.0\n",
            "Logit: -0.110 | Probability: 0.473 | Pred: 0.0, Actual: 0.0\n",
            "Logit: 0.019 | Probability: 0.505 | Pred: 1.0, Actual: 1.0\n",
            "Logit: -0.109 | Probability: 0.473 | Pred: 0.0, Actual: 0.0\n",
            "Logit: -0.110 | Probability: 0.473 | Pred: 0.0, Actual: 1.0\n",
            "Test Accuracy: 47.50%\n"
          ]
        }
      ]
    },
    {
      "cell_type": "markdown",
      "source": [
        "# **Amplitude Encoding**\n",
        "- Amplitude encodes an input with dimension of 23 with just 5 qubits, after normalizing the input (Input Normalization is necessary for amplitude encoding)"
      ],
      "metadata": {
        "id": "Ri6yiKQMsDhc"
      }
    },
    {
      "cell_type": "code",
      "source": [
        "n_qubits = 6\n",
        "dev = qml.device(\"lightning.qubit\", wires=n_qubits, shots=None)"
      ],
      "metadata": {
        "id": "FOdTCHHlsGyW"
      },
      "execution_count": null,
      "outputs": []
    },
    {
      "cell_type": "code",
      "source": [
        "@qml.qnode(dev, interface=\"torch\")\n",
        "def quantum_step(inputs, hidden, weights_in, weights_h):\n",
        "\n",
        "    inputs_clean = torch.where(torch.isnan(inputs) | torch.isinf(inputs),\n",
        "                              torch.zeros_like(inputs), inputs)\n",
        "\n",
        "    inputs_clean = inputs_clean + torch.randn_like(inputs_clean) * 1e-6\n",
        "\n",
        "    norm = torch.sqrt(torch.sum(inputs_clean**2) + 1e-8)\n",
        "    inputs_normalized = inputs_clean / norm\n",
        "\n",
        "    final_norm = torch.sqrt(torch.sum(inputs_normalized**2))\n",
        "    if torch.isnan(final_norm) or torch.abs(final_norm - 1.0) > 1e-3:\n",
        "        inputs_normalized = torch.ones_like(inputs_clean) / torch.sqrt(torch.tensor(32.0))\n",
        "\n",
        "    inputs_np = inputs_normalized.detach().numpy()\n",
        "\n",
        "    qml.AmplitudeEmbedding(features=inputs_np, wires=range(5), normalize=False)\n",
        "\n",
        "    qml.RY(hidden, wires=5)\n",
        "\n",
        "    for i in range(5):\n",
        "        qml.CNOT(wires=[i, 5])\n",
        "\n",
        "    for i in range(5):\n",
        "        qml.CNOT(wires=[i, (i + 1) % 5])\n",
        "\n",
        "    for i in range(5):\n",
        "        qml.RY(weights_in[i], wires=i)\n",
        "        qml.RZ(weights_in[i + 5], wires=i)\n",
        "\n",
        "    qml.RY(weights_h[0], wires=5)\n",
        "    qml.RZ(weights_h[1], wires=5)\n",
        "\n",
        "    return qml.expval(qml.PauliZ(5))"
      ],
      "metadata": {
        "id": "uBP8iTCpsHO1"
      },
      "execution_count": null,
      "outputs": []
    },
    {
      "cell_type": "code",
      "source": [
        "class QuantumRNN(nn.Module):\n",
        "    def __init__(self):\n",
        "        super().__init__()\n",
        "        self.embedding = nn.Linear(32, 32)\n",
        "        self.weights_in = nn.Parameter(torch.randn(10) * 0.1)\n",
        "        self.weights_h = nn.Parameter(torch.randn(2) * 0.1)\n",
        "        self.classifier = nn.Linear(1, 1)\n",
        "\n",
        "    def forward(self, x):\n",
        "        seq_len = x.shape[0]\n",
        "        hidden = torch.tensor(0.0, requires_grad=True)\n",
        "\n",
        "        for t in range(seq_len):\n",
        "            input_t = self.embedding(x[t])\n",
        "            hidden = quantum_step(input_t, hidden, self.weights_in, self.weights_h)\n",
        "\n",
        "        out = self.classifier(hidden.unsqueeze(0))\n",
        "        return out"
      ],
      "metadata": {
        "id": "_wve7uQOsHVK"
      },
      "execution_count": null,
      "outputs": []
    },
    {
      "cell_type": "code",
      "source": [
        "model = QuantumRNN()\n",
        "optimizer = torch.optim.Adam(model.parameters(), lr=0.01)\n",
        "loss_fn = nn.BCEWithLogitsLoss()"
      ],
      "metadata": {
        "id": "lG3mC9lesHae"
      },
      "execution_count": null,
      "outputs": []
    },
    {
      "cell_type": "code",
      "source": [
        "for name, param in model.named_parameters():\n",
        "    print(f\"{name}: {param.shape}\")"
      ],
      "metadata": {
        "colab": {
          "base_uri": "https://localhost:8080/"
        },
        "id": "P1fWq5jNsHgG",
        "outputId": "d5ce6174-0372-4f08-e454-4fe25dffa710"
      },
      "execution_count": null,
      "outputs": [
        {
          "output_type": "stream",
          "name": "stdout",
          "text": [
            "weights_in: torch.Size([10])\n",
            "weights_h: torch.Size([2])\n",
            "embedding.weight: torch.Size([32, 32])\n",
            "embedding.bias: torch.Size([32])\n",
            "classifier.weight: torch.Size([1, 1])\n",
            "classifier.bias: torch.Size([1])\n"
          ]
        }
      ]
    },
    {
      "cell_type": "code",
      "source": [
        "start_time = time.time()\n",
        "epochs = 50\n",
        "model.train()\n",
        "\n",
        "for epoch in range(epochs):\n",
        "    total_loss = 0\n",
        "    correct = 0\n",
        "    total = 0\n",
        "    epoch_start = time.time()\n",
        "\n",
        "    for xb, yb in train_loader_small:\n",
        "        xb = xb.squeeze(0)\n",
        "        yb = yb.squeeze()\n",
        "\n",
        "        optimizer.zero_grad()\n",
        "        output = model(xb)\n",
        "\n",
        "        output_flat = output.squeeze()\n",
        "        yb_flat = yb.float()\n",
        "\n",
        "        loss = loss_fn(output_flat, yb_flat)\n",
        "        loss.backward()\n",
        "        optimizer.step()\n",
        "\n",
        "        total_loss += loss.item()\n",
        "        predicted = (torch.sigmoid(output_flat) > 0.5).float()\n",
        "        correct += (predicted == yb_flat).sum().item()\n",
        "        total += 1\n",
        "\n",
        "    avg_loss = total_loss / len(train_loader_small)\n",
        "    epoch_time = time.time() - epoch_start\n",
        "    accuracy = 100 * correct / total\n",
        "    print(f\"Epoch {epoch+1}, Loss: {avg_loss:.4f}, Accuracy: {accuracy:.2f}%\")\n",
        "    print(f\"Time for epoch: {epoch_time:.2f} seconds\")\n",
        "\n",
        "total_time = time.time() - start_time\n",
        "print(f\"\\nTotal training time: {total_time:.2f} seconds\")"
      ],
      "metadata": {
        "colab": {
          "base_uri": "https://localhost:8080/"
        },
        "id": "xI-nxEzSsqXO",
        "outputId": "5217a017-71fc-407f-a176-814a525d5076"
      },
      "execution_count": null,
      "outputs": [
        {
          "output_type": "stream",
          "name": "stdout",
          "text": [
            "Epoch 1, Loss: 0.7273, Accuracy: 47.00%\n",
            "Time for epoch: 6.56 seconds\n",
            "Epoch 2, Loss: 0.7052, Accuracy: 46.00%\n",
            "Time for epoch: 5.60 seconds\n",
            "Epoch 3, Loss: 0.6969, Accuracy: 46.00%\n",
            "Time for epoch: 6.66 seconds\n",
            "Epoch 4, Loss: 0.6955, Accuracy: 48.00%\n",
            "Time for epoch: 8.10 seconds\n",
            "Epoch 5, Loss: 0.6946, Accuracy: 50.00%\n",
            "Time for epoch: 6.63 seconds\n",
            "Epoch 6, Loss: 0.6939, Accuracy: 50.00%\n",
            "Time for epoch: 6.33 seconds\n",
            "Epoch 7, Loss: 0.6944, Accuracy: 51.00%\n",
            "Time for epoch: 6.65 seconds\n",
            "Epoch 8, Loss: 0.6948, Accuracy: 50.00%\n",
            "Time for epoch: 5.68 seconds\n",
            "Epoch 9, Loss: 0.6942, Accuracy: 51.00%\n",
            "Time for epoch: 6.82 seconds\n",
            "Epoch 10, Loss: 0.6945, Accuracy: 50.00%\n",
            "Time for epoch: 5.54 seconds\n",
            "Epoch 11, Loss: 0.6964, Accuracy: 51.00%\n",
            "Time for epoch: 6.53 seconds\n",
            "Epoch 12, Loss: 0.6931, Accuracy: 52.00%\n",
            "Time for epoch: 5.66 seconds\n",
            "Epoch 13, Loss: 0.6947, Accuracy: 52.00%\n",
            "Time for epoch: 6.62 seconds\n",
            "Epoch 14, Loss: 0.6928, Accuracy: 52.00%\n",
            "Time for epoch: 5.58 seconds\n",
            "Epoch 15, Loss: 0.6943, Accuracy: 52.00%\n",
            "Time for epoch: 6.34 seconds\n",
            "Epoch 16, Loss: 0.6928, Accuracy: 52.00%\n",
            "Time for epoch: 5.90 seconds\n",
            "Epoch 17, Loss: 0.6932, Accuracy: 51.00%\n",
            "Time for epoch: 5.82 seconds\n",
            "Epoch 18, Loss: 0.6947, Accuracy: 51.00%\n",
            "Time for epoch: 6.61 seconds\n",
            "Epoch 19, Loss: 0.6929, Accuracy: 53.00%\n",
            "Time for epoch: 5.53 seconds\n",
            "Epoch 20, Loss: 0.6943, Accuracy: 52.00%\n",
            "Time for epoch: 6.66 seconds\n",
            "Epoch 21, Loss: 0.6929, Accuracy: 52.00%\n",
            "Time for epoch: 5.49 seconds\n",
            "Epoch 22, Loss: 0.6934, Accuracy: 51.00%\n",
            "Time for epoch: 6.62 seconds\n",
            "Epoch 23, Loss: 0.6927, Accuracy: 53.00%\n",
            "Time for epoch: 5.66 seconds\n",
            "Epoch 24, Loss: 0.6952, Accuracy: 53.00%\n",
            "Time for epoch: 6.67 seconds\n",
            "Epoch 25, Loss: 0.6946, Accuracy: 51.00%\n",
            "Time for epoch: 5.61 seconds\n",
            "Epoch 26, Loss: 0.6927, Accuracy: 52.00%\n",
            "Time for epoch: 6.44 seconds\n",
            "Epoch 27, Loss: 0.6933, Accuracy: 53.00%\n",
            "Time for epoch: 5.98 seconds\n",
            "Epoch 28, Loss: 0.6927, Accuracy: 53.00%\n",
            "Time for epoch: 6.08 seconds\n",
            "Epoch 29, Loss: 0.6935, Accuracy: 53.00%\n",
            "Time for epoch: 6.23 seconds\n",
            "Epoch 30, Loss: 0.6935, Accuracy: 53.00%\n",
            "Time for epoch: 5.72 seconds\n",
            "Epoch 31, Loss: 0.6931, Accuracy: 53.00%\n",
            "Time for epoch: 6.51 seconds\n",
            "Epoch 32, Loss: 0.6933, Accuracy: 53.00%\n",
            "Time for epoch: 5.59 seconds\n",
            "Epoch 33, Loss: 0.6934, Accuracy: 51.00%\n",
            "Time for epoch: 6.75 seconds\n",
            "Epoch 34, Loss: 0.6944, Accuracy: 53.00%\n",
            "Time for epoch: 5.65 seconds\n",
            "Epoch 35, Loss: 0.6940, Accuracy: 53.00%\n",
            "Time for epoch: 6.71 seconds\n",
            "Epoch 36, Loss: 0.6965, Accuracy: 53.00%\n",
            "Time for epoch: 5.57 seconds\n",
            "Epoch 37, Loss: 0.6931, Accuracy: 52.00%\n",
            "Time for epoch: 6.94 seconds\n",
            "Epoch 38, Loss: 0.6924, Accuracy: 53.00%\n",
            "Time for epoch: 5.58 seconds\n",
            "Epoch 39, Loss: 0.6926, Accuracy: 53.00%\n",
            "Time for epoch: 6.43 seconds\n",
            "Epoch 40, Loss: 0.6946, Accuracy: 53.00%\n",
            "Time for epoch: 5.74 seconds\n",
            "Epoch 41, Loss: 0.6939, Accuracy: 53.00%\n",
            "Time for epoch: 5.70 seconds\n",
            "Epoch 42, Loss: 0.6926, Accuracy: 53.00%\n",
            "Time for epoch: 6.29 seconds\n",
            "Epoch 43, Loss: 0.6936, Accuracy: 53.00%\n",
            "Time for epoch: 5.63 seconds\n",
            "Epoch 44, Loss: 0.6932, Accuracy: 53.00%\n",
            "Time for epoch: 6.52 seconds\n",
            "Epoch 45, Loss: 0.6936, Accuracy: 53.00%\n",
            "Time for epoch: 5.63 seconds\n",
            "Epoch 46, Loss: 0.6939, Accuracy: 53.00%\n",
            "Time for epoch: 6.88 seconds\n",
            "Epoch 47, Loss: 0.6932, Accuracy: 53.00%\n",
            "Time for epoch: 5.66 seconds\n",
            "Epoch 48, Loss: 0.6944, Accuracy: 53.00%\n",
            "Time for epoch: 6.62 seconds\n",
            "Epoch 49, Loss: 0.6939, Accuracy: 53.00%\n",
            "Time for epoch: 5.60 seconds\n",
            "Epoch 50, Loss: 0.6931, Accuracy: 53.00%\n",
            "Time for epoch: 6.43 seconds\n",
            "\n",
            "Total training time: 308.75 seconds\n"
          ]
        }
      ]
    },
    {
      "cell_type": "code",
      "source": [
        "model.eval()\n",
        "correct = 0\n",
        "total = 0\n",
        "with torch.no_grad():\n",
        "    for xb, yb in test_loader:\n",
        "        xb = xb.squeeze(0)\n",
        "        yb = yb.squeeze()\n",
        "\n",
        "        logits = model(xb)\n",
        "        logits_flat = logits.squeeze()\n",
        "        prob = torch.sigmoid(logits_flat)\n",
        "        pred = (prob > 0.5).float()\n",
        "        actual = yb.float()\n",
        "\n",
        "        if pred == actual:\n",
        "            correct += 1\n",
        "        total += 1\n",
        "\n",
        "        if total <= 10:\n",
        "            print(f\"Logit: {logits_flat.item():.3f} | Probability: {prob.item():.3f} | Pred: {pred.item()}, Actual: {actual.item()}\")\n",
        "\n",
        "print(f\"Test Accuracy: {correct / total * 100:.2f}%\")"
      ],
      "metadata": {
        "colab": {
          "base_uri": "https://localhost:8080/"
        },
        "id": "EusLQzxRsqVS",
        "outputId": "ca6e127d-6099-4b73-90c4-df8c8f047ab4"
      },
      "execution_count": null,
      "outputs": [
        {
          "output_type": "stream",
          "name": "stdout",
          "text": [
            "Logit: -0.119 | Probability: 0.470 | Pred: 0.0, Actual: 1.0\n",
            "Logit: -0.118 | Probability: 0.470 | Pred: 0.0, Actual: 1.0\n",
            "Logit: -0.119 | Probability: 0.470 | Pred: 0.0, Actual: 1.0\n",
            "Logit: -0.118 | Probability: 0.471 | Pred: 0.0, Actual: 0.0\n",
            "Logit: -0.119 | Probability: 0.470 | Pred: 0.0, Actual: 1.0\n",
            "Logit: -0.112 | Probability: 0.472 | Pred: 0.0, Actual: 1.0\n",
            "Logit: -0.119 | Probability: 0.470 | Pred: 0.0, Actual: 0.0\n",
            "Logit: -0.157 | Probability: 0.461 | Pred: 0.0, Actual: 1.0\n",
            "Logit: -0.119 | Probability: 0.470 | Pred: 0.0, Actual: 0.0\n",
            "Logit: -0.119 | Probability: 0.470 | Pred: 0.0, Actual: 1.0\n",
            "Test Accuracy: 46.50%\n"
          ]
        }
      ]
    },
    {
      "cell_type": "markdown",
      "source": [
        "# **Amplitude + Angle Encoding**"
      ],
      "metadata": {
        "id": "s4g3qDLgfInk"
      }
    },
    {
      "cell_type": "code",
      "source": [
        "n_qubits = 8\n",
        "dev = qml.device(\"lightning.qubit\", wires=n_qubits, shots=None)"
      ],
      "metadata": {
        "id": "5hi-3cG-fOJL"
      },
      "execution_count": 23,
      "outputs": []
    },
    {
      "cell_type": "code",
      "source": [
        "@qml.qnode(dev, interface=\"torch\")\n",
        "def quantum_step(inputs, hidden, weights_in, weights_h):\n",
        "\n",
        "    amplitude_features = inputs[:16]\n",
        "    angle_features = inputs[16:32]\n",
        "\n",
        "    amp_clean = torch.where(torch.isnan(amplitude_features) | torch.isinf(amplitude_features),\n",
        "                           torch.zeros_like(amplitude_features), amplitude_features)\n",
        "\n",
        "    amp_clean = amp_clean + torch.randn_like(amp_clean) * 1e-6\n",
        "\n",
        "    amp_norm = torch.sqrt(torch.sum(amp_clean**2) + 1e-8)\n",
        "    amp_normalized = amp_clean / amp_norm\n",
        "\n",
        "    final_norm = torch.sqrt(torch.sum(amp_normalized**2))\n",
        "    if torch.isnan(final_norm) or torch.abs(final_norm - 1.0) > 1e-3:\n",
        "        amp_normalized = torch.ones_like(amp_clean) / torch.sqrt(torch.tensor(16.0))\n",
        "\n",
        "    amp_np = amp_normalized.detach().numpy()\n",
        "\n",
        "    qml.AmplitudeEmbedding(features=amp_np, wires=range(4), normalize=False)\n",
        "\n",
        "    for i in range(5):\n",
        "        if i < len(angle_features):\n",
        "            qml.RY(angle_features[i], wires=4)\n",
        "            qml.RZ(angle_features[i] * 0.7, wires=4)\n",
        "\n",
        "    for i in range(5, 11):\n",
        "        if i < len(angle_features):\n",
        "            qml.RY(angle_features[i], wires=5)\n",
        "            qml.RZ(angle_features[i] * 0.7, wires=5)\n",
        "\n",
        "    for i in range(11, 16):\n",
        "        if i < len(angle_features):\n",
        "            qml.RY(angle_features[i], wires=6)\n",
        "            qml.RZ(angle_features[i] * 0.7, wires=6)\n",
        "\n",
        "    qml.RY(hidden, wires=7)\n",
        "\n",
        "    for i in range(3):\n",
        "        qml.CNOT(wires=[i, i+1])\n",
        "\n",
        "    qml.CNOT(wires=[4, 5])\n",
        "    qml.CNOT(wires=[5, 6])\n",
        "\n",
        "    qml.CNOT(wires=[3, 4])\n",
        "    qml.CNOT(wires=[6, 7])\n",
        "\n",
        "    qml.CNOT(wires=[0, 7])\n",
        "    qml.CNOT(wires=[4, 7])\n",
        "\n",
        "    for i in range(4):\n",
        "        qml.RY(weights_in[i], wires=i)\n",
        "        qml.RZ(weights_in[i + 4], wires=i)\n",
        "\n",
        "    for i in range(3):\n",
        "        qml.RY(weights_in[i + 8], wires=i + 4)\n",
        "        qml.RZ(weights_in[i + 11], wires=i + 4)\n",
        "\n",
        "    qml.RY(weights_h[0], wires=7)\n",
        "    qml.RZ(weights_h[1], wires=7)\n",
        "\n",
        "    return qml.expval(qml.PauliZ(7))"
      ],
      "metadata": {
        "id": "fJVTugSjfOiu"
      },
      "execution_count": 24,
      "outputs": []
    },
    {
      "cell_type": "code",
      "source": [
        "class QuantumRNN(nn.Module):\n",
        "    def __init__(self):\n",
        "        super().__init__()\n",
        "        self.embedding = nn.Linear(32, 32)\n",
        "        self.weights_in = nn.Parameter(torch.randn(14) * 0.1)\n",
        "        self.weights_h = nn.Parameter(torch.randn(2) * 0.1)\n",
        "        self.classifier = nn.Linear(1, 1)\n",
        "\n",
        "    def forward(self, x):\n",
        "        seq_len = x.shape[0]\n",
        "        hidden = torch.tensor(0.0, requires_grad=True)\n",
        "\n",
        "        for t in range(seq_len):\n",
        "            input_t = self.embedding(x[t])\n",
        "            hidden = quantum_step(input_t, hidden, self.weights_in, self.weights_h)\n",
        "\n",
        "        out = self.classifier(hidden.unsqueeze(0))\n",
        "        return out"
      ],
      "metadata": {
        "id": "ipvyWU4hfOqr"
      },
      "execution_count": 25,
      "outputs": []
    },
    {
      "cell_type": "code",
      "source": [
        "# Initialize model\n",
        "model = QuantumRNN()\n",
        "optimizer = torch.optim.Adam(model.parameters(), lr=0.01)\n",
        "loss_fn = nn.BCEWithLogitsLoss()"
      ],
      "metadata": {
        "id": "3Zl1tzMJfOxZ"
      },
      "execution_count": 26,
      "outputs": []
    },
    {
      "cell_type": "code",
      "source": [
        "for name, param in model.named_parameters():\n",
        "    print(f\"{name}: {param.shape}\")"
      ],
      "metadata": {
        "colab": {
          "base_uri": "https://localhost:8080/"
        },
        "id": "Aw_pSzbLfO4s",
        "outputId": "d63d5dd4-d556-401f-9032-4ce204d194eb"
      },
      "execution_count": 27,
      "outputs": [
        {
          "output_type": "stream",
          "name": "stdout",
          "text": [
            "weights_in: torch.Size([14])\n",
            "weights_h: torch.Size([2])\n",
            "embedding.weight: torch.Size([32, 32])\n",
            "embedding.bias: torch.Size([32])\n",
            "classifier.weight: torch.Size([1, 1])\n",
            "classifier.bias: torch.Size([1])\n"
          ]
        }
      ]
    },
    {
      "cell_type": "code",
      "source": [
        "start_time = time.time()\n",
        "epochs = 50\n",
        "model.train()\n",
        "\n",
        "for epoch in range(epochs):\n",
        "    total_loss = 0\n",
        "    correct = 0\n",
        "    total = 0\n",
        "    epoch_start = time.time()\n",
        "\n",
        "    for xb, yb in train_loader_small:\n",
        "        xb = xb.squeeze(0)\n",
        "        yb = yb.squeeze()\n",
        "\n",
        "        optimizer.zero_grad()\n",
        "        output = model(xb)\n",
        "\n",
        "        output_flat = output.squeeze()\n",
        "        yb_flat = yb.float()\n",
        "\n",
        "        loss = loss_fn(output_flat, yb_flat)\n",
        "        loss.backward()\n",
        "        optimizer.step()\n",
        "\n",
        "        total_loss += loss.item()\n",
        "        predicted = (torch.sigmoid(output_flat) > 0.5).float()\n",
        "        correct += (predicted == yb_flat).sum().item()\n",
        "        total += 1\n",
        "\n",
        "    avg_loss = total_loss / len(train_loader_small)\n",
        "    epoch_time = time.time() - epoch_start\n",
        "    accuracy = 100 * correct / total\n",
        "    print(f\"Epoch {epoch+1}, Loss: {avg_loss:.4f}, Accuracy: {accuracy:.2f}%\")\n",
        "    print(f\"Time for epoch: {epoch_time:.2f} seconds\")\n",
        "\n",
        "total_time = time.time() - start_time\n",
        "print(f\"\\nTotal training time: {total_time:.2f} seconds\")"
      ],
      "metadata": {
        "colab": {
          "base_uri": "https://localhost:8080/"
        },
        "id": "7qC162v4hQGX",
        "outputId": "33bd9db9-a5d9-478c-d373-5e24123a65f8"
      },
      "execution_count": 28,
      "outputs": [
        {
          "output_type": "stream",
          "name": "stdout",
          "text": [
            "Epoch 1, Loss: 0.7627, Accuracy: 47.00%\n",
            "Time for epoch: 12.66 seconds\n",
            "Epoch 2, Loss: 0.7194, Accuracy: 47.00%\n",
            "Time for epoch: 12.67 seconds\n",
            "Epoch 3, Loss: 0.7092, Accuracy: 47.00%\n",
            "Time for epoch: 21.26 seconds\n",
            "Epoch 4, Loss: 0.6952, Accuracy: 52.00%\n",
            "Time for epoch: 13.68 seconds\n",
            "Epoch 5, Loss: 0.6935, Accuracy: 55.00%\n",
            "Time for epoch: 13.09 seconds\n",
            "Epoch 6, Loss: 0.6932, Accuracy: 52.00%\n",
            "Time for epoch: 12.89 seconds\n",
            "Epoch 7, Loss: 0.6933, Accuracy: 53.00%\n",
            "Time for epoch: 13.49 seconds\n",
            "Epoch 8, Loss: 0.6921, Accuracy: 53.00%\n",
            "Time for epoch: 12.52 seconds\n",
            "Epoch 9, Loss: 0.6967, Accuracy: 50.00%\n",
            "Time for epoch: 12.79 seconds\n",
            "Epoch 10, Loss: 0.6919, Accuracy: 55.00%\n",
            "Time for epoch: 13.45 seconds\n",
            "Epoch 11, Loss: 0.6945, Accuracy: 51.00%\n",
            "Time for epoch: 12.57 seconds\n",
            "Epoch 12, Loss: 0.6932, Accuracy: 52.00%\n",
            "Time for epoch: 12.61 seconds\n",
            "Epoch 13, Loss: 0.6926, Accuracy: 52.00%\n",
            "Time for epoch: 12.87 seconds\n",
            "Epoch 14, Loss: 0.6946, Accuracy: 54.00%\n",
            "Time for epoch: 12.78 seconds\n",
            "Epoch 15, Loss: 0.6940, Accuracy: 52.00%\n",
            "Time for epoch: 12.80 seconds\n",
            "Epoch 16, Loss: 0.6926, Accuracy: 55.00%\n",
            "Time for epoch: 12.70 seconds\n",
            "Epoch 17, Loss: 0.6941, Accuracy: 53.00%\n",
            "Time for epoch: 13.09 seconds\n",
            "Epoch 18, Loss: 0.6913, Accuracy: 52.00%\n",
            "Time for epoch: 12.78 seconds\n",
            "Epoch 19, Loss: 0.6874, Accuracy: 54.00%\n",
            "Time for epoch: 13.45 seconds\n",
            "Epoch 20, Loss: 0.6914, Accuracy: 49.00%\n",
            "Time for epoch: 12.78 seconds\n",
            "Epoch 21, Loss: 0.6891, Accuracy: 55.00%\n",
            "Time for epoch: 18.50 seconds\n",
            "Epoch 22, Loss: 0.6889, Accuracy: 60.00%\n",
            "Time for epoch: 21.44 seconds\n",
            "Epoch 23, Loss: 0.6955, Accuracy: 49.00%\n",
            "Time for epoch: 21.39 seconds\n",
            "Epoch 24, Loss: 0.6830, Accuracy: 62.00%\n",
            "Time for epoch: 12.26 seconds\n",
            "Epoch 25, Loss: 0.6851, Accuracy: 54.00%\n",
            "Time for epoch: 13.83 seconds\n",
            "Epoch 26, Loss: 0.6847, Accuracy: 58.00%\n",
            "Time for epoch: 12.19 seconds\n",
            "Epoch 27, Loss: 0.6809, Accuracy: 54.00%\n",
            "Time for epoch: 12.28 seconds\n",
            "Epoch 28, Loss: 0.6725, Accuracy: 63.00%\n",
            "Time for epoch: 12.23 seconds\n",
            "Epoch 29, Loss: 0.6730, Accuracy: 63.00%\n",
            "Time for epoch: 12.19 seconds\n",
            "Epoch 30, Loss: 0.6845, Accuracy: 51.00%\n",
            "Time for epoch: 14.38 seconds\n",
            "Epoch 31, Loss: 0.6879, Accuracy: 53.00%\n",
            "Time for epoch: 13.03 seconds\n",
            "Epoch 32, Loss: 0.6835, Accuracy: 52.00%\n",
            "Time for epoch: 12.38 seconds\n",
            "Epoch 33, Loss: 0.6801, Accuracy: 59.00%\n",
            "Time for epoch: 12.54 seconds\n",
            "Epoch 34, Loss: 0.6765, Accuracy: 58.00%\n",
            "Time for epoch: 11.83 seconds\n",
            "Epoch 35, Loss: 0.6700, Accuracy: 66.00%\n",
            "Time for epoch: 11.88 seconds\n",
            "Epoch 36, Loss: 0.6782, Accuracy: 56.00%\n",
            "Time for epoch: 12.16 seconds\n",
            "Epoch 37, Loss: 0.6870, Accuracy: 51.00%\n",
            "Time for epoch: 13.00 seconds\n",
            "Epoch 38, Loss: 0.6887, Accuracy: 53.00%\n",
            "Time for epoch: 13.00 seconds\n",
            "Epoch 39, Loss: 0.6879, Accuracy: 54.00%\n",
            "Time for epoch: 13.27 seconds\n",
            "Epoch 40, Loss: 0.6722, Accuracy: 60.00%\n",
            "Time for epoch: 12.39 seconds\n",
            "Epoch 41, Loss: 0.6662, Accuracy: 65.00%\n",
            "Time for epoch: 12.30 seconds\n",
            "Epoch 42, Loss: 0.6718, Accuracy: 58.00%\n",
            "Time for epoch: 12.66 seconds\n",
            "Epoch 43, Loss: 0.6763, Accuracy: 62.00%\n",
            "Time for epoch: 13.35 seconds\n",
            "Epoch 44, Loss: 0.6950, Accuracy: 46.00%\n",
            "Time for epoch: 13.31 seconds\n",
            "Epoch 45, Loss: 0.6707, Accuracy: 59.00%\n",
            "Time for epoch: 13.04 seconds\n",
            "Epoch 46, Loss: 0.6571, Accuracy: 68.00%\n",
            "Time for epoch: 13.20 seconds\n",
            "Epoch 47, Loss: 0.6557, Accuracy: 66.00%\n",
            "Time for epoch: 13.75 seconds\n",
            "Epoch 48, Loss: 0.6658, Accuracy: 65.00%\n",
            "Time for epoch: 12.67 seconds\n",
            "Epoch 49, Loss: 0.6630, Accuracy: 66.00%\n",
            "Time for epoch: 12.71 seconds\n",
            "Epoch 50, Loss: 0.6841, Accuracy: 50.00%\n",
            "Time for epoch: 12.67 seconds\n",
            "\n",
            "Total training time: 672.81 seconds\n"
          ]
        }
      ]
    },
    {
      "cell_type": "code",
      "source": [
        "model.eval()\n",
        "correct = 0\n",
        "total = 0\n",
        "predictions = []\n",
        "actuals = []\n",
        "logits_list = []\n",
        "probabilities = []\n",
        "\n",
        "print(\"=== DETAILED PREDICTION ANALYSIS ===\\n\")\n",
        "\n",
        "with torch.no_grad():\n",
        "    for i, (xb, yb) in enumerate(test_loader):\n",
        "        xb = xb.squeeze(0)\n",
        "        yb = yb.squeeze()\n",
        "\n",
        "        logits = model(xb)\n",
        "        logits_flat = logits.squeeze()\n",
        "        prob = torch.sigmoid(logits_flat)\n",
        "        pred = (prob > 0.5).float()\n",
        "        actual = yb.float()\n",
        "\n",
        "        predictions.append(pred.item())\n",
        "        actuals.append(actual.item())\n",
        "        logits_list.append(logits_flat.item())\n",
        "        probabilities.append(prob.item())\n",
        "\n",
        "        if pred == actual:\n",
        "            correct += 1\n",
        "        total += 1\n",
        "\n",
        "        if i < 20:\n",
        "            status = \"✓ CORRECT\" if pred == actual else \"✗ WRONG\"\n",
        "            print(f\"Sample {i+1:2d}: Logit: {logits_flat.item():6.3f} | \"\n",
        "                  f\"Prob: {prob.item():.3f} | Pred: {int(pred.item())} | \"\n",
        "                  f\"Actual: {int(actual.item())} | {status}\")\n",
        "\n",
        "print(f\"\\n=== SUMMARY STATISTICS ===\")\n",
        "print(f\"Test Accuracy: {correct / total * 100:.2f}%\")\n",
        "print(f\"Total samples: {total}\")\n",
        "print(f\"Correct predictions: {correct}\")\n",
        "print(f\"Wrong predictions: {total - correct}\")\n",
        "\n",
        "predictions = np.array(predictions)\n",
        "actuals = np.array(actuals)\n",
        "probabilities = np.array(probabilities)\n",
        "logits_list = np.array(logits_list)\n",
        "\n",
        "print(f\"\\n=== PREDICTION DISTRIBUTION ===\")\n",
        "pred_0_count = np.sum(predictions == 0)\n",
        "pred_1_count = np.sum(predictions == 1)\n",
        "actual_0_count = np.sum(actuals == 0)\n",
        "actual_1_count = np.sum(actuals == 1)\n",
        "\n",
        "print(f\"Model predicted 0: {pred_0_count} times ({pred_0_count/total*100:.1f}%)\")\n",
        "print(f\"Model predicted 1: {pred_1_count} times ({pred_1_count/total*100:.1f}%)\")\n",
        "print(f\"Actual 0s in test: {actual_0_count} times ({actual_0_count/total*100:.1f}%)\")\n",
        "print(f\"Actual 1s in test: {actual_1_count} times ({actual_1_count/total*100:.1f}%)\")\n",
        "\n",
        "print(f\"\\n=== BIAS ANALYSIS ===\")\n",
        "if pred_0_count == total:\n",
        "    print(\"🚨 MODEL IS ALWAYS PREDICTING 0 (NEGATIVE BIAS)\")\n",
        "elif pred_1_count == total:\n",
        "    print(\"🚨 MODEL IS ALWAYS PREDICTING 1 (POSITIVE BIAS)\")\n",
        "elif pred_0_count > total * 0.9:\n",
        "    print(\"⚠️  MODEL HAS STRONG NEGATIVE BIAS (>90% predicting 0)\")\n",
        "elif pred_1_count > total * 0.9:\n",
        "    print(\"⚠️  MODEL HAS STRONG POSITIVE BIAS (>90% predicting 1)\")\n",
        "else:\n",
        "    print(\"✅ MODEL IS PREDICTING BOTH CLASSES\")\n",
        "\n",
        "print(f\"\\n=== PROBABILITY DISTRIBUTION ===\")\n",
        "print(f\"Mean probability: {np.mean(probabilities):.3f}\")\n",
        "print(f\"Std probability: {np.std(probabilities):.3f}\")\n",
        "print(f\"Min probability: {np.min(probabilities):.3f}\")\n",
        "print(f\"Max probability: {np.max(probabilities):.3f}\")\n",
        "print(f\"Probabilities near 0.5 (0.4-0.6): {np.sum((probabilities >= 0.4) & (probabilities <= 0.6))}\")\n",
        "\n",
        "print(f\"\\n=== LOGITS DISTRIBUTION ===\")\n",
        "print(f\"Mean logit: {np.mean(logits_list):.3f}\")\n",
        "print(f\"Std logit: {np.std(logits_list):.3f}\")\n",
        "print(f\"Min logit: {np.min(logits_list):.3f}\")\n",
        "print(f\"Max logit: {np.max(logits_list):.3f}\")\n",
        "\n",
        "print(f\"\\n=== CONFUSION MATRIX ===\")\n",
        "cm = confusion_matrix(actuals, predictions)\n",
        "print(\"           Predicted\")\n",
        "print(\"         0    1\")\n",
        "print(f\"Actual 0 {cm[0,0]:3d}  {cm[0,1]:3d}\")\n",
        "print(f\"       1 {cm[1,0]:3d}  {cm[1,1]:3d}\")\n",
        "\n",
        "print(f\"\\n=== CLASSIFICATION REPORT ===\")\n",
        "print(classification_report(actuals, predictions, target_names=['Negative', 'Positive']))\n",
        "\n",
        "print(f\"\\n=== MODEL BEHAVIOR DIAGNOSIS ===\")\n",
        "unique_probs = len(np.unique(np.round(probabilities, 3)))\n",
        "unique_logits = len(np.unique(np.round(logits_list, 3)))\n",
        "\n",
        "print(f\"Unique probability values: {unique_probs}\")\n",
        "print(f\"Unique logit values: {unique_logits}\")\n",
        "\n",
        "if unique_probs <= 3:\n",
        "    print(\"🚨 Very few unique probabilities - model might be stuck!\")\n",
        "elif unique_probs <= 10:\n",
        "    print(\"⚠️  Limited probability diversity - model might have convergence issues\")\n",
        "else:\n",
        "    print(\"✅ Good probability diversity\")\n",
        "\n",
        "plt.figure(figsize=(12, 4))\n",
        "\n",
        "plt.subplot(1, 3, 1)\n",
        "plt.hist(probabilities, bins=20, alpha=0.7, edgecolor='black')\n",
        "plt.axvline(0.5, color='red', linestyle='--', label='Decision threshold')\n",
        "plt.xlabel('Predicted Probability')\n",
        "plt.ylabel('Count')\n",
        "plt.title('Probability Distribution')\n",
        "plt.legend()\n",
        "\n",
        "plt.subplot(1, 3, 2)\n",
        "plt.hist(logits_list, bins=20, alpha=0.7, edgecolor='black')\n",
        "plt.axvline(0, color='red', linestyle='--', label='Logit = 0 (p=0.5)')\n",
        "plt.xlabel('Logits')\n",
        "plt.ylabel('Count')\n",
        "plt.title('Logits Distribution')\n",
        "plt.legend()\n",
        "\n",
        "plt.subplot(1, 3, 3)\n",
        "plt.scatter(range(min(50, len(probabilities))), probabilities[:50], alpha=0.6)\n",
        "plt.axhline(0.5, color='red', linestyle='--', label='Decision threshold')\n",
        "plt.xlabel('Sample Index')\n",
        "plt.ylabel('Predicted Probability')\n",
        "plt.title('First 50 Predictions')\n",
        "plt.legend()\n",
        "\n",
        "plt.tight_layout()\n",
        "plt.show()"
      ],
      "metadata": {
        "colab": {
          "base_uri": "https://localhost:8080/",
          "height": 1000
        },
        "id": "Fi5_G1yehQA4",
        "outputId": "02efc3c0-d2c5-49bf-a9aa-f831720f9ea1"
      },
      "execution_count": 30,
      "outputs": [
        {
          "output_type": "stream",
          "name": "stdout",
          "text": [
            "=== DETAILED PREDICTION ANALYSIS ===\n",
            "\n",
            "Sample  1: Logit:  0.030 | Prob: 0.508 | Pred: 1 | Actual: 1 | ✓ CORRECT\n",
            "Sample  2: Logit: -0.352 | Prob: 0.413 | Pred: 0 | Actual: 1 | ✗ WRONG\n",
            "Sample  3: Logit: -0.411 | Prob: 0.399 | Pred: 0 | Actual: 1 | ✗ WRONG\n",
            "Sample  4: Logit:  0.207 | Prob: 0.552 | Pred: 1 | Actual: 0 | ✗ WRONG\n",
            "Sample  5: Logit: -0.425 | Prob: 0.395 | Pred: 0 | Actual: 1 | ✗ WRONG\n",
            "Sample  6: Logit: -0.226 | Prob: 0.444 | Pred: 0 | Actual: 1 | ✗ WRONG\n",
            "Sample  7: Logit: -0.417 | Prob: 0.397 | Pred: 0 | Actual: 0 | ✓ CORRECT\n",
            "Sample  8: Logit:  0.194 | Prob: 0.548 | Pred: 1 | Actual: 1 | ✓ CORRECT\n",
            "Sample  9: Logit: -0.214 | Prob: 0.447 | Pred: 0 | Actual: 0 | ✓ CORRECT\n",
            "Sample 10: Logit: -0.085 | Prob: 0.479 | Pred: 0 | Actual: 1 | ✗ WRONG\n",
            "Sample 11: Logit: -0.159 | Prob: 0.460 | Pred: 0 | Actual: 1 | ✗ WRONG\n",
            "Sample 12: Logit: -0.424 | Prob: 0.396 | Pred: 0 | Actual: 0 | ✓ CORRECT\n",
            "Sample 13: Logit: -0.320 | Prob: 0.421 | Pred: 0 | Actual: 1 | ✗ WRONG\n",
            "Sample 14: Logit: -0.202 | Prob: 0.450 | Pred: 0 | Actual: 0 | ✓ CORRECT\n",
            "Sample 15: Logit: -0.135 | Prob: 0.466 | Pred: 0 | Actual: 1 | ✗ WRONG\n",
            "Sample 16: Logit: -0.174 | Prob: 0.457 | Pred: 0 | Actual: 1 | ✗ WRONG\n",
            "Sample 17: Logit:  0.131 | Prob: 0.533 | Pred: 1 | Actual: 1 | ✓ CORRECT\n",
            "Sample 18: Logit: -0.196 | Prob: 0.451 | Pred: 0 | Actual: 0 | ✓ CORRECT\n",
            "Sample 19: Logit: -0.197 | Prob: 0.451 | Pred: 0 | Actual: 1 | ✗ WRONG\n",
            "Sample 20: Logit: -0.207 | Prob: 0.449 | Pred: 0 | Actual: 1 | ✗ WRONG\n",
            "\n",
            "=== SUMMARY STATISTICS ===\n",
            "Test Accuracy: 49.00%\n",
            "Total samples: 200\n",
            "Correct predictions: 98\n",
            "Wrong predictions: 102\n",
            "\n",
            "=== PREDICTION DISTRIBUTION ===\n",
            "Model predicted 0: 163 times (81.5%)\n",
            "Model predicted 1: 37 times (18.5%)\n",
            "Actual 0s in test: 93 times (46.5%)\n",
            "Actual 1s in test: 107 times (53.5%)\n",
            "\n",
            "=== BIAS ANALYSIS ===\n",
            "✅ MODEL IS PREDICTING BOTH CLASSES\n",
            "\n",
            "=== PROBABILITY DISTRIBUTION ===\n",
            "Mean probability: 0.467\n",
            "Std probability: 0.045\n",
            "Min probability: 0.333\n",
            "Max probability: 0.635\n",
            "Probabilities near 0.5 (0.4-0.6): 181\n",
            "\n",
            "=== LOGITS DISTRIBUTION ===\n",
            "Mean logit: -0.133\n",
            "Std logit: 0.185\n",
            "Min logit: -0.695\n",
            "Max logit: 0.553\n",
            "\n",
            "=== CONFUSION MATRIX ===\n",
            "           Predicted\n",
            "         0    1\n",
            "Actual 0  77   16\n",
            "       1  86   21\n",
            "\n",
            "=== CLASSIFICATION REPORT ===\n",
            "              precision    recall  f1-score   support\n",
            "\n",
            "    Negative       0.47      0.83      0.60        93\n",
            "    Positive       0.57      0.20      0.29       107\n",
            "\n",
            "    accuracy                           0.49       200\n",
            "   macro avg       0.52      0.51      0.45       200\n",
            "weighted avg       0.52      0.49      0.44       200\n",
            "\n",
            "\n",
            "=== MODEL BEHAVIOR DIAGNOSIS ===\n",
            "Unique probability values: 114\n",
            "Unique logit values: 170\n",
            "✅ Good probability diversity\n"
          ]
        },
        {
          "output_type": "display_data",
          "data": {
            "text/plain": [
              "<Figure size 1200x400 with 3 Axes>"
            ],
            "image/png": "[encoded data removed]"
          },
          "metadata": {}
        }
      ]
    }
  ],
  "metadata": {
    "colab": {
      "provenance": [],
      "collapsed_sections": [
        "W9Fu4T5wdZ6R",
        "XeBULGSFdjY-",
        "VzzqbLrgd3zE",
        "Qcdy70RwfA1S",
        "3K3E_grWfFFg",
        "-UabPO_8k3NE",
        "Ri6yiKQMsDhc"
      ],
      "gpuType": "T4"
    },
    "kernelspec": {
      "display_name": "Python 3",
      "name": "python3"
    },
    "language_info": {
      "name": "python"
    },
    "accelerator": "GPU"
  },
  "nbformat": 4,
  "nbformat_minor": 0
}