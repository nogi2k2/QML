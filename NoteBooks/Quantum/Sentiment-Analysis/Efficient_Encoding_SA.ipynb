{
  "cells": [
    {
      "cell_type": "code",
      "source": [
        "!pip uninstall -y numpy\n",
        "!pip install numpy==1.26.4 --upgrade --force-reinstall --quiet"
      ],
      "metadata": {
        "id": "yXg-ZhRs8yGf",
        "colab": {
          "base_uri": "https://localhost:8080/"
        },
        "outputId": "cd17fa90-2036-456f-c751-9aa4ff3f7f28"
      },
      "execution_count": null,
      "outputs": [
        {
          "output_type": "stream",
          "name": "stdout",
          "text": [
            "Found existing installation: numpy 2.0.2\n",
            "Uninstalling numpy-2.0.2:\n",
            "  Successfully uninstalled numpy-2.0.2\n",
            "\u001b[2K     \u001b[90m━━━━━━━━━━━━━━━━━━━━━━━━━━━━━━━━━━━━━━━━\u001b[0m \u001b[32m61.0/61.0 kB\u001b[0m \u001b[31m5.0 MB/s\u001b[0m eta \u001b[36m0:00:00\u001b[0m\n",
            "\u001b[2K   \u001b[90m━━━━━━━━━━━━━━━━━━━━━━━━━━━━━━━━━━━━━━━━\u001b[0m \u001b[32m18.3/18.3 MB\u001b[0m \u001b[31m114.2 MB/s\u001b[0m eta \u001b[36m0:00:00\u001b[0m\n",
            "\u001b[?25h\u001b[31mERROR: pip's dependency resolver does not currently take into account all the packages that are installed. This behaviour is the source of the following dependency conflicts.\n",
            "thinc 8.3.6 requires numpy<3.0.0,>=2.0.0, but you have numpy 1.26.4 which is incompatible.\u001b[0m\u001b[31m\n",
            "\u001b[0m"
          ]
        }
      ]
    },
    {
      "cell_type": "code",
      "source": [
        "import os\n",
        "os.kill(os.getpid(), 9)"
      ],
      "metadata": {
        "id": "n13WNiIK_U4W"
      },
      "execution_count": null,
      "outputs": []
    },
    {
      "cell_type": "code",
      "source": [
        "import numpy as np\n",
        "print(np.__version__)"
      ],
      "metadata": {
        "id": "W8rBRK-w_Fr8",
        "colab": {
          "base_uri": "https://localhost:8080/"
        },
        "outputId": "cd43bbbc-abc2-440c-f178-f62a92195185"
      },
      "execution_count": null,
      "outputs": [
        {
          "output_type": "stream",
          "name": "stdout",
          "text": [
            "1.26.4\n"
          ]
        }
      ]
    },
    {
      "cell_type": "code",
      "execution_count": null,
      "metadata": {
        "id": "cX22YoA96Rx_",
        "colab": {
          "base_uri": "https://localhost:8080/"
        },
        "outputId": "adc95233-a036-4943-cf70-a653e68b66b5"
      },
      "outputs": [
        {
          "output_type": "stream",
          "name": "stdout",
          "text": [
            "Collecting pennylane\n",
            "  Downloading PennyLane-0.41.1-py3-none-any.whl.metadata (10 kB)\n",
            "Collecting pennylane-lightning\n",
            "  Downloading pennylane_lightning-0.41.1-cp311-cp311-manylinux_2_28_x86_64.whl.metadata (12 kB)\n",
            "Requirement already satisfied: numpy in /usr/local/lib/python3.11/dist-packages (from pennylane) (1.26.4)\n",
            "Requirement already satisfied: scipy in /usr/local/lib/python3.11/dist-packages (from pennylane) (1.15.3)\n",
            "Requirement already satisfied: networkx in /usr/local/lib/python3.11/dist-packages (from pennylane) (3.5)\n",
            "Collecting rustworkx>=0.14.0 (from pennylane)\n",
            "  Downloading rustworkx-0.16.0-cp39-abi3-manylinux_2_17_x86_64.manylinux2014_x86_64.whl.metadata (10 kB)\n",
            "Requirement already satisfied: autograd in /usr/local/lib/python3.11/dist-packages (from pennylane) (1.8.0)\n",
            "Requirement already satisfied: tomlkit in /usr/local/lib/python3.11/dist-packages (from pennylane) (0.13.3)\n",
            "Collecting appdirs (from pennylane)\n",
            "  Downloading appdirs-1.4.4-py2.py3-none-any.whl.metadata (9.0 kB)\n",
            "Collecting autoray>=0.6.11 (from pennylane)\n",
            "  Downloading autoray-0.7.1-py3-none-any.whl.metadata (5.8 kB)\n",
            "Requirement already satisfied: cachetools in /usr/local/lib/python3.11/dist-packages (from pennylane) (5.5.2)\n",
            "Requirement already satisfied: requests in /usr/local/lib/python3.11/dist-packages (from pennylane) (2.32.3)\n",
            "Requirement already satisfied: typing-extensions in /usr/local/lib/python3.11/dist-packages (from pennylane) (4.14.0)\n",
            "Requirement already satisfied: packaging in /usr/local/lib/python3.11/dist-packages (from pennylane) (24.2)\n",
            "Collecting diastatic-malt (from pennylane)\n",
            "  Downloading diastatic_malt-2.15.2-py3-none-any.whl.metadata (2.6 kB)\n",
            "Collecting scipy-openblas32>=0.3.26 (from pennylane-lightning)\n",
            "  Downloading scipy_openblas32-0.3.29.265.1-py3-none-manylinux2014_x86_64.manylinux_2_17_x86_64.whl.metadata (56 kB)\n",
            "\u001b[2K     \u001b[90m━━━━━━━━━━━━━━━━━━━━━━━━━━━━━━━━━━━━━━━━\u001b[0m \u001b[32m56.1/56.1 kB\u001b[0m \u001b[31m5.2 MB/s\u001b[0m eta \u001b[36m0:00:00\u001b[0m\n",
            "\u001b[?25hRequirement already satisfied: astunparse in /usr/local/lib/python3.11/dist-packages (from diastatic-malt->pennylane) (1.6.3)\n",
            "Requirement already satisfied: gast in /usr/local/lib/python3.11/dist-packages (from diastatic-malt->pennylane) (0.6.0)\n",
            "Requirement already satisfied: termcolor in /usr/local/lib/python3.11/dist-packages (from diastatic-malt->pennylane) (3.1.0)\n",
            "Requirement already satisfied: charset-normalizer<4,>=2 in /usr/local/lib/python3.11/dist-packages (from requests->pennylane) (3.4.2)\n",
            "Requirement already satisfied: idna<4,>=2.5 in /usr/local/lib/python3.11/dist-packages (from requests->pennylane) (3.10)\n",
            "Requirement already satisfied: urllib3<3,>=1.21.1 in /usr/local/lib/python3.11/dist-packages (from requests->pennylane) (2.4.0)\n",
            "Requirement already satisfied: certifi>=2017.4.17 in /usr/local/lib/python3.11/dist-packages (from requests->pennylane) (2025.6.15)\n",
            "Requirement already satisfied: wheel<1.0,>=0.23.0 in /usr/local/lib/python3.11/dist-packages (from astunparse->diastatic-malt->pennylane) (0.45.1)\n",
            "Requirement already satisfied: six<2.0,>=1.6.1 in /usr/local/lib/python3.11/dist-packages (from astunparse->diastatic-malt->pennylane) (1.17.0)\n",
            "Downloading PennyLane-0.41.1-py3-none-any.whl (2.3 MB)\n",
            "\u001b[2K   \u001b[90m━━━━━━━━━━━━━━━━━━━━━━━━━━━━━━━━━━━━━━━━\u001b[0m \u001b[32m2.3/2.3 MB\u001b[0m \u001b[31m44.8 MB/s\u001b[0m eta \u001b[36m0:00:00\u001b[0m\n",
            "\u001b[?25hDownloading pennylane_lightning-0.41.1-cp311-cp311-manylinux_2_28_x86_64.whl (2.5 MB)\n",
            "\u001b[2K   \u001b[90m━━━━━━━━━━━━━━━━━━━━━━━━━━━━━━━━━━━━━━━━\u001b[0m \u001b[32m2.5/2.5 MB\u001b[0m \u001b[31m57.1 MB/s\u001b[0m eta \u001b[36m0:00:00\u001b[0m\n",
            "\u001b[?25hDownloading autoray-0.7.1-py3-none-any.whl (930 kB)\n",
            "\u001b[2K   \u001b[90m━━━━━━━━━━━━━━━━━━━━━━━━━━━━━━━━━━━━━━━━\u001b[0m \u001b[32m930.8/930.8 kB\u001b[0m \u001b[31m54.7 MB/s\u001b[0m eta \u001b[36m0:00:00\u001b[0m\n",
            "\u001b[?25hDownloading rustworkx-0.16.0-cp39-abi3-manylinux_2_17_x86_64.manylinux2014_x86_64.whl (2.1 MB)\n",
            "\u001b[2K   \u001b[90m━━━━━━━━━━━━━━━━━━━━━━━━━━━━━━━━━━━━━━━━\u001b[0m \u001b[32m2.1/2.1 MB\u001b[0m \u001b[31m65.8 MB/s\u001b[0m eta \u001b[36m0:00:00\u001b[0m\n",
            "\u001b[?25hDownloading scipy_openblas32-0.3.29.265.1-py3-none-manylinux2014_x86_64.manylinux_2_17_x86_64.whl (8.6 MB)\n",
            "\u001b[2K   \u001b[90m━━━━━━━━━━━━━━━━━━━━━━━━━━━━━━━━━━━━━━━━\u001b[0m \u001b[32m8.6/8.6 MB\u001b[0m \u001b[31m57.4 MB/s\u001b[0m eta \u001b[36m0:00:00\u001b[0m\n",
            "\u001b[?25hDownloading appdirs-1.4.4-py2.py3-none-any.whl (9.6 kB)\n",
            "Downloading diastatic_malt-2.15.2-py3-none-any.whl (167 kB)\n",
            "\u001b[2K   \u001b[90m━━━━━━━━━━━━━━━━━━━━━━━━━━━━━━━━━━━━━━━━\u001b[0m \u001b[32m167.9/167.9 kB\u001b[0m \u001b[31m16.3 MB/s\u001b[0m eta \u001b[36m0:00:00\u001b[0m\n",
            "\u001b[?25hInstalling collected packages: appdirs, scipy-openblas32, rustworkx, autoray, diastatic-malt, pennylane-lightning, pennylane\n",
            "Successfully installed appdirs-1.4.4 autoray-0.7.1 diastatic-malt-2.15.2 pennylane-0.41.1 pennylane-lightning-0.41.1 rustworkx-0.16.0 scipy-openblas32-0.3.29.265.1\n"
          ]
        }
      ],
      "source": [
        "#Install dependencies\n",
        "!pip install pennylane pennylane-lightning"
      ]
    },
    {
      "cell_type": "code",
      "execution_count": null,
      "metadata": {
        "id": "4Coau8lq5dVs",
        "colab": {
          "base_uri": "https://localhost:8080/"
        },
        "outputId": "c700d2c7-160f-4e56-ac4b-6f589a669502"
      },
      "outputs": [
        {
          "output_type": "stream",
          "name": "stdout",
          "text": [
            "Mounted at /content/drive\n"
          ]
        }
      ],
      "source": [
        "from google.colab import drive\n",
        "drive.mount(\"/content/drive\", force_remount = True)"
      ]
    },
    {
      "cell_type": "code",
      "execution_count": null,
      "metadata": {
        "id": "wujDBeIWVfJB",
        "colab": {
          "base_uri": "https://localhost:8080/"
        },
        "outputId": "6468c5cd-1f32-4bd8-be6d-70b53585d70e"
      },
      "outputs": [
        {
          "output_type": "stream",
          "name": "stderr",
          "text": [
            "/usr/local/lib/python3.11/dist-packages/pennylane/capture/capture_operators.py:33: RuntimeWarning: PennyLane is not yet compatible with JAX versions > 0.4.28. You have version 0.5.2 installed. Please downgrade JAX to <=0.4.28 to avoid runtime errors.\n",
            "  warnings.warn(\n"
          ]
        }
      ],
      "source": [
        "import torch\n",
        "import torch.nn as nn\n",
        "from torch.utils.data import Dataset, DataLoader, Subset\n",
        "\n",
        "import math\n",
        "import re\n",
        "import random\n",
        "import pandas as pd\n",
        "import numpy as np\n",
        "import time\n",
        "import nltk\n",
        "from nltk.corpus import stopwords\n",
        "from nltk.util import ngrams\n",
        "import matplotlib.pyplot as plt\n",
        "import pennylane as qml\n",
        "from collections import Counter\n",
        "\n",
        "from sklearn.model_selection import train_test_split\n",
        "from sklearn.metrics import confusion_matrix, classification_report\n",
        "from sklearn.feature_extraction.text import CountVectorizer\n",
        "from sklearn.decomposition import PCA\n",
        "\n",
        "SEED = 42\n",
        "\n",
        "random.seed(SEED)\n",
        "np.random.seed(SEED)\n",
        "torch.manual_seed(SEED)\n",
        "torch.cuda.manual_seed_all(SEED)\n",
        "\n",
        "torch.backends.cudnn.deterministic = True\n",
        "torch.backends.cudnn.benchmark = False"
      ]
    },
    {
      "cell_type": "code",
      "source": [
        "nltk.download(\"stopwords\")\n",
        "stop_words = set(stopwords.words(\"english\"))\n",
        "print(len(stop_words))\n",
        "domain_neutral_words = {\n",
        "    \"phone\", \"product\", \"battery\", \"headset\", \"quality\", \"one\", \"use\"\n",
        "}\n",
        "stop_words.update(domain_neutral_words)\n",
        "print(len(stop_words))"
      ],
      "metadata": {
        "id": "NQACW6Glibop",
        "colab": {
          "base_uri": "https://localhost:8080/"
        },
        "outputId": "a8b3d48d-ae7c-4875-acdb-ea875af444ec"
      },
      "execution_count": null,
      "outputs": [
        {
          "output_type": "stream",
          "name": "stdout",
          "text": [
            "198\n",
            "205\n"
          ]
        },
        {
          "output_type": "stream",
          "name": "stderr",
          "text": [
            "[nltk_data] Downloading package stopwords to /root/nltk_data...\n",
            "[nltk_data]   Package stopwords is already up-to-date!\n"
          ]
        }
      ]
    },
    {
      "cell_type": "markdown",
      "source": [
        "# **Data Loading and Preprocessing**"
      ],
      "metadata": {
        "id": "W-JvfuE2iluD"
      }
    },
    {
      "cell_type": "code",
      "execution_count": null,
      "metadata": {
        "id": "pFavMV2CVq48"
      },
      "outputs": [],
      "source": [
        "with open(\"/content/drive/MyDrive/QML-Research/Data/sentiment labelled sentences/amazon_cells_labelled.txt\", \"r\") as f:\n",
        "    lines = f.readlines()\n",
        "\n",
        "sentences = [line.split(\"\\t\")[0] for line in lines]\n",
        "labels = [int(line.split(\"\\t\")[1]) for line in lines]"
      ]
    },
    {
      "cell_type": "code",
      "source": [
        "print(f\"0 Labels: {labels.count(0)}\")\n",
        "print(f\"1 Labels: {labels.count(1)}\")"
      ],
      "metadata": {
        "id": "YeVFuLNuw6QY",
        "colab": {
          "base_uri": "https://localhost:8080/"
        },
        "outputId": "80010a53-116c-42c6-e0b9-024554d8ef08"
      },
      "execution_count": null,
      "outputs": [
        {
          "output_type": "stream",
          "name": "stdout",
          "text": [
            "0 Labels: 500\n",
            "1 Labels: 500\n"
          ]
        }
      ]
    },
    {
      "cell_type": "code",
      "source": [
        "len(sentences)"
      ],
      "metadata": {
        "id": "R7tw7RTHtFYv",
        "colab": {
          "base_uri": "https://localhost:8080/"
        },
        "outputId": "9c842fc0-9b91-4595-ce47-d9313b15f4fb"
      },
      "execution_count": null,
      "outputs": [
        {
          "output_type": "execute_result",
          "data": {
            "text/plain": [
              "1000"
            ]
          },
          "metadata": {},
          "execution_count": 10
        }
      ]
    },
    {
      "cell_type": "code",
      "source": [
        "lengths = [len(s) for s in sentences]\n",
        "print(f\"Sentence Lengths:\\nmin = {np.min(lengths)}\\nmax = {np.max(lengths)}\\nmean = {np.mean(lengths):.2f}\\n95th percentile = {np.percentile(lengths, 95)}\")\n",
        "print()\n",
        "plt.hist(lengths, bins = 30)\n",
        "plt.title(\"Sentence Length Distribution Before Stop Word Removal\")\n",
        "plt.xlabel(\"Sentence Length\")\n",
        "plt.ylabel(\"Count\")\n",
        "plt.show()"
      ],
      "metadata": {
        "colab": {
          "base_uri": "https://localhost:8080/",
          "height": 576
        },
        "id": "wXOxpa2nWuqS",
        "outputId": "cb9dbca0-8fe9-44ae-b94b-06d4d95735c6"
      },
      "execution_count": null,
      "outputs": [
        {
          "output_type": "stream",
          "name": "stdout",
          "text": [
            "Sentence Lengths:\n",
            "min = 11\n",
            "max = 149\n",
            "mean = 55.23\n",
            "95th percentile = 125.04999999999995\n",
            "\n"
          ]
        },
        {
          "output_type": "display_data",
          "data": {
            "text/plain": [
              "<Figure size 640x480 with 1 Axes>"
            ],
            "image/png": "[encoded data removed]"
          },
          "metadata": {}
        }
      ]
    },
    {
      "cell_type": "code",
      "source": [
        "def clean_and_tokenize(text):\n",
        "    text = text.lower()\n",
        "    text = re.sub(r\"http\\S+\", \"\", text)\n",
        "    text = re.sub(r\"[^a-z0-9\\s]\", \"\", text)\n",
        "    text = re.sub(r\"\\s+\", \" \", text).strip()\n",
        "    tokens = text.split()\n",
        "    tokens = [word for word in tokens if word not in stop_words]\n",
        "    return tokens\n",
        "\n",
        "cleaned_sents = [clean_and_tokenize(sentence) for sentence in sentences]"
      ],
      "metadata": {
        "id": "nARd4RZaik6n"
      },
      "execution_count": null,
      "outputs": []
    },
    {
      "cell_type": "markdown",
      "source": [
        "# **EDA**"
      ],
      "metadata": {
        "id": "t1BBBXbBoeRB"
      }
    },
    {
      "cell_type": "code",
      "source": [
        "lengths = [len(s) for s in cleaned_sents]\n",
        "print(\"=== Sentence Length Statistics ===\")\n",
        "print(f\"Min length: {np.min(lengths)}\")\n",
        "print(f\"Max length: {np.max(lengths)}\")\n",
        "print(f\"Mean length: {np.mean(lengths):.2f}\")\n",
        "print(f\"Median length: {np.median(lengths)}\")\n",
        "print(f\"95th percentile: {np.percentile(lengths, 95)}\")\n",
        "print()\n",
        "\n",
        "plt.figure(figsize=(8, 4))\n",
        "plt.hist(lengths, bins=30, color=\"skyblue\", edgecolor=\"black\")\n",
        "plt.title(\"Sentence Length Distribution (after stopword removal)\")\n",
        "plt.xlabel(\"Length\")\n",
        "plt.ylabel(\"Frequency\")\n",
        "plt.tight_layout()\n",
        "plt.show()\n",
        "\n",
        "label_counts = Counter(labels)\n",
        "print()\n",
        "print(\"=== Label Distribution ===\")\n",
        "for label, count in label_counts.items():\n",
        "    print(f\"Label {label}: {count} samples\")\n",
        "print()\n",
        "\n",
        "all_words = [word for sentence in cleaned_sents for word in sentence]\n",
        "word_freq = Counter(all_words)\n",
        "most_common = word_freq.most_common(20)\n",
        "\n",
        "print()\n",
        "print(\"=== Top 20 Most Common Words (after preprocessing) ===\")\n",
        "for word, freq in most_common:\n",
        "    print(f\"{word}: {freq}\")\n",
        "print()\n",
        "words, freqs = zip(*most_common)\n",
        "plt.figure(figsize=(10, 4))\n",
        "plt.bar(words, freqs, color='orange', edgecolor='black')\n",
        "plt.title(\"Top 20 Most Common Words\")\n",
        "plt.xticks(rotation=45)\n",
        "plt.tight_layout()\n",
        "plt.show()"
      ],
      "metadata": {
        "colab": {
          "base_uri": "https://localhost:8080/",
          "height": 1000
        },
        "id": "4RZe3-FtVq86",
        "outputId": "b387320e-97ab-44a5-a840-8483836d4124"
      },
      "execution_count": null,
      "outputs": [
        {
          "output_type": "stream",
          "name": "stdout",
          "text": [
            "=== Sentence Length Statistics ===\n",
            "Min length: 1\n",
            "Max length: 17\n",
            "Mean length: 4.92\n",
            "Median length: 4.0\n",
            "95th percentile: 11.0\n",
            "\n"
          ]
        },
        {
          "output_type": "display_data",
          "data": {
            "text/plain": [
              "<Figure size 800x400 with 1 Axes>"
            ],
            "image/png": "[encoded data removed]"
          },
          "metadata": {}
        },
        {
          "output_type": "stream",
          "name": "stdout",
          "text": [
            "\n",
            "=== Label Distribution ===\n",
            "Label 0: 500 samples\n",
            "Label 1: 500 samples\n",
            "\n",
            "\n",
            "=== Top 20 Most Common Words (after preprocessing) ===\n",
            "great: 97\n",
            "good: 75\n",
            "works: 47\n",
            "sound: 41\n",
            "well: 38\n",
            "ear: 35\n",
            "would: 34\n",
            "work: 34\n",
            "dont: 31\n",
            "like: 30\n",
            "case: 29\n",
            "ive: 28\n",
            "excellent: 27\n",
            "time: 27\n",
            "price: 27\n",
            "recommend: 26\n",
            "really: 26\n",
            "im: 24\n",
            "best: 23\n",
            "service: 23\n",
            "\n"
          ]
        },
        {
          "output_type": "display_data",
          "data": {
            "text/plain": [
              "<Figure size 1000x400 with 1 Axes>"
            ],
            "image/png": "[encoded data removed]"
          },
          "metadata": {}
        }
      ]
    },
    {
      "cell_type": "code",
      "source": [
        "pos_sentences = [cleaned_sents[i] for i in range(len(labels)) if labels[i] == 1]\n",
        "neg_sentences = [cleaned_sents[i] for i in range(len(labels)) if labels[i] == 0]\n",
        "\n",
        "pos_words = Counter([word for sent in pos_sentences for word in sent])\n",
        "neg_words = Counter([word for sent in neg_sentences for word in sent])\n",
        "\n",
        "top_pos = pos_words.most_common(15)\n",
        "top_neg = neg_words.most_common(15)\n",
        "\n",
        "print(\"\\n=== Top 15 Words in Positive Reviews ===\")\n",
        "for word, freq in top_pos:\n",
        "    print(f\"{word}: {freq}\")\n",
        "\n",
        "print(\"\\n=== Top 15 Words in Negative Reviews ===\")\n",
        "for word, freq in top_neg:\n",
        "    print(f\"{word}: {freq}\")\n",
        "\n",
        "def plot_word_freq(counter, title):\n",
        "    words, counts = zip(*counter)\n",
        "    plt.figure(figsize=(10, 4))\n",
        "    plt.bar(words, counts, color='green', edgecolor='black')\n",
        "    plt.title(title)\n",
        "    plt.xticks(rotation=45)\n",
        "    plt.tight_layout()\n",
        "    plt.show()\n",
        "\n",
        "print()\n",
        "plot_word_freq(top_pos, \"Top 15 Words in Positive Sentiment\")\n",
        "plot_word_freq(top_neg, \"Top 15 Words in Negative Sentiment\")"
      ],
      "metadata": {
        "colab": {
          "base_uri": "https://localhost:8080/",
          "height": 1000
        },
        "id": "5g8B7n10V6Sm",
        "outputId": "4f036b1e-e183-4071-ba40-720735027ca9"
      },
      "execution_count": null,
      "outputs": [
        {
          "output_type": "stream",
          "name": "stdout",
          "text": [
            "\n",
            "=== Top 15 Words in Positive Reviews ===\n",
            "great: 92\n",
            "good: 62\n",
            "works: 46\n",
            "well: 31\n",
            "sound: 27\n",
            "excellent: 26\n",
            "price: 25\n",
            "nice: 22\n",
            "best: 21\n",
            "recommend: 20\n",
            "love: 20\n",
            "ive: 19\n",
            "case: 18\n",
            "like: 18\n",
            "would: 17\n",
            "\n",
            "=== Top 15 Words in Negative Reviews ===\n",
            "dont: 26\n",
            "work: 25\n",
            "ear: 19\n",
            "money: 18\n",
            "would: 17\n",
            "time: 16\n",
            "first: 15\n",
            "poor: 15\n",
            "service: 15\n",
            "get: 14\n",
            "waste: 14\n",
            "sound: 14\n",
            "doesnt: 14\n",
            "buy: 14\n",
            "bad: 14\n",
            "\n"
          ]
        },
        {
          "output_type": "display_data",
          "data": {
            "text/plain": [
              "<Figure size 1000x400 with 1 Axes>"
            ],
            "image/png": "[encoded data removed]"
          },
          "metadata": {}
        },
        {
          "output_type": "display_data",
          "data": {
            "text/plain": [
              "<Figure size 1000x400 with 1 Axes>"
            ],
            "image/png": "[encoded data removed]"
          },
          "metadata": {}
        }
      ]
    },
    {
      "cell_type": "code",
      "source": [
        "all_bigrams = [bigram for sent in cleaned_sents for bigram in ngrams(sent, 2)]\n",
        "all_trigrams = [trigram for sent in cleaned_sents for trigram in ngrams(sent, 3)]\n",
        "\n",
        "bigram_freq = Counter(all_bigrams).most_common(15)\n",
        "trigram_freq = Counter(all_trigrams).most_common(15)\n",
        "\n",
        "print(\"\\n=== Top 15 Bigrams ===\")\n",
        "for bg, count in bigram_freq:\n",
        "    print(f\"{' '.join(bg)}: {count}\")\n",
        "\n",
        "print(\"\\n=== Top 15 Trigrams ===\")\n",
        "for tg, count in trigram_freq:\n",
        "    print(f\"{' '.join(tg)}: {count}\")\n",
        "\n",
        "def plot_ngram_freq(ngrams, title):\n",
        "    labels, counts = zip(*[(\" \".join(gram), count) for gram, count in ngrams])\n",
        "    plt.figure(figsize=(10, 4))\n",
        "    plt.bar(labels, counts, color='purple', edgecolor='black')\n",
        "    plt.title(title)\n",
        "    plt.xticks(rotation=45)\n",
        "    plt.tight_layout()\n",
        "    plt.show()\n",
        "\n",
        "print()\n",
        "plot_ngram_freq(bigram_freq, \"Top 15 Bigrams\")\n",
        "plot_ngram_freq(trigram_freq, \"Top 15 Trigrams\")"
      ],
      "metadata": {
        "colab": {
          "base_uri": "https://localhost:8080/",
          "height": 1000
        },
        "id": "d6PmcUP9WBtJ",
        "outputId": "3309e17e-ea68-446f-9298-20d4cb8b138c"
      },
      "execution_count": null,
      "outputs": [
        {
          "output_type": "stream",
          "name": "stdout",
          "text": [
            "\n",
            "=== Top 15 Bigrams ===\n",
            "works great: 17\n",
            "waste money: 9\n",
            "would recommend: 9\n",
            "customer service: 9\n",
            "highly recommend: 8\n",
            "works fine: 7\n",
            "dont buy: 7\n",
            "dont waste: 6\n",
            "car charger: 5\n",
            "doesnt work: 5\n",
            "great price: 5\n",
            "piece junk: 5\n",
            "works well: 5\n",
            "well made: 4\n",
            "like charm: 4\n",
            "\n",
            "=== Top 15 Trigrams ===\n",
            "dont waste money: 5\n",
            "would highly recommend: 3\n",
            "would recommend item: 3\n",
            "waste money time: 2\n",
            "nice clear great: 2\n",
            "purchase ive made: 2\n",
            "gets job done: 2\n",
            "screen went black: 2\n",
            "works like charm: 2\n",
            "worked like charm: 2\n",
            "like loud buzzing: 2\n",
            "loud buzzing override: 2\n",
            "buzzing override conversations: 2\n",
            "worst customer service: 2\n",
            "best ive ever: 2\n",
            "\n"
          ]
        },
        {
          "output_type": "display_data",
          "data": {
            "text/plain": [
              "<Figure size 1000x400 with 1 Axes>"
            ],
            "image/png": "[encoded data removed]"
          },
          "metadata": {}
        },
        {
          "output_type": "display_data",
          "data": {
            "text/plain": [
              "<Figure size 1000x400 with 1 Axes>"
            ],
            "image/png": "[encoded data removed]"
          },
          "metadata": {}
        }
      ]
    },
    {
      "cell_type": "code",
      "source": [
        "pos_set = set(dict(top_pos).keys())\n",
        "neg_set = set(dict(top_neg).keys())\n",
        "common = pos_set.intersection(neg_set)\n",
        "print(f\"\\nWords common to both positive and negative top lists: {common}\")"
      ],
      "metadata": {
        "colab": {
          "base_uri": "https://localhost:8080/"
        },
        "id": "BBGtj3hoWNrk",
        "outputId": "5626e5c6-09e1-4b19-95f7-1d7fe40aea26"
      },
      "execution_count": null,
      "outputs": [
        {
          "output_type": "stream",
          "name": "stdout",
          "text": [
            "\n",
            "Words common to both positive and negative top lists: {'sound', 'would'}\n"
          ]
        }
      ]
    },
    {
      "cell_type": "code",
      "source": [
        "lengths_pos = [len(s) for s in pos_sentences]\n",
        "lengths_neg = [len(s) for s in neg_sentences]\n",
        "\n",
        "plt.hist(lengths_pos, alpha=0.5, label='Positive', bins=15, color='green')\n",
        "plt.hist(lengths_neg, alpha=0.5, label='Negative', bins=15, color='red')\n",
        "plt.title(\"Sentence Length Distribution by Sentiment\")\n",
        "plt.xlabel(\"Word Count\")\n",
        "plt.ylabel(\"Frequency\")\n",
        "plt.legend()\n",
        "plt.tight_layout()\n",
        "plt.show()"
      ],
      "metadata": {
        "colab": {
          "base_uri": "https://localhost:8080/",
          "height": 487
        },
        "id": "oFvcnl1SWSZ5",
        "outputId": "3faab460-3fe4-4d4a-eabe-f4cae64c9485"
      },
      "execution_count": null,
      "outputs": [
        {
          "output_type": "display_data",
          "data": {
            "text/plain": [
              "<Figure size 640x480 with 1 Axes>"
            ],
            "image/png": "[encoded data removed]"
          },
          "metadata": {}
        }
      ]
    },
    {
      "cell_type": "markdown",
      "source": [
        "# **Padding and Truncation**"
      ],
      "metadata": {
        "id": "eOrMaAVspzbr"
      }
    },
    {
      "cell_type": "code",
      "source": [
        "max_len = 10\n",
        "for i in range(len(cleaned_sents)):\n",
        "  if (len(cleaned_sents[i]) < max_len):\n",
        "    cleaned_sents[i] += [\"<PAD>\"] * (max_len - len(cleaned_sents[i]))\n",
        "  else:\n",
        "    cleaned_sents[i] = cleaned_sents[i][:max_len]"
      ],
      "metadata": {
        "id": "rt3Wu3pApwci"
      },
      "execution_count": null,
      "outputs": []
    },
    {
      "cell_type": "markdown",
      "source": [
        "# **BOW Approach**"
      ],
      "metadata": {
        "id": "W9Fu4T5wdZ6R"
      }
    },
    {
      "cell_type": "code",
      "execution_count": null,
      "metadata": {
        "id": "fcFYvP3zVq2Z"
      },
      "outputs": [],
      "source": [
        "vectorizer = CountVectorizer(binary=True)\n",
        "X = vectorizer.fit_transform(sentences).toarray()\n",
        "X = torch.tensor(X).float()\n",
        "y = torch.tensor(labels).float()"
      ]
    },
    {
      "cell_type": "code",
      "source": [
        "X_train, X_test, y_train, y_test = train_test_split(X, y, test_size=0.2, random_state=42)"
      ],
      "metadata": {
        "id": "1pZ00zXSyGp_"
      },
      "execution_count": null,
      "outputs": []
    },
    {
      "cell_type": "markdown",
      "source": [
        "# **Word Embeddings approach**"
      ],
      "metadata": {
        "id": "XeBULGSFdjY-"
      }
    },
    {
      "cell_type": "code",
      "source": [
        "embedding_model = SentenceTransformer(\"all-MiniLM-L6-v2\")\n",
        "cleaned_sents_str = [\" \".join(tokens) for tokens in cleaned_sents]\n",
        "\n",
        "X_embed = embedding_model.encode(cleaned_sents_str)\n",
        "X_embed = torch.tensor(X_embed).float()\n",
        "y_embed = torch.tensor(labels).float()"
      ],
      "metadata": {
        "id": "5EbPT7oQdjOg"
      },
      "execution_count": null,
      "outputs": []
    },
    {
      "cell_type": "code",
      "source": [
        "df = pd.DataFrame({\n",
        "    \"original_sentence\": sentences,\n",
        "    \"cleaned_sentence\": cleaned_sents_str,\n",
        "    \"label\": labels\n",
        "})\n",
        "\n",
        "df.to_csv(\"preprocessed_dataset.csv\", index=False)"
      ],
      "metadata": {
        "id": "BapZkgpMktNA"
      },
      "execution_count": null,
      "outputs": []
    },
    {
      "cell_type": "markdown",
      "source": [
        "# **Manual GloVe Embedding**"
      ],
      "metadata": {
        "id": "zANXoZ7r5P1Z"
      }
    },
    {
      "cell_type": "code",
      "source": [
        "def load_glove_embeddings(file_path):\n",
        "    embeddings = {}\n",
        "    with open(file_path, 'r', encoding='utf-8') as f:\n",
        "        for line in f:\n",
        "            values = line.strip().split()\n",
        "            word = values[0]\n",
        "            vector = np.array(values[1:], dtype='float32')\n",
        "            embeddings[word] = vector\n",
        "    return embeddings"
      ],
      "metadata": {
        "id": "gXPD5oWx5PQg"
      },
      "execution_count": null,
      "outputs": []
    },
    {
      "cell_type": "code",
      "source": [
        "def sentence_to_vec(sentence, embeddings, dim):\n",
        "    vectors = []\n",
        "    for word in sentence:\n",
        "        if word in embeddings:\n",
        "            vectors.append(embeddings[word])\n",
        "        else:\n",
        "            vectors.append(np.zeros(dim))\n",
        "    return vectors"
      ],
      "metadata": {
        "id": "4T9ySygT5vCf"
      },
      "execution_count": null,
      "outputs": []
    },
    {
      "cell_type": "code",
      "source": [
        "def embed_sentences(cleaned_sents, embeddings, dim=5):\n",
        "    return np.array([sentence_to_vec(tokens, embeddings, dim) for tokens in cleaned_sents])"
      ],
      "metadata": {
        "id": "JwH8ts1o5vAO"
      },
      "execution_count": null,
      "outputs": []
    },
    {
      "cell_type": "code",
      "source": [
        "glove_path = '/content/drive/MyDrive/QML-Research/Data/glove.6B.100d.txt'\n",
        "glove = load_glove_embeddings(glove_path)"
      ],
      "metadata": {
        "id": "E8gSQcWF5u9l"
      },
      "execution_count": null,
      "outputs": []
    },
    {
      "cell_type": "markdown",
      "source": [
        "# **PCA**"
      ],
      "metadata": {
        "id": "1UNpScLuCJpT"
      }
    },
    {
      "cell_type": "code",
      "source": [
        "all_words = list(glove.keys())\n",
        "all_vectors = np.array([glove[word] for word in all_words])\n",
        "# pca = PCA(n_components=5, random_state=42)\n",
        "# pca = PCA(n_components=15, random_state=42)\n",
        "pca = PCA(n_components=32, random_state=42)\n",
        "reduced_vectors = pca.fit_transform(all_vectors)\n",
        "reduced_embeddings = {word: reduced_vectors[i] for i, word in enumerate(all_words)}"
      ],
      "metadata": {
        "id": "5Y2dkcDCCInS"
      },
      "execution_count": null,
      "outputs": []
    },
    {
      "cell_type": "markdown",
      "source": [
        "# **Word Encoding**"
      ],
      "metadata": {
        "id": "2K7EODX6CPup"
      }
    },
    {
      "cell_type": "code",
      "source": [
        "# X_embed_np = embed_sentences(cleaned_sents, reduced_embeddings, dim=5)\n",
        "# X_embed_np = embed_sentences(cleaned_sents, reduced_embeddings, dim=15)\n",
        "X_embed_np = embed_sentences(cleaned_sents, reduced_embeddings, dim=32)\n",
        "X_embed = torch.tensor(X_embed_np).float()\n",
        "y_embed = torch.tensor(labels).float()"
      ],
      "metadata": {
        "id": "88dYvXhz6ZE-"
      },
      "execution_count": null,
      "outputs": []
    },
    {
      "cell_type": "code",
      "source": [
        "X_embed[0]"
      ],
      "metadata": {
        "id": "5rxvlVgYATL9",
        "colab": {
          "base_uri": "https://localhost:8080/"
        },
        "outputId": "30b6fb7e-a48a-4f56-fce3-d69e2913dfe4"
      },
      "execution_count": null,
      "outputs": [
        {
          "output_type": "execute_result",
          "data": {
            "text/plain": [
              "tensor([[-5.1434e+00,  1.2269e-01, -9.9965e-02,  8.1665e-01, -7.2092e-02,\n",
              "          1.9693e+00,  1.4129e-01,  4.9388e-01, -3.2231e-01,  6.5924e-01,\n",
              "         -9.9895e-01,  1.1870e-01, -2.0301e-01,  3.5686e-01, -2.9018e-02,\n",
              "          1.9936e-01, -6.9530e-01,  2.5739e-01,  3.4662e-01, -1.2635e-01,\n",
              "          1.8321e-02, -1.6034e-01,  8.6802e-02,  8.6058e-02,  1.8270e-01,\n",
              "          1.4415e-01,  2.6510e-01,  3.0772e-01, -1.7399e-01,  1.3690e-01,\n",
              "          4.2661e-02,  2.5137e-01],\n",
              "        [-2.6515e+00, -7.0814e-01, -2.8305e-01,  2.8472e-01, -3.6879e-01,\n",
              "          7.2527e-01, -1.0879e-01,  6.1020e-02,  6.5912e-01,  1.1538e-01,\n",
              "         -1.5700e-01,  7.6759e-01,  2.0213e-01,  1.3268e+00, -1.5796e+00,\n",
              "          2.8325e-01, -3.8706e-01,  8.1515e-01,  4.3449e-01, -1.3116e-01,\n",
              "          2.2726e-01,  5.4945e-01,  1.1203e-01, -1.6181e-01,  2.0447e-01,\n",
              "         -5.1329e-01, -1.5652e-02,  5.5695e-01, -4.0126e-01,  9.8258e-02,\n",
              "          1.3588e-01, -9.9213e-01],\n",
              "        [-5.1575e+00, -3.5955e-01, -3.7834e-01, -1.3313e+00, -1.4052e+00,\n",
              "          2.6487e+00,  3.0944e-01, -4.2150e-01, -5.2522e-01,  8.0610e-01,\n",
              "          6.6258e-01, -6.1942e-01, -9.2715e-01,  7.3911e-01,  4.0629e-01,\n",
              "          1.0819e-01, -4.5169e-01,  7.2619e-01,  3.6570e-01,  2.4909e-01,\n",
              "         -7.1227e-02,  3.6596e-01, -3.3973e-01,  2.0687e-01,  1.5249e-01,\n",
              "          4.8160e-01, -3.2484e-01,  7.6768e-01, -5.2543e-02, -8.7471e-01,\n",
              "          4.7068e-01, -1.3481e-01],\n",
              "        [-3.2855e+00, -7.8661e-02, -3.9155e-01,  5.1075e-01, -7.5722e-01,\n",
              "          2.0849e+00,  5.1278e-01, -5.6593e-01, -6.2459e-01,  1.0926e+00,\n",
              "         -7.8342e-01, -2.3862e-01, -9.9756e-01,  7.2623e-01, -7.8128e-02,\n",
              "          1.2052e+00, -7.6213e-01,  7.2426e-01,  3.3118e-01, -8.9714e-02,\n",
              "         -2.7784e-01,  3.4379e-01,  6.8077e-01,  4.9771e-01,  3.4879e-01,\n",
              "         -2.9271e-01, -2.8741e-01,  2.9335e-01, -9.1195e-02,  1.0173e-01,\n",
              "          6.7288e-01,  3.4503e-01],\n",
              "        [-4.6692e+00,  7.7435e-02, -2.0747e-01,  4.5561e-02, -1.0315e+00,\n",
              "          2.2550e+00, -4.8686e-01,  3.0055e-01, -3.7080e-01,  8.1955e-01,\n",
              "         -9.0592e-01,  4.2456e-03, -8.4618e-02,  5.9578e-01,  2.9421e-01,\n",
              "          9.0001e-01, -6.3126e-01,  4.1842e-01,  2.3054e-01,  2.2982e-01,\n",
              "          5.8068e-02, -3.0023e-01,  4.8095e-01,  5.5178e-01,  4.7309e-03,\n",
              "         -1.3213e-01, -2.0562e-01,  2.3403e-01, -2.2496e-01,  3.2337e-01,\n",
              "         -1.3033e-01,  7.3931e-01],\n",
              "        [-1.6637e+00, -9.9668e-01, -9.9782e-03, -4.3325e-01, -3.5761e-01,\n",
              "         -2.8037e-01,  9.2445e-01,  1.1567e-01,  8.2300e-01, -2.5952e-01,\n",
              "          3.1498e-03,  4.6282e-01,  6.4723e-01,  4.4306e-01, -2.3291e+00,\n",
              "          5.0440e-01,  1.1187e-01,  3.1839e-01,  1.6447e-01, -8.0795e-02,\n",
              "          1.2551e-01,  1.1738e+00,  2.0024e-01, -7.6761e-01, -9.8662e-02,\n",
              "         -3.6740e-01, -2.6807e-01, -1.2930e-01, -2.8056e-01, -2.5268e-01,\n",
              "         -3.7642e-01, -1.3160e-01],\n",
              "        [ 0.0000e+00,  0.0000e+00,  0.0000e+00,  0.0000e+00,  0.0000e+00,\n",
              "          0.0000e+00,  0.0000e+00,  0.0000e+00,  0.0000e+00,  0.0000e+00,\n",
              "          0.0000e+00,  0.0000e+00,  0.0000e+00,  0.0000e+00,  0.0000e+00,\n",
              "          0.0000e+00,  0.0000e+00,  0.0000e+00,  0.0000e+00,  0.0000e+00,\n",
              "          0.0000e+00,  0.0000e+00,  0.0000e+00,  0.0000e+00,  0.0000e+00,\n",
              "          0.0000e+00,  0.0000e+00,  0.0000e+00,  0.0000e+00,  0.0000e+00,\n",
              "          0.0000e+00,  0.0000e+00],\n",
              "        [ 0.0000e+00,  0.0000e+00,  0.0000e+00,  0.0000e+00,  0.0000e+00,\n",
              "          0.0000e+00,  0.0000e+00,  0.0000e+00,  0.0000e+00,  0.0000e+00,\n",
              "          0.0000e+00,  0.0000e+00,  0.0000e+00,  0.0000e+00,  0.0000e+00,\n",
              "          0.0000e+00,  0.0000e+00,  0.0000e+00,  0.0000e+00,  0.0000e+00,\n",
              "          0.0000e+00,  0.0000e+00,  0.0000e+00,  0.0000e+00,  0.0000e+00,\n",
              "          0.0000e+00,  0.0000e+00,  0.0000e+00,  0.0000e+00,  0.0000e+00,\n",
              "          0.0000e+00,  0.0000e+00],\n",
              "        [ 0.0000e+00,  0.0000e+00,  0.0000e+00,  0.0000e+00,  0.0000e+00,\n",
              "          0.0000e+00,  0.0000e+00,  0.0000e+00,  0.0000e+00,  0.0000e+00,\n",
              "          0.0000e+00,  0.0000e+00,  0.0000e+00,  0.0000e+00,  0.0000e+00,\n",
              "          0.0000e+00,  0.0000e+00,  0.0000e+00,  0.0000e+00,  0.0000e+00,\n",
              "          0.0000e+00,  0.0000e+00,  0.0000e+00,  0.0000e+00,  0.0000e+00,\n",
              "          0.0000e+00,  0.0000e+00,  0.0000e+00,  0.0000e+00,  0.0000e+00,\n",
              "          0.0000e+00,  0.0000e+00],\n",
              "        [ 0.0000e+00,  0.0000e+00,  0.0000e+00,  0.0000e+00,  0.0000e+00,\n",
              "          0.0000e+00,  0.0000e+00,  0.0000e+00,  0.0000e+00,  0.0000e+00,\n",
              "          0.0000e+00,  0.0000e+00,  0.0000e+00,  0.0000e+00,  0.0000e+00,\n",
              "          0.0000e+00,  0.0000e+00,  0.0000e+00,  0.0000e+00,  0.0000e+00,\n",
              "          0.0000e+00,  0.0000e+00,  0.0000e+00,  0.0000e+00,  0.0000e+00,\n",
              "          0.0000e+00,  0.0000e+00,  0.0000e+00,  0.0000e+00,  0.0000e+00,\n",
              "          0.0000e+00,  0.0000e+00]])"
            ]
          },
          "metadata": {},
          "execution_count": 25
        }
      ]
    },
    {
      "cell_type": "markdown",
      "source": [
        "# **DataLoader**"
      ],
      "metadata": {
        "id": "BoIII4KCdxJL"
      }
    },
    {
      "cell_type": "code",
      "execution_count": null,
      "metadata": {
        "id": "Qa4_XeG2Vqz0"
      },
      "outputs": [],
      "source": [
        "X_train, X_test, y_train, y_test = train_test_split(X_embed, y_embed, test_size=0.2, random_state=42)"
      ]
    },
    {
      "cell_type": "code",
      "execution_count": null,
      "metadata": {
        "id": "O7DmHla6VqxF"
      },
      "outputs": [],
      "source": [
        "class AmazonDataset(Dataset):\n",
        "    def __init__(self, X, y):\n",
        "        self.X = X\n",
        "        self.y = y\n",
        "\n",
        "    def __len__(self):\n",
        "        return len(self.X)\n",
        "\n",
        "    def __getitem__(self, idx):\n",
        "        return self.X[idx], self.y[idx]"
      ]
    },
    {
      "cell_type": "code",
      "execution_count": null,
      "metadata": {
        "id": "1yNozjtYVqui"
      },
      "outputs": [],
      "source": [
        "small_train_dataset = Subset(AmazonDataset(X_train, y_train), list(range(100)))\n",
        "train_loader_small = DataLoader(small_train_dataset, batch_size=1, shuffle=True)\n",
        "test_loader = DataLoader(AmazonDataset(X_test, y_test), batch_size=1)"
      ]
    },
    {
      "cell_type": "code",
      "source": [
        "len(test_loader)"
      ],
      "metadata": {
        "id": "H1BQbaWB2BgP",
        "colab": {
          "base_uri": "https://localhost:8080/"
        },
        "outputId": "01b548ab-df92-4123-e1c5-8fbc49257185"
      },
      "execution_count": null,
      "outputs": [
        {
          "output_type": "execute_result",
          "data": {
            "text/plain": [
              "200"
            ]
          },
          "metadata": {},
          "execution_count": 29
        }
      ]
    },
    {
      "cell_type": "code",
      "source": [
        "xbtemp, ybtemp = next(iter(train_loader_small))\n",
        "xbtemp"
      ],
      "metadata": {
        "id": "otU-OlHpP4PV",
        "colab": {
          "base_uri": "https://localhost:8080/"
        },
        "outputId": "042b776a-90ff-4f5e-e177-0594fac58f60"
      },
      "execution_count": null,
      "outputs": [
        {
          "output_type": "execute_result",
          "data": {
            "text/plain": [
              "tensor([[[-1.6540,  0.6731,  0.6088,  0.0130, -2.1343,  0.4406, -0.2974,\n",
              "          -0.1166,  0.3468, -0.1246,  0.4272, -0.4879,  0.1128, -1.1206,\n",
              "           0.0545, -0.5540, -1.4992,  1.9600, -0.7693,  0.3576, -0.3648,\n",
              "          -0.0253, -0.3163,  1.1361,  0.2044, -0.3021,  0.5683,  0.0318,\n",
              "           0.8237,  0.9754,  0.0615, -0.3976],\n",
              "         [-3.7895, -0.3429, -0.6440,  0.2159, -0.5394,  1.2483, -0.1761,\n",
              "           0.6041, -0.5792, -0.0428, -1.5535, -0.1353,  0.2315,  0.0994,\n",
              "          -0.0102,  0.1201, -1.1202,  0.5276,  0.6588,  0.2675,  0.2646,\n",
              "          -0.1408,  0.2880,  0.4999,  0.9369,  0.0917, -0.3940,  0.3788,\n",
              "          -0.8032, -0.6075, -0.2606,  0.0426],\n",
              "         [-2.9539,  0.9196, -0.4188,  0.1967, -0.0999,  1.5681,  0.1313,\n",
              "          -0.1578, -0.9005,  0.7722, -0.0253, -0.2287, -0.3117, -0.2863,\n",
              "           1.0140,  0.5699, -0.4694,  0.4916,  0.5222, -0.0654, -0.4901,\n",
              "          -0.2369,  0.5725,  0.6667, -0.0939,  0.1465, -0.3959,  0.2258,\n",
              "          -0.5596,  0.2777, -0.2387,  0.3848],\n",
              "         [ 0.0000,  0.0000,  0.0000,  0.0000,  0.0000,  0.0000,  0.0000,\n",
              "           0.0000,  0.0000,  0.0000,  0.0000,  0.0000,  0.0000,  0.0000,\n",
              "           0.0000,  0.0000,  0.0000,  0.0000,  0.0000,  0.0000,  0.0000,\n",
              "           0.0000,  0.0000,  0.0000,  0.0000,  0.0000,  0.0000,  0.0000,\n",
              "           0.0000,  0.0000,  0.0000,  0.0000],\n",
              "         [ 0.0000,  0.0000,  0.0000,  0.0000,  0.0000,  0.0000,  0.0000,\n",
              "           0.0000,  0.0000,  0.0000,  0.0000,  0.0000,  0.0000,  0.0000,\n",
              "           0.0000,  0.0000,  0.0000,  0.0000,  0.0000,  0.0000,  0.0000,\n",
              "           0.0000,  0.0000,  0.0000,  0.0000,  0.0000,  0.0000,  0.0000,\n",
              "           0.0000,  0.0000,  0.0000,  0.0000],\n",
              "         [ 0.0000,  0.0000,  0.0000,  0.0000,  0.0000,  0.0000,  0.0000,\n",
              "           0.0000,  0.0000,  0.0000,  0.0000,  0.0000,  0.0000,  0.0000,\n",
              "           0.0000,  0.0000,  0.0000,  0.0000,  0.0000,  0.0000,  0.0000,\n",
              "           0.0000,  0.0000,  0.0000,  0.0000,  0.0000,  0.0000,  0.0000,\n",
              "           0.0000,  0.0000,  0.0000,  0.0000],\n",
              "         [ 0.0000,  0.0000,  0.0000,  0.0000,  0.0000,  0.0000,  0.0000,\n",
              "           0.0000,  0.0000,  0.0000,  0.0000,  0.0000,  0.0000,  0.0000,\n",
              "           0.0000,  0.0000,  0.0000,  0.0000,  0.0000,  0.0000,  0.0000,\n",
              "           0.0000,  0.0000,  0.0000,  0.0000,  0.0000,  0.0000,  0.0000,\n",
              "           0.0000,  0.0000,  0.0000,  0.0000],\n",
              "         [ 0.0000,  0.0000,  0.0000,  0.0000,  0.0000,  0.0000,  0.0000,\n",
              "           0.0000,  0.0000,  0.0000,  0.0000,  0.0000,  0.0000,  0.0000,\n",
              "           0.0000,  0.0000,  0.0000,  0.0000,  0.0000,  0.0000,  0.0000,\n",
              "           0.0000,  0.0000,  0.0000,  0.0000,  0.0000,  0.0000,  0.0000,\n",
              "           0.0000,  0.0000,  0.0000,  0.0000],\n",
              "         [ 0.0000,  0.0000,  0.0000,  0.0000,  0.0000,  0.0000,  0.0000,\n",
              "           0.0000,  0.0000,  0.0000,  0.0000,  0.0000,  0.0000,  0.0000,\n",
              "           0.0000,  0.0000,  0.0000,  0.0000,  0.0000,  0.0000,  0.0000,\n",
              "           0.0000,  0.0000,  0.0000,  0.0000,  0.0000,  0.0000,  0.0000,\n",
              "           0.0000,  0.0000,  0.0000,  0.0000],\n",
              "         [ 0.0000,  0.0000,  0.0000,  0.0000,  0.0000,  0.0000,  0.0000,\n",
              "           0.0000,  0.0000,  0.0000,  0.0000,  0.0000,  0.0000,  0.0000,\n",
              "           0.0000,  0.0000,  0.0000,  0.0000,  0.0000,  0.0000,  0.0000,\n",
              "           0.0000,  0.0000,  0.0000,  0.0000,  0.0000,  0.0000,  0.0000,\n",
              "           0.0000,  0.0000,  0.0000,  0.0000]]])"
            ]
          },
          "metadata": {},
          "execution_count": 30
        }
      ]
    },
    {
      "cell_type": "code",
      "source": [
        "xbtemp[0][0][0]"
      ],
      "metadata": {
        "id": "B_YODqcjQ7Ei",
        "colab": {
          "base_uri": "https://localhost:8080/"
        },
        "outputId": "3d0b8249-3ca0-4c8b-fab6-8d430e5e1eae"
      },
      "execution_count": null,
      "outputs": [
        {
          "output_type": "execute_result",
          "data": {
            "text/plain": [
              "tensor(-1.6540)"
            ]
          },
          "metadata": {},
          "execution_count": 31
        }
      ]
    },
    {
      "cell_type": "markdown",
      "source": [
        "# **Quantum Circuit and Model**"
      ],
      "metadata": {
        "id": "VzzqbLrgd3zE"
      }
    },
    {
      "cell_type": "code",
      "execution_count": null,
      "metadata": {
        "id": "JEU5VkJPV3Vv"
      },
      "outputs": [],
      "source": [
        "n_qubits = 6\n",
        "dev = qml.device(\"lightning.qubit\", wires=n_qubits, shots=None)\n",
        "# dev = qml.device(\"default.qubit\", wires=n_qubits, shots=None)"
      ]
    },
    {
      "cell_type": "code",
      "execution_count": null,
      "metadata": {
        "id": "kax0cYoWhd5h"
      },
      "outputs": [],
      "source": [
        "@qml.qnode(dev, interface=\"torch\")\n",
        "def quantum_step(inputs, hidden, weights_in, weights_h):\n",
        "    inputs_norm = inputs / (torch.norm(inputs) + 1e-8)\n",
        "\n",
        "    for i in range(5):\n",
        "        qml.RY(inputs_norm[i], wires=i)\n",
        "\n",
        "    qml.RY(hidden, wires=5)\n",
        "\n",
        "    for i in range(5):\n",
        "        qml.CNOT(wires=[i, (i + 1) % 5])\n",
        "\n",
        "    for i in range(5):\n",
        "        qml.RY(weights_in[i], wires=i)\n",
        "\n",
        "    qml.RY(weights_h[0], wires=5)\n",
        "    return qml.expval(qml.PauliZ(5))"
      ]
    },
    {
      "cell_type": "code",
      "execution_count": null,
      "metadata": {
        "id": "PT5-mg75V3Qg"
      },
      "outputs": [],
      "source": [
        "class QuantumRNN(nn.Module):\n",
        "    def __init__(self):\n",
        "        super().__init__()\n",
        "        self.embedding = nn.Linear(5, 5)\n",
        "        self.weights_in = nn.Parameter(torch.randn(5) * 0.1)\n",
        "        self.weights_h = nn.Parameter(torch.randn(1) * 0.1)\n",
        "        self.classifier = nn.Linear(1, 1)\n",
        "\n",
        "    def forward(self, x):\n",
        "        seq_len = x.shape[0]\n",
        "        hidden = torch.tensor(0.0, requires_grad=True)\n",
        "\n",
        "        for t in range(seq_len):\n",
        "            input_t = self.embedding(x[t])\n",
        "            hidden = quantum_step(input_t, hidden, self.weights_in, self.weights_h)\n",
        "\n",
        "        out = self.classifier(hidden.unsqueeze(0))\n",
        "        return out"
      ]
    },
    {
      "cell_type": "code",
      "execution_count": null,
      "metadata": {
        "id": "aLnafqY0V3Nr"
      },
      "outputs": [],
      "source": [
        "model = QuantumRNN()\n",
        "optimizer = torch.optim.Adam(model.parameters(), lr=0.01)\n",
        "loss_fn = nn.BCEWithLogitsLoss()"
      ]
    },
    {
      "cell_type": "code",
      "source": [
        "for name, param in model.named_parameters():\n",
        "    print(f\"{name}: {param.shape}\")"
      ],
      "metadata": {
        "id": "PmlnpW_MSgcf"
      },
      "execution_count": null,
      "outputs": []
    },
    {
      "cell_type": "markdown",
      "source": [
        "# **Training Loop**"
      ],
      "metadata": {
        "id": "Qcdy70RwfA1S"
      }
    },
    {
      "cell_type": "code",
      "source": [
        "start_time = time.time()\n",
        "epochs = 50\n",
        "model.train()\n",
        "\n",
        "for epoch in range(epochs):\n",
        "    total_loss = 0\n",
        "    correct = 0\n",
        "    total = 0\n",
        "    epoch_start = time.time()\n",
        "\n",
        "    for xb, yb in train_loader_small:\n",
        "        xb = xb.squeeze(0)\n",
        "        yb = yb.squeeze()\n",
        "\n",
        "        optimizer.zero_grad()\n",
        "        output = model(xb)\n",
        "\n",
        "        output_flat = output.squeeze()\n",
        "        yb_flat = yb.float()\n",
        "\n",
        "        loss = loss_fn(output_flat, yb_flat)\n",
        "        loss.backward()\n",
        "        optimizer.step()\n",
        "\n",
        "        total_loss += loss.item()\n",
        "\n",
        "        predicted = (torch.sigmoid(output_flat) > 0.5).float()\n",
        "        correct += (predicted == yb_flat).sum().item()\n",
        "        total += 1\n",
        "\n",
        "    avg_loss = total_loss / len(train_loader_small)\n",
        "    epoch_time = time.time() - epoch_start\n",
        "    accuracy = 100 * correct / total\n",
        "    print(f\"Epoch {epoch+1}, Loss: {avg_loss:.4f}, Accuracy: {accuracy:.2f}%\")\n",
        "    print(f\"Time for epoch: {epoch_time:.2f} seconds\")\n",
        "\n",
        "total_time = time.time() - start_time\n",
        "print(f\"\\nTotal training time: {total_time:.2f} seconds\")"
      ],
      "metadata": {
        "id": "Gcx1PxETjwS5"
      },
      "execution_count": null,
      "outputs": []
    },
    {
      "cell_type": "markdown",
      "source": [
        "# **Testing Loop**"
      ],
      "metadata": {
        "id": "3K3E_grWfFFg"
      }
    },
    {
      "cell_type": "code",
      "execution_count": null,
      "metadata": {
        "id": "rNiXfEm1V_vk"
      },
      "outputs": [],
      "source": [
        "model.eval()\n",
        "correct = 0\n",
        "total = 0\n",
        "with torch.no_grad():\n",
        "    for xb, yb in test_loader:\n",
        "        xb = xb.squeeze(0)\n",
        "        yb = yb.squeeze()\n",
        "        logits = model(xb)\n",
        "        logits_flat = logits.squeeze()\n",
        "        prob = torch.sigmoid(logits_flat)\n",
        "        pred = (prob > 0.5).float()\n",
        "        actual = yb.float()\n",
        "\n",
        "        if pred == actual:\n",
        "            correct += 1\n",
        "        total += 1\n",
        "\n",
        "        if total <= 10:\n",
        "            print(f\"Logit: {logits_flat.item():.3f} | Probability: {prob.item():.3f} | Pred: {pred.item()}, Actual: {actual.item()}\")\n",
        "\n",
        "print(f\"Test Accuracy: {correct / total * 100:.2f}%\")"
      ]
    },
    {
      "cell_type": "markdown",
      "source": [
        "# **Dense Angle Encoding**\n",
        "- **Encodes 15 dimensions using just 3 qubits**"
      ],
      "metadata": {
        "id": "-UabPO_8k3NE"
      }
    },
    {
      "cell_type": "code",
      "source": [
        "n_qubits = 4\n",
        "dev = qml.device(\"lightning.qubit\", wires=n_qubits, shots=None)"
      ],
      "metadata": {
        "id": "zbTXGQa_k8Dl"
      },
      "execution_count": null,
      "outputs": []
    },
    {
      "cell_type": "code",
      "source": [
        "@qml.qnode(dev, interface=\"torch\")\n",
        "def quantum_step(inputs, hidden, weights_in, weights_h):\n",
        "    for i in range(5):\n",
        "        qml.RY(inputs[i], wires=0)\n",
        "        qml.RZ(inputs[i] * 0.5, wires=0)\n",
        "\n",
        "    for i in range(5, 10):\n",
        "        qml.RY(inputs[i], wires=1)\n",
        "        qml.RZ(inputs[i] * 0.5, wires=1)\n",
        "\n",
        "    for i in range(10, 15):\n",
        "        qml.RY(inputs[i], wires=2)\n",
        "        qml.RZ(inputs[i] * 0.5, wires=2)\n",
        "\n",
        "    qml.RY(hidden, wires=3)\n",
        "\n",
        "    qml.CNOT(wires=[0, 1])\n",
        "    qml.CNOT(wires=[1, 2])\n",
        "    qml.CNOT(wires=[2, 3])\n",
        "    qml.CNOT(wires=[3, 0])\n",
        "\n",
        "    for i in range(3):\n",
        "        qml.RY(weights_in[i], wires=i)\n",
        "        qml.RZ(weights_in[i + 3], wires=i)\n",
        "\n",
        "    qml.RY(weights_h[0], wires=3)\n",
        "    return qml.expval(qml.PauliZ(3))"
      ],
      "metadata": {
        "id": "Oo3chpQYlBzH"
      },
      "execution_count": null,
      "outputs": []
    },
    {
      "cell_type": "code",
      "source": [
        "class QuantumRNN(nn.Module):\n",
        "    def __init__(self):\n",
        "        super().__init__()\n",
        "        self.embedding = nn.Linear(15, 15)\n",
        "        self.weights_in = nn.Parameter(torch.randn(6) * 0.1)\n",
        "        self.weights_h = nn.Parameter(torch.randn(1) * 0.1)\n",
        "        self.classifier = nn.Linear(1, 1)\n",
        "\n",
        "    def forward(self, x):\n",
        "        seq_len = x.shape[0]\n",
        "        hidden = torch.tensor(0.0, requires_grad=True)\n",
        "\n",
        "        for t in range(seq_len):\n",
        "            input_t = self.embedding(x[t])\n",
        "            hidden = quantum_step(input_t, hidden, self.weights_in, self.weights_h)\n",
        "\n",
        "        out = self.classifier(hidden.unsqueeze(0))\n",
        "        return out"
      ],
      "metadata": {
        "id": "x2U2BVWilBtD"
      },
      "execution_count": null,
      "outputs": []
    },
    {
      "cell_type": "code",
      "source": [
        "model = QuantumRNN()\n",
        "optimizer = torch.optim.Adam(model.parameters(), lr=0.01)\n",
        "loss_fn = nn.BCEWithLogitsLoss()"
      ],
      "metadata": {
        "id": "w--YDZ-4lBqh"
      },
      "execution_count": null,
      "outputs": []
    },
    {
      "cell_type": "code",
      "source": [
        "for name, param in model.named_parameters():\n",
        "    print(f\"{name}: {param.shape}\")"
      ],
      "metadata": {
        "id": "jOb7sisLlBnW"
      },
      "execution_count": null,
      "outputs": []
    },
    {
      "cell_type": "code",
      "source": [
        "start_time = time.time()\n",
        "epochs = 50\n",
        "model.train()\n",
        "\n",
        "for epoch in range(epochs):\n",
        "    total_loss = 0\n",
        "    correct = 0\n",
        "    total = 0\n",
        "    epoch_start = time.time()\n",
        "\n",
        "    for xb, yb in train_loader_small:\n",
        "        xb = xb.squeeze(0)\n",
        "        yb = yb.squeeze()\n",
        "\n",
        "        optimizer.zero_grad()\n",
        "        output = model(xb)\n",
        "\n",
        "        output_flat = output.squeeze()\n",
        "        yb_flat = yb.float()\n",
        "\n",
        "        loss = loss_fn(output_flat, yb_flat)\n",
        "        loss.backward()\n",
        "        optimizer.step()\n",
        "\n",
        "        total_loss += loss.item()\n",
        "        predicted = (torch.sigmoid(output_flat) > 0.5).float()\n",
        "        correct += (predicted == yb_flat).sum().item()\n",
        "        total += 1\n",
        "\n",
        "    avg_loss = total_loss / len(train_loader_small)\n",
        "    epoch_time = time.time() - epoch_start\n",
        "    accuracy = 100 * correct / total\n",
        "    print(f\"Epoch {epoch+1}, Loss: {avg_loss:.4f}, Accuracy: {accuracy:.2f}%\")\n",
        "    print(f\"Time for epoch: {epoch_time:.2f} seconds\")\n",
        "\n",
        "total_time = time.time() - start_time\n",
        "print(f\"\\nTotal training time: {total_time:.2f} seconds\")"
      ],
      "metadata": {
        "id": "Kbr8oQ_clSrX"
      },
      "execution_count": null,
      "outputs": []
    },
    {
      "cell_type": "code",
      "source": [
        "model.eval()\n",
        "correct = 0\n",
        "total = 0\n",
        "with torch.no_grad():\n",
        "    for xb, yb in test_loader:\n",
        "        xb = xb.squeeze(0)\n",
        "        yb = yb.squeeze()\n",
        "\n",
        "        logits = model(xb)\n",
        "        logits_flat = logits.squeeze()\n",
        "        prob = torch.sigmoid(logits_flat)\n",
        "        pred = (prob > 0.5).float()\n",
        "        actual = yb.float()\n",
        "\n",
        "        if pred == actual:\n",
        "            correct += 1\n",
        "        total += 1\n",
        "\n",
        "        if total <= 10:\n",
        "            print(f\"Logit: {logits_flat.item():.3f} | Probability: {prob.item():.3f} | Pred: {pred.item()}, Actual: {actual.item()}\")\n",
        "\n",
        "print(f\"Test Accuracy: {correct / total * 100:.2f}%\")"
      ],
      "metadata": {
        "id": "c1g-_WMQlSoI"
      },
      "execution_count": null,
      "outputs": []
    },
    {
      "cell_type": "markdown",
      "source": [
        "# **Amplitude Encoding**\n",
        "- Amplitude encodes an input with dimension of 23 with just 5 qubits, after normalizing the input (Input Normalization is necessary for amplitude encoding)"
      ],
      "metadata": {
        "id": "Ri6yiKQMsDhc"
      }
    },
    {
      "cell_type": "code",
      "source": [
        "n_qubits = 6\n",
        "dev = qml.device(\"lightning.qubit\", wires=n_qubits, shots=None)"
      ],
      "metadata": {
        "id": "FOdTCHHlsGyW"
      },
      "execution_count": null,
      "outputs": []
    },
    {
      "cell_type": "code",
      "source": [
        "@qml.qnode(dev, interface=\"torch\")\n",
        "def quantum_step(inputs, hidden, weights_in, weights_h):\n",
        "\n",
        "    inputs_clean = torch.where(torch.isnan(inputs) | torch.isinf(inputs),\n",
        "                              torch.zeros_like(inputs), inputs)\n",
        "\n",
        "    inputs_clean = inputs_clean + torch.randn_like(inputs_clean) * 1e-6\n",
        "\n",
        "    norm = torch.sqrt(torch.sum(inputs_clean**2) + 1e-8)\n",
        "    inputs_normalized = inputs_clean / norm\n",
        "\n",
        "    final_norm = torch.sqrt(torch.sum(inputs_normalized**2))\n",
        "    if torch.isnan(final_norm) or torch.abs(final_norm - 1.0) > 1e-3:\n",
        "        inputs_normalized = torch.ones_like(inputs_clean) / torch.sqrt(torch.tensor(32.0))\n",
        "\n",
        "    inputs_np = inputs_normalized.detach().numpy()\n",
        "\n",
        "    qml.AmplitudeEmbedding(features=inputs_np, wires=range(5), normalize=False)\n",
        "\n",
        "    qml.RY(hidden, wires=5)\n",
        "\n",
        "    for i in range(5):\n",
        "        qml.CNOT(wires=[i, 5])\n",
        "\n",
        "    for i in range(5):\n",
        "        qml.CNOT(wires=[i, (i + 1) % 5])\n",
        "\n",
        "    for i in range(5):\n",
        "        qml.RY(weights_in[i], wires=i)\n",
        "        qml.RZ(weights_in[i + 5], wires=i)\n",
        "\n",
        "    qml.RY(weights_h[0], wires=5)\n",
        "    qml.RZ(weights_h[1], wires=5)\n",
        "\n",
        "    return qml.expval(qml.PauliZ(5))"
      ],
      "metadata": {
        "id": "uBP8iTCpsHO1"
      },
      "execution_count": null,
      "outputs": []
    },
    {
      "cell_type": "code",
      "source": [
        "class QuantumRNN(nn.Module):\n",
        "    def __init__(self):\n",
        "        super().__init__()\n",
        "        self.embedding = nn.Linear(32, 32)\n",
        "        self.weights_in = nn.Parameter(torch.randn(10) * 0.1)\n",
        "        self.weights_h = nn.Parameter(torch.randn(2) * 0.1)\n",
        "        self.classifier = nn.Linear(1, 1)\n",
        "\n",
        "    def forward(self, x):\n",
        "        seq_len = x.shape[0]\n",
        "        hidden = torch.tensor(0.0, requires_grad=True)\n",
        "\n",
        "        for t in range(seq_len):\n",
        "            input_t = self.embedding(x[t])\n",
        "            hidden = quantum_step(input_t, hidden, self.weights_in, self.weights_h)\n",
        "\n",
        "        out = self.classifier(hidden.unsqueeze(0))\n",
        "        return out"
      ],
      "metadata": {
        "id": "_wve7uQOsHVK"
      },
      "execution_count": null,
      "outputs": []
    },
    {
      "cell_type": "code",
      "source": [
        "model = QuantumRNN()\n",
        "optimizer = torch.optim.Adam(model.parameters(), lr=0.01)\n",
        "loss_fn = nn.BCEWithLogitsLoss()"
      ],
      "metadata": {
        "id": "lG3mC9lesHae"
      },
      "execution_count": null,
      "outputs": []
    },
    {
      "cell_type": "code",
      "source": [
        "for name, param in model.named_parameters():\n",
        "    print(f\"{name}: {param.shape}\")"
      ],
      "metadata": {
        "id": "P1fWq5jNsHgG"
      },
      "execution_count": null,
      "outputs": []
    },
    {
      "cell_type": "code",
      "source": [
        "start_time = time.time()\n",
        "epochs = 50\n",
        "model.train()\n",
        "\n",
        "for epoch in range(epochs):\n",
        "    total_loss = 0\n",
        "    correct = 0\n",
        "    total = 0\n",
        "    epoch_start = time.time()\n",
        "\n",
        "    for xb, yb in train_loader_small:\n",
        "        xb = xb.squeeze(0)\n",
        "        yb = yb.squeeze()\n",
        "\n",
        "        optimizer.zero_grad()\n",
        "        output = model(xb)\n",
        "\n",
        "        output_flat = output.squeeze()\n",
        "        yb_flat = yb.float()\n",
        "\n",
        "        loss = loss_fn(output_flat, yb_flat)\n",
        "        loss.backward()\n",
        "        optimizer.step()\n",
        "\n",
        "        total_loss += loss.item()\n",
        "        predicted = (torch.sigmoid(output_flat) > 0.5).float()\n",
        "        correct += (predicted == yb_flat).sum().item()\n",
        "        total += 1\n",
        "\n",
        "    avg_loss = total_loss / len(train_loader_small)\n",
        "    epoch_time = time.time() - epoch_start\n",
        "    accuracy = 100 * correct / total\n",
        "    print(f\"Epoch {epoch+1}, Loss: {avg_loss:.4f}, Accuracy: {accuracy:.2f}%\")\n",
        "    print(f\"Time for epoch: {epoch_time:.2f} seconds\")\n",
        "\n",
        "total_time = time.time() - start_time\n",
        "print(f\"\\nTotal training time: {total_time:.2f} seconds\")"
      ],
      "metadata": {
        "id": "xI-nxEzSsqXO"
      },
      "execution_count": null,
      "outputs": []
    },
    {
      "cell_type": "code",
      "source": [
        "model.eval()\n",
        "correct = 0\n",
        "total = 0\n",
        "with torch.no_grad():\n",
        "    for xb, yb in test_loader:\n",
        "        xb = xb.squeeze(0)\n",
        "        yb = yb.squeeze()\n",
        "\n",
        "        logits = model(xb)\n",
        "        logits_flat = logits.squeeze()\n",
        "        prob = torch.sigmoid(logits_flat)\n",
        "        pred = (prob > 0.5).float()\n",
        "        actual = yb.float()\n",
        "\n",
        "        if pred == actual:\n",
        "            correct += 1\n",
        "        total += 1\n",
        "\n",
        "        if total <= 10:\n",
        "            print(f\"Logit: {logits_flat.item():.3f} | Probability: {prob.item():.3f} | Pred: {pred.item()}, Actual: {actual.item()}\")\n",
        "\n",
        "print(f\"Test Accuracy: {correct / total * 100:.2f}%\")"
      ],
      "metadata": {
        "id": "EusLQzxRsqVS"
      },
      "execution_count": null,
      "outputs": []
    },
    {
      "cell_type": "markdown",
      "source": [
        "# **Amplitude + Angle Encoding**"
      ],
      "metadata": {
        "id": "s4g3qDLgfInk"
      }
    },
    {
      "cell_type": "code",
      "source": [
        "n_qubits = 8\n",
        "dev = qml.device(\"lightning.qubit\", wires=n_qubits, shots=None)"
      ],
      "metadata": {
        "id": "5hi-3cG-fOJL"
      },
      "execution_count": null,
      "outputs": []
    },
    {
      "cell_type": "code",
      "source": [
        "@qml.qnode(dev, interface=\"torch\")\n",
        "def quantum_step(inputs, hidden, weights_in, weights_h):\n",
        "\n",
        "    amplitude_features = inputs[:16]\n",
        "    angle_features = inputs[16:32]\n",
        "\n",
        "    amp_clean = torch.where(torch.isnan(amplitude_features) | torch.isinf(amplitude_features),\n",
        "                           torch.zeros_like(amplitude_features), amplitude_features)\n",
        "\n",
        "    amp_clean = amp_clean + torch.randn_like(amp_clean) * 1e-6\n",
        "\n",
        "    amp_norm = torch.sqrt(torch.sum(amp_clean**2) + 1e-8)\n",
        "    amp_normalized = amp_clean / amp_norm\n",
        "\n",
        "    final_norm = torch.sqrt(torch.sum(amp_normalized**2))\n",
        "    if torch.isnan(final_norm) or torch.abs(final_norm - 1.0) > 1e-3:\n",
        "        amp_normalized = torch.ones_like(amp_clean) / torch.sqrt(torch.tensor(16.0))\n",
        "\n",
        "    amp_np = amp_normalized.detach().numpy()\n",
        "\n",
        "    qml.AmplitudeEmbedding(features=amp_np, wires=range(4), normalize=False)\n",
        "\n",
        "    for i in range(5):\n",
        "        if i < len(angle_features):\n",
        "            qml.RY(angle_features[i], wires=4)\n",
        "            qml.RZ(angle_features[i] * 0.7, wires=4)\n",
        "\n",
        "    for i in range(5, 11):\n",
        "        if i < len(angle_features):\n",
        "            qml.RY(angle_features[i], wires=5)\n",
        "            qml.RZ(angle_features[i] * 0.7, wires=5)\n",
        "\n",
        "    for i in range(11, 16):\n",
        "        if i < len(angle_features):\n",
        "            qml.RY(angle_features[i], wires=6)\n",
        "            qml.RZ(angle_features[i] * 0.7, wires=6)\n",
        "\n",
        "    qml.RY(hidden, wires=7)\n",
        "\n",
        "    for i in range(3):\n",
        "        qml.CNOT(wires=[i, i+1])\n",
        "\n",
        "    qml.CNOT(wires=[4, 5])\n",
        "    qml.CNOT(wires=[5, 6])\n",
        "\n",
        "    qml.CNOT(wires=[3, 4])\n",
        "    qml.CNOT(wires=[6, 7])\n",
        "\n",
        "    qml.CNOT(wires=[0, 7])\n",
        "    qml.CNOT(wires=[4, 7])\n",
        "\n",
        "    for i in range(4):\n",
        "        qml.RY(weights_in[i], wires=i)\n",
        "        qml.RZ(weights_in[i + 4], wires=i)\n",
        "\n",
        "    for i in range(3):\n",
        "        qml.RY(weights_in[i + 8], wires=i + 4)\n",
        "        qml.RZ(weights_in[i + 11], wires=i + 4)\n",
        "\n",
        "    qml.RY(weights_h[0], wires=7)\n",
        "    qml.RZ(weights_h[1], wires=7)\n",
        "\n",
        "    # pos_observable = qml.expval(qml.PauliZ(5))  # Original\n",
        "    # neg_observable = qml.expval(qml.PauliY(5))  # Different perspective\n",
        "\n",
        "    # return pos_observable, neg_observable\n",
        "\n",
        "    return qml.expval(qml.PauliZ(7))\n",
        "\n",
        "    # return qml.expval(0.7 * qml.PauliZ(5) + 0.3 * qml.PauliX(5))"
      ],
      "metadata": {
        "id": "fJVTugSjfOiu"
      },
      "execution_count": null,
      "outputs": []
    },
    {
      "cell_type": "code",
      "source": [
        "class QuantumRNN(nn.Module):\n",
        "    def __init__(self):\n",
        "        super().__init__()\n",
        "        self.embedding = nn.Linear(32, 32)\n",
        "        self.weights_in = nn.Parameter(torch.randn(14) * 0.1)\n",
        "        self.weights_h = nn.Parameter(torch.randn(2) * 0.1)\n",
        "        # self.classifier = nn.Linear(1, 1)\n",
        "        self.bias = nn.Parameter(torch.tensor(0.2))\n",
        "        self.classifier = nn.Sequential(nn.Identity())\n",
        "        # nn.init.xavier_uniform_(self.classifier.weight)\n",
        "        # nn.init.constant_(self.classifier.bias, 0.2)\n",
        "\n",
        "    def forward(self, x):\n",
        "        seq_len = x.shape[0]\n",
        "        hidden = torch.tensor(0.0, requires_grad=True)\n",
        "\n",
        "        for t in range(seq_len):\n",
        "            input_t = self.embedding(x[t])\n",
        "            hidden = quantum_step(input_t, hidden, self.weights_in, self.weights_h)\n",
        "            # obs1, obs2 = quantum_step(input_t, hidden, self.weights_in, self.weights_h)\n",
        "            # hidden = obs1\n",
        "\n",
        "        # out = self.classifier(hidden.unsqueeze(0))\n",
        "        logits = hidden + self.bias\n",
        "        return logits.unsqueeze(0)\n",
        "\n",
        "        # combined_features = torch.stack([obs1, obs2]).unsqueeze(0)\n",
        "        # out = self.classifier(combined_features)\n",
        "        # return out"
      ],
      "metadata": {
        "id": "ipvyWU4hfOqr"
      },
      "execution_count": null,
      "outputs": []
    },
    {
      "cell_type": "code",
      "source": [
        "# Initialize model\n",
        "model = QuantumRNN()\n",
        "optimizer = torch.optim.Adam(model.parameters(), lr=0.01)\n",
        "loss_fn = nn.BCEWithLogitsLoss()"
      ],
      "metadata": {
        "id": "3Zl1tzMJfOxZ"
      },
      "execution_count": null,
      "outputs": []
    },
    {
      "cell_type": "code",
      "source": [
        "for name, param in model.named_parameters():\n",
        "    print(f\"{name}: {param.shape}\")"
      ],
      "metadata": {
        "colab": {
          "base_uri": "https://localhost:8080/"
        },
        "id": "Aw_pSzbLfO4s",
        "outputId": "37406d76-1db6-47ad-ee7d-5a4830f06583"
      },
      "execution_count": null,
      "outputs": [
        {
          "output_type": "stream",
          "name": "stdout",
          "text": [
            "weights_in: torch.Size([14])\n",
            "weights_h: torch.Size([2])\n",
            "bias: torch.Size([])\n",
            "embedding.weight: torch.Size([32, 32])\n",
            "embedding.bias: torch.Size([32])\n"
          ]
        }
      ]
    },
    {
      "cell_type": "code",
      "source": [
        "def custom_probability(logits, scale=3.0):\n",
        "    \"\"\"Applies scaled tanh and maps to [0, 1]\"\"\"\n",
        "    return 0.5 * (torch.tanh(scale * logits) + 1)"
      ],
      "metadata": {
        "id": "KBRgHZPy6TfQ"
      },
      "execution_count": null,
      "outputs": []
    },
    {
      "cell_type": "code",
      "source": [
        "start_time = time.time()\n",
        "epochs = 100\n",
        "target_accuracy = 66.0\n",
        "model.train()\n",
        "\n",
        "for epoch in range(epochs):\n",
        "    total_loss = 0\n",
        "    correct = 0\n",
        "    total = 0\n",
        "    epoch_start = time.time()\n",
        "\n",
        "    for xb, yb in train_loader_small:\n",
        "        xb = xb.squeeze(0)\n",
        "        yb = yb.squeeze()\n",
        "\n",
        "        optimizer.zero_grad()\n",
        "        output = model(xb)\n",
        "\n",
        "        output_flat = output.squeeze()\n",
        "        yb_flat = yb.float()\n",
        "\n",
        "        loss = loss_fn(output_flat, yb_flat)\n",
        "        loss.backward()\n",
        "        optimizer.step()\n",
        "\n",
        "        total_loss += loss.item()\n",
        "        predicted = (torch.sigmoid(output_flat) > 0.5).float()\n",
        "        # prob = custom_probability(output_flat)\n",
        "        # predicted = (prob > 0.5).float()\n",
        "        correct += (predicted == yb_flat).sum().item()\n",
        "        total += 1\n",
        "\n",
        "    avg_loss = total_loss / len(train_loader_small)\n",
        "    epoch_time = time.time() - epoch_start\n",
        "    accuracy = 100 * correct / total\n",
        "\n",
        "    print(f\"Epoch {epoch+1}, Loss: {avg_loss:.4f}, Accuracy: {accuracy:.2f}%\")\n",
        "    print(f\"Time for epoch: {epoch_time:.2f} seconds\")\n",
        "\n",
        "    if accuracy >= target_accuracy:\n",
        "        print(f\"\\nEarly stopping triggered! Target accuracy of {target_accuracy}% reached.\")\n",
        "        print(f\"Final accuracy: {accuracy:.2f}%\")\n",
        "        break\n",
        "\n",
        "total_time = time.time() - start_time\n",
        "print(f\"\\nTotal training time: {total_time:.2f} seconds\")"
      ],
      "metadata": {
        "colab": {
          "base_uri": "https://localhost:8080/"
        },
        "id": "7qC162v4hQGX",
        "outputId": "f10b799f-c0d0-4b80-8386-563421ce0b29"
      },
      "execution_count": null,
      "outputs": [
        {
          "output_type": "stream",
          "name": "stdout",
          "text": [
            "Epoch 1, Loss: 0.6959, Accuracy: 48.00%\n",
            "Time for epoch: 13.67 seconds\n",
            "Epoch 2, Loss: 0.6931, Accuracy: 48.00%\n",
            "Time for epoch: 12.75 seconds\n",
            "Epoch 3, Loss: 0.6933, Accuracy: 51.00%\n",
            "Time for epoch: 13.30 seconds\n",
            "Epoch 4, Loss: 0.6974, Accuracy: 51.00%\n",
            "Time for epoch: 13.95 seconds\n",
            "Epoch 5, Loss: 0.6979, Accuracy: 50.00%\n",
            "Time for epoch: 13.15 seconds\n",
            "Epoch 6, Loss: 0.6965, Accuracy: 51.00%\n",
            "Time for epoch: 13.22 seconds\n",
            "Epoch 7, Loss: 0.6928, Accuracy: 52.00%\n",
            "Time for epoch: 13.19 seconds\n",
            "Epoch 8, Loss: 0.6951, Accuracy: 52.00%\n",
            "Time for epoch: 13.36 seconds\n",
            "Epoch 9, Loss: 0.6940, Accuracy: 54.00%\n",
            "Time for epoch: 13.32 seconds\n",
            "Epoch 10, Loss: 0.6927, Accuracy: 53.00%\n",
            "Time for epoch: 13.42 seconds\n",
            "Epoch 11, Loss: 0.6949, Accuracy: 53.00%\n",
            "Time for epoch: 13.12 seconds\n",
            "Epoch 12, Loss: 0.6899, Accuracy: 56.00%\n",
            "Time for epoch: 13.27 seconds\n",
            "Epoch 13, Loss: 0.6938, Accuracy: 55.00%\n",
            "Time for epoch: 13.12 seconds\n",
            "Epoch 14, Loss: 0.6958, Accuracy: 52.00%\n",
            "Time for epoch: 13.29 seconds\n",
            "Epoch 15, Loss: 0.6935, Accuracy: 51.00%\n",
            "Time for epoch: 13.39 seconds\n",
            "Epoch 16, Loss: 0.6938, Accuracy: 53.00%\n",
            "Time for epoch: 13.16 seconds\n",
            "Epoch 17, Loss: 0.6938, Accuracy: 52.00%\n",
            "Time for epoch: 13.17 seconds\n",
            "Epoch 18, Loss: 0.6945, Accuracy: 51.00%\n",
            "Time for epoch: 13.13 seconds\n",
            "Epoch 19, Loss: 0.6957, Accuracy: 51.00%\n",
            "Time for epoch: 13.22 seconds\n",
            "Epoch 20, Loss: 0.6987, Accuracy: 51.00%\n",
            "Time for epoch: 13.12 seconds\n",
            "Epoch 21, Loss: 0.6990, Accuracy: 51.00%\n",
            "Time for epoch: 13.06 seconds\n",
            "Epoch 22, Loss: 0.6926, Accuracy: 55.00%\n",
            "Time for epoch: 13.33 seconds\n",
            "Epoch 23, Loss: 0.6901, Accuracy: 54.00%\n",
            "Time for epoch: 13.14 seconds\n",
            "Epoch 24, Loss: 0.6892, Accuracy: 55.00%\n",
            "Time for epoch: 13.23 seconds\n",
            "Epoch 25, Loss: 0.6885, Accuracy: 52.00%\n",
            "Time for epoch: 12.95 seconds\n",
            "Epoch 26, Loss: 0.6900, Accuracy: 53.00%\n",
            "Time for epoch: 12.82 seconds\n",
            "Epoch 27, Loss: 0.6860, Accuracy: 54.00%\n",
            "Time for epoch: 12.78 seconds\n",
            "Epoch 28, Loss: 0.6865, Accuracy: 57.00%\n",
            "Time for epoch: 12.92 seconds\n",
            "Epoch 29, Loss: 0.6859, Accuracy: 54.00%\n",
            "Time for epoch: 12.89 seconds\n",
            "Epoch 30, Loss: 0.6853, Accuracy: 53.00%\n",
            "Time for epoch: 13.03 seconds\n",
            "Epoch 31, Loss: 0.6885, Accuracy: 52.00%\n",
            "Time for epoch: 12.87 seconds\n",
            "Epoch 32, Loss: 0.6811, Accuracy: 53.00%\n",
            "Time for epoch: 12.84 seconds\n",
            "Epoch 33, Loss: 0.6870, Accuracy: 52.00%\n",
            "Time for epoch: 12.93 seconds\n",
            "Epoch 34, Loss: 0.6789, Accuracy: 57.00%\n",
            "Time for epoch: 12.84 seconds\n",
            "Epoch 35, Loss: 0.6761, Accuracy: 58.00%\n",
            "Time for epoch: 12.76 seconds\n",
            "Epoch 36, Loss: 0.6787, Accuracy: 60.00%\n",
            "Time for epoch: 12.96 seconds\n",
            "Epoch 37, Loss: 0.6753, Accuracy: 58.00%\n",
            "Time for epoch: 13.06 seconds\n",
            "Epoch 38, Loss: 0.6808, Accuracy: 56.00%\n",
            "Time for epoch: 12.76 seconds\n",
            "Epoch 39, Loss: 0.6793, Accuracy: 56.00%\n",
            "Time for epoch: 13.08 seconds\n",
            "Epoch 40, Loss: 0.6780, Accuracy: 56.00%\n",
            "Time for epoch: 13.17 seconds\n",
            "Epoch 41, Loss: 0.6744, Accuracy: 59.00%\n",
            "Time for epoch: 13.18 seconds\n",
            "Epoch 42, Loss: 0.6749, Accuracy: 65.00%\n",
            "Time for epoch: 13.07 seconds\n",
            "Epoch 43, Loss: 0.6690, Accuracy: 61.00%\n",
            "Time for epoch: 13.01 seconds\n",
            "Epoch 44, Loss: 0.6713, Accuracy: 60.00%\n",
            "Time for epoch: 13.08 seconds\n",
            "Epoch 45, Loss: 0.6735, Accuracy: 58.00%\n",
            "Time for epoch: 13.11 seconds\n",
            "Epoch 46, Loss: 0.6678, Accuracy: 61.00%\n",
            "Time for epoch: 13.07 seconds\n",
            "Epoch 47, Loss: 0.6818, Accuracy: 56.00%\n",
            "Time for epoch: 13.17 seconds\n",
            "Epoch 48, Loss: 0.6734, Accuracy: 62.00%\n",
            "Time for epoch: 13.14 seconds\n",
            "Epoch 49, Loss: 0.6673, Accuracy: 62.00%\n",
            "Time for epoch: 13.16 seconds\n",
            "Epoch 50, Loss: 0.6651, Accuracy: 61.00%\n",
            "Time for epoch: 12.86 seconds\n",
            "Epoch 51, Loss: 0.6651, Accuracy: 60.00%\n",
            "Time for epoch: 12.76 seconds\n",
            "Epoch 52, Loss: 0.6706, Accuracy: 58.00%\n",
            "Time for epoch: 13.11 seconds\n",
            "Epoch 53, Loss: 0.6648, Accuracy: 61.00%\n",
            "Time for epoch: 13.12 seconds\n",
            "Epoch 54, Loss: 0.6607, Accuracy: 64.00%\n",
            "Time for epoch: 13.23 seconds\n",
            "Epoch 55, Loss: 0.6609, Accuracy: 64.00%\n",
            "Time for epoch: 13.07 seconds\n",
            "Epoch 56, Loss: 0.6610, Accuracy: 64.00%\n",
            "Time for epoch: 12.97 seconds\n",
            "Epoch 57, Loss: 0.6542, Accuracy: 69.00%\n",
            "Time for epoch: 13.07 seconds\n",
            "\n",
            "Early stopping triggered! Target accuracy of 66.0% reached.\n",
            "Final accuracy: 69.00%\n",
            "\n",
            "Total training time: 746.93 seconds\n"
          ]
        }
      ]
    },
    {
      "cell_type": "code",
      "source": [
        "model.eval()\n",
        "correct = 0\n",
        "total = 0\n",
        "predictions = []\n",
        "actuals = []\n",
        "logits_list = []\n",
        "probabilities = []\n",
        "\n",
        "print(\"=== DETAILED PREDICTION ANALYSIS ===\\n\")\n",
        "\n",
        "with torch.no_grad():\n",
        "    for i, (xb, yb) in enumerate(test_loader):\n",
        "        xb = xb.squeeze(0)\n",
        "        yb = yb.squeeze()\n",
        "\n",
        "        logits = model(xb)\n",
        "        logits_flat = logits.squeeze()\n",
        "        prob = torch.sigmoid(logits_flat)\n",
        "        pred = (prob > 0.5).float()\n",
        "        # prob = custom_probability(logits_flat)\n",
        "        # pred = (prob > 0.5).float()\n",
        "        actual = yb.float()\n",
        "\n",
        "        predictions.append(pred.item())\n",
        "        actuals.append(actual.item())\n",
        "        logits_list.append(logits_flat.item())\n",
        "        probabilities.append(prob.item())\n",
        "\n",
        "        if pred == actual:\n",
        "            correct += 1\n",
        "        total += 1\n",
        "\n",
        "        if i < 20:\n",
        "            status = \"✓ CORRECT\" if pred == actual else \"✗ WRONG\"\n",
        "            print(f\"Sample {i+1:2d}: Logit: {logits_flat.item():6.3f} | \"\n",
        "                  f\"Prob: {prob.item():.3f} | Pred: {int(pred.item())} | \"\n",
        "                  f\"Actual: {int(actual.item())} | {status}\")\n",
        "\n",
        "print(f\"\\n=== SUMMARY STATISTICS ===\")\n",
        "print(f\"Test Accuracy: {correct / total * 100:.2f}%\")\n",
        "print(f\"Total samples: {total}\")\n",
        "print(f\"Correct predictions: {correct}\")\n",
        "print(f\"Wrong predictions: {total - correct}\")\n",
        "\n",
        "predictions = np.array(predictions)\n",
        "actuals = np.array(actuals)\n",
        "probabilities = np.array(probabilities)\n",
        "logits_list = np.array(logits_list)\n",
        "\n",
        "print(f\"\\n=== PREDICTION DISTRIBUTION ===\")\n",
        "pred_0_count = np.sum(predictions == 0)\n",
        "pred_1_count = np.sum(predictions == 1)\n",
        "actual_0_count = np.sum(actuals == 0)\n",
        "actual_1_count = np.sum(actuals == 1)\n",
        "\n",
        "print(f\"Model predicted 0: {pred_0_count} times ({pred_0_count/total*100:.1f}%)\")\n",
        "print(f\"Model predicted 1: {pred_1_count} times ({pred_1_count/total*100:.1f}%)\")\n",
        "print(f\"Actual 0s in test: {actual_0_count} times ({actual_0_count/total*100:.1f}%)\")\n",
        "print(f\"Actual 1s in test: {actual_1_count} times ({actual_1_count/total*100:.1f}%)\")\n",
        "\n",
        "print(f\"\\n=== BIAS ANALYSIS ===\")\n",
        "if pred_0_count == total:\n",
        "    print(\"🚨 MODEL IS ALWAYS PREDICTING 0 (NEGATIVE BIAS)\")\n",
        "elif pred_1_count == total:\n",
        "    print(\"🚨 MODEL IS ALWAYS PREDICTING 1 (POSITIVE BIAS)\")\n",
        "elif pred_0_count > total * 0.9:\n",
        "    print(\"⚠️  MODEL HAS STRONG NEGATIVE BIAS (>90% predicting 0)\")\n",
        "elif pred_1_count > total * 0.9:\n",
        "    print(\"⚠️  MODEL HAS STRONG POSITIVE BIAS (>90% predicting 1)\")\n",
        "else:\n",
        "    print(\"MODEL IS PREDICTING BOTH CLASSES\")\n",
        "\n",
        "print(f\"\\n=== PROBABILITY DISTRIBUTION ===\")\n",
        "print(f\"Mean probability: {np.mean(probabilities):.3f}\")\n",
        "print(f\"Std probability: {np.std(probabilities):.3f}\")\n",
        "print(f\"Min probability: {np.min(probabilities):.3f}\")\n",
        "print(f\"Max probability: {np.max(probabilities):.3f}\")\n",
        "print(f\"Probabilities near 0.5 (0.4-0.6): {np.sum((probabilities >= 0.4) & (probabilities <= 0.6))}\")\n",
        "\n",
        "print(f\"\\n=== LOGITS DISTRIBUTION ===\")\n",
        "print(f\"Mean logit: {np.mean(logits_list):.3f}\")\n",
        "print(f\"Std logit: {np.std(logits_list):.3f}\")\n",
        "print(f\"Min logit: {np.min(logits_list):.3f}\")\n",
        "print(f\"Max logit: {np.max(logits_list):.3f}\")\n",
        "\n",
        "print(f\"\\n=== CONFUSION MATRIX ===\")\n",
        "cm = confusion_matrix(actuals, predictions)\n",
        "print(\"           Predicted\")\n",
        "print(\"         0    1\")\n",
        "print(f\"Actual 0 {cm[0,0]:3d}  {cm[0,1]:3d}\")\n",
        "print(f\"       1 {cm[1,0]:3d}  {cm[1,1]:3d}\")\n",
        "\n",
        "print(f\"\\n=== CLASSIFICATION REPORT ===\")\n",
        "print(classification_report(actuals, predictions, target_names=['Negative', 'Positive']))\n",
        "\n",
        "print(f\"\\n=== MODEL BEHAVIOR DIAGNOSIS ===\")\n",
        "unique_probs = len(np.unique(np.round(probabilities, 3)))\n",
        "unique_logits = len(np.unique(np.round(logits_list, 3)))\n",
        "\n",
        "print(f\"Unique probability values: {unique_probs}\")\n",
        "print(f\"Unique logit values: {unique_logits}\")\n",
        "\n",
        "if unique_probs <= 3:\n",
        "    print(\"🚨 Very few unique probabilities - model might be stuck!\")\n",
        "elif unique_probs <= 10:\n",
        "    print(\"⚠️  Limited probability diversity - model might have convergence issues\")\n",
        "else:\n",
        "    print(\"Good probability diversity\")\n",
        "\n",
        "plt.figure(figsize=(12, 4))\n",
        "\n",
        "plt.subplot(1, 3, 1)\n",
        "plt.hist(probabilities, bins=20, alpha=0.7, edgecolor='black')\n",
        "plt.axvline(0.5, color='red', linestyle='--', label='Decision threshold')\n",
        "plt.xlabel('Predicted Probability')\n",
        "plt.ylabel('Count')\n",
        "plt.title('Probability Distribution')\n",
        "plt.legend()\n",
        "\n",
        "plt.subplot(1, 3, 2)\n",
        "plt.hist(logits_list, bins=20, alpha=0.7, edgecolor='black')\n",
        "plt.axvline(0, color='red', linestyle='--', label='Logit = 0 (p=0.5)')\n",
        "plt.xlabel('Logits')\n",
        "plt.ylabel('Count')\n",
        "plt.title('Logits Distribution')\n",
        "plt.legend()\n",
        "\n",
        "plt.subplot(1, 3, 3)\n",
        "plt.scatter(range(min(50, len(probabilities))), probabilities[:50], alpha=0.6)\n",
        "plt.axhline(0.5, color='red', linestyle='--', label='Decision threshold')\n",
        "plt.xlabel('Sample Index')\n",
        "plt.ylabel('Predicted Probability')\n",
        "plt.title('First 50 Predictions')\n",
        "plt.legend()\n",
        "\n",
        "plt.tight_layout()\n",
        "plt.show()"
      ],
      "metadata": {
        "colab": {
          "base_uri": "https://localhost:8080/",
          "height": 1000
        },
        "id": "Fi5_G1yehQA4",
        "outputId": "f4d3ce05-a6cf-4d52-d085-e6c9dc586a43"
      },
      "execution_count": null,
      "outputs": [
        {
          "output_type": "stream",
          "name": "stdout",
          "text": [
            "=== DETAILED PREDICTION ANALYSIS ===\n",
            "\n",
            "Sample  1: Logit: -0.055 | Prob: 0.486 | Pred: 0 | Actual: 1 | ✗ WRONG\n",
            "Sample  2: Logit: -0.291 | Prob: 0.428 | Pred: 0 | Actual: 1 | ✗ WRONG\n",
            "Sample  3: Logit: -0.134 | Prob: 0.467 | Pred: 0 | Actual: 1 | ✗ WRONG\n",
            "Sample  4: Logit: -0.004 | Prob: 0.499 | Pred: 0 | Actual: 0 | ✓ CORRECT\n",
            "Sample  5: Logit: -0.087 | Prob: 0.478 | Pred: 0 | Actual: 1 | ✗ WRONG\n",
            "Sample  6: Logit: -0.097 | Prob: 0.476 | Pred: 0 | Actual: 1 | ✗ WRONG\n",
            "Sample  7: Logit: -0.114 | Prob: 0.472 | Pred: 0 | Actual: 0 | ✓ CORRECT\n",
            "Sample  8: Logit: -0.077 | Prob: 0.481 | Pred: 0 | Actual: 1 | ✗ WRONG\n",
            "Sample  9: Logit: -0.120 | Prob: 0.470 | Pred: 0 | Actual: 0 | ✓ CORRECT\n",
            "Sample 10: Logit: -0.160 | Prob: 0.460 | Pred: 0 | Actual: 1 | ✗ WRONG\n",
            "Sample 11: Logit: -0.104 | Prob: 0.474 | Pred: 0 | Actual: 1 | ✗ WRONG\n",
            "Sample 12: Logit: -0.229 | Prob: 0.443 | Pred: 0 | Actual: 0 | ✓ CORRECT\n",
            "Sample 13: Logit: -0.114 | Prob: 0.472 | Pred: 0 | Actual: 1 | ✗ WRONG\n",
            "Sample 14: Logit: -0.135 | Prob: 0.466 | Pred: 0 | Actual: 0 | ✓ CORRECT\n",
            "Sample 15: Logit: -0.151 | Prob: 0.462 | Pred: 0 | Actual: 1 | ✗ WRONG\n",
            "Sample 16: Logit:  0.092 | Prob: 0.523 | Pred: 1 | Actual: 1 | ✓ CORRECT\n",
            "Sample 17: Logit: -0.118 | Prob: 0.470 | Pred: 0 | Actual: 1 | ✗ WRONG\n",
            "Sample 18: Logit: -0.091 | Prob: 0.477 | Pred: 0 | Actual: 0 | ✓ CORRECT\n",
            "Sample 19: Logit: -0.122 | Prob: 0.469 | Pred: 0 | Actual: 1 | ✗ WRONG\n",
            "Sample 20: Logit: -0.079 | Prob: 0.480 | Pred: 0 | Actual: 1 | ✗ WRONG\n",
            "\n",
            "=== SUMMARY STATISTICS ===\n",
            "Test Accuracy: 48.00%\n",
            "Total samples: 200\n",
            "Correct predictions: 96\n",
            "Wrong predictions: 104\n",
            "\n",
            "=== PREDICTION DISTRIBUTION ===\n",
            "Model predicted 0: 191 times (95.5%)\n",
            "Model predicted 1: 9 times (4.5%)\n",
            "Actual 0s in test: 93 times (46.5%)\n",
            "Actual 1s in test: 107 times (53.5%)\n",
            "\n",
            "=== BIAS ANALYSIS ===\n",
            "⚠️  MODEL HAS STRONG NEGATIVE BIAS (>90% predicting 0)\n",
            "\n",
            "=== PROBABILITY DISTRIBUTION ===\n",
            "Mean probability: 0.475\n",
            "Std probability: 0.015\n",
            "Min probability: 0.426\n",
            "Max probability: 0.523\n",
            "Probabilities near 0.5 (0.4-0.6): 200\n",
            "\n",
            "=== LOGITS DISTRIBUTION ===\n",
            "Mean logit: -0.099\n",
            "Std logit: 0.060\n",
            "Min logit: -0.298\n",
            "Max logit: 0.092\n",
            "\n",
            "=== CONFUSION MATRIX ===\n",
            "           Predicted\n",
            "         0    1\n",
            "Actual 0  90    3\n",
            "       1 101    6\n",
            "\n",
            "=== CLASSIFICATION REPORT ===\n",
            "              precision    recall  f1-score   support\n",
            "\n",
            "    Negative       0.47      0.97      0.63        93\n",
            "    Positive       0.67      0.06      0.10       107\n",
            "\n",
            "    accuracy                           0.48       200\n",
            "   macro avg       0.57      0.51      0.37       200\n",
            "weighted avg       0.58      0.48      0.35       200\n",
            "\n",
            "\n",
            "=== MODEL BEHAVIOR DIAGNOSIS ===\n",
            "Unique probability values: 61\n",
            "Unique logit values: 124\n",
            "Good probability diversity\n"
          ]
        },
        {
          "output_type": "display_data",
          "data": {
            "text/plain": [
              "<Figure size 1200x400 with 3 Axes>"
            ],
            "image/png": "[encoded data removed]"
          },
          "metadata": {}
        }
      ]
    }
  ],
  "metadata": {
    "colab": {
      "provenance": [],
      "collapsed_sections": [
        "W9Fu4T5wdZ6R",
        "XeBULGSFdjY-",
        "VzzqbLrgd3zE",
        "Qcdy70RwfA1S",
        "3K3E_grWfFFg",
        "-UabPO_8k3NE",
        "Ri6yiKQMsDhc"
      ],
      "gpuType": "T4"
    },
    "kernelspec": {
      "display_name": "Python 3",
      "name": "python3"
    },
    "language_info": {
      "name": "python"
    },
    "accelerator": "GPU"
  },
  "nbformat": 4,
  "nbformat_minor": 0
}